{
 "cells": [
  {
   "cell_type": "code",
   "execution_count": 1,
   "metadata": {},
   "outputs": [],
   "source": [
    "%load_ext autoreload\n",
    "%autoreload 2"
   ]
  },
  {
   "cell_type": "code",
   "execution_count": 2,
   "metadata": {},
   "outputs": [],
   "source": [
    "import os\n",
    "from pathlib import Path\n",
    "import logging\n",
    "\n",
    "import pandas as pd\n",
    "import numpy as np\n",
    "from hdbscan import HDBSCAN\n",
    "from sklearn.metrics import pairwise_distances\n",
    "import plotly.express as px\n",
    "\n",
    "from rlabs.config import RLabsConfig\n",
    "from rlabs.data_access import DataClass\n",
    "from rlabs.model import Model\n",
    "from rlabs.utils.constants import (\n",
    "    DATA_CSV,\n",
    "    CITY,\n",
    "    STATE,\n",
    "    COUNTRY,\n",
    "    LONGITUDE,\n",
    "    LATITUDE,\n",
    "    POPULATION,\n",
    "    MSA,\n",
    "    USA,\n",
    "    CLUSTER,\n",
    "    R\n",
    ")\n",
    "\n",
    "pd.set_option('display.max_colwidth', 0)\n",
    "PARENT_PATH = Path(os.getcwd()).parent.absolute()\n",
    "FORMAT = \"%(asctime)s - %(name)s - %(levelname)s - %(message)s\"\n",
    "logging.basicConfig(format=FORMAT, level=logging.INFO)\n",
    "logger = logging.getLogger(__name__)"
   ]
  },
  {
   "cell_type": "code",
   "execution_count": 3,
   "metadata": {},
   "outputs": [],
   "source": [
    "config = RLabsConfig()\n",
    "config.CURRENT_PATH = PARENT_PATH\n",
    "# For accessing data\n",
    "data = DataClass(config)\n",
    "# Model for generating clusters\n",
    "model = Model(config)"
   ]
  },
  {
   "cell_type": "code",
   "execution_count": 4,
   "metadata": {},
   "outputs": [
    {
     "data": {
      "text/plain": [
       "(7484, 7)"
      ]
     },
     "execution_count": 4,
     "metadata": {},
     "output_type": "execute_result"
    }
   ],
   "source": [
    "# Load data\n",
    "df = pd.read_csv(os.path.join(data.data_path, DATA_CSV), index_col=0)\n",
    "# Keep only US cities\n",
    "df = df[df[COUNTRY].isin([USA])].copy()\n",
    "df.reset_index(drop=True, inplace=True)\n",
    "df.shape"
   ]
  },
  {
   "cell_type": "code",
   "execution_count": 5,
   "metadata": {},
   "outputs": [
    {
     "data": {
      "text/plain": [
       "(7484, 7484)"
      ]
     },
     "execution_count": 5,
     "metadata": {},
     "output_type": "execute_result"
    }
   ],
   "source": [
    "X = df[[LONGITUDE, LATITUDE]].to_numpy()\n",
    "X_radians = np.radians(X)\n",
    "D_pairwise = pairwise_distances(X_radians, X_radians, metric=\"haversine\")\n",
    "D_pairwise *= R  # Multiply by Earth radius to get miles\n",
    "D_pairwise.shape"
   ]
  },
  {
   "cell_type": "code",
   "execution_count": 6,
   "metadata": {},
   "outputs": [],
   "source": [
    "clusters = HDBSCAN(\n",
    "    cluster_selection_epsilon=3.0,\n",
    "    min_cluster_size=2,\n",
    "    min_samples=1,\n",
    "    metric=\"precomputed\",\n",
    "    algorithm=\"best\",\n",
    "    cluster_selection_method=\"eom\"\n",
    ").fit(D_pairwise)\n",
    "\n",
    "df[CLUSTER] = clusters.labels_"
   ]
  },
  {
   "cell_type": "code",
   "execution_count": 7,
   "metadata": {},
   "outputs": [
    {
     "name": "stdout",
     "output_type": "stream",
     "text": [
      "# clusters: 1319\n"
     ]
    }
   ],
   "source": [
    "print(f\"# clusters: {df[CLUSTER].nunique()-1}\")"
   ]
  },
  {
   "cell_type": "code",
   "execution_count": 8,
   "metadata": {},
   "outputs": [
    {
     "name": "stdout",
     "output_type": "stream",
     "text": [
      "Number of non-metropolitan cities:\n",
      "1769\n",
      "\n",
      "Number of unclustered samples (-1 cluster, noise):\n",
      "610\n",
      "\n",
      "How many non-metropolitan cities make up the -1 cluster? (Precision):\n",
      "46.39%\n",
      "\n",
      "What proportion of non-metropolitan cities were detected as noise and mapped to -1 cluster? (Recall):\n",
      "16.0%\n"
     ]
    }
   ],
   "source": [
    "t = df.dropna().copy()\n",
    "print(f'Number of non-metropolitan cities:\\n{t[MSA].str.contains(\"NON\").sum()}')\n",
    "print(f'\\nNumber of unclustered samples (-1 cluster, noise):\\n{t[CLUSTER].isin([-1]).sum()}')\n",
    "\n",
    "numerator = t[t[CLUSTER].isin([-1])][MSA].str.contains(\"NON\").sum()\n",
    "denominator = t[t[CLUSTER].isin([-1])].shape[0]\n",
    "print(f'\\nHow many non-metropolitan cities make up the -1 cluster? (Precision):\\n{(numerator/denominator) * 100:.4}%')\n",
    "\n",
    "numerator = t[t[MSA].str.contains(\"NON\")][CLUSTER].isin([-1]).sum()\n",
    "denominator = t[t[MSA].str.contains(\"NON\")].shape[0]\n",
    "print(f'\\nWhat proportion of non-metropolitan cities were detected as noise and mapped to -1 cluster? (Recall):\\n{(numerator/denominator) * 100:.4}%')"
   ]
  },
  {
   "cell_type": "code",
   "execution_count": 9,
   "metadata": {},
   "outputs": [
    {
     "name": "stderr",
     "output_type": "stream",
     "text": [
      "2022-12-26 19:46:02,292 - rlabs.model.core - INFO - Merging clusters ...\n",
      "2022-12-26 19:46:02,293 - rlabs.model.core - INFO - population_threshold: 50000\n",
      "2022-12-26 19:46:02,293 - rlabs.model.core - INFO - distance_threshold: 10.0\n",
      "2022-12-26 19:46:02,294 - rlabs.model.core - INFO - max_iter: 2000\n",
      "2022-12-26 19:49:58,570 - rlabs.model.core - INFO - (100/2000) 1219 clusters left\n",
      "2022-12-26 19:54:09,891 - rlabs.model.core - INFO - (200/2000) 1119 clusters left\n",
      "2022-12-26 19:59:04,024 - rlabs.model.core - INFO - (300/2000) 1019 clusters left\n",
      "2022-12-26 20:04:33,742 - rlabs.model.core - INFO - (400/2000) 919 clusters left\n",
      "2022-12-26 20:11:14,802 - rlabs.model.core - INFO - (500/2000) 819 clusters left\n",
      "2022-12-26 20:19:19,571 - rlabs.model.core - INFO - (600/2000) 719 clusters left\n",
      "2022-12-26 20:27:06,309 - rlabs.model.core - INFO - (700/2000) 619 clusters left\n",
      "2022-12-26 20:37:14,890 - rlabs.model.core - INFO - (800/2000) 519 clusters left\n",
      "2022-12-26 20:47:26,838 - rlabs.model.core - INFO - (900/2000) 419 clusters left\n",
      "2022-12-26 20:55:07,074 - rlabs.model.core - INFO - Converged after 959 iterations\n",
      "2022-12-26 20:55:07,088 - rlabs.model.core - INFO - Number of clusters reduced to 360\n",
      "2022-12-26 20:55:07,089 - rlabs.utils.utils - INFO - func:merge took: 1 hr and 9 min\n"
     ]
    }
   ],
   "source": [
    "df_merged = model.merge(\n",
    "    df=df.copy(),\n",
    "    D=D_pairwise,\n",
    "    distance_threshold=10.0,\n",
    "    population_threshold=50000,\n",
    "    max_iter=2000,\n",
    "    verbose=100\n",
    ")"
   ]
  },
  {
   "cell_type": "code",
   "execution_count": 16,
   "metadata": {},
   "outputs": [
    {
     "name": "stdout",
     "output_type": "stream",
     "text": [
      "\n",
      "# MSA 362\n",
      "\n",
      "# clusters after merge: 360\n"
     ]
    }
   ],
   "source": [
    "t = df_merged.dropna().copy()\n",
    "print(f'\\n# MSA {t[~t[MSA].str.contains(\"NON\")][MSA].nunique()}')\n",
    "print(f\"\\n# clusters after merge: {df_merged[CLUSTER].nunique()-1}\")"
   ]
  },
  {
   "cell_type": "code",
   "execution_count": 17,
   "metadata": {},
   "outputs": [
    {
     "name": "stdout",
     "output_type": "stream",
     "text": [
      "Number of non-metropolitan cities:\n",
      "1769\n",
      "\n",
      "Number of unclustered samples (-1 cluster, noise):\n",
      "1225\n",
      "\n",
      "How many non-metropolitan cities make up the -1 cluster? (Precision):\n",
      "58.04%\n",
      "\n",
      "What proportion of non-metropolitan cities were detected as noise and mapped to -1 cluster? (Recall):\n",
      "40.19%\n"
     ]
    }
   ],
   "source": [
    "t = df_merged.dropna().copy()\n",
    "print(f'Number of non-metropolitan cities:\\n{t[MSA].str.contains(\"NON\").sum()}')\n",
    "print(f'\\nNumber of unclustered samples (-1 cluster, noise):\\n{t[CLUSTER].isin([-1]).sum()}')\n",
    "\n",
    "numerator = t[t[CLUSTER].isin([-1])][MSA].str.contains(\"NON\").sum()\n",
    "denominator = t[t[CLUSTER].isin([-1])].shape[0]\n",
    "print(f'\\nHow many non-metropolitan cities make up the -1 cluster? (Precision):\\n{(numerator/denominator) * 100:.4}%')\n",
    "\n",
    "numerator = t[t[MSA].str.contains(\"NON\")][CLUSTER].isin([-1]).sum()\n",
    "denominator = t[t[MSA].str.contains(\"NON\")].shape[0]\n",
    "print(f'\\nWhat proportion of non-metropolitan cities were detected as noise and mapped to -1 cluster? (Recall):\\n{(numerator/denominator) * 100:.4}%')"
   ]
  },
  {
   "cell_type": "markdown",
   "metadata": {},
   "source": [
    "Save dataframe"
   ]
  },
  {
   "cell_type": "code",
   "execution_count": 18,
   "metadata": {},
   "outputs": [],
   "source": [
    "save_to = os.path.join(data.reports_path, \"us_cities.csv\")\n",
    "df_merged.to_csv(save_to, index=False)"
   ]
  },
  {
   "cell_type": "markdown",
   "metadata": {},
   "source": [
    "##### NY"
   ]
  },
  {
   "cell_type": "code",
   "execution_count": 19,
   "metadata": {},
   "outputs": [
    {
     "data": {
      "application/vnd.plotly.v1+json": {
       "config": {
        "plotlyServerURL": "https://plot.ly"
       },
       "data": [
        {
         "customdata": [
          [
           "mahopac",
           "new york",
           "New York-Northern New Jersey-Long Island NY-NJ-PA MSA",
           8369
          ],
          [
           "warrensburg",
           "new york",
           "Glens Falls NY MSA",
           3103
          ],
          [
           "thornwood",
           "new york",
           "New York-Northern New Jersey-Long Island NY-NJ-PA MSA",
           3759
          ],
          [
           "menands",
           "new york",
           null,
           3998
          ],
          [
           "marcy",
           "new york",
           "Utica-Rome NY MSA",
           9465
          ],
          [
           "sidney",
           "new york",
           "NY NONMETROPOLITAN AREA",
           3755
          ],
          [
           "new berlin",
           "new york",
           "NY NONMETROPOLITAN AREA",
           974
          ],
          [
           "west henrietta",
           "new york",
           "Rochester NY MSA",
           11691
          ],
          [
           "watkins glen",
           "new york",
           "NY NONMETROPOLITAN AREA",
           1859
          ],
          [
           "hamilton college",
           "new york",
           null,
           0
          ],
          [
           "ardsley",
           "new york",
           "New York-Northern New Jersey-Long Island NY-NJ-PA MSA",
           4638
          ],
          [
           "hewlett",
           "new york",
           "New York-Northern New Jersey-Long Island NY-NJ-PA MSA",
           6819
          ],
          [
           "alden",
           "new york",
           "Buffalo-Niagara Falls NY MSA",
           2589
          ],
          [
           "middle village",
           "new york",
           "New York-Northern New Jersey-Long Island NY-NJ-PA MSA",
           29491
          ],
          [
           "east hills",
           "new york",
           null,
           7155
          ],
          [
           "st james",
           "new york",
           "New York-Northern New Jersey-Long Island NY-NJ-PA MSA",
           13671
          ],
          [
           "manlius",
           "new york",
           "Syracuse NY MSA",
           4630
          ],
          [
           "green island",
           "new york",
           null,
           2612
          ],
          [
           "north salem",
           "new york",
           "New York-Northern New Jersey-Long Island NY-NJ-PA MSA",
           5167
          ],
          [
           "siena college",
           "new york",
           null,
           0
          ],
          [
           "speculator",
           "new york",
           "NY NONMETROPOLITAN AREA",
           314
          ],
          [
           "east boston",
           "new york",
           null,
           0
          ],
          [
           "mattituck",
           "new york",
           "New York-Northern New Jersey-Long Island NY-NJ-PA MSA",
           4219
          ],
          [
           "oneida",
           "new york",
           "Syracuse NY MSA",
           11134
          ],
          [
           "irvington",
           "new york",
           "New York-Northern New Jersey-Long Island NY-NJ-PA MSA",
           6607
          ],
          [
           "chatham",
           "new york",
           "NY NONMETROPOLITAN AREA",
           1696
          ],
          [
           "cohoes",
           "new york",
           "Albany-Schenectady-Troy NY MSA",
           16538
          ],
          [
           "island park",
           "new york",
           "New York-Northern New Jersey-Long Island NY-NJ-PA MSA",
           4766
          ],
          [
           "big flats",
           "new york",
           "Elmira NY MSA",
           5277
          ],
          [
           "howard beach",
           "new york",
           "New York-Northern New Jersey-Long Island NY-NJ-PA MSA",
           26148
          ],
          [
           "great valley",
           "new york",
           "NY NONMETROPOLITAN AREA",
           1857
          ],
          [
           "glen oaks",
           "new york",
           "New York-Northern New Jersey-Long Island NY-NJ-PA MSA",
           6655
          ],
          [
           "yorktown",
           "new york",
           "Virginia Beach-Norfolk-Newport News VA-NC MSA",
           36538
          ],
          [
           "financial district",
           "new york",
           null,
           60976
          ],
          [
           "fulton",
           "new york",
           "Syracuse NY MSA",
           11552
          ],
          [
           "blasdell",
           "new york",
           null,
           2592
          ],
          [
           "brookhaven",
           "new york",
           "New York-Northern New Jersey-Long Island NY-NJ-PA MSA",
           3451
          ],
          [
           "rensselaer",
           "new york",
           "Albany-Schenectady-Troy NY MSA",
           9433
          ],
          [
           "east islip",
           "new york",
           "New York-Northern New Jersey-Long Island NY-NJ-PA MSA",
           14475
          ],
          [
           "islip",
           "new york",
           "New York-Northern New Jersey-Long Island NY-NJ-PA MSA",
           18689
          ],
          [
           "rye brook",
           "new york",
           null,
           9611
          ],
          [
           "aurora",
           "new york",
           "NY NONMETROPOLITAN AREA",
           718
          ],
          [
           "watervliet",
           "new york",
           "Albany-Schenectady-Troy NY MSA",
           10214
          ],
          [
           "patterson",
           "new york",
           "New York-Northern New Jersey-Long Island NY-NJ-PA MSA",
           11866
          ],
          [
           "st bonaventure",
           "new york",
           "NY NONMETROPOLITAN AREA",
           1909
          ],
          [
           "shelter island",
           "new york",
           "New York-Northern New Jersey-Long Island NY-NJ-PA MSA",
           1333
          ],
          [
           "fayetteville",
           "new york",
           "Syracuse NY MSA",
           4180
          ],
          [
           "irondequoit",
           "new york",
           null,
           51692
          ],
          [
           "douglaston",
           "new york",
           null,
           14762
          ],
          [
           "bellport",
           "new york",
           "New York-Northern New Jersey-Long Island NY-NJ-PA MSA",
           2078
          ],
          [
           "macedon",
           "new york",
           "Rochester NY MSA",
           1479
          ],
          [
           "airmont",
           "new york",
           null,
           8891
          ],
          [
           "seneca falls",
           "new york",
           "NY NONMETROPOLITAN AREA",
           6681
          ],
          [
           "springville",
           "new york",
           "Buffalo-Niagara Falls NY MSA",
           4339
          ],
          [
           "niskayuna",
           "new york",
           null,
           4859
          ],
          [
           "old forge",
           "new york",
           "Utica-Rome NY MSA",
           756
          ],
          [
           "north syracuse",
           "new york",
           null,
           6853
          ],
          [
           "rouses point",
           "new york",
           "NY NONMETROPOLITAN AREA",
           2169
          ],
          [
           "greenvale",
           "new york",
           "New York-Northern New Jersey-Long Island NY-NJ-PA MSA",
           1094
          ],
          [
           "putnam valley",
           "new york",
           "New York-Northern New Jersey-Long Island NY-NJ-PA MSA",
           11597
          ],
          [
           "camillus",
           "new york",
           "Syracuse NY MSA",
           1228
          ],
          [
           "somers",
           "new york",
           "New York-Northern New Jersey-Long Island NY-NJ-PA MSA",
           21487
          ],
          [
           "setauket",
           "new york",
           "New York-Northern New Jersey-Long Island NY-NJ-PA MSA",
           0
          ],
          [
           "highland",
           "new york",
           "Kingston NY MSA",
           5647
          ],
          [
           "chautauqua",
           "new york",
           "NY NONMETROPOLITAN AREA",
           191
          ],
          [
           "avon",
           "new york",
           "Rochester NY MSA",
           3319
          ],
          [
           "queensbury",
           "new york",
           "Glens Falls NY MSA",
           27703
          ],
          [
           "mohegan lake",
           "new york",
           "New York-Northern New Jersey-Long Island NY-NJ-PA MSA",
           0
          ],
          [
           "farmingville",
           "new york",
           "New York-Northern New Jersey-Long Island NY-NJ-PA MSA",
           15481
          ],
          [
           "penn yan",
           "new york",
           "NY NONMETROPOLITAN AREA",
           5014
          ],
          [
           "johnstown",
           "new york",
           "NY NONMETROPOLITAN AREA",
           8345
          ],
          [
           "harris",
           "new york",
           "NY NONMETROPOLITAN AREA",
           0
          ],
          [
           "farmington",
           "new york",
           "Rochester NY MSA",
           13208
          ],
          [
           "east hampton",
           "new york",
           "New York-Northern New Jersey-Long Island NY-NJ-PA MSA",
           1122
          ],
          [
           "lake placid",
           "new york",
           "NY NONMETROPOLITAN AREA",
           2465
          ],
          [
           "sleepy hollow",
           "new york",
           null,
           10242
          ],
          [
           "ellicottville",
           "new york",
           "NY NONMETROPOLITAN AREA",
           388
          ],
          [
           "suny oswego",
           "new york",
           null,
           3694
          ],
          [
           "whitesboro",
           "new york",
           "Utica-Rome NY MSA",
           3694
          ],
          [
           "ossining",
           "new york",
           "New York-Northern New Jersey-Long Island NY-NJ-PA MSA",
           25441
          ],
          [
           "greenport",
           "new york",
           "New York-Northern New Jersey-Long Island NY-NJ-PA MSA",
           2212
          ],
          [
           "akron",
           "new york",
           "Buffalo-Niagara Falls NY MSA",
           2845
          ],
          [
           "woodstock",
           "new york",
           "Kingston NY MSA",
           2088
          ],
          [
           "carle place",
           "new york",
           "New York-Northern New Jersey-Long Island NY-NJ-PA MSA",
           4981
          ],
          [
           "kirkwood",
           "new york",
           "Binghamton NY MSA",
           5602
          ],
          [
           "bayport",
           "new york",
           "New York-Northern New Jersey-Long Island NY-NJ-PA MSA",
           8896
          ],
          [
           "bard college",
           "new york",
           null,
           0
          ],
          [
           "lake george",
           "new york",
           "Glens Falls NY MSA",
           890
          ],
          [
           "lackawanna",
           "new york",
           null,
           17965
          ],
          [
           "university at buffalo",
           "new york",
           null,
           6174
          ],
          [
           "ellenville",
           "new york",
           "Kingston NY MSA",
           4081
          ],
          [
           "hilton",
           "new york",
           "Rochester NY MSA",
           5921
          ],
          [
           "gloversville",
           "new york",
           "NY NONMETROPOLITAN AREA",
           15023
          ],
          [
           "montrose",
           "new york",
           "New York-Northern New Jersey-Long Island NY-NJ-PA MSA",
           2731
          ],
          [
           "port jefferson",
           "new york",
           "New York-Northern New Jersey-Long Island NY-NJ-PA MSA",
           7842
          ],
          [
           "dix hills",
           "new york",
           null,
           26892
          ],
          [
           "lyons",
           "new york",
           "Rochester NY MSA",
           3619
          ],
          [
           "saranac lake",
           "new york",
           "NY NONMETROPOLITAN AREA",
           5274
          ],
          [
           "chelsea",
           "new york",
           "Poughkeepsie-Newburgh-Middletown NY MSA",
           2953
          ],
          [
           "verona",
           "new york",
           "Utica-Rome NY MSA",
           852
          ],
          [
           "clifton springs",
           "new york",
           "Rochester NY MSA",
           2092
          ],
          [
           "niagara university",
           "new york",
           "Buffalo-Niagara Falls NY MSA",
           0
          ],
          [
           "clinton",
           "new york",
           "Utica-Rome NY MSA",
           1891
          ],
          [
           "roslyn heights",
           "new york",
           "New York-Northern New Jersey-Long Island NY-NJ-PA MSA",
           6577
          ],
          [
           "horseheads",
           "new york",
           "Elmira NY MSA",
           6616
          ],
          [
           "glen head",
           "new york",
           "New York-Northern New Jersey-Long Island NY-NJ-PA MSA",
           4697
          ],
          [
           "canastota",
           "new york",
           "Syracuse NY MSA",
           4661
          ],
          [
           "red hook",
           "new york",
           "Poughkeepsie-Newburgh-Middletown NY MSA",
           1990
          ],
          [
           "great river",
           "new york",
           "New York-Northern New Jersey-Long Island NY-NJ-PA MSA",
           1489
          ],
          [
           "lowville",
           "new york",
           "NY NONMETROPOLITAN AREA",
           3416
          ],
          [
           "claryville",
           "new york",
           "NY NONMETROPOLITAN AREA",
           0
          ],
          [
           "sparkill",
           "new york",
           "New York-Northern New Jersey-Long Island NY-NJ-PA MSA",
           1565
          ],
          [
           "kings point",
           "new york",
           null,
           5131
          ],
          [
           "north greece",
           "new york",
           "Rochester NY MSA",
           0
          ],
          [
           "binghamton university",
           "new york",
           null,
           6130
          ],
          [
           "pulaski",
           "new york",
           "Syracuse NY MSA",
           2310
          ],
          [
           "cold spring harbor",
           "new york",
           "New York-Northern New Jersey-Long Island NY-NJ-PA MSA",
           5070
          ],
          [
           "cheektowaga",
           "new york",
           null,
           75178
          ],
          [
           "lakewood",
           "new york",
           "NY NONMETROPOLITAN AREA",
           2914
          ],
          [
           "herkimer",
           "new york",
           "Utica-Rome NY MSA",
           7519
          ],
          [
           "east setauket",
           "new york",
           "New York-Northern New Jersey-Long Island NY-NJ-PA MSA",
           17006
          ],
          [
           "middle island",
           "new york",
           "New York-Northern New Jersey-Long Island NY-NJ-PA MSA",
           10483
          ],
          [
           "palmyra",
           "new york",
           "Rochester NY MSA",
           3413
          ],
          [
           "wellsville",
           "new york",
           "NY NONMETROPOLITAN AREA",
           4533
          ],
          [
           "albertson",
           "new york",
           "New York-Northern New Jersey-Long Island NY-NJ-PA MSA",
           5182
          ],
          [
           "perry",
           "new york",
           "NY NONMETROPOLITAN AREA",
           3516
          ],
          [
           "coram",
           "new york",
           "New York-Northern New Jersey-Long Island NY-NJ-PA MSA",
           39113
          ],
          [
           "bath",
           "new york",
           "NY NONMETROPOLITAN AREA",
           5635
          ],
          [
           "katonah",
           "new york",
           "New York-Northern New Jersey-Long Island NY-NJ-PA MSA",
           1679
          ],
          [
           "garden city park",
           "new york",
           null,
           7806
          ],
          [
           "seaford",
           "new york",
           "New York-Northern New Jersey-Long Island NY-NJ-PA MSA",
           15294
          ],
          [
           "inwood",
           "new york",
           "New York-Northern New Jersey-Long Island NY-NJ-PA MSA",
           9792
          ],
          [
           "selkirk",
           "new york",
           "Albany-Schenectady-Troy NY MSA",
           0
          ],
          [
           "chappaqua",
           "new york",
           "New York-Northern New Jersey-Long Island NY-NJ-PA MSA",
           1436
          ],
          [
           "morrisville",
           "new york",
           "Syracuse NY MSA",
           1764
          ],
          [
           "north greenwich",
           "new york",
           null,
           0
          ],
          [
           "voorheesville",
           "new york",
           "Albany-Schenectady-Troy NY MSA",
           2832
          ],
          [
           "eastchester",
           "new york",
           "New York-Northern New Jersey-Long Island NY-NJ-PA MSA",
           5000
          ],
          [
           "upton",
           "new york",
           "New York-Northern New Jersey-Long Island NY-NJ-PA MSA",
           0
          ],
          [
           "rochester institute of technology",
           "new york",
           null,
           0
          ],
          [
           "glen cove",
           "new york",
           "New York-Northern New Jersey-Long Island NY-NJ-PA MSA",
           27400
          ],
          [
           "brighton",
           "new york",
           "Iowa City IA MSA",
           36609
          ],
          [
           "college point",
           "new york",
           "New York-Northern New Jersey-Long Island NY-NJ-PA MSA",
           27307
          ],
          [
           "crown point",
           "new york",
           "NY NONMETROPOLITAN AREA",
           1903
          ],
          [
           "northville",
           "new york",
           "Detroit-Warren-Livonia MI MSA",
           1340
          ],
          [
           "montebello",
           "new york",
           "Los Angeles-Long Beach-Santa Ana CA MSA",
           4652
          ],
          [
           "edgewood",
           "new york",
           "IL NONMETROPOLITAN AREA",
           0
          ],
          [
           "gates",
           "new york",
           "TN NONMETROPOLITAN AREA",
           28398
          ],
          [
           "corinth",
           "new york",
           "Cincinnati-Middletown OH-KY-IN MSA",
           2516
          ],
          [
           "ozone park",
           "new york",
           "New York-Northern New Jersey-Long Island NY-NJ-PA MSA",
           53985
          ],
          [
           "east elmhurst",
           "new york",
           "New York-Northern New Jersey-Long Island NY-NJ-PA MSA",
           23150
          ],
          [
           "kenmore",
           "new york",
           "Seattle-Tacoma-Bellevue WA MSA",
           15160
          ],
          [
           "loudonville",
           "new york",
           "OH NONMETROPOLITAN AREA",
           0
          ],
          [
           "tuckahoe",
           "new york",
           "New York-Northern New Jersey-Long Island NY-NJ-PA MSA",
           1373
          ],
          [
           "owego",
           "new york",
           "Binghamton NY MSA",
           3736
          ],
          [
           "orchard park",
           "new york",
           "Buffalo-Niagara Falls NY MSA",
           3206
          ],
          [
           "conklin",
           "new york",
           "Binghamton NY MSA",
           5179
          ],
          [
           "ballston lake",
           "new york",
           "Albany-Schenectady-Troy NY MSA",
           9776
          ],
          [
           "east northport",
           "new york",
           "New York-Northern New Jersey-Long Island NY-NJ-PA MSA",
           20217
          ],
          [
           "oakdale",
           "new york",
           "New York-Northern New Jersey-Long Island NY-NJ-PA MSA",
           7974
          ],
          [
           "yorktown heights",
           "new york",
           "New York-Northern New Jersey-Long Island NY-NJ-PA MSA",
           1781
          ],
          [
           "wantagh",
           "new york",
           "New York-Northern New Jersey-Long Island NY-NJ-PA MSA",
           18871
          ],
          [
           "oceanside",
           "new york",
           "New York-Northern New Jersey-Long Island NY-NJ-PA MSA",
           32109
          ],
          [
           "latham",
           "new york",
           "Albany-Schenectady-Troy NY MSA",
           20736
          ],
          [
           "sag harbor",
           "new york",
           "New York-Northern New Jersey-Long Island NY-NJ-PA MSA",
           2282
          ],
          [
           "dunkirk",
           "new york",
           "NY NONMETROPOLITAN AREA",
           12081
          ],
          [
           "trumansburg",
           "new york",
           "Ithaca NY MSA",
           1828
          ],
          [
           "baldwin",
           "new york",
           "New York-Northern New Jersey-Long Island NY-NJ-PA MSA",
           24033
          ],
          [
           "cold spring",
           "new york",
           "New York-Northern New Jersey-Long Island NY-NJ-PA MSA",
           1964
          ],
          [
           "sayville",
           "new york",
           "New York-Northern New Jersey-Long Island NY-NJ-PA MSA",
           16853
          ],
          [
           "montauk",
           "new york",
           "New York-Northern New Jersey-Long Island NY-NJ-PA MSA",
           3326
          ],
          [
           "niagara falls",
           "new york",
           "Buffalo-Niagara Falls NY MSA",
           48916
          ],
          [
           "spencerport",
           "new york",
           "Rochester NY MSA",
           3589
          ],
          [
           "clarence",
           "new york",
           "Buffalo-Niagara Falls NY MSA",
           2646
          ],
          [
           "monsey",
           "new york",
           "New York-Northern New Jersey-Long Island NY-NJ-PA MSA",
           18412
          ],
          [
           "buchanan",
           "new york",
           "New York-Northern New Jersey-Long Island NY-NJ-PA MSA",
           2268
          ],
          [
           "greenwich",
           "new york",
           "Glens Falls NY MSA",
           1744
          ],
          [
           "south wales",
           "new york",
           "Buffalo-Niagara Falls NY MSA",
           0
          ],
          [
           "east syracuse",
           "new york",
           "Syracuse NY MSA",
           3010
          ],
          [
           "plattsburgh",
           "new york",
           "NY NONMETROPOLITAN AREA",
           19806
          ],
          [
           "burnt hills",
           "new york",
           "Albany-Schenectady-Troy NY MSA",
           0
          ],
          [
           "rockville centre",
           "new york",
           "New York-Northern New Jersey-Long Island NY-NJ-PA MSA",
           24201
          ],
          [
           "henrietta",
           "new york",
           "Rochester NY MSA",
           42581
          ],
          [
           "catskill",
           "new york",
           "NY NONMETROPOLITAN AREA",
           3874
          ],
          [
           "locust valley",
           "new york",
           "New York-Northern New Jersey-Long Island NY-NJ-PA MSA",
           3406
          ],
          [
           "penfield",
           "new york",
           "Rochester NY MSA",
           37252
          ],
          [
           "clifton park",
           "new york",
           "Albany-Schenectady-Troy NY MSA",
           36705
          ],
          [
           "pleasantville",
           "new york",
           "New York-Northern New Jersey-Long Island NY-NJ-PA MSA",
           7173
          ],
          [
           "pound ridge",
           "new york",
           "New York-Northern New Jersey-Long Island NY-NJ-PA MSA",
           5104
          ],
          [
           "north babylon",
           "new york",
           "New York-Northern New Jersey-Long Island NY-NJ-PA MSA",
           17509
          ],
          [
           "woodside",
           "new york",
           "New York-Northern New Jersey-Long Island NY-NJ-PA MSA",
           41981
          ],
          [
           "waterloo",
           "new york",
           "NY NONMETROPOLITAN AREA",
           5036
          ],
          [
           "pawling",
           "new york",
           "Poughkeepsie-Newburgh-Middletown NY MSA",
           2297
          ],
          [
           "west point",
           "new york",
           "Poughkeepsie-Newburgh-Middletown NY MSA",
           6763
          ],
          [
           "kingston",
           "new york",
           "Kingston NY MSA",
           23436
          ],
          [
           "northport",
           "new york",
           "New York-Northern New Jersey-Long Island NY-NJ-PA MSA",
           7390
          ],
          [
           "painted post",
           "new york",
           "NY NONMETROPOLITAN AREA",
           1997
          ],
          [
           "briarcliff manor",
           "new york",
           "New York-Northern New Jersey-Long Island NY-NJ-PA MSA",
           8028
          ],
          [
           "kings park",
           "new york",
           "New York-Northern New Jersey-Long Island NY-NJ-PA MSA",
           17282
          ],
          [
           "massapequa park",
           "new york",
           "New York-Northern New Jersey-Long Island NY-NJ-PA MSA",
           17232
          ],
          [
           "new windsor",
           "new york",
           "Poughkeepsie-Newburgh-Middletown NY MSA",
           8922
          ],
          [
           "pearl river",
           "new york",
           "New York-Northern New Jersey-Long Island NY-NJ-PA MSA",
           15876
          ],
          [
           "bridgehampton",
           "new york",
           "New York-Northern New Jersey-Long Island NY-NJ-PA MSA",
           1756
          ],
          [
           "medford",
           "new york",
           "New York-Northern New Jersey-Long Island NY-NJ-PA MSA",
           24142
          ],
          [
           "smithtown",
           "new york",
           "New York-Northern New Jersey-Long Island NY-NJ-PA MSA",
           26470
          ],
          [
           "spring valley",
           "new york",
           "New York-Northern New Jersey-Long Island NY-NJ-PA MSA",
           32598
          ],
          [
           "washingtonville",
           "new york",
           "Poughkeepsie-Newburgh-Middletown NY MSA",
           5788
          ],
          [
           "white plains",
           "new york",
           "New York-Northern New Jersey-Long Island NY-NJ-PA MSA",
           58459
          ],
          [
           "massena",
           "new york",
           "NY NONMETROPOLITAN AREA",
           10629
          ],
          [
           "greenlawn",
           "new york",
           "New York-Northern New Jersey-Long Island NY-NJ-PA MSA",
           13742
          ],
          [
           "jamestown",
           "new york",
           "NY NONMETROPOLITAN AREA",
           30075
          ],
          [
           "new paltz",
           "new york",
           "Kingston NY MSA",
           7070
          ],
          [
           "woodmere",
           "new york",
           "New York-Northern New Jersey-Long Island NY-NJ-PA MSA",
           17121
          ],
          [
           "baldwinsville",
           "new york",
           "Syracuse NY MSA",
           7770
          ],
          [
           "mount vernon",
           "new york",
           "New York-Northern New Jersey-Long Island NY-NJ-PA MSA",
           68628
          ],
          [
           "goshen",
           "new york",
           "Poughkeepsie-Newburgh-Middletown NY MSA",
           5397
          ],
          [
           "armonk",
           "new york",
           "New York-Northern New Jersey-Long Island NY-NJ-PA MSA",
           4330
          ],
          [
           "hudson",
           "new york",
           "NY NONMETROPOLITAN AREA",
           6436
          ],
          [
           "the bronx",
           "new york",
           "New York-Northern New Jersey-Long Island NY-NJ-PA MSA",
           1385108
          ],
          [
           "warwick",
           "new york",
           "Poughkeepsie-Newburgh-Middletown NY MSA",
           6823
          ],
          [
           "westhampton beach",
           "new york",
           "New York-Northern New Jersey-Long Island NY-NJ-PA MSA",
           1721
          ],
          [
           "sanborn",
           "new york",
           "Buffalo-Niagara Falls NY MSA",
           1645
          ],
          [
           "pittsford",
           "new york",
           "Rochester NY MSA",
           1350
          ],
          [
           "centereach",
           "new york",
           "New York-Northern New Jersey-Long Island NY-NJ-PA MSA",
           31578
          ],
          [
           "hyde park",
           "new york",
           "Poughkeepsie-Newburgh-Middletown NY MSA",
           1908
          ],
          [
           "new city",
           "new york",
           "New York-Northern New Jersey-Long Island NY-NJ-PA MSA",
           33559
          ],
          [
           "garden city",
           "new york",
           "New York-Northern New Jersey-Long Island NY-NJ-PA MSA",
           22612
          ],
          [
           "kew gardens",
           "new york",
           "New York-Northern New Jersey-Long Island NY-NJ-PA MSA",
           18983
          ],
          [
           "amherst",
           "new york",
           "Cleveland-Elyria-Mentor OH MSA",
           122366
          ],
          [
           "rego park",
           "new york",
           "New York-Northern New Jersey-Long Island NY-NJ-PA MSA",
           43925
          ],
          [
           "central valley",
           "new york",
           "Poughkeepsie-Newburgh-Middletown NY MSA",
           1810
          ],
          [
           "cortlandt manor",
           "new york",
           "New York-Northern New Jersey-Long Island NY-NJ-PA MSA",
           19929
          ],
          [
           "garrison",
           "new york",
           "New York-Northern New Jersey-Long Island NY-NJ-PA MSA",
           0
          ],
          [
           "north sea",
           "new york",
           null,
           4458
          ],
          [
           "skaneateles falls",
           "new york",
           "Syracuse NY MSA",
           0
          ],
          [
           "west seneca",
           "new york",
           null,
           44711
          ],
          [
           "oriskany",
           "new york",
           "Utica-Rome NY MSA",
           1375
          ],
          [
           "east harlem",
           "new york",
           null,
           115921
          ],
          [
           "fort hill",
           "new york",
           "PA NONMETROPOLITAN AREA",
           0
          ],
          [
           "saratoga",
           "new york",
           "Beaumont-Port Arthur TX MSA",
           5709
          ],
          [
           "falconer",
           "new york",
           "NY NONMETROPOLITAN AREA",
           2321
          ],
          [
           "hamilton",
           "new york",
           "Syracuse NY MSA",
           4176
          ],
          [
           "brooklyn heights",
           "new york",
           null,
           20256
          ],
          [
           "park slope",
           "new york",
           null,
           65047
          ],
          [
           "guilderland",
           "new york",
           "Albany-Schenectady-Troy NY MSA",
           35696
          ],
          [
           "newark",
           "new york",
           "Rochester NY MSA",
           8843
          ],
          [
           "medina",
           "new york",
           "Rochester NY MSA",
           5827
          ],
          [
           "elmsford",
           "new york",
           "New York-Northern New Jersey-Long Island NY-NJ-PA MSA",
           4810
          ],
          [
           "blauvelt",
           "new york",
           "New York-Northern New Jersey-Long Island NY-NJ-PA MSA",
           5689
          ],
          [
           "calverton",
           "new york",
           "New York-Northern New Jersey-Long Island NY-NJ-PA MSA",
           6510
          ],
          [
           "copiague",
           "new york",
           "New York-Northern New Jersey-Long Island NY-NJ-PA MSA",
           22993
          ],
          [
           "monticello",
           "new york",
           "NY NONMETROPOLITAN AREA",
           6505
          ],
          [
           "pleasant valley",
           "new york",
           "Poughkeepsie-Newburgh-Middletown NY MSA",
           1145
          ],
          [
           "pomona",
           "new york",
           "New York-Northern New Jersey-Long Island NY-NJ-PA MSA",
           3103
          ],
          [
           "babylon",
           "new york",
           "New York-Northern New Jersey-Long Island NY-NJ-PA MSA",
           12161
          ],
          [
           "newburgh",
           "new york",
           "Poughkeepsie-Newburgh-Middletown NY MSA",
           28290
          ],
          [
           "stony brook university",
           "new york",
           null,
           8943
          ],
          [
           "bohemia",
           "new york",
           "New York-Northern New Jersey-Long Island NY-NJ-PA MSA",
           10180
          ],
          [
           "fishkill",
           "new york",
           "Poughkeepsie-Newburgh-Middletown NY MSA",
           2133
          ],
          [
           "deer park",
           "new york",
           "New York-Northern New Jersey-Long Island NY-NJ-PA MSA",
           27745
          ],
          [
           "warsaw",
           "new york",
           "NY NONMETROPOLITAN AREA",
           3376
          ],
          [
           "selden",
           "new york",
           "New York-Northern New Jersey-Long Island NY-NJ-PA MSA",
           19851
          ],
          [
           "corning",
           "new york",
           "NY NONMETROPOLITAN AREA",
           10897
          ],
          [
           "miller place",
           "new york",
           "New York-Northern New Jersey-Long Island NY-NJ-PA MSA",
           12339
          ],
          [
           "mechanicville",
           "new york",
           "Albany-Schenectady-Troy NY MSA",
           5169
          ],
          [
           "fredonia",
           "new york",
           "NY NONMETROPOLITAN AREA",
           10705
          ],
          [
           "mount kisco",
           "new york",
           "New York-Northern New Jersey-Long Island NY-NJ-PA MSA",
           11145
          ],
          [
           "jericho",
           "new york",
           "New York-Northern New Jersey-Long Island NY-NJ-PA MSA",
           13567
          ],
          [
           "arcade",
           "new york",
           "NY NONMETROPOLITAN AREA",
           1986
          ],
          [
           "ronkonkoma",
           "new york",
           "New York-Northern New Jersey-Long Island NY-NJ-PA MSA",
           19082
          ],
          [
           "skaneateles",
           "new york",
           "Syracuse NY MSA",
           2474
          ],
          [
           "farmingdale",
           "new york",
           "New York-Northern New Jersey-Long Island NY-NJ-PA MSA",
           8688
          ],
          [
           "scotia",
           "new york",
           "CA NONMETROPOLITAN AREA",
           7727
          ],
          [
           "palisades",
           "new york",
           "New York-Northern New Jersey-Long Island NY-NJ-PA MSA",
           0
          ],
          [
           "depew",
           "new york",
           "Buffalo-Niagara Falls NY MSA",
           15146
          ],
          [
           "jamaica",
           "new york",
           "New York-Northern New Jersey-Long Island NY-NJ-PA MSA",
           216866
          ],
          [
           "williamsburg",
           "new york",
           "KY NONMETROPOLITAN AREA",
           33000
          ],
          [
           "maspeth",
           "new york",
           "New York-Northern New Jersey-Long Island NY-NJ-PA MSA",
           48325
          ],
          [
           "orangeburg",
           "new york",
           "New York-Northern New Jersey-Long Island NY-NJ-PA MSA",
           4568
          ],
          [
           "western",
           "new york",
           "NE NONMETROPOLITAN AREA",
           1977
          ],
          [
           "williamsville",
           "new york",
           "VT NONMETROPOLITAN AREA",
           5254
          ],
          [
           "east amherst",
           "new york",
           "Buffalo-Niagara Falls NY MSA",
           24914
          ],
          [
           "rhinebeck",
           "new york",
           "Poughkeepsie-Newburgh-Middletown NY MSA",
           2609
          ],
          [
           "waterford",
           "new york",
           "Albany-Schenectady-Troy NY MSA",
           2037
          ],
          [
           "bedford",
           "new york",
           "New York-Northern New Jersey-Long Island NY-NJ-PA MSA",
           1834
          ],
          [
           "wallkill",
           "new york",
           "Kingston NY MSA",
           2288
          ],
          [
           "huntington station",
           "new york",
           "New York-Northern New Jersey-Long Island NY-NJ-PA MSA",
           33029
          ],
          [
           "stone ridge",
           "new york",
           "Kingston NY MSA",
           1173
          ],
          [
           "shirley",
           "new york",
           "New York-Northern New Jersey-Long Island NY-NJ-PA MSA",
           27854
          ],
          [
           "ticonderoga",
           "new york",
           "NY NONMETROPOLITAN AREA",
           3382
          ],
          [
           "new hartford",
           "new york",
           "Utica-Rome NY MSA",
           1844
          ],
          [
           "brockport",
           "new york",
           "Rochester NY MSA",
           8357
          ],
          [
           "beacon",
           "new york",
           "Poughkeepsie-Newburgh-Middletown NY MSA",
           14347
          ],
          [
           "franklin square",
           "new york",
           "New York-Northern New Jersey-Long Island NY-NJ-PA MSA",
           29320
          ],
          [
           "southampton",
           "new york",
           "New York-Northern New Jersey-Long Island NY-NJ-PA MSA",
           3265
          ],
          [
           "floral park",
           "new york",
           "New York-Northern New Jersey-Long Island NY-NJ-PA MSA",
           15969
          ],
          [
           "holbrook",
           "new york",
           "New York-Northern New Jersey-Long Island NY-NJ-PA MSA",
           27195
          ],
          [
           "east rochester",
           "new york",
           "Rochester NY MSA",
           6666
          ],
          [
           "fort edward",
           "new york",
           "Glens Falls NY MSA",
           3277
          ],
          [
           "cornwall",
           "new york",
           "Poughkeepsie-Newburgh-Middletown NY MSA",
           2966
          ],
          [
           "bethpage",
           "new york",
           "New York-Northern New Jersey-Long Island NY-NJ-PA MSA",
           16429
          ],
          [
           "bedford hills",
           "new york",
           "New York-Northern New Jersey-Long Island NY-NJ-PA MSA",
           3001
          ],
          [
           "walden",
           "new york",
           "Poughkeepsie-Newburgh-Middletown NY MSA",
           6839
          ],
          [
           "cedarhurst",
           "new york",
           "New York-Northern New Jersey-Long Island NY-NJ-PA MSA",
           6682
          ],
          [
           "chittenango",
           "new york",
           "Syracuse NY MSA",
           4891
          ],
          [
           "scarsdale",
           "new york",
           "New York-Northern New Jersey-Long Island NY-NJ-PA MSA",
           17885
          ],
          [
           "mamaroneck",
           "new york",
           "New York-Northern New Jersey-Long Island NY-NJ-PA MSA",
           19375
          ],
          [
           "potsdam",
           "new york",
           "NY NONMETROPOLITAN AREA",
           9688
          ],
          [
           "larchmont",
           "new york",
           "New York-Northern New Jersey-Long Island NY-NJ-PA MSA",
           6132
          ],
          [
           "monroe",
           "new york",
           "Poughkeepsie-Newburgh-Middletown NY MSA",
           8632
          ],
          [
           "islandia",
           "new york",
           "New York-Northern New Jersey-Long Island NY-NJ-PA MSA",
           3382
          ],
          [
           "east fishkill",
           "new york",
           null,
           29299
          ],
          [
           "great neck",
           "new york",
           "New York-Northern New Jersey-Long Island NY-NJ-PA MSA",
           10143
          ],
          [
           "fort drum",
           "new york",
           "NY NONMETROPOLITAN AREA",
           12955
          ],
          [
           "patchogue",
           "new york",
           "New York-Northern New Jersey-Long Island NY-NJ-PA MSA",
           12463
          ],
          [
           "whitestone",
           "new york",
           "New York-Northern New Jersey-Long Island NY-NJ-PA MSA",
           36984
          ],
          [
           "far rockaway",
           "new york",
           "New York-Northern New Jersey-Long Island NY-NJ-PA MSA",
           39189
          ],
          [
           "little neck",
           "new york",
           "New York-Northern New Jersey-Long Island NY-NJ-PA MSA",
           10049
          ],
          [
           "harlem",
           "new york",
           "Augusta-Richmond County GA-SC MSA",
           116345
          ],
          [
           "vernon",
           "new york",
           "New York-Northern New Jersey-Long Island NY-NJ-PA MSA",
           1157
          ],
          [
           "jefferson valley",
           "new york",
           "New York-Northern New Jersey-Long Island NY-NJ-PA MSA",
           0
          ],
          [
           "dryden",
           "new york",
           "Ithaca NY MSA",
           2094
          ],
          [
           "fordham",
           "new york",
           null,
           94678
          ],
          [
           "southold",
           "new york",
           "New York-Northern New Jersey-Long Island NY-NJ-PA MSA",
           5748
          ],
          [
           "riverhead",
           "new york",
           "New York-Northern New Jersey-Long Island NY-NJ-PA MSA",
           13299
          ],
          [
           "nesconset",
           "new york",
           "New York-Northern New Jersey-Long Island NY-NJ-PA MSA",
           13387
          ],
          [
           "cobleskill",
           "new york",
           "Albany-Schenectady-Troy NY MSA",
           4566
          ],
          [
           "johnson city",
           "new york",
           "Binghamton NY MSA",
           14773
          ],
          [
           "old westbury",
           "new york",
           "New York-Northern New Jersey-Long Island NY-NJ-PA MSA",
           4678
          ],
          [
           "honeoye falls",
           "new york",
           "Rochester NY MSA",
           2711
          ],
          [
           "west nyack",
           "new york",
           "New York-Northern New Jersey-Long Island NY-NJ-PA MSA",
           3439
          ],
          [
           "east aurora",
           "new york",
           "Buffalo-Niagara Falls NY MSA",
           6236
          ],
          [
           "little falls",
           "new york",
           "Utica-Rome NY MSA",
           4787
          ],
          [
           "fort jackson",
           "new york",
           null,
           0
          ],
          [
           "salamanca",
           "new york",
           "NY NONMETROPOLITAN AREA",
           5586
          ],
          [
           "east meadow",
           "new york",
           "New York-Northern New Jersey-Long Island NY-NJ-PA MSA",
           38132
          ],
          [
           "huntington",
           "new york",
           "New York-Northern New Jersey-Long Island NY-NJ-PA MSA",
           18046
          ],
          [
           "montgomery",
           "new york",
           "Poughkeepsie-Newburgh-Middletown NY MSA",
           4609
          ],
          [
           "lockport",
           "new york",
           "Buffalo-Niagara Falls NY MSA",
           20624
          ],
          [
           "chinatown",
           "new york",
           null,
           90000
          ],
          [
           "millbrook",
           "new york",
           "Poughkeepsie-Newburgh-Middletown NY MSA",
           1425
          ],
          [
           "cicero",
           "new york",
           "Syracuse NY MSA",
           31632
          ],
          [
           "canton",
           "new york",
           "NY NONMETROPOLITAN AREA",
           6570
          ],
          [
           "valley cottage",
           "new york",
           "New York-Northern New Jersey-Long Island NY-NJ-PA MSA",
           9107
          ],
          [
           "elma",
           "new york",
           "Buffalo-Niagara Falls NY MSA",
           11732
          ],
          [
           "ogdensburg",
           "new york",
           "NY NONMETROPOLITAN AREA",
           10883
          ],
          [
           "vestal",
           "new york",
           "Binghamton NY MSA",
           28043
          ],
          [
           "victor",
           "new york",
           "Rochester NY MSA",
           2759
          ],
          [
           "stony point",
           "new york",
           "New York-Northern New Jersey-Long Island NY-NJ-PA MSA",
           12147
          ],
          [
           "greene",
           "new york",
           "NY NONMETROPOLITAN AREA",
           1502
          ],
          [
           "cortland",
           "new york",
           "NY NONMETROPOLITAN AREA",
           18907
          ],
          [
           "east greenbush",
           "new york",
           "Albany-Schenectady-Troy NY MSA",
           4487
          ],
          [
           "lewiston",
           "new york",
           "Buffalo-Niagara Falls NY MSA",
           2596
          ],
          [
           "colonie",
           "new york",
           null,
           7906
          ],
          [
           "valhalla",
           "new york",
           "New York-Northern New Jersey-Long Island NY-NJ-PA MSA",
           3162
          ],
          [
           "hampton bays",
           "new york",
           "New York-Northern New Jersey-Long Island NY-NJ-PA MSA",
           13603
          ],
          [
           "dobbs ferry",
           "new york",
           "New York-Northern New Jersey-Long Island NY-NJ-PA MSA",
           11131
          ],
          [
           "clayton",
           "new york",
           "NY NONMETROPOLITAN AREA",
           1956
          ],
          [
           "olean",
           "new york",
           "NY NONMETROPOLITAN AREA",
           13870
          ],
          [
           "clay",
           "new york",
           "Syracuse NY MSA",
           58206
          ],
          [
           "carmel",
           "new york",
           "New York-Northern New Jersey-Long Island NY-NJ-PA MSA",
           4800
          ],
          [
           "lawrence",
           "new york",
           "New York-Northern New Jersey-Long Island NY-NJ-PA MSA",
           6559
          ],
          [
           "ontario",
           "new york",
           "Rochester NY MSA",
           2160
          ],
          [
           "hornell",
           "new york",
           "NY NONMETROPOLITAN AREA",
           8336
          ],
          [
           "rotterdam",
           "new york",
           null,
           20652
          ],
          [
           "endwell",
           "new york",
           "Binghamton NY MSA",
           11446
          ],
          [
           "marist college",
           "new york",
           null,
           0
          ],
          [
           "vassar college",
           "new york",
           null,
           0
          ],
          [
           "roslyn",
           "new york",
           "New York-Northern New Jersey-Long Island NY-NJ-PA MSA",
           2795
          ],
          [
           "glendale",
           "new york",
           "Los Angeles-Long Beach-Santa Ana CA MSA",
           34389
          ],
          [
           "chestnut ridge",
           "new york",
           "Pittsburgh PA MSA",
           8158
          ],
          [
           "south beach",
           "new york",
           "OR NONMETROPOLITAN AREA",
           8029
          ],
          [
           "wilton",
           "new york",
           "MN NONMETROPOLITAN AREA",
           16877
          ],
          [
           "riverdale",
           "new york",
           "Fresno CA MSA",
           9174
          ],
          [
           "malta",
           "new york",
           "Chicago-Naperville-Joliet IL-IN-WI MSA",
           15907
          ],
          [
           "brookville",
           "new york",
           "Dayton OH MSA",
           3566
          ],
          [
           "brentwood",
           "new york",
           "New York-Northern New Jersey-Long Island NY-NJ-PA MSA",
           60664
          ],
          [
           "geneva",
           "new york",
           "Rochester NY MSA",
           13062
          ],
          [
           "delmar",
           "new york",
           "Albany-Schenectady-Troy NY MSA",
           8195
          ],
          [
           "woodbury",
           "new york",
           "New York-Northern New Jersey-Long Island NY-NJ-PA MSA",
           8907
          ],
          [
           "greece",
           "new york",
           null,
           14519
          ],
          [
           "houghton",
           "new york",
           "NY NONMETROPOLITAN AREA",
           1693
          ],
          [
           "corona",
           "new york",
           "Riverside-San Bernardino-Ontario CA MSA",
           109698
          ],
          [
           "chester",
           "new york",
           "Poughkeepsie-Newburgh-Middletown NY MSA",
           3918
          ],
          [
           "hawthorne",
           "new york",
           "New York-Northern New Jersey-Long Island NY-NJ-PA MSA",
           4586
          ],
          [
           "moravia",
           "new york",
           "IA NONMETROPOLITAN AREA",
           1236
          ],
          [
           "annandale on hudson",
           "new york",
           "Poughkeepsie-Newburgh-Middletown NY MSA",
           0
          ],
          [
           "glenville",
           "new york",
           "York-Hanover PA MSA",
           29292
          ],
          [
           "rye",
           "new york",
           "New York-Northern New Jersey-Long Island NY-NJ-PA MSA",
           16046
          ],
          [
           "north tonawanda",
           "new york",
           "Buffalo-Niagara Falls NY MSA",
           30785
          ],
          [
           "harrison",
           "new york",
           "New York-Northern New Jersey-Long Island NY-NJ-PA MSA",
           28348
          ],
          [
           "new rochelle",
           "new york",
           "New York-Northern New Jersey-Long Island NY-NJ-PA MSA",
           79846
          ],
          [
           "yaphank",
           "new york",
           "New York-Northern New Jersey-Long Island NY-NJ-PA MSA",
           5945
          ],
          [
           "lancaster",
           "new york",
           "Buffalo-Niagara Falls NY MSA",
           10258
          ],
          [
           "congers",
           "new york",
           "New York-Northern New Jersey-Long Island NY-NJ-PA MSA",
           8363
          ],
          [
           "malone",
           "new york",
           "NY NONMETROPOLITAN AREA",
           5756
          ],
          [
           "batavia",
           "new york",
           "NY NONMETROPOLITAN AREA",
           15010
          ],
          [
           "schenectady",
           "new york",
           "Albany-Schenectady-Troy NY MSA",
           65305
          ],
          [
           "tonawanda",
           "new york",
           "Buffalo-Niagara Falls NY MSA",
           14907
          ],
          [
           "binghamton",
           "new york",
           "Binghamton NY MSA",
           46032
          ],
          [
           "lynbrook",
           "new york",
           "New York-Northern New Jersey-Long Island NY-NJ-PA MSA",
           19558
          ],
          [
           "lake success",
           "new york",
           null,
           3050
          ],
          [
           "oswego",
           "new york",
           "Syracuse NY MSA",
           17787
          ],
          [
           "glens falls",
           "new york",
           "Glens Falls NY MSA",
           14291
          ],
          [
           "bay shore",
           "new york",
           "New York-Northern New Jersey-Long Island NY-NJ-PA MSA",
           26337
          ],
          [
           "geneseo",
           "new york",
           "Rochester NY MSA",
           8173
          ],
          [
           "glenmont",
           "new york",
           "Albany-Schenectady-Troy NY MSA",
           0
          ],
          [
           "oyster bay",
           "new york",
           "New York-Northern New Jersey-Long Island NY-NJ-PA MSA",
           6707
          ],
          [
           "keuka park",
           "new york",
           "NY NONMETROPOLITAN AREA",
           1137
          ],
          [
           "hempstead",
           "new york",
           "New York-Northern New Jersey-Long Island NY-NJ-PA MSA",
           55547
          ],
          [
           "saratoga springs",
           "new york",
           "Albany-Schenectady-Troy NY MSA",
           27765
          ],
          [
           "plainview",
           "new york",
           "New York-Northern New Jersey-Long Island NY-NJ-PA MSA",
           26217
          ],
          [
           "elmira",
           "new york",
           "Elmira NY MSA",
           28213
          ],
          [
           "amityville",
           "new york",
           "New York-Northern New Jersey-Long Island NY-NJ-PA MSA",
           9486
          ],
          [
           "port chester",
           "new york",
           "New York-Northern New Jersey-Long Island NY-NJ-PA MSA",
           29620
          ],
          [
           "elmhurst",
           "new york",
           "New York-Northern New Jersey-Long Island NY-NJ-PA MSA",
           113364
          ],
          [
           "saugerties",
           "new york",
           "Kingston NY MSA",
           3903
          ],
          [
           "ridgewood",
           "new york",
           "New York-Northern New Jersey-Long Island NY-NJ-PA MSA",
           69317
          ],
          [
           "hopewell junction",
           "new york",
           "Poughkeepsie-Newburgh-Middletown NY MSA",
           376
          ],
          [
           "westbury",
           "new york",
           "New York-Northern New Jersey-Long Island NY-NJ-PA MSA",
           15379
          ],
          [
           "hicksville",
           "new york",
           "New York-Northern New Jersey-Long Island NY-NJ-PA MSA",
           41547
          ],
          [
           "elmont",
           "new york",
           "New York-Northern New Jersey-Long Island NY-NJ-PA MSA",
           33198
          ],
          [
           "jackson heights",
           "new york",
           "New York-Northern New Jersey-Long Island NY-NJ-PA MSA",
           67067
          ],
          [
           "norwich",
           "new york",
           "NY NONMETROPOLITAN AREA",
           6968
          ],
          [
           "massapequa",
           "new york",
           "New York-Northern New Jersey-Long Island NY-NJ-PA MSA",
           21685
          ],
          [
           "hauppauge",
           "new york",
           "New York-Northern New Jersey-Long Island NY-NJ-PA MSA",
           20882
          ],
          [
           "rocky point",
           "new york",
           "New York-Northern New Jersey-Long Island NY-NJ-PA MSA",
           14014
          ],
          [
           "uniondale",
           "new york",
           "New York-Northern New Jersey-Long Island NY-NJ-PA MSA",
           24759
          ],
          [
           "dansville",
           "new york",
           "Rochester NY MSA",
           4550
          ],
          [
           "troy",
           "new york",
           "Albany-Schenectady-Troy NY MSA",
           49906
          ],
          [
           "poughkeepsie",
           "new york",
           "Poughkeepsie-Newburgh-Middletown NY MSA",
           30371
          ],
          [
           "oneonta",
           "new york",
           "NY NONMETROPOLITAN AREA",
           13862
          ],
          [
           "fairport",
           "new york",
           "Rochester NY MSA",
           5351
          ],
          [
           "amsterdam",
           "new york",
           "NY NONMETROPOLITAN AREA",
           18008
          ],
          [
           "auburn",
           "new york",
           "NY NONMETROPOLITAN AREA",
           26985
          ],
          [
           "peekskill",
           "new york",
           "New York-Northern New Jersey-Long Island NY-NJ-PA MSA",
           24043
          ],
          [
           "pelham",
           "new york",
           "New York-Northern New Jersey-Long Island NY-NJ-PA MSA",
           7048
          ],
          [
           "manhasset",
           "new york",
           "New York-Northern New Jersey-Long Island NY-NJ-PA MSA",
           8080
          ],
          [
           "merrick",
           "new york",
           "New York-Northern New Jersey-Long Island NY-NJ-PA MSA",
           22097
          ],
          [
           "new hyde park",
           "new york",
           "New York-Northern New Jersey-Long Island NY-NJ-PA MSA",
           9811
          ],
          [
           "nyack",
           "new york",
           "New York-Northern New Jersey-Long Island NY-NJ-PA MSA",
           7004
          ],
          [
           "canandaigua",
           "new york",
           "Rochester NY MSA",
           10431
          ],
          [
           "middletown",
           "new york",
           "Poughkeepsie-Newburgh-Middletown NY MSA",
           27812
          ],
          [
           "stony brook",
           "new york",
           "New York-Northern New Jersey-Long Island NY-NJ-PA MSA",
           13740
          ],
          [
           "valley stream",
           "new york",
           "New York-Northern New Jersey-Long Island NY-NJ-PA MSA",
           37962
          ],
          [
           "astoria",
           "new york",
           "New York-Northern New Jersey-Long Island NY-NJ-PA MSA",
           150165
          ],
          [
           "purchase",
           "new york",
           "New York-Northern New Jersey-Long Island NY-NJ-PA MSA",
           4660
          ],
          [
           "forest hills",
           "new york",
           "New York-Northern New Jersey-Long Island NY-NJ-PA MSA",
           67714
          ],
          [
           "richmond hill",
           "new york",
           "New York-Northern New Jersey-Long Island NY-NJ-PA MSA",
           98984
          ],
          [
           "queens village",
           "new york",
           "New York-Northern New Jersey-Long Island NY-NJ-PA MSA",
           51919
          ],
          [
           "fresh meadows",
           "new york",
           "New York-Northern New Jersey-Long Island NY-NJ-PA MSA",
           28397
          ],
          [
           "grand island",
           "new york",
           "Buffalo-Niagara Falls NY MSA",
           20813
          ],
          [
           "buffalo",
           "new york",
           "Buffalo-Niagara Falls NY MSA",
           258071
          ],
          [
           "rochester",
           "new york",
           "Rochester NY MSA",
           209802
          ],
          [
           "brooklyn",
           "new york",
           "New York-Northern New Jersey-Long Island NY-NJ-PA MSA",
           2300664
          ],
          [
           "ithaca",
           "new york",
           "Ithaca NY MSA",
           30788
          ],
          [
           "west islip",
           "new york",
           "New York-Northern New Jersey-Long Island NY-NJ-PA MSA",
           28335
          ],
          [
           "mineola",
           "new york",
           "New York-Northern New Jersey-Long Island NY-NJ-PA MSA",
           19139
          ],
          [
           "wappingers falls",
           "new york",
           "Poughkeepsie-Newburgh-Middletown NY MSA",
           5552
          ],
          [
           "suffern",
           "new york",
           "New York-Northern New Jersey-Long Island NY-NJ-PA MSA",
           11001
          ],
          [
           "williston park",
           "new york",
           "New York-Northern New Jersey-Long Island NY-NJ-PA MSA",
           7331
          ],
          [
           "rome",
           "new york",
           "Utica-Rome NY MSA",
           32573
          ],
          [
           "west babylon",
           "new york",
           "New York-Northern New Jersey-Long Island NY-NJ-PA MSA",
           43213
          ],
          [
           "hartsdale",
           "new york",
           "New York-Northern New Jersey-Long Island NY-NJ-PA MSA",
           5293
          ],
          [
           "melville",
           "new york",
           "New York-Northern New Jersey-Long Island NY-NJ-PA MSA",
           18985
          ],
          [
           "staten island",
           "new york",
           "New York-Northern New Jersey-Long Island NY-NJ-PA MSA",
           468730
          ],
          [
           "cazenovia",
           "new york",
           "Syracuse NY MSA",
           2855
          ],
          [
           "syosset",
           "new york",
           "New York-Northern New Jersey-Long Island NY-NJ-PA MSA",
           18829
          ],
          [
           "albany",
           "new york",
           "Albany-Schenectady-Troy NY MSA",
           98469
          ],
          [
           "lake grove",
           "new york",
           "New York-Northern New Jersey-Long Island NY-NJ-PA MSA",
           11235
          ],
          [
           "yonkers",
           "new york",
           "New York-Northern New Jersey-Long Island NY-NJ-PA MSA",
           201116
          ],
          [
           "watertown",
           "new york",
           "NY NONMETROPOLITAN AREA",
           26780
          ],
          [
           "new york city",
           "new york",
           "New York-Northern New Jersey-Long Island NY-NJ-PA MSA",
           8804190
          ],
          [
           "commack",
           "new york",
           "New York-Northern New Jersey-Long Island NY-NJ-PA MSA",
           36124
          ],
          [
           "ballston spa",
           "new york",
           "Albany-Schenectady-Troy NY MSA",
           5375
          ],
          [
           "liverpool",
           "new york",
           "Syracuse NY MSA",
           2294
          ],
          [
           "port jefferson station",
           "new york",
           "New York-Northern New Jersey-Long Island NY-NJ-PA MSA",
           7838
          ],
          [
           "bellmore",
           "new york",
           "New York-Northern New Jersey-Long Island NY-NJ-PA MSA",
           16218
          ],
          [
           "albion",
           "new york",
           "Rochester NY MSA",
           5998
          ],
          [
           "bronx",
           "new york",
           "New York-Northern New Jersey-Long Island NY-NJ-PA MSA",
           1418207
          ],
          [
           "bronxville",
           "new york",
           "New York-Northern New Jersey-Long Island NY-NJ-PA MSA",
           6438
          ],
          [
           "webster",
           "new york",
           "Rochester NY MSA",
           5534
          ],
          [
           "syracuse",
           "new york",
           "Syracuse NY MSA",
           144142
          ],
          [
           "tarrytown",
           "new york",
           "New York-Northern New Jersey-Long Island NY-NJ-PA MSA",
           11560
          ],
          [
           "west hempstead",
           "new york",
           "New York-Northern New Jersey-Long Island NY-NJ-PA MSA",
           18862
          ],
          [
           "holtsville",
           "new york",
           "New York-Northern New Jersey-Long Island NY-NJ-PA MSA",
           19714
          ],
          [
           "freeport",
           "new york",
           "New York-Northern New Jersey-Long Island NY-NJ-PA MSA",
           43334
          ],
          [
           "cooperstown",
           "new york",
           "NY NONMETROPOLITAN AREA",
           1792
          ],
          [
           "nanuet",
           "new york",
           "New York-Northern New Jersey-Long Island NY-NJ-PA MSA",
           17882
          ],
          [
           "manhattan",
           "new york",
           "Manhattan KS MSA",
           1487536
          ],
          [
           "long island city",
           "new york",
           "New York-Northern New Jersey-Long Island NY-NJ-PA MSA",
           25595
          ],
          [
           "bayside",
           "new york",
           "New York-Northern New Jersey-Long Island NY-NJ-PA MSA",
           66455
          ],
          [
           "endicott",
           "new york",
           "Binghamton NY MSA",
           13014
          ],
          [
           "utica",
           "new york",
           "MO NONMETROPOLITAN AREA",
           61100
          ],
          [
           "angola",
           "new york",
           "IN NONMETROPOLITAN AREA",
           2114
          ],
          [
           "queens",
           "new york",
           null,
           2272771
          ],
          [
           "central islip",
           "new york",
           "New York-Northern New Jersey-Long Island NY-NJ-PA MSA",
           34450
          ],
          [
           "getzville",
           "new york",
           "Buffalo-Niagara Falls NY MSA",
           0
          ],
          [
           "brewster",
           "new york",
           "New York-Northern New Jersey-Long Island NY-NJ-PA MSA",
           2332
          ],
          [
           "levittown",
           "new york",
           "New York-Northern New Jersey-Long Island NY-NJ-PA MSA",
           51881
          ],
          [
           "carthage",
           "new york",
           "NY NONMETROPOLITAN AREA",
           3591
          ],
          [
           "long beach",
           "new york",
           "New York-Northern New Jersey-Long Island NY-NJ-PA MSA",
           33550
          ],
          [
           "lindenhurst",
           "new york",
           "New York-Northern New Jersey-Long Island NY-NJ-PA MSA",
           27277
          ],
          [
           "southeast",
           "new york",
           null,
           18153
          ],
          [
           "liberty",
           "new york",
           "NY NONMETROPOLITAN AREA",
           4134
          ],
          [
           "alfred",
           "new york",
           "NY NONMETROPOLITAN AREA",
           4061
          ],
          [
           "port jervis",
           "new york",
           "Poughkeepsie-Newburgh-Middletown NY MSA",
           8609
          ],
          [
           "northumberland",
           "new york",
           "PA NONMETROPOLITAN AREA",
           5159
          ]
         ],
         "hovertemplate": "longitude=%{x}<br>latitude=%{y}<br>city=%{customdata[0]}<br>state=%{customdata[1]}<br>msa=%{customdata[2]}<br>population=%{customdata[3]}<br>cluster=%{marker.color}<extra></extra>",
         "legendgroup": "",
         "marker": {
          "color": [
           359,
           280,
           359,
           280,
           179,
           179,
           179,
           181,
           181,
           179,
           359,
           359,
           187,
           359,
           359,
           359,
           182,
           280,
           359,
           280,
           -1,
           182,
           347,
           182,
           359,
           -1,
           280,
           359,
           181,
           359,
           187,
           359,
           359,
           359,
           182,
           187,
           359,
           280,
           359,
           359,
           359,
           181,
           280,
           359,
           187,
           347,
           182,
           181,
           359,
           359,
           181,
           359,
           181,
           187,
           280,
           -1,
           182,
           -1,
           359,
           359,
           182,
           359,
           359,
           359,
           -1,
           -1,
           280,
           359,
           359,
           181,
           -1,
           359,
           181,
           -1,
           -1,
           359,
           187,
           182,
           179,
           359,
           347,
           187,
           359,
           359,
           273,
           359,
           359,
           280,
           187,
           187,
           359,
           181,
           -1,
           359,
           359,
           359,
           181,
           -1,
           359,
           182,
           181,
           188,
           179,
           359,
           181,
           359,
           182,
           359,
           359,
           -1,
           -1,
           359,
           359,
           181,
           273,
           -1,
           359,
           187,
           174,
           -1,
           359,
           359,
           181,
           181,
           359,
           181,
           359,
           -1,
           359,
           359,
           359,
           359,
           280,
           359,
           182,
           280,
           281,
           359,
           359,
           181,
           359,
           181,
           359,
           -1,
           347,
           359,
           -1,
           181,
           -1,
           359,
           359,
           188,
           280,
           347,
           182,
           187,
           273,
           280,
           359,
           359,
           359,
           359,
           359,
           280,
           347,
           174,
           181,
           359,
           359,
           359,
           -1,
           188,
           181,
           187,
           359,
           359,
           280,
           187,
           182,
           -1,
           280,
           359,
           181,
           -1,
           359,
           181,
           280,
           359,
           359,
           359,
           359,
           181,
           359,
           359,
           -1,
           359,
           181,
           359,
           359,
           359,
           359,
           359,
           347,
           359,
           359,
           359,
           359,
           359,
           -1,
           359,
           174,
           359,
           359,
           182,
           359,
           -1,
           359,
           -1,
           359,
           359,
           347,
           188,
           181,
           359,
           359,
           359,
           359,
           359,
           187,
           359,
           359,
           359,
           359,
           347,
           182,
           187,
           179,
           359,
           359,
           -1,
           174,
           182,
           359,
           359,
           281,
           181,
           -1,
           359,
           359,
           347,
           359,
           359,
           359,
           359,
           359,
           359,
           359,
           359,
           359,
           359,
           181,
           359,
           181,
           359,
           280,
           174,
           359,
           359,
           187,
           359,
           182,
           359,
           281,
           359,
           187,
           359,
           359,
           359,
           359,
           -1,
           187,
           187,
           359,
           280,
           -1,
           359,
           359,
           359,
           359,
           -1,
           179,
           181,
           359,
           359,
           347,
           359,
           359,
           181,
           280,
           359,
           359,
           359,
           359,
           359,
           182,
           359,
           359,
           -1,
           359,
           359,
           359,
           359,
           359,
           -1,
           359,
           359,
           359,
           359,
           359,
           182,
           359,
           182,
           359,
           347,
           347,
           359,
           -1,
           273,
           359,
           181,
           359,
           187,
           -1,
           -1,
           187,
           359,
           359,
           359,
           187,
           359,
           -1,
           182,
           -1,
           359,
           187,
           -1,
           273,
           181,
           359,
           273,
           -1,
           280,
           188,
           280,
           359,
           347,
           359,
           -1,
           187,
           182,
           -1,
           359,
           181,
           181,
           281,
           273,
           359,
           359,
           359,
           359,
           359,
           359,
           -1,
           359,
           280,
           359,
           359,
           181,
           280,
           359,
           181,
           181,
           359,
           -1,
           359,
           182,
           359,
           281,
           359,
           188,
           359,
           359,
           359,
           187,
           359,
           -1,
           181,
           281,
           188,
           273,
           359,
           359,
           182,
           280,
           359,
           -1,
           280,
           359,
           181,
           359,
           280,
           359,
           181,
           359,
           359,
           359,
           -1,
           359,
           359,
           359,
           359,
           359,
           359,
           182,
           359,
           359,
           359,
           359,
           181,
           280,
           359,
           -1,
           181,
           -1,
           -1,
           359,
           359,
           359,
           359,
           359,
           359,
           181,
           359,
           359,
           359,
           359,
           359,
           359,
           359,
           359,
           359,
           188,
           188,
           181,
           359,
           -1,
           359,
           359,
           359,
           359,
           359,
           -1,
           359,
           359,
           359,
           359,
           182,
           359,
           280,
           359,
           359,
           -1,
           359,
           359,
           280,
           182,
           359,
           359,
           181,
           359,
           359,
           181,
           182,
           359,
           359,
           359,
           359,
           -1,
           359,
           359,
           359,
           359,
           273,
           179,
           -1,
           359,
           359,
           187,
           359,
           359,
           -1,
           359,
           359,
           359,
           359,
           -1,
           359,
           280
          ],
          "coloraxis": "coloraxis",
          "symbol": "circle"
         },
         "mode": "markers",
         "name": "",
         "orientation": "v",
         "showlegend": false,
         "type": "scatter",
         "x": [
          -73.73346,
          -73.77623,
          -73.77902,
          -73.72456,
          -75.2662,
          -75.39157,
          -75.33156,
          -77.66167,
          -76.87329,
          -75.4077,
          -73.84375,
          -73.69569,
          -78.49197,
          -73.88125,
          -73.62707,
          -73.1521,
          -75.97686,
          -73.69151,
          -73.6042,
          -73.75,
          -74.36181,
          -75.8174,
          -72.53425,
          -75.65129,
          -73.86823,
          -73.59484,
          -73.70012,
          -73.65541,
          -76.93691,
          -73.83625,
          -78.6358,
          -73.71152,
          -73.8092,
          -74.00857,
          -76.41716,
          -78.82337,
          -72.91538,
          -73.7429,
          -73.18567,
          -73.21039,
          -73.68346,
          -76.70245,
          -73.70123,
          -73.5921,
          -78.475,
          -72.33869,
          -76.00436,
          -77.57972,
          -73.74708,
          -72.93927,
          -77.29887,
          -74.11625,
          -76.79662,
          -78.66725,
          -73.84568,
          -74.97434,
          -76.12992,
          -73.36486,
          -73.62846,
          -73.8368,
          -76.3041,
          -73.725,
          -73.1151,
          -73.96014,
          -79.46671,
          -77.74556,
          -73.61317,
          -73.859,
          -73.02955,
          -77.05386,
          -74.36764,
          -74.7263,
          -77.3087,
          -72.1848,
          -73.98198,
          -73.85847,
          -78.67281,
          -76.5439,
          -75.29156,
          -73.86152,
          -72.35925,
          -78.4953,
          -74.1182,
          -73.61041,
          -75.8033,
          -73.05067,
          -73.9094,
          -73.71234,
          -78.82337,
          -78.7887,
          -74.39571,
          -77.79334,
          -74.34375,
          -73.93153,
          -73.06927,
          -73.33623,
          -76.99025,
          -74.13127,
          -74.19487,
          -75.57073,
          -77.13998,
          -79.0351,
          -75.3785,
          -73.64735,
          -76.82051,
          -73.62374,
          -75.75074,
          -73.87541,
          -73.15761,
          -75.49185,
          -74.5724,
          -73.92708,
          -73.73513,
          -77.7325,
          -75.9684,
          -76.1277,
          -73.45679,
          -78.75475,
          -79.3331,
          -74.98599,
          -73.10594,
          -72.93733,
          -77.23332,
          -77.94806,
          -73.64318,
          -78.00556,
          -73.00149,
          -77.31776,
          -73.68541,
          -73.66263,
          -73.48818,
          -73.7468,
          -73.7985,
          -73.76485,
          -75.64018,
          -73.4857,
          -73.92874,
          -73.82804,
          -72.8868,
          -77.6714,
          -73.63374,
          -77.55055,
          -73.84597,
          -73.43707,
          -72.61898,
          -74.11848,
          -74.2124,
          -77.713,
          -73.83234,
          -73.84375,
          -73.86514,
          -78.87004,
          -73.7665,
          -72.41092,
          -76.26215,
          -78.74392,
          -75.8342,
          -73.86818,
          -73.32456,
          -73.13872,
          -73.77763,
          -73.51013,
          -73.64013,
          -73.75901,
          -72.29258,
          -79.33393,
          -76.66606,
          -73.6093,
          -73.95458,
          -73.08206,
          -71.95451,
          -79.05671,
          -77.8039,
          -78.59197,
          -74.06848,
          -73.93819,
          -73.49873,
          -78.5781,
          -76.07853,
          -73.45291,
          -73.8951,
          -73.64124,
          -77.61222,
          -73.86457,
          -73.59707,
          -77.4483,
          -73.77095,
          -73.79263,
          -73.57485,
          -73.32179,
          -73.90541,
          -76.86274,
          -73.60263,
          -73.95597,
          -73.99736,
          -73.34317,
          -77.09414,
          -73.82375,
          -73.25734,
          -73.45512,
          -74.02375,
          -74.02181,
          -72.30092,
          -73.00011,
          -73.20067,
          -74.04375,
          -74.16598,
          -73.76291,
          -74.89186,
          -73.36512,
          -79.23533,
          -74.08681,
          -73.71263,
          -76.33271,
          -73.83708,
          -74.32432,
          -73.71402,
          -73.79096,
          -73.86641,
          -74.35988,
          -72.61454,
          -78.88476,
          -77.515,
          -73.09955,
          -73.93319,
          -73.98931,
          -73.6343,
          -73.83097,
          -78.79976,
          -73.85264,
          -74.12098,
          -73.87164,
          -73.9457,
          -72.41425,
          -76.456,
          -78.79975,
          -75.33267,
          -73.9425,
          -73.4065,
          -73.6474,
          -79.19838,
          -75.54462,
          -73.99375,
          -73.98597,
          -73.9631,
          -77.09525,
          -78.38697,
          -73.82013,
          -73.95764,
          -72.74343,
          -73.39984,
          -74.68933,
          -73.82124,
          -74.0432,
          -73.32568,
          -74.01042,
          -73.1213,
          -73.11511,
          -73.89903,
          -73.32929,
          -78.13279,
          -73.03566,
          -77.05469,
          -72.99621,
          -73.68734,
          -79.33171,
          -73.72708,
          -73.53985,
          -78.42307,
          -73.11233,
          -76.4291,
          -73.4454,
          -73.96429,
          -73.9135,
          -78.69225,
          -73.80569,
          -73.95347,
          -73.91264,
          -73.94958,
          -75.3897,
          -78.73781,
          -78.6967,
          -73.91264,
          -73.68123,
          -73.64374,
          -74.18404,
          -73.41151,
          -74.13903,
          -72.8676,
          -73.42345,
          -75.28767,
          -77.93918,
          -73.96958,
          -73.67596,
          -72.38953,
          -73.70485,
          -73.07844,
          -77.4875,
          -73.58456,
          -74.0157,
          -73.48207,
          -73.69458,
          -74.18848,
          -73.7243,
          -75.86658,
          -73.78458,
          -73.73263,
          -74.98131,
          -73.7518,
          -74.18681,
          -73.169,
          -73.7824,
          -73.72846,
          -75.76189,
          -73.01511,
          -73.81847,
          -73.75513,
          -73.73225,
          -73.94542,
          -75.53934,
          -73.7907,
          -76.29716,
          -73.89847,
          -72.4262,
          -72.66204,
          -73.154,
          -74.48542,
          -75.95881,
          -73.59957,
          -77.59028,
          -73.97292,
          -78.61336,
          -74.8596,
          -74.7149,
          -78.71503,
          -73.55902,
          -73.42568,
          -74.23682,
          -78.69031,
          -73.99625,
          -73.69402,
          -76.11937,
          -75.16909,
          -73.95542,
          -78.6371,
          -75.48634,
          -76.05381,
          -77.40888,
          -73.98708,
          -75.76991,
          -76.18048,
          -73.70179,
          -79.03588,
          -73.83346,
          -73.77513,
          -72.51759,
          -73.87264,
          -76.08578,
          -78.42974,
          -76.17243,
          -73.68013,
          -73.72958,
          -77.28304,
          -77.6611,
          -73.97096,
          -76.02103,
          -73.9333,
          -73.8931,
          -73.65096,
          -73.8868,
          -74.0557,
          -74.07609,
          -73.7276,
          -73.90639,
          -73.7879,
          -73.56735,
          -73.24623,
          -76.97774,
          -73.83262,
          -73.46762,
          -77.69306,
          -78.15723,
          -73.86014,
          -74.27126,
          -73.79597,
          -76.4216,
          -73.9082,
          -73.9925,
          -73.68374,
          -78.8642,
          -73.71263,
          -73.78235,
          -72.91705,
          -78.67031,
          -73.94542,
          -74.2949,
          -78.18752,
          -73.93957,
          -78.88031,
          -75.91797,
          -73.6718,
          -73.71763,
          -76.5105,
          -73.64401,
          -73.24539,
          -77.81695,
          -73.7696,
          -73.53207,
          -77.09219,
          -73.61874,
          -73.78457,
          -73.46735,
          -76.80773,
          -73.41707,
          -73.66568,
          -73.87791,
          -73.95291,
          -73.90569,
          -73.80874,
          -73.58763,
          -73.52513,
          -73.71291,
          -73.88541,
          -75.52351,
          -73.47429,
          -73.20261,
          -72.92538,
          -73.59291,
          -77.69611,
          -73.69179,
          -73.92097,
          -75.06377,
          -77.44194,
          -74.18819,
          -76.56605,
          -73.92042,
          -73.80791,
          -73.69957,
          -73.55152,
          -73.68791,
          -73.91791,
          -77.28804,
          -74.42293,
          -73.14094,
          -73.70846,
          -73.93014,
          -73.71457,
          -73.85014,
          -73.83125,
          -73.74152,
          -73.79347,
          -78.96254,
          -78.87837,
          -77.61556,
          -73.94958,
          -76.49661,
          -73.30623,
          -73.64068,
          -73.91097,
          -74.14959,
          -73.64485,
          -75.45573,
          -73.35429,
          -73.79819,
          -73.41512,
          -74.13986,
          -75.85269,
          -73.50207,
          -73.75623,
          -73.11511,
          -73.89875,
          -75.91076,
          -74.00597,
          -73.29289,
          -73.84901,
          -76.2177,
          -73.04733,
          -73.52707,
          -78.19363,
          -73.8662,
          -73.83208,
          -77.42999,
          -76.14742,
          -73.85875,
          -73.65013,
          -73.04511,
          -73.58318,
          -74.92426,
          -74.01347,
          -73.96625,
          -73.94875,
          -73.77708,
          -76.04937,
          -75.23266,
          -79.02782,
          -73.83652,
          -73.20178,
          -78.7678,
          -73.61707,
          -73.51429,
          -75.60936,
          -73.65791,
          -73.37345,
          -73.5985,
          -74.74655,
          -77.79055,
          -74.69266,
          -73.58817
         ],
         "xaxis": "x",
         "y": [
          41.37232,
          43.49674,
          41.12343,
          42.69202,
          43.1732,
          42.3148,
          42.62424,
          43.04006,
          42.38063,
          43.0527,
          41.01065,
          40.64316,
          42.90006,
          40.71649,
          40.79371,
          40.8761,
          43.00201,
          42.74424,
          41.333,
          42.719,
          43.49729,
          43.0834,
          40.99121,
          43.09257,
          41.03922,
          42.36425,
          42.77424,
          40.60427,
          42.1373,
          40.65788,
          42.1966,
          40.74705,
          41.2727,
          40.70789,
          43.32285,
          42.79728,
          40.77927,
          42.64258,
          40.73204,
          40.72982,
          41.01926,
          42.75396,
          42.73008,
          41.4849,
          42.0806,
          41.06815,
          43.02979,
          43.2134,
          40.76871,
          40.75704,
          43.06923,
          41.10093,
          42.91062,
          42.5084,
          42.7798,
          43.71007,
          43.13479,
          44.99393,
          40.81066,
          41.3979,
          43.03923,
          41.3058,
          40.9489,
          41.72093,
          42.20978,
          42.91201,
          43.37729,
          41.3184,
          40.83121,
          42.6609,
          43.00674,
          41.7143,
          42.9894,
          40.96343,
          44.27962,
          41.08565,
          42.27506,
          43.4515,
          43.12201,
          41.16287,
          41.10343,
          43.02089,
          42.04092,
          40.7526,
          42.0889,
          40.73843,
          42.0228,
          43.42618,
          42.82561,
          43.0025,
          41.71704,
          43.28812,
          43.05285,
          41.25232,
          40.94649,
          40.80482,
          43.06423,
          44.3295,
          40.60066,
          43.13812,
          42.96173,
          43.1372,
          43.0484,
          40.78871,
          42.16702,
          40.83538,
          43.07951,
          41.99509,
          40.72121,
          43.78674,
          41.9184,
          41.03121,
          40.81982,
          43.2537,
          42.0893,
          43.56701,
          40.87149,
          42.90339,
          42.10422,
          43.02563,
          40.94149,
          40.88427,
          43.06395,
          42.12201,
          40.77343,
          42.71562,
          40.86871,
          42.33702,
          41.25898,
          40.74093,
          40.66593,
          40.62205,
          42.5323,
          41.15954,
          42.89868,
          43.1587,
          42.65397,
          40.88601,
          40.8695,
          43.0827,
          40.86232,
          43.14756,
          40.7876,
          43.95034,
          40.9701,
          41.13593,
          42.1404,
          43.1514,
          43.24452,
          40.67677,
          40.76121,
          42.96589,
          42.7068,
          40.89899,
          42.10341,
          42.76756,
          42.0399,
          42.91174,
          40.87676,
          40.74399,
          41.27093,
          40.68371,
          40.63871,
          42.74702,
          40.99788,
          42.4795,
          42.54229,
          40.65649,
          41.42009,
          40.73593,
          41.03594,
          43.0945,
          43.18645,
          42.97673,
          41.11121,
          41.26204,
          43.09063,
          42.7089,
          43.06534,
          44.69949,
          42.9098,
          40.65871,
          43.05923,
          42.21731,
          40.87593,
          43.1602,
          42.86563,
          41.13287,
          41.20871,
          40.71649,
          40.74538,
          42.90479,
          41.56204,
          41.39148,
          41.92704,
          40.90093,
          42.16202,
          41.14565,
          40.88621,
          40.68038,
          41.47676,
          41.05899,
          40.93788,
          40.8176,
          40.85593,
          41.11315,
          41.42787,
          41.03399,
          44.9281,
          40.86899,
          42.097,
          41.74759,
          40.63205,
          43.15868,
          40.9126,
          41.40204,
          41.12648,
          42.25286,
          40.84985,
          41.25648,
          40.80316,
          43.13672,
          43.09062,
          40.85843,
          41.78482,
          41.1476,
          40.72677,
          40.71427,
          42.97839,
          40.72649,
          41.33176,
          41.28,
          41.384,
          40.93288,
          42.9931,
          42.85006,
          43.15729,
          40.79472,
          40.8793,
          43.0604,
          42.11867,
          42.82701,
          40.69538,
          40.6701,
          42.708,
          43.04673,
          43.22006,
          41.0551,
          41.06343,
          40.90649,
          40.68149,
          41.65565,
          41.74454,
          41.16704,
          40.69566,
          41.50343,
          40.9099,
          40.76926,
          41.53565,
          40.76177,
          42.74006,
          40.86649,
          42.14285,
          40.95982,
          42.90285,
          42.44006,
          41.20426,
          40.79204,
          42.53395,
          40.81538,
          42.94701,
          40.7326,
          42.82647,
          41.0112,
          42.90395,
          40.69149,
          40.71427,
          40.72316,
          41.04649,
          43.338,
          42.96395,
          43.01839,
          41.92676,
          42.79258,
          41.20426,
          41.60565,
          40.85343,
          41.85315,
          40.80149,
          43.84867,
          43.0734,
          43.21367,
          41.50482,
          40.70732,
          40.88427,
          40.72371,
          40.81232,
          43.10867,
          43.26702,
          41.44482,
          40.74427,
          41.23676,
          41.5612,
          40.62288,
          43.04507,
          41.0051,
          40.94871,
          44.66978,
          40.92788,
          41.33065,
          40.80426,
          41.5567,
          40.80066,
          44.05843,
          40.76565,
          40.79455,
          40.60538,
          40.76289,
          40.80788,
          43.07951,
          41.3381,
          42.49091,
          40.85927,
          41.06482,
          40.91704,
          40.85204,
          42.67785,
          42.11563,
          40.78871,
          42.95229,
          41.09649,
          42.76784,
          43.0434,
          44.7056,
          42.15784,
          40.71399,
          40.86815,
          41.52759,
          43.17061,
          40.71649,
          41.78509,
          43.17562,
          44.59562,
          41.11815,
          42.8231,
          44.69423,
          42.08507,
          42.98256,
          41.22954,
          42.32924,
          42.60118,
          42.59091,
          43.17256,
          42.71786,
          41.07482,
          40.86899,
          41.01454,
          44.23949,
          42.07756,
          43.1859,
          41.43009,
          40.61566,
          43.2209,
          42.32785,
          42.78702,
          42.11285,
          41.7222,
          41.686,
          40.79982,
          40.70149,
          41.08426,
          40.58329,
          43.1502,
          40.90056,
          42.9853,
          40.81316,
          40.78121,
          42.86896,
          42.62202,
          40.82565,
          43.20978,
          42.4234,
          40.74705,
          41.36259,
          41.10732,
          42.71257,
          42.0129,
          42.8869,
          40.98065,
          43.03867,
          40.96899,
          40.91149,
          40.83677,
          42.90061,
          41.15065,
          44.84866,
          42.99812,
          42.81424,
          43.02033,
          42.09869,
          40.65483,
          40.77066,
          43.45535,
          43.30952,
          40.7251,
          42.7959,
          42.6048,
          40.86565,
          42.61535,
          40.70621,
          43.08313,
          40.77649,
          42.0898,
          40.67899,
          41.00176,
          40.73649,
          42.07759,
          40.7001,
          41.58398,
          40.75566,
          40.76843,
          40.70094,
          40.75566,
          42.53118,
          40.68066,
          40.82565,
          40.9526,
          40.70038,
          42.5609,
          42.72841,
          41.70037,
          42.45286,
          43.09867,
          42.93869,
          42.93173,
          41.29009,
          40.90982,
          40.79788,
          40.66288,
          40.7351,
          41.09065,
          42.87423,
          41.44593,
          40.92565,
          40.66427,
          40.77205,
          41.04093,
          40.71621,
          40.69983,
          40.72677,
          40.73482,
          43.03311,
          42.88645,
          43.15478,
          40.6501,
          42.44063,
          40.70621,
          40.74927,
          41.59648,
          41.11482,
          40.75649,
          43.21285,
          40.71816,
          41.01899,
          40.79343,
          40.56233,
          42.93007,
          40.82621,
          42.65258,
          40.85288,
          40.93121,
          43.97478,
          40.71427,
          40.84288,
          43.00091,
          43.10646,
          40.92538,
          40.66871,
          43.24645,
          40.8501,
          40.93815,
          43.21229,
          43.04812,
          41.07621,
          40.70482,
          40.81538,
          40.6576,
          42.70048,
          41.08871,
          40.78343,
          40.74482,
          40.76844,
          42.09841,
          43.1009,
          42.63839,
          40.68149,
          40.79065,
          43.0239,
          41.39732,
          40.72593,
          43.97812,
          40.58844,
          40.68677,
          41.4032,
          41.8012,
          42.25424,
          41.37509,
          43.1273
         ],
         "yaxis": "y"
        }
       ],
       "layout": {
        "coloraxis": {
         "colorbar": {
          "title": {
           "text": "cluster"
          }
         },
         "colorscale": [
          [
           0,
           "#0d0887"
          ],
          [
           0.1111111111111111,
           "#46039f"
          ],
          [
           0.2222222222222222,
           "#7201a8"
          ],
          [
           0.3333333333333333,
           "#9c179e"
          ],
          [
           0.4444444444444444,
           "#bd3786"
          ],
          [
           0.5555555555555556,
           "#d8576b"
          ],
          [
           0.6666666666666666,
           "#ed7953"
          ],
          [
           0.7777777777777778,
           "#fb9f3a"
          ],
          [
           0.8888888888888888,
           "#fdca26"
          ],
          [
           1,
           "#f0f921"
          ]
         ]
        },
        "height": 400,
        "legend": {
         "tracegroupgap": 0
        },
        "showlegend": false,
        "template": {
         "data": {
          "bar": [
           {
            "error_x": {
             "color": "#2a3f5f"
            },
            "error_y": {
             "color": "#2a3f5f"
            },
            "marker": {
             "line": {
              "color": "#E5ECF6",
              "width": 0.5
             },
             "pattern": {
              "fillmode": "overlay",
              "size": 10,
              "solidity": 0.2
             }
            },
            "type": "bar"
           }
          ],
          "barpolar": [
           {
            "marker": {
             "line": {
              "color": "#E5ECF6",
              "width": 0.5
             },
             "pattern": {
              "fillmode": "overlay",
              "size": 10,
              "solidity": 0.2
             }
            },
            "type": "barpolar"
           }
          ],
          "carpet": [
           {
            "aaxis": {
             "endlinecolor": "#2a3f5f",
             "gridcolor": "white",
             "linecolor": "white",
             "minorgridcolor": "white",
             "startlinecolor": "#2a3f5f"
            },
            "baxis": {
             "endlinecolor": "#2a3f5f",
             "gridcolor": "white",
             "linecolor": "white",
             "minorgridcolor": "white",
             "startlinecolor": "#2a3f5f"
            },
            "type": "carpet"
           }
          ],
          "choropleth": [
           {
            "colorbar": {
             "outlinewidth": 0,
             "ticks": ""
            },
            "type": "choropleth"
           }
          ],
          "contour": [
           {
            "colorbar": {
             "outlinewidth": 0,
             "ticks": ""
            },
            "colorscale": [
             [
              0,
              "#0d0887"
             ],
             [
              0.1111111111111111,
              "#46039f"
             ],
             [
              0.2222222222222222,
              "#7201a8"
             ],
             [
              0.3333333333333333,
              "#9c179e"
             ],
             [
              0.4444444444444444,
              "#bd3786"
             ],
             [
              0.5555555555555556,
              "#d8576b"
             ],
             [
              0.6666666666666666,
              "#ed7953"
             ],
             [
              0.7777777777777778,
              "#fb9f3a"
             ],
             [
              0.8888888888888888,
              "#fdca26"
             ],
             [
              1,
              "#f0f921"
             ]
            ],
            "type": "contour"
           }
          ],
          "contourcarpet": [
           {
            "colorbar": {
             "outlinewidth": 0,
             "ticks": ""
            },
            "type": "contourcarpet"
           }
          ],
          "heatmap": [
           {
            "colorbar": {
             "outlinewidth": 0,
             "ticks": ""
            },
            "colorscale": [
             [
              0,
              "#0d0887"
             ],
             [
              0.1111111111111111,
              "#46039f"
             ],
             [
              0.2222222222222222,
              "#7201a8"
             ],
             [
              0.3333333333333333,
              "#9c179e"
             ],
             [
              0.4444444444444444,
              "#bd3786"
             ],
             [
              0.5555555555555556,
              "#d8576b"
             ],
             [
              0.6666666666666666,
              "#ed7953"
             ],
             [
              0.7777777777777778,
              "#fb9f3a"
             ],
             [
              0.8888888888888888,
              "#fdca26"
             ],
             [
              1,
              "#f0f921"
             ]
            ],
            "type": "heatmap"
           }
          ],
          "heatmapgl": [
           {
            "colorbar": {
             "outlinewidth": 0,
             "ticks": ""
            },
            "colorscale": [
             [
              0,
              "#0d0887"
             ],
             [
              0.1111111111111111,
              "#46039f"
             ],
             [
              0.2222222222222222,
              "#7201a8"
             ],
             [
              0.3333333333333333,
              "#9c179e"
             ],
             [
              0.4444444444444444,
              "#bd3786"
             ],
             [
              0.5555555555555556,
              "#d8576b"
             ],
             [
              0.6666666666666666,
              "#ed7953"
             ],
             [
              0.7777777777777778,
              "#fb9f3a"
             ],
             [
              0.8888888888888888,
              "#fdca26"
             ],
             [
              1,
              "#f0f921"
             ]
            ],
            "type": "heatmapgl"
           }
          ],
          "histogram": [
           {
            "marker": {
             "pattern": {
              "fillmode": "overlay",
              "size": 10,
              "solidity": 0.2
             }
            },
            "type": "histogram"
           }
          ],
          "histogram2d": [
           {
            "colorbar": {
             "outlinewidth": 0,
             "ticks": ""
            },
            "colorscale": [
             [
              0,
              "#0d0887"
             ],
             [
              0.1111111111111111,
              "#46039f"
             ],
             [
              0.2222222222222222,
              "#7201a8"
             ],
             [
              0.3333333333333333,
              "#9c179e"
             ],
             [
              0.4444444444444444,
              "#bd3786"
             ],
             [
              0.5555555555555556,
              "#d8576b"
             ],
             [
              0.6666666666666666,
              "#ed7953"
             ],
             [
              0.7777777777777778,
              "#fb9f3a"
             ],
             [
              0.8888888888888888,
              "#fdca26"
             ],
             [
              1,
              "#f0f921"
             ]
            ],
            "type": "histogram2d"
           }
          ],
          "histogram2dcontour": [
           {
            "colorbar": {
             "outlinewidth": 0,
             "ticks": ""
            },
            "colorscale": [
             [
              0,
              "#0d0887"
             ],
             [
              0.1111111111111111,
              "#46039f"
             ],
             [
              0.2222222222222222,
              "#7201a8"
             ],
             [
              0.3333333333333333,
              "#9c179e"
             ],
             [
              0.4444444444444444,
              "#bd3786"
             ],
             [
              0.5555555555555556,
              "#d8576b"
             ],
             [
              0.6666666666666666,
              "#ed7953"
             ],
             [
              0.7777777777777778,
              "#fb9f3a"
             ],
             [
              0.8888888888888888,
              "#fdca26"
             ],
             [
              1,
              "#f0f921"
             ]
            ],
            "type": "histogram2dcontour"
           }
          ],
          "mesh3d": [
           {
            "colorbar": {
             "outlinewidth": 0,
             "ticks": ""
            },
            "type": "mesh3d"
           }
          ],
          "parcoords": [
           {
            "line": {
             "colorbar": {
              "outlinewidth": 0,
              "ticks": ""
             }
            },
            "type": "parcoords"
           }
          ],
          "pie": [
           {
            "automargin": true,
            "type": "pie"
           }
          ],
          "scatter": [
           {
            "fillpattern": {
             "fillmode": "overlay",
             "size": 10,
             "solidity": 0.2
            },
            "type": "scatter"
           }
          ],
          "scatter3d": [
           {
            "line": {
             "colorbar": {
              "outlinewidth": 0,
              "ticks": ""
             }
            },
            "marker": {
             "colorbar": {
              "outlinewidth": 0,
              "ticks": ""
             }
            },
            "type": "scatter3d"
           }
          ],
          "scattercarpet": [
           {
            "marker": {
             "colorbar": {
              "outlinewidth": 0,
              "ticks": ""
             }
            },
            "type": "scattercarpet"
           }
          ],
          "scattergeo": [
           {
            "marker": {
             "colorbar": {
              "outlinewidth": 0,
              "ticks": ""
             }
            },
            "type": "scattergeo"
           }
          ],
          "scattergl": [
           {
            "marker": {
             "colorbar": {
              "outlinewidth": 0,
              "ticks": ""
             }
            },
            "type": "scattergl"
           }
          ],
          "scattermapbox": [
           {
            "marker": {
             "colorbar": {
              "outlinewidth": 0,
              "ticks": ""
             }
            },
            "type": "scattermapbox"
           }
          ],
          "scatterpolar": [
           {
            "marker": {
             "colorbar": {
              "outlinewidth": 0,
              "ticks": ""
             }
            },
            "type": "scatterpolar"
           }
          ],
          "scatterpolargl": [
           {
            "marker": {
             "colorbar": {
              "outlinewidth": 0,
              "ticks": ""
             }
            },
            "type": "scatterpolargl"
           }
          ],
          "scatterternary": [
           {
            "marker": {
             "colorbar": {
              "outlinewidth": 0,
              "ticks": ""
             }
            },
            "type": "scatterternary"
           }
          ],
          "surface": [
           {
            "colorbar": {
             "outlinewidth": 0,
             "ticks": ""
            },
            "colorscale": [
             [
              0,
              "#0d0887"
             ],
             [
              0.1111111111111111,
              "#46039f"
             ],
             [
              0.2222222222222222,
              "#7201a8"
             ],
             [
              0.3333333333333333,
              "#9c179e"
             ],
             [
              0.4444444444444444,
              "#bd3786"
             ],
             [
              0.5555555555555556,
              "#d8576b"
             ],
             [
              0.6666666666666666,
              "#ed7953"
             ],
             [
              0.7777777777777778,
              "#fb9f3a"
             ],
             [
              0.8888888888888888,
              "#fdca26"
             ],
             [
              1,
              "#f0f921"
             ]
            ],
            "type": "surface"
           }
          ],
          "table": [
           {
            "cells": {
             "fill": {
              "color": "#EBF0F8"
             },
             "line": {
              "color": "white"
             }
            },
            "header": {
             "fill": {
              "color": "#C8D4E3"
             },
             "line": {
              "color": "white"
             }
            },
            "type": "table"
           }
          ]
         },
         "layout": {
          "annotationdefaults": {
           "arrowcolor": "#2a3f5f",
           "arrowhead": 0,
           "arrowwidth": 1
          },
          "autotypenumbers": "strict",
          "coloraxis": {
           "colorbar": {
            "outlinewidth": 0,
            "ticks": ""
           }
          },
          "colorscale": {
           "diverging": [
            [
             0,
             "#8e0152"
            ],
            [
             0.1,
             "#c51b7d"
            ],
            [
             0.2,
             "#de77ae"
            ],
            [
             0.3,
             "#f1b6da"
            ],
            [
             0.4,
             "#fde0ef"
            ],
            [
             0.5,
             "#f7f7f7"
            ],
            [
             0.6,
             "#e6f5d0"
            ],
            [
             0.7,
             "#b8e186"
            ],
            [
             0.8,
             "#7fbc41"
            ],
            [
             0.9,
             "#4d9221"
            ],
            [
             1,
             "#276419"
            ]
           ],
           "sequential": [
            [
             0,
             "#0d0887"
            ],
            [
             0.1111111111111111,
             "#46039f"
            ],
            [
             0.2222222222222222,
             "#7201a8"
            ],
            [
             0.3333333333333333,
             "#9c179e"
            ],
            [
             0.4444444444444444,
             "#bd3786"
            ],
            [
             0.5555555555555556,
             "#d8576b"
            ],
            [
             0.6666666666666666,
             "#ed7953"
            ],
            [
             0.7777777777777778,
             "#fb9f3a"
            ],
            [
             0.8888888888888888,
             "#fdca26"
            ],
            [
             1,
             "#f0f921"
            ]
           ],
           "sequentialminus": [
            [
             0,
             "#0d0887"
            ],
            [
             0.1111111111111111,
             "#46039f"
            ],
            [
             0.2222222222222222,
             "#7201a8"
            ],
            [
             0.3333333333333333,
             "#9c179e"
            ],
            [
             0.4444444444444444,
             "#bd3786"
            ],
            [
             0.5555555555555556,
             "#d8576b"
            ],
            [
             0.6666666666666666,
             "#ed7953"
            ],
            [
             0.7777777777777778,
             "#fb9f3a"
            ],
            [
             0.8888888888888888,
             "#fdca26"
            ],
            [
             1,
             "#f0f921"
            ]
           ]
          },
          "colorway": [
           "#636efa",
           "#EF553B",
           "#00cc96",
           "#ab63fa",
           "#FFA15A",
           "#19d3f3",
           "#FF6692",
           "#B6E880",
           "#FF97FF",
           "#FECB52"
          ],
          "font": {
           "color": "#2a3f5f"
          },
          "geo": {
           "bgcolor": "white",
           "lakecolor": "white",
           "landcolor": "#E5ECF6",
           "showlakes": true,
           "showland": true,
           "subunitcolor": "white"
          },
          "hoverlabel": {
           "align": "left"
          },
          "hovermode": "closest",
          "mapbox": {
           "style": "light"
          },
          "paper_bgcolor": "white",
          "plot_bgcolor": "#E5ECF6",
          "polar": {
           "angularaxis": {
            "gridcolor": "white",
            "linecolor": "white",
            "ticks": ""
           },
           "bgcolor": "#E5ECF6",
           "radialaxis": {
            "gridcolor": "white",
            "linecolor": "white",
            "ticks": ""
           }
          },
          "scene": {
           "xaxis": {
            "backgroundcolor": "#E5ECF6",
            "gridcolor": "white",
            "gridwidth": 2,
            "linecolor": "white",
            "showbackground": true,
            "ticks": "",
            "zerolinecolor": "white"
           },
           "yaxis": {
            "backgroundcolor": "#E5ECF6",
            "gridcolor": "white",
            "gridwidth": 2,
            "linecolor": "white",
            "showbackground": true,
            "ticks": "",
            "zerolinecolor": "white"
           },
           "zaxis": {
            "backgroundcolor": "#E5ECF6",
            "gridcolor": "white",
            "gridwidth": 2,
            "linecolor": "white",
            "showbackground": true,
            "ticks": "",
            "zerolinecolor": "white"
           }
          },
          "shapedefaults": {
           "line": {
            "color": "#2a3f5f"
           }
          },
          "ternary": {
           "aaxis": {
            "gridcolor": "white",
            "linecolor": "white",
            "ticks": ""
           },
           "baxis": {
            "gridcolor": "white",
            "linecolor": "white",
            "ticks": ""
           },
           "bgcolor": "#E5ECF6",
           "caxis": {
            "gridcolor": "white",
            "linecolor": "white",
            "ticks": ""
           }
          },
          "title": {
           "x": 0.05
          },
          "xaxis": {
           "automargin": true,
           "gridcolor": "white",
           "linecolor": "white",
           "ticks": "",
           "title": {
            "standoff": 15
           },
           "zerolinecolor": "white",
           "zerolinewidth": 2
          },
          "yaxis": {
           "automargin": true,
           "gridcolor": "white",
           "linecolor": "white",
           "ticks": "",
           "title": {
            "standoff": 15
           },
           "zerolinecolor": "white",
           "zerolinewidth": 2
          }
         }
        },
        "title": {
         "text": "new york"
        },
        "uniformtext": {
         "mode": "hide"
        },
        "width": 800,
        "xaxis": {
         "anchor": "y",
         "domain": [
          0,
          1
         ],
         "title": {
          "text": "longitude"
         }
        },
        "yaxis": {
         "anchor": "x",
         "domain": [
          0,
          1
         ],
         "title": {
          "text": "latitude"
         }
        }
       }
      },
      "text/html": [
       "<div>                            <div id=\"af95f5b9-cc1c-4fe1-8e8f-4ca4c6c88096\" class=\"plotly-graph-div\" style=\"height:400px; width:800px;\"></div>            <script type=\"text/javascript\">                require([\"plotly\"], function(Plotly) {                    window.PLOTLYENV=window.PLOTLYENV || {};                                    if (document.getElementById(\"af95f5b9-cc1c-4fe1-8e8f-4ca4c6c88096\")) {                    Plotly.newPlot(                        \"af95f5b9-cc1c-4fe1-8e8f-4ca4c6c88096\",                        [{\"customdata\":[[\"mahopac\",\"new york\",\"New York-Northern New Jersey-Long Island NY-NJ-PA MSA\",8369],[\"warrensburg\",\"new york\",\"Glens Falls NY MSA\",3103],[\"thornwood\",\"new york\",\"New York-Northern New Jersey-Long Island NY-NJ-PA MSA\",3759],[\"menands\",\"new york\",null,3998],[\"marcy\",\"new york\",\"Utica-Rome NY MSA\",9465],[\"sidney\",\"new york\",\"NY NONMETROPOLITAN AREA\",3755],[\"new berlin\",\"new york\",\"NY NONMETROPOLITAN AREA\",974],[\"west henrietta\",\"new york\",\"Rochester NY MSA\",11691],[\"watkins glen\",\"new york\",\"NY NONMETROPOLITAN AREA\",1859],[\"hamilton college\",\"new york\",null,0],[\"ardsley\",\"new york\",\"New York-Northern New Jersey-Long Island NY-NJ-PA MSA\",4638],[\"hewlett\",\"new york\",\"New York-Northern New Jersey-Long Island NY-NJ-PA MSA\",6819],[\"alden\",\"new york\",\"Buffalo-Niagara Falls NY MSA\",2589],[\"middle village\",\"new york\",\"New York-Northern New Jersey-Long Island NY-NJ-PA MSA\",29491],[\"east hills\",\"new york\",null,7155],[\"st james\",\"new york\",\"New York-Northern New Jersey-Long Island NY-NJ-PA MSA\",13671],[\"manlius\",\"new york\",\"Syracuse NY MSA\",4630],[\"green island\",\"new york\",null,2612],[\"north salem\",\"new york\",\"New York-Northern New Jersey-Long Island NY-NJ-PA MSA\",5167],[\"siena college\",\"new york\",null,0],[\"speculator\",\"new york\",\"NY NONMETROPOLITAN AREA\",314],[\"east boston\",\"new york\",null,0],[\"mattituck\",\"new york\",\"New York-Northern New Jersey-Long Island NY-NJ-PA MSA\",4219],[\"oneida\",\"new york\",\"Syracuse NY MSA\",11134],[\"irvington\",\"new york\",\"New York-Northern New Jersey-Long Island NY-NJ-PA MSA\",6607],[\"chatham\",\"new york\",\"NY NONMETROPOLITAN AREA\",1696],[\"cohoes\",\"new york\",\"Albany-Schenectady-Troy NY MSA\",16538],[\"island park\",\"new york\",\"New York-Northern New Jersey-Long Island NY-NJ-PA MSA\",4766],[\"big flats\",\"new york\",\"Elmira NY MSA\",5277],[\"howard beach\",\"new york\",\"New York-Northern New Jersey-Long Island NY-NJ-PA MSA\",26148],[\"great valley\",\"new york\",\"NY NONMETROPOLITAN AREA\",1857],[\"glen oaks\",\"new york\",\"New York-Northern New Jersey-Long Island NY-NJ-PA MSA\",6655],[\"yorktown\",\"new york\",\"Virginia Beach-Norfolk-Newport News VA-NC MSA\",36538],[\"financial district\",\"new york\",null,60976],[\"fulton\",\"new york\",\"Syracuse NY MSA\",11552],[\"blasdell\",\"new york\",null,2592],[\"brookhaven\",\"new york\",\"New York-Northern New Jersey-Long Island NY-NJ-PA MSA\",3451],[\"rensselaer\",\"new york\",\"Albany-Schenectady-Troy NY MSA\",9433],[\"east islip\",\"new york\",\"New York-Northern New Jersey-Long Island NY-NJ-PA MSA\",14475],[\"islip\",\"new york\",\"New York-Northern New Jersey-Long Island NY-NJ-PA MSA\",18689],[\"rye brook\",\"new york\",null,9611],[\"aurora\",\"new york\",\"NY NONMETROPOLITAN AREA\",718],[\"watervliet\",\"new york\",\"Albany-Schenectady-Troy NY MSA\",10214],[\"patterson\",\"new york\",\"New York-Northern New Jersey-Long Island NY-NJ-PA MSA\",11866],[\"st bonaventure\",\"new york\",\"NY NONMETROPOLITAN AREA\",1909],[\"shelter island\",\"new york\",\"New York-Northern New Jersey-Long Island NY-NJ-PA MSA\",1333],[\"fayetteville\",\"new york\",\"Syracuse NY MSA\",4180],[\"irondequoit\",\"new york\",null,51692],[\"douglaston\",\"new york\",null,14762],[\"bellport\",\"new york\",\"New York-Northern New Jersey-Long Island NY-NJ-PA MSA\",2078],[\"macedon\",\"new york\",\"Rochester NY MSA\",1479],[\"airmont\",\"new york\",null,8891],[\"seneca falls\",\"new york\",\"NY NONMETROPOLITAN AREA\",6681],[\"springville\",\"new york\",\"Buffalo-Niagara Falls NY MSA\",4339],[\"niskayuna\",\"new york\",null,4859],[\"old forge\",\"new york\",\"Utica-Rome NY MSA\",756],[\"north syracuse\",\"new york\",null,6853],[\"rouses point\",\"new york\",\"NY NONMETROPOLITAN AREA\",2169],[\"greenvale\",\"new york\",\"New York-Northern New Jersey-Long Island NY-NJ-PA MSA\",1094],[\"putnam valley\",\"new york\",\"New York-Northern New Jersey-Long Island NY-NJ-PA MSA\",11597],[\"camillus\",\"new york\",\"Syracuse NY MSA\",1228],[\"somers\",\"new york\",\"New York-Northern New Jersey-Long Island NY-NJ-PA MSA\",21487],[\"setauket\",\"new york\",\"New York-Northern New Jersey-Long Island NY-NJ-PA MSA\",0],[\"highland\",\"new york\",\"Kingston NY MSA\",5647],[\"chautauqua\",\"new york\",\"NY NONMETROPOLITAN AREA\",191],[\"avon\",\"new york\",\"Rochester NY MSA\",3319],[\"queensbury\",\"new york\",\"Glens Falls NY MSA\",27703],[\"mohegan lake\",\"new york\",\"New York-Northern New Jersey-Long Island NY-NJ-PA MSA\",0],[\"farmingville\",\"new york\",\"New York-Northern New Jersey-Long Island NY-NJ-PA MSA\",15481],[\"penn yan\",\"new york\",\"NY NONMETROPOLITAN AREA\",5014],[\"johnstown\",\"new york\",\"NY NONMETROPOLITAN AREA\",8345],[\"harris\",\"new york\",\"NY NONMETROPOLITAN AREA\",0],[\"farmington\",\"new york\",\"Rochester NY MSA\",13208],[\"east hampton\",\"new york\",\"New York-Northern New Jersey-Long Island NY-NJ-PA MSA\",1122],[\"lake placid\",\"new york\",\"NY NONMETROPOLITAN AREA\",2465],[\"sleepy hollow\",\"new york\",null,10242],[\"ellicottville\",\"new york\",\"NY NONMETROPOLITAN AREA\",388],[\"suny oswego\",\"new york\",null,3694],[\"whitesboro\",\"new york\",\"Utica-Rome NY MSA\",3694],[\"ossining\",\"new york\",\"New York-Northern New Jersey-Long Island NY-NJ-PA MSA\",25441],[\"greenport\",\"new york\",\"New York-Northern New Jersey-Long Island NY-NJ-PA MSA\",2212],[\"akron\",\"new york\",\"Buffalo-Niagara Falls NY MSA\",2845],[\"woodstock\",\"new york\",\"Kingston NY MSA\",2088],[\"carle place\",\"new york\",\"New York-Northern New Jersey-Long Island NY-NJ-PA MSA\",4981],[\"kirkwood\",\"new york\",\"Binghamton NY MSA\",5602],[\"bayport\",\"new york\",\"New York-Northern New Jersey-Long Island NY-NJ-PA MSA\",8896],[\"bard college\",\"new york\",null,0],[\"lake george\",\"new york\",\"Glens Falls NY MSA\",890],[\"lackawanna\",\"new york\",null,17965],[\"university at buffalo\",\"new york\",null,6174],[\"ellenville\",\"new york\",\"Kingston NY MSA\",4081],[\"hilton\",\"new york\",\"Rochester NY MSA\",5921],[\"gloversville\",\"new york\",\"NY NONMETROPOLITAN AREA\",15023],[\"montrose\",\"new york\",\"New York-Northern New Jersey-Long Island NY-NJ-PA MSA\",2731],[\"port jefferson\",\"new york\",\"New York-Northern New Jersey-Long Island NY-NJ-PA MSA\",7842],[\"dix hills\",\"new york\",null,26892],[\"lyons\",\"new york\",\"Rochester NY MSA\",3619],[\"saranac lake\",\"new york\",\"NY NONMETROPOLITAN AREA\",5274],[\"chelsea\",\"new york\",\"Poughkeepsie-Newburgh-Middletown NY MSA\",2953],[\"verona\",\"new york\",\"Utica-Rome NY MSA\",852],[\"clifton springs\",\"new york\",\"Rochester NY MSA\",2092],[\"niagara university\",\"new york\",\"Buffalo-Niagara Falls NY MSA\",0],[\"clinton\",\"new york\",\"Utica-Rome NY MSA\",1891],[\"roslyn heights\",\"new york\",\"New York-Northern New Jersey-Long Island NY-NJ-PA MSA\",6577],[\"horseheads\",\"new york\",\"Elmira NY MSA\",6616],[\"glen head\",\"new york\",\"New York-Northern New Jersey-Long Island NY-NJ-PA MSA\",4697],[\"canastota\",\"new york\",\"Syracuse NY MSA\",4661],[\"red hook\",\"new york\",\"Poughkeepsie-Newburgh-Middletown NY MSA\",1990],[\"great river\",\"new york\",\"New York-Northern New Jersey-Long Island NY-NJ-PA MSA\",1489],[\"lowville\",\"new york\",\"NY NONMETROPOLITAN AREA\",3416],[\"claryville\",\"new york\",\"NY NONMETROPOLITAN AREA\",0],[\"sparkill\",\"new york\",\"New York-Northern New Jersey-Long Island NY-NJ-PA MSA\",1565],[\"kings point\",\"new york\",null,5131],[\"north greece\",\"new york\",\"Rochester NY MSA\",0],[\"binghamton university\",\"new york\",null,6130],[\"pulaski\",\"new york\",\"Syracuse NY MSA\",2310],[\"cold spring harbor\",\"new york\",\"New York-Northern New Jersey-Long Island NY-NJ-PA MSA\",5070],[\"cheektowaga\",\"new york\",null,75178],[\"lakewood\",\"new york\",\"NY NONMETROPOLITAN AREA\",2914],[\"herkimer\",\"new york\",\"Utica-Rome NY MSA\",7519],[\"east setauket\",\"new york\",\"New York-Northern New Jersey-Long Island NY-NJ-PA MSA\",17006],[\"middle island\",\"new york\",\"New York-Northern New Jersey-Long Island NY-NJ-PA MSA\",10483],[\"palmyra\",\"new york\",\"Rochester NY MSA\",3413],[\"wellsville\",\"new york\",\"NY NONMETROPOLITAN AREA\",4533],[\"albertson\",\"new york\",\"New York-Northern New Jersey-Long Island NY-NJ-PA MSA\",5182],[\"perry\",\"new york\",\"NY NONMETROPOLITAN AREA\",3516],[\"coram\",\"new york\",\"New York-Northern New Jersey-Long Island NY-NJ-PA MSA\",39113],[\"bath\",\"new york\",\"NY NONMETROPOLITAN AREA\",5635],[\"katonah\",\"new york\",\"New York-Northern New Jersey-Long Island NY-NJ-PA MSA\",1679],[\"garden city park\",\"new york\",null,7806],[\"seaford\",\"new york\",\"New York-Northern New Jersey-Long Island NY-NJ-PA MSA\",15294],[\"inwood\",\"new york\",\"New York-Northern New Jersey-Long Island NY-NJ-PA MSA\",9792],[\"selkirk\",\"new york\",\"Albany-Schenectady-Troy NY MSA\",0],[\"chappaqua\",\"new york\",\"New York-Northern New Jersey-Long Island NY-NJ-PA MSA\",1436],[\"morrisville\",\"new york\",\"Syracuse NY MSA\",1764],[\"north greenwich\",\"new york\",null,0],[\"voorheesville\",\"new york\",\"Albany-Schenectady-Troy NY MSA\",2832],[\"eastchester\",\"new york\",\"New York-Northern New Jersey-Long Island NY-NJ-PA MSA\",5000],[\"upton\",\"new york\",\"New York-Northern New Jersey-Long Island NY-NJ-PA MSA\",0],[\"rochester institute of technology\",\"new york\",null,0],[\"glen cove\",\"new york\",\"New York-Northern New Jersey-Long Island NY-NJ-PA MSA\",27400],[\"brighton\",\"new york\",\"Iowa City IA MSA\",36609],[\"college point\",\"new york\",\"New York-Northern New Jersey-Long Island NY-NJ-PA MSA\",27307],[\"crown point\",\"new york\",\"NY NONMETROPOLITAN AREA\",1903],[\"northville\",\"new york\",\"Detroit-Warren-Livonia MI MSA\",1340],[\"montebello\",\"new york\",\"Los Angeles-Long Beach-Santa Ana CA MSA\",4652],[\"edgewood\",\"new york\",\"IL NONMETROPOLITAN AREA\",0],[\"gates\",\"new york\",\"TN NONMETROPOLITAN AREA\",28398],[\"corinth\",\"new york\",\"Cincinnati-Middletown OH-KY-IN MSA\",2516],[\"ozone park\",\"new york\",\"New York-Northern New Jersey-Long Island NY-NJ-PA MSA\",53985],[\"east elmhurst\",\"new york\",\"New York-Northern New Jersey-Long Island NY-NJ-PA MSA\",23150],[\"kenmore\",\"new york\",\"Seattle-Tacoma-Bellevue WA MSA\",15160],[\"loudonville\",\"new york\",\"OH NONMETROPOLITAN AREA\",0],[\"tuckahoe\",\"new york\",\"New York-Northern New Jersey-Long Island NY-NJ-PA MSA\",1373],[\"owego\",\"new york\",\"Binghamton NY MSA\",3736],[\"orchard park\",\"new york\",\"Buffalo-Niagara Falls NY MSA\",3206],[\"conklin\",\"new york\",\"Binghamton NY MSA\",5179],[\"ballston lake\",\"new york\",\"Albany-Schenectady-Troy NY MSA\",9776],[\"east northport\",\"new york\",\"New York-Northern New Jersey-Long Island NY-NJ-PA MSA\",20217],[\"oakdale\",\"new york\",\"New York-Northern New Jersey-Long Island NY-NJ-PA MSA\",7974],[\"yorktown heights\",\"new york\",\"New York-Northern New Jersey-Long Island NY-NJ-PA MSA\",1781],[\"wantagh\",\"new york\",\"New York-Northern New Jersey-Long Island NY-NJ-PA MSA\",18871],[\"oceanside\",\"new york\",\"New York-Northern New Jersey-Long Island NY-NJ-PA MSA\",32109],[\"latham\",\"new york\",\"Albany-Schenectady-Troy NY MSA\",20736],[\"sag harbor\",\"new york\",\"New York-Northern New Jersey-Long Island NY-NJ-PA MSA\",2282],[\"dunkirk\",\"new york\",\"NY NONMETROPOLITAN AREA\",12081],[\"trumansburg\",\"new york\",\"Ithaca NY MSA\",1828],[\"baldwin\",\"new york\",\"New York-Northern New Jersey-Long Island NY-NJ-PA MSA\",24033],[\"cold spring\",\"new york\",\"New York-Northern New Jersey-Long Island NY-NJ-PA MSA\",1964],[\"sayville\",\"new york\",\"New York-Northern New Jersey-Long Island NY-NJ-PA MSA\",16853],[\"montauk\",\"new york\",\"New York-Northern New Jersey-Long Island NY-NJ-PA MSA\",3326],[\"niagara falls\",\"new york\",\"Buffalo-Niagara Falls NY MSA\",48916],[\"spencerport\",\"new york\",\"Rochester NY MSA\",3589],[\"clarence\",\"new york\",\"Buffalo-Niagara Falls NY MSA\",2646],[\"monsey\",\"new york\",\"New York-Northern New Jersey-Long Island NY-NJ-PA MSA\",18412],[\"buchanan\",\"new york\",\"New York-Northern New Jersey-Long Island NY-NJ-PA MSA\",2268],[\"greenwich\",\"new york\",\"Glens Falls NY MSA\",1744],[\"south wales\",\"new york\",\"Buffalo-Niagara Falls NY MSA\",0],[\"east syracuse\",\"new york\",\"Syracuse NY MSA\",3010],[\"plattsburgh\",\"new york\",\"NY NONMETROPOLITAN AREA\",19806],[\"burnt hills\",\"new york\",\"Albany-Schenectady-Troy NY MSA\",0],[\"rockville centre\",\"new york\",\"New York-Northern New Jersey-Long Island NY-NJ-PA MSA\",24201],[\"henrietta\",\"new york\",\"Rochester NY MSA\",42581],[\"catskill\",\"new york\",\"NY NONMETROPOLITAN AREA\",3874],[\"locust valley\",\"new york\",\"New York-Northern New Jersey-Long Island NY-NJ-PA MSA\",3406],[\"penfield\",\"new york\",\"Rochester NY MSA\",37252],[\"clifton park\",\"new york\",\"Albany-Schenectady-Troy NY MSA\",36705],[\"pleasantville\",\"new york\",\"New York-Northern New Jersey-Long Island NY-NJ-PA MSA\",7173],[\"pound ridge\",\"new york\",\"New York-Northern New Jersey-Long Island NY-NJ-PA MSA\",5104],[\"north babylon\",\"new york\",\"New York-Northern New Jersey-Long Island NY-NJ-PA MSA\",17509],[\"woodside\",\"new york\",\"New York-Northern New Jersey-Long Island NY-NJ-PA MSA\",41981],[\"waterloo\",\"new york\",\"NY NONMETROPOLITAN AREA\",5036],[\"pawling\",\"new york\",\"Poughkeepsie-Newburgh-Middletown NY MSA\",2297],[\"west point\",\"new york\",\"Poughkeepsie-Newburgh-Middletown NY MSA\",6763],[\"kingston\",\"new york\",\"Kingston NY MSA\",23436],[\"northport\",\"new york\",\"New York-Northern New Jersey-Long Island NY-NJ-PA MSA\",7390],[\"painted post\",\"new york\",\"NY NONMETROPOLITAN AREA\",1997],[\"briarcliff manor\",\"new york\",\"New York-Northern New Jersey-Long Island NY-NJ-PA MSA\",8028],[\"kings park\",\"new york\",\"New York-Northern New Jersey-Long Island NY-NJ-PA MSA\",17282],[\"massapequa park\",\"new york\",\"New York-Northern New Jersey-Long Island NY-NJ-PA MSA\",17232],[\"new windsor\",\"new york\",\"Poughkeepsie-Newburgh-Middletown NY MSA\",8922],[\"pearl river\",\"new york\",\"New York-Northern New Jersey-Long Island NY-NJ-PA MSA\",15876],[\"bridgehampton\",\"new york\",\"New York-Northern New Jersey-Long Island NY-NJ-PA MSA\",1756],[\"medford\",\"new york\",\"New York-Northern New Jersey-Long Island NY-NJ-PA MSA\",24142],[\"smithtown\",\"new york\",\"New York-Northern New Jersey-Long Island NY-NJ-PA MSA\",26470],[\"spring valley\",\"new york\",\"New York-Northern New Jersey-Long Island NY-NJ-PA MSA\",32598],[\"washingtonville\",\"new york\",\"Poughkeepsie-Newburgh-Middletown NY MSA\",5788],[\"white plains\",\"new york\",\"New York-Northern New Jersey-Long Island NY-NJ-PA MSA\",58459],[\"massena\",\"new york\",\"NY NONMETROPOLITAN AREA\",10629],[\"greenlawn\",\"new york\",\"New York-Northern New Jersey-Long Island NY-NJ-PA MSA\",13742],[\"jamestown\",\"new york\",\"NY NONMETROPOLITAN AREA\",30075],[\"new paltz\",\"new york\",\"Kingston NY MSA\",7070],[\"woodmere\",\"new york\",\"New York-Northern New Jersey-Long Island NY-NJ-PA MSA\",17121],[\"baldwinsville\",\"new york\",\"Syracuse NY MSA\",7770],[\"mount vernon\",\"new york\",\"New York-Northern New Jersey-Long Island NY-NJ-PA MSA\",68628],[\"goshen\",\"new york\",\"Poughkeepsie-Newburgh-Middletown NY MSA\",5397],[\"armonk\",\"new york\",\"New York-Northern New Jersey-Long Island NY-NJ-PA MSA\",4330],[\"hudson\",\"new york\",\"NY NONMETROPOLITAN AREA\",6436],[\"the bronx\",\"new york\",\"New York-Northern New Jersey-Long Island NY-NJ-PA MSA\",1385108],[\"warwick\",\"new york\",\"Poughkeepsie-Newburgh-Middletown NY MSA\",6823],[\"westhampton beach\",\"new york\",\"New York-Northern New Jersey-Long Island NY-NJ-PA MSA\",1721],[\"sanborn\",\"new york\",\"Buffalo-Niagara Falls NY MSA\",1645],[\"pittsford\",\"new york\",\"Rochester NY MSA\",1350],[\"centereach\",\"new york\",\"New York-Northern New Jersey-Long Island NY-NJ-PA MSA\",31578],[\"hyde park\",\"new york\",\"Poughkeepsie-Newburgh-Middletown NY MSA\",1908],[\"new city\",\"new york\",\"New York-Northern New Jersey-Long Island NY-NJ-PA MSA\",33559],[\"garden city\",\"new york\",\"New York-Northern New Jersey-Long Island NY-NJ-PA MSA\",22612],[\"kew gardens\",\"new york\",\"New York-Northern New Jersey-Long Island NY-NJ-PA MSA\",18983],[\"amherst\",\"new york\",\"Cleveland-Elyria-Mentor OH MSA\",122366],[\"rego park\",\"new york\",\"New York-Northern New Jersey-Long Island NY-NJ-PA MSA\",43925],[\"central valley\",\"new york\",\"Poughkeepsie-Newburgh-Middletown NY MSA\",1810],[\"cortlandt manor\",\"new york\",\"New York-Northern New Jersey-Long Island NY-NJ-PA MSA\",19929],[\"garrison\",\"new york\",\"New York-Northern New Jersey-Long Island NY-NJ-PA MSA\",0],[\"north sea\",\"new york\",null,4458],[\"skaneateles falls\",\"new york\",\"Syracuse NY MSA\",0],[\"west seneca\",\"new york\",null,44711],[\"oriskany\",\"new york\",\"Utica-Rome NY MSA\",1375],[\"east harlem\",\"new york\",null,115921],[\"fort hill\",\"new york\",\"PA NONMETROPOLITAN AREA\",0],[\"saratoga\",\"new york\",\"Beaumont-Port Arthur TX MSA\",5709],[\"falconer\",\"new york\",\"NY NONMETROPOLITAN AREA\",2321],[\"hamilton\",\"new york\",\"Syracuse NY MSA\",4176],[\"brooklyn heights\",\"new york\",null,20256],[\"park slope\",\"new york\",null,65047],[\"guilderland\",\"new york\",\"Albany-Schenectady-Troy NY MSA\",35696],[\"newark\",\"new york\",\"Rochester NY MSA\",8843],[\"medina\",\"new york\",\"Rochester NY MSA\",5827],[\"elmsford\",\"new york\",\"New York-Northern New Jersey-Long Island NY-NJ-PA MSA\",4810],[\"blauvelt\",\"new york\",\"New York-Northern New Jersey-Long Island NY-NJ-PA MSA\",5689],[\"calverton\",\"new york\",\"New York-Northern New Jersey-Long Island NY-NJ-PA MSA\",6510],[\"copiague\",\"new york\",\"New York-Northern New Jersey-Long Island NY-NJ-PA MSA\",22993],[\"monticello\",\"new york\",\"NY NONMETROPOLITAN AREA\",6505],[\"pleasant valley\",\"new york\",\"Poughkeepsie-Newburgh-Middletown NY MSA\",1145],[\"pomona\",\"new york\",\"New York-Northern New Jersey-Long Island NY-NJ-PA MSA\",3103],[\"babylon\",\"new york\",\"New York-Northern New Jersey-Long Island NY-NJ-PA MSA\",12161],[\"newburgh\",\"new york\",\"Poughkeepsie-Newburgh-Middletown NY MSA\",28290],[\"stony brook university\",\"new york\",null,8943],[\"bohemia\",\"new york\",\"New York-Northern New Jersey-Long Island NY-NJ-PA MSA\",10180],[\"fishkill\",\"new york\",\"Poughkeepsie-Newburgh-Middletown NY MSA\",2133],[\"deer park\",\"new york\",\"New York-Northern New Jersey-Long Island NY-NJ-PA MSA\",27745],[\"warsaw\",\"new york\",\"NY NONMETROPOLITAN AREA\",3376],[\"selden\",\"new york\",\"New York-Northern New Jersey-Long Island NY-NJ-PA MSA\",19851],[\"corning\",\"new york\",\"NY NONMETROPOLITAN AREA\",10897],[\"miller place\",\"new york\",\"New York-Northern New Jersey-Long Island NY-NJ-PA MSA\",12339],[\"mechanicville\",\"new york\",\"Albany-Schenectady-Troy NY MSA\",5169],[\"fredonia\",\"new york\",\"NY NONMETROPOLITAN AREA\",10705],[\"mount kisco\",\"new york\",\"New York-Northern New Jersey-Long Island NY-NJ-PA MSA\",11145],[\"jericho\",\"new york\",\"New York-Northern New Jersey-Long Island NY-NJ-PA MSA\",13567],[\"arcade\",\"new york\",\"NY NONMETROPOLITAN AREA\",1986],[\"ronkonkoma\",\"new york\",\"New York-Northern New Jersey-Long Island NY-NJ-PA MSA\",19082],[\"skaneateles\",\"new york\",\"Syracuse NY MSA\",2474],[\"farmingdale\",\"new york\",\"New York-Northern New Jersey-Long Island NY-NJ-PA MSA\",8688],[\"scotia\",\"new york\",\"CA NONMETROPOLITAN AREA\",7727],[\"palisades\",\"new york\",\"New York-Northern New Jersey-Long Island NY-NJ-PA MSA\",0],[\"depew\",\"new york\",\"Buffalo-Niagara Falls NY MSA\",15146],[\"jamaica\",\"new york\",\"New York-Northern New Jersey-Long Island NY-NJ-PA MSA\",216866],[\"williamsburg\",\"new york\",\"KY NONMETROPOLITAN AREA\",33000],[\"maspeth\",\"new york\",\"New York-Northern New Jersey-Long Island NY-NJ-PA MSA\",48325],[\"orangeburg\",\"new york\",\"New York-Northern New Jersey-Long Island NY-NJ-PA MSA\",4568],[\"western\",\"new york\",\"NE NONMETROPOLITAN AREA\",1977],[\"williamsville\",\"new york\",\"VT NONMETROPOLITAN AREA\",5254],[\"east amherst\",\"new york\",\"Buffalo-Niagara Falls NY MSA\",24914],[\"rhinebeck\",\"new york\",\"Poughkeepsie-Newburgh-Middletown NY MSA\",2609],[\"waterford\",\"new york\",\"Albany-Schenectady-Troy NY MSA\",2037],[\"bedford\",\"new york\",\"New York-Northern New Jersey-Long Island NY-NJ-PA MSA\",1834],[\"wallkill\",\"new york\",\"Kingston NY MSA\",2288],[\"huntington station\",\"new york\",\"New York-Northern New Jersey-Long Island NY-NJ-PA MSA\",33029],[\"stone ridge\",\"new york\",\"Kingston NY MSA\",1173],[\"shirley\",\"new york\",\"New York-Northern New Jersey-Long Island NY-NJ-PA MSA\",27854],[\"ticonderoga\",\"new york\",\"NY NONMETROPOLITAN AREA\",3382],[\"new hartford\",\"new york\",\"Utica-Rome NY MSA\",1844],[\"brockport\",\"new york\",\"Rochester NY MSA\",8357],[\"beacon\",\"new york\",\"Poughkeepsie-Newburgh-Middletown NY MSA\",14347],[\"franklin square\",\"new york\",\"New York-Northern New Jersey-Long Island NY-NJ-PA MSA\",29320],[\"southampton\",\"new york\",\"New York-Northern New Jersey-Long Island NY-NJ-PA MSA\",3265],[\"floral park\",\"new york\",\"New York-Northern New Jersey-Long Island NY-NJ-PA MSA\",15969],[\"holbrook\",\"new york\",\"New York-Northern New Jersey-Long Island NY-NJ-PA MSA\",27195],[\"east rochester\",\"new york\",\"Rochester NY MSA\",6666],[\"fort edward\",\"new york\",\"Glens Falls NY MSA\",3277],[\"cornwall\",\"new york\",\"Poughkeepsie-Newburgh-Middletown NY MSA\",2966],[\"bethpage\",\"new york\",\"New York-Northern New Jersey-Long Island NY-NJ-PA MSA\",16429],[\"bedford hills\",\"new york\",\"New York-Northern New Jersey-Long Island NY-NJ-PA MSA\",3001],[\"walden\",\"new york\",\"Poughkeepsie-Newburgh-Middletown NY MSA\",6839],[\"cedarhurst\",\"new york\",\"New York-Northern New Jersey-Long Island NY-NJ-PA MSA\",6682],[\"chittenango\",\"new york\",\"Syracuse NY MSA\",4891],[\"scarsdale\",\"new york\",\"New York-Northern New Jersey-Long Island NY-NJ-PA MSA\",17885],[\"mamaroneck\",\"new york\",\"New York-Northern New Jersey-Long Island NY-NJ-PA MSA\",19375],[\"potsdam\",\"new york\",\"NY NONMETROPOLITAN AREA\",9688],[\"larchmont\",\"new york\",\"New York-Northern New Jersey-Long Island NY-NJ-PA MSA\",6132],[\"monroe\",\"new york\",\"Poughkeepsie-Newburgh-Middletown NY MSA\",8632],[\"islandia\",\"new york\",\"New York-Northern New Jersey-Long Island NY-NJ-PA MSA\",3382],[\"east fishkill\",\"new york\",null,29299],[\"great neck\",\"new york\",\"New York-Northern New Jersey-Long Island NY-NJ-PA MSA\",10143],[\"fort drum\",\"new york\",\"NY NONMETROPOLITAN AREA\",12955],[\"patchogue\",\"new york\",\"New York-Northern New Jersey-Long Island NY-NJ-PA MSA\",12463],[\"whitestone\",\"new york\",\"New York-Northern New Jersey-Long Island NY-NJ-PA MSA\",36984],[\"far rockaway\",\"new york\",\"New York-Northern New Jersey-Long Island NY-NJ-PA MSA\",39189],[\"little neck\",\"new york\",\"New York-Northern New Jersey-Long Island NY-NJ-PA MSA\",10049],[\"harlem\",\"new york\",\"Augusta-Richmond County GA-SC MSA\",116345],[\"vernon\",\"new york\",\"New York-Northern New Jersey-Long Island NY-NJ-PA MSA\",1157],[\"jefferson valley\",\"new york\",\"New York-Northern New Jersey-Long Island NY-NJ-PA MSA\",0],[\"dryden\",\"new york\",\"Ithaca NY MSA\",2094],[\"fordham\",\"new york\",null,94678],[\"southold\",\"new york\",\"New York-Northern New Jersey-Long Island NY-NJ-PA MSA\",5748],[\"riverhead\",\"new york\",\"New York-Northern New Jersey-Long Island NY-NJ-PA MSA\",13299],[\"nesconset\",\"new york\",\"New York-Northern New Jersey-Long Island NY-NJ-PA MSA\",13387],[\"cobleskill\",\"new york\",\"Albany-Schenectady-Troy NY MSA\",4566],[\"johnson city\",\"new york\",\"Binghamton NY MSA\",14773],[\"old westbury\",\"new york\",\"New York-Northern New Jersey-Long Island NY-NJ-PA MSA\",4678],[\"honeoye falls\",\"new york\",\"Rochester NY MSA\",2711],[\"west nyack\",\"new york\",\"New York-Northern New Jersey-Long Island NY-NJ-PA MSA\",3439],[\"east aurora\",\"new york\",\"Buffalo-Niagara Falls NY MSA\",6236],[\"little falls\",\"new york\",\"Utica-Rome NY MSA\",4787],[\"fort jackson\",\"new york\",null,0],[\"salamanca\",\"new york\",\"NY NONMETROPOLITAN AREA\",5586],[\"east meadow\",\"new york\",\"New York-Northern New Jersey-Long Island NY-NJ-PA MSA\",38132],[\"huntington\",\"new york\",\"New York-Northern New Jersey-Long Island NY-NJ-PA MSA\",18046],[\"montgomery\",\"new york\",\"Poughkeepsie-Newburgh-Middletown NY MSA\",4609],[\"lockport\",\"new york\",\"Buffalo-Niagara Falls NY MSA\",20624],[\"chinatown\",\"new york\",null,90000],[\"millbrook\",\"new york\",\"Poughkeepsie-Newburgh-Middletown NY MSA\",1425],[\"cicero\",\"new york\",\"Syracuse NY MSA\",31632],[\"canton\",\"new york\",\"NY NONMETROPOLITAN AREA\",6570],[\"valley cottage\",\"new york\",\"New York-Northern New Jersey-Long Island NY-NJ-PA MSA\",9107],[\"elma\",\"new york\",\"Buffalo-Niagara Falls NY MSA\",11732],[\"ogdensburg\",\"new york\",\"NY NONMETROPOLITAN AREA\",10883],[\"vestal\",\"new york\",\"Binghamton NY MSA\",28043],[\"victor\",\"new york\",\"Rochester NY MSA\",2759],[\"stony point\",\"new york\",\"New York-Northern New Jersey-Long Island NY-NJ-PA MSA\",12147],[\"greene\",\"new york\",\"NY NONMETROPOLITAN AREA\",1502],[\"cortland\",\"new york\",\"NY NONMETROPOLITAN AREA\",18907],[\"east greenbush\",\"new york\",\"Albany-Schenectady-Troy NY MSA\",4487],[\"lewiston\",\"new york\",\"Buffalo-Niagara Falls NY MSA\",2596],[\"colonie\",\"new york\",null,7906],[\"valhalla\",\"new york\",\"New York-Northern New Jersey-Long Island NY-NJ-PA MSA\",3162],[\"hampton bays\",\"new york\",\"New York-Northern New Jersey-Long Island NY-NJ-PA MSA\",13603],[\"dobbs ferry\",\"new york\",\"New York-Northern New Jersey-Long Island NY-NJ-PA MSA\",11131],[\"clayton\",\"new york\",\"NY NONMETROPOLITAN AREA\",1956],[\"olean\",\"new york\",\"NY NONMETROPOLITAN AREA\",13870],[\"clay\",\"new york\",\"Syracuse NY MSA\",58206],[\"carmel\",\"new york\",\"New York-Northern New Jersey-Long Island NY-NJ-PA MSA\",4800],[\"lawrence\",\"new york\",\"New York-Northern New Jersey-Long Island NY-NJ-PA MSA\",6559],[\"ontario\",\"new york\",\"Rochester NY MSA\",2160],[\"hornell\",\"new york\",\"NY NONMETROPOLITAN AREA\",8336],[\"rotterdam\",\"new york\",null,20652],[\"endwell\",\"new york\",\"Binghamton NY MSA\",11446],[\"marist college\",\"new york\",null,0],[\"vassar college\",\"new york\",null,0],[\"roslyn\",\"new york\",\"New York-Northern New Jersey-Long Island NY-NJ-PA MSA\",2795],[\"glendale\",\"new york\",\"Los Angeles-Long Beach-Santa Ana CA MSA\",34389],[\"chestnut ridge\",\"new york\",\"Pittsburgh PA MSA\",8158],[\"south beach\",\"new york\",\"OR NONMETROPOLITAN AREA\",8029],[\"wilton\",\"new york\",\"MN NONMETROPOLITAN AREA\",16877],[\"riverdale\",\"new york\",\"Fresno CA MSA\",9174],[\"malta\",\"new york\",\"Chicago-Naperville-Joliet IL-IN-WI MSA\",15907],[\"brookville\",\"new york\",\"Dayton OH MSA\",3566],[\"brentwood\",\"new york\",\"New York-Northern New Jersey-Long Island NY-NJ-PA MSA\",60664],[\"geneva\",\"new york\",\"Rochester NY MSA\",13062],[\"delmar\",\"new york\",\"Albany-Schenectady-Troy NY MSA\",8195],[\"woodbury\",\"new york\",\"New York-Northern New Jersey-Long Island NY-NJ-PA MSA\",8907],[\"greece\",\"new york\",null,14519],[\"houghton\",\"new york\",\"NY NONMETROPOLITAN AREA\",1693],[\"corona\",\"new york\",\"Riverside-San Bernardino-Ontario CA MSA\",109698],[\"chester\",\"new york\",\"Poughkeepsie-Newburgh-Middletown NY MSA\",3918],[\"hawthorne\",\"new york\",\"New York-Northern New Jersey-Long Island NY-NJ-PA MSA\",4586],[\"moravia\",\"new york\",\"IA NONMETROPOLITAN AREA\",1236],[\"annandale on hudson\",\"new york\",\"Poughkeepsie-Newburgh-Middletown NY MSA\",0],[\"glenville\",\"new york\",\"York-Hanover PA MSA\",29292],[\"rye\",\"new york\",\"New York-Northern New Jersey-Long Island NY-NJ-PA MSA\",16046],[\"north tonawanda\",\"new york\",\"Buffalo-Niagara Falls NY MSA\",30785],[\"harrison\",\"new york\",\"New York-Northern New Jersey-Long Island NY-NJ-PA MSA\",28348],[\"new rochelle\",\"new york\",\"New York-Northern New Jersey-Long Island NY-NJ-PA MSA\",79846],[\"yaphank\",\"new york\",\"New York-Northern New Jersey-Long Island NY-NJ-PA MSA\",5945],[\"lancaster\",\"new york\",\"Buffalo-Niagara Falls NY MSA\",10258],[\"congers\",\"new york\",\"New York-Northern New Jersey-Long Island NY-NJ-PA MSA\",8363],[\"malone\",\"new york\",\"NY NONMETROPOLITAN AREA\",5756],[\"batavia\",\"new york\",\"NY NONMETROPOLITAN AREA\",15010],[\"schenectady\",\"new york\",\"Albany-Schenectady-Troy NY MSA\",65305],[\"tonawanda\",\"new york\",\"Buffalo-Niagara Falls NY MSA\",14907],[\"binghamton\",\"new york\",\"Binghamton NY MSA\",46032],[\"lynbrook\",\"new york\",\"New York-Northern New Jersey-Long Island NY-NJ-PA MSA\",19558],[\"lake success\",\"new york\",null,3050],[\"oswego\",\"new york\",\"Syracuse NY MSA\",17787],[\"glens falls\",\"new york\",\"Glens Falls NY MSA\",14291],[\"bay shore\",\"new york\",\"New York-Northern New Jersey-Long Island NY-NJ-PA MSA\",26337],[\"geneseo\",\"new york\",\"Rochester NY MSA\",8173],[\"glenmont\",\"new york\",\"Albany-Schenectady-Troy NY MSA\",0],[\"oyster bay\",\"new york\",\"New York-Northern New Jersey-Long Island NY-NJ-PA MSA\",6707],[\"keuka park\",\"new york\",\"NY NONMETROPOLITAN AREA\",1137],[\"hempstead\",\"new york\",\"New York-Northern New Jersey-Long Island NY-NJ-PA MSA\",55547],[\"saratoga springs\",\"new york\",\"Albany-Schenectady-Troy NY MSA\",27765],[\"plainview\",\"new york\",\"New York-Northern New Jersey-Long Island NY-NJ-PA MSA\",26217],[\"elmira\",\"new york\",\"Elmira NY MSA\",28213],[\"amityville\",\"new york\",\"New York-Northern New Jersey-Long Island NY-NJ-PA MSA\",9486],[\"port chester\",\"new york\",\"New York-Northern New Jersey-Long Island NY-NJ-PA MSA\",29620],[\"elmhurst\",\"new york\",\"New York-Northern New Jersey-Long Island NY-NJ-PA MSA\",113364],[\"saugerties\",\"new york\",\"Kingston NY MSA\",3903],[\"ridgewood\",\"new york\",\"New York-Northern New Jersey-Long Island NY-NJ-PA MSA\",69317],[\"hopewell junction\",\"new york\",\"Poughkeepsie-Newburgh-Middletown NY MSA\",376],[\"westbury\",\"new york\",\"New York-Northern New Jersey-Long Island NY-NJ-PA MSA\",15379],[\"hicksville\",\"new york\",\"New York-Northern New Jersey-Long Island NY-NJ-PA MSA\",41547],[\"elmont\",\"new york\",\"New York-Northern New Jersey-Long Island NY-NJ-PA MSA\",33198],[\"jackson heights\",\"new york\",\"New York-Northern New Jersey-Long Island NY-NJ-PA MSA\",67067],[\"norwich\",\"new york\",\"NY NONMETROPOLITAN AREA\",6968],[\"massapequa\",\"new york\",\"New York-Northern New Jersey-Long Island NY-NJ-PA MSA\",21685],[\"hauppauge\",\"new york\",\"New York-Northern New Jersey-Long Island NY-NJ-PA MSA\",20882],[\"rocky point\",\"new york\",\"New York-Northern New Jersey-Long Island NY-NJ-PA MSA\",14014],[\"uniondale\",\"new york\",\"New York-Northern New Jersey-Long Island NY-NJ-PA MSA\",24759],[\"dansville\",\"new york\",\"Rochester NY MSA\",4550],[\"troy\",\"new york\",\"Albany-Schenectady-Troy NY MSA\",49906],[\"poughkeepsie\",\"new york\",\"Poughkeepsie-Newburgh-Middletown NY MSA\",30371],[\"oneonta\",\"new york\",\"NY NONMETROPOLITAN AREA\",13862],[\"fairport\",\"new york\",\"Rochester NY MSA\",5351],[\"amsterdam\",\"new york\",\"NY NONMETROPOLITAN AREA\",18008],[\"auburn\",\"new york\",\"NY NONMETROPOLITAN AREA\",26985],[\"peekskill\",\"new york\",\"New York-Northern New Jersey-Long Island NY-NJ-PA MSA\",24043],[\"pelham\",\"new york\",\"New York-Northern New Jersey-Long Island NY-NJ-PA MSA\",7048],[\"manhasset\",\"new york\",\"New York-Northern New Jersey-Long Island NY-NJ-PA MSA\",8080],[\"merrick\",\"new york\",\"New York-Northern New Jersey-Long Island NY-NJ-PA MSA\",22097],[\"new hyde park\",\"new york\",\"New York-Northern New Jersey-Long Island NY-NJ-PA MSA\",9811],[\"nyack\",\"new york\",\"New York-Northern New Jersey-Long Island NY-NJ-PA MSA\",7004],[\"canandaigua\",\"new york\",\"Rochester NY MSA\",10431],[\"middletown\",\"new york\",\"Poughkeepsie-Newburgh-Middletown NY MSA\",27812],[\"stony brook\",\"new york\",\"New York-Northern New Jersey-Long Island NY-NJ-PA MSA\",13740],[\"valley stream\",\"new york\",\"New York-Northern New Jersey-Long Island NY-NJ-PA MSA\",37962],[\"astoria\",\"new york\",\"New York-Northern New Jersey-Long Island NY-NJ-PA MSA\",150165],[\"purchase\",\"new york\",\"New York-Northern New Jersey-Long Island NY-NJ-PA MSA\",4660],[\"forest hills\",\"new york\",\"New York-Northern New Jersey-Long Island NY-NJ-PA MSA\",67714],[\"richmond hill\",\"new york\",\"New York-Northern New Jersey-Long Island NY-NJ-PA MSA\",98984],[\"queens village\",\"new york\",\"New York-Northern New Jersey-Long Island NY-NJ-PA MSA\",51919],[\"fresh meadows\",\"new york\",\"New York-Northern New Jersey-Long Island NY-NJ-PA MSA\",28397],[\"grand island\",\"new york\",\"Buffalo-Niagara Falls NY MSA\",20813],[\"buffalo\",\"new york\",\"Buffalo-Niagara Falls NY MSA\",258071],[\"rochester\",\"new york\",\"Rochester NY MSA\",209802],[\"brooklyn\",\"new york\",\"New York-Northern New Jersey-Long Island NY-NJ-PA MSA\",2300664],[\"ithaca\",\"new york\",\"Ithaca NY MSA\",30788],[\"west islip\",\"new york\",\"New York-Northern New Jersey-Long Island NY-NJ-PA MSA\",28335],[\"mineola\",\"new york\",\"New York-Northern New Jersey-Long Island NY-NJ-PA MSA\",19139],[\"wappingers falls\",\"new york\",\"Poughkeepsie-Newburgh-Middletown NY MSA\",5552],[\"suffern\",\"new york\",\"New York-Northern New Jersey-Long Island NY-NJ-PA MSA\",11001],[\"williston park\",\"new york\",\"New York-Northern New Jersey-Long Island NY-NJ-PA MSA\",7331],[\"rome\",\"new york\",\"Utica-Rome NY MSA\",32573],[\"west babylon\",\"new york\",\"New York-Northern New Jersey-Long Island NY-NJ-PA MSA\",43213],[\"hartsdale\",\"new york\",\"New York-Northern New Jersey-Long Island NY-NJ-PA MSA\",5293],[\"melville\",\"new york\",\"New York-Northern New Jersey-Long Island NY-NJ-PA MSA\",18985],[\"staten island\",\"new york\",\"New York-Northern New Jersey-Long Island NY-NJ-PA MSA\",468730],[\"cazenovia\",\"new york\",\"Syracuse NY MSA\",2855],[\"syosset\",\"new york\",\"New York-Northern New Jersey-Long Island NY-NJ-PA MSA\",18829],[\"albany\",\"new york\",\"Albany-Schenectady-Troy NY MSA\",98469],[\"lake grove\",\"new york\",\"New York-Northern New Jersey-Long Island NY-NJ-PA MSA\",11235],[\"yonkers\",\"new york\",\"New York-Northern New Jersey-Long Island NY-NJ-PA MSA\",201116],[\"watertown\",\"new york\",\"NY NONMETROPOLITAN AREA\",26780],[\"new york city\",\"new york\",\"New York-Northern New Jersey-Long Island NY-NJ-PA MSA\",8804190],[\"commack\",\"new york\",\"New York-Northern New Jersey-Long Island NY-NJ-PA MSA\",36124],[\"ballston spa\",\"new york\",\"Albany-Schenectady-Troy NY MSA\",5375],[\"liverpool\",\"new york\",\"Syracuse NY MSA\",2294],[\"port jefferson station\",\"new york\",\"New York-Northern New Jersey-Long Island NY-NJ-PA MSA\",7838],[\"bellmore\",\"new york\",\"New York-Northern New Jersey-Long Island NY-NJ-PA MSA\",16218],[\"albion\",\"new york\",\"Rochester NY MSA\",5998],[\"bronx\",\"new york\",\"New York-Northern New Jersey-Long Island NY-NJ-PA MSA\",1418207],[\"bronxville\",\"new york\",\"New York-Northern New Jersey-Long Island NY-NJ-PA MSA\",6438],[\"webster\",\"new york\",\"Rochester NY MSA\",5534],[\"syracuse\",\"new york\",\"Syracuse NY MSA\",144142],[\"tarrytown\",\"new york\",\"New York-Northern New Jersey-Long Island NY-NJ-PA MSA\",11560],[\"west hempstead\",\"new york\",\"New York-Northern New Jersey-Long Island NY-NJ-PA MSA\",18862],[\"holtsville\",\"new york\",\"New York-Northern New Jersey-Long Island NY-NJ-PA MSA\",19714],[\"freeport\",\"new york\",\"New York-Northern New Jersey-Long Island NY-NJ-PA MSA\",43334],[\"cooperstown\",\"new york\",\"NY NONMETROPOLITAN AREA\",1792],[\"nanuet\",\"new york\",\"New York-Northern New Jersey-Long Island NY-NJ-PA MSA\",17882],[\"manhattan\",\"new york\",\"Manhattan KS MSA\",1487536],[\"long island city\",\"new york\",\"New York-Northern New Jersey-Long Island NY-NJ-PA MSA\",25595],[\"bayside\",\"new york\",\"New York-Northern New Jersey-Long Island NY-NJ-PA MSA\",66455],[\"endicott\",\"new york\",\"Binghamton NY MSA\",13014],[\"utica\",\"new york\",\"MO NONMETROPOLITAN AREA\",61100],[\"angola\",\"new york\",\"IN NONMETROPOLITAN AREA\",2114],[\"queens\",\"new york\",null,2272771],[\"central islip\",\"new york\",\"New York-Northern New Jersey-Long Island NY-NJ-PA MSA\",34450],[\"getzville\",\"new york\",\"Buffalo-Niagara Falls NY MSA\",0],[\"brewster\",\"new york\",\"New York-Northern New Jersey-Long Island NY-NJ-PA MSA\",2332],[\"levittown\",\"new york\",\"New York-Northern New Jersey-Long Island NY-NJ-PA MSA\",51881],[\"carthage\",\"new york\",\"NY NONMETROPOLITAN AREA\",3591],[\"long beach\",\"new york\",\"New York-Northern New Jersey-Long Island NY-NJ-PA MSA\",33550],[\"lindenhurst\",\"new york\",\"New York-Northern New Jersey-Long Island NY-NJ-PA MSA\",27277],[\"southeast\",\"new york\",null,18153],[\"liberty\",\"new york\",\"NY NONMETROPOLITAN AREA\",4134],[\"alfred\",\"new york\",\"NY NONMETROPOLITAN AREA\",4061],[\"port jervis\",\"new york\",\"Poughkeepsie-Newburgh-Middletown NY MSA\",8609],[\"northumberland\",\"new york\",\"PA NONMETROPOLITAN AREA\",5159]],\"hovertemplate\":\"longitude=%{x}<br>latitude=%{y}<br>city=%{customdata[0]}<br>state=%{customdata[1]}<br>msa=%{customdata[2]}<br>population=%{customdata[3]}<br>cluster=%{marker.color}<extra></extra>\",\"legendgroup\":\"\",\"marker\":{\"color\":[359,280,359,280,179,179,179,181,181,179,359,359,187,359,359,359,182,280,359,280,-1,182,347,182,359,-1,280,359,181,359,187,359,359,359,182,187,359,280,359,359,359,181,280,359,187,347,182,181,359,359,181,359,181,187,280,-1,182,-1,359,359,182,359,359,359,-1,-1,280,359,359,181,-1,359,181,-1,-1,359,187,182,179,359,347,187,359,359,273,359,359,280,187,187,359,181,-1,359,359,359,181,-1,359,182,181,188,179,359,181,359,182,359,359,-1,-1,359,359,181,273,-1,359,187,174,-1,359,359,181,181,359,181,359,-1,359,359,359,359,280,359,182,280,281,359,359,181,359,181,359,-1,347,359,-1,181,-1,359,359,188,280,347,182,187,273,280,359,359,359,359,359,280,347,174,181,359,359,359,-1,188,181,187,359,359,280,187,182,-1,280,359,181,-1,359,181,280,359,359,359,359,181,359,359,-1,359,181,359,359,359,359,359,347,359,359,359,359,359,-1,359,174,359,359,182,359,-1,359,-1,359,359,347,188,181,359,359,359,359,359,187,359,359,359,359,347,182,187,179,359,359,-1,174,182,359,359,281,181,-1,359,359,347,359,359,359,359,359,359,359,359,359,359,181,359,181,359,280,174,359,359,187,359,182,359,281,359,187,359,359,359,359,-1,187,187,359,280,-1,359,359,359,359,-1,179,181,359,359,347,359,359,181,280,359,359,359,359,359,182,359,359,-1,359,359,359,359,359,-1,359,359,359,359,359,182,359,182,359,347,347,359,-1,273,359,181,359,187,-1,-1,187,359,359,359,187,359,-1,182,-1,359,187,-1,273,181,359,273,-1,280,188,280,359,347,359,-1,187,182,-1,359,181,181,281,273,359,359,359,359,359,359,-1,359,280,359,359,181,280,359,181,181,359,-1,359,182,359,281,359,188,359,359,359,187,359,-1,181,281,188,273,359,359,182,280,359,-1,280,359,181,359,280,359,181,359,359,359,-1,359,359,359,359,359,359,182,359,359,359,359,181,280,359,-1,181,-1,-1,359,359,359,359,359,359,181,359,359,359,359,359,359,359,359,359,188,188,181,359,-1,359,359,359,359,359,-1,359,359,359,359,182,359,280,359,359,-1,359,359,280,182,359,359,181,359,359,181,182,359,359,359,359,-1,359,359,359,359,273,179,-1,359,359,187,359,359,-1,359,359,359,359,-1,359,280],\"coloraxis\":\"coloraxis\",\"symbol\":\"circle\"},\"mode\":\"markers\",\"name\":\"\",\"orientation\":\"v\",\"showlegend\":false,\"x\":[-73.73346,-73.77623,-73.77902,-73.72456,-75.2662,-75.39157,-75.33156,-77.66167,-76.87329,-75.4077,-73.84375,-73.69569,-78.49197,-73.88125,-73.62707,-73.1521,-75.97686,-73.69151,-73.6042,-73.75,-74.36181,-75.8174,-72.53425,-75.65129,-73.86823,-73.59484,-73.70012,-73.65541,-76.93691,-73.83625,-78.6358,-73.71152,-73.8092,-74.00857,-76.41716,-78.82337,-72.91538,-73.7429,-73.18567,-73.21039,-73.68346,-76.70245,-73.70123,-73.5921,-78.475,-72.33869,-76.00436,-77.57972,-73.74708,-72.93927,-77.29887,-74.11625,-76.79662,-78.66725,-73.84568,-74.97434,-76.12992,-73.36486,-73.62846,-73.8368,-76.3041,-73.725,-73.1151,-73.96014,-79.46671,-77.74556,-73.61317,-73.859,-73.02955,-77.05386,-74.36764,-74.7263,-77.3087,-72.1848,-73.98198,-73.85847,-78.67281,-76.5439,-75.29156,-73.86152,-72.35925,-78.4953,-74.1182,-73.61041,-75.8033,-73.05067,-73.9094,-73.71234,-78.82337,-78.7887,-74.39571,-77.79334,-74.34375,-73.93153,-73.06927,-73.33623,-76.99025,-74.13127,-74.19487,-75.57073,-77.13998,-79.0351,-75.3785,-73.64735,-76.82051,-73.62374,-75.75074,-73.87541,-73.15761,-75.49185,-74.5724,-73.92708,-73.73513,-77.7325,-75.9684,-76.1277,-73.45679,-78.75475,-79.3331,-74.98599,-73.10594,-72.93733,-77.23332,-77.94806,-73.64318,-78.00556,-73.00149,-77.31776,-73.68541,-73.66263,-73.48818,-73.7468,-73.7985,-73.76485,-75.64018,-73.4857,-73.92874,-73.82804,-72.8868,-77.6714,-73.63374,-77.55055,-73.84597,-73.43707,-72.61898,-74.11848,-74.2124,-77.713,-73.83234,-73.84375,-73.86514,-78.87004,-73.7665,-72.41092,-76.26215,-78.74392,-75.8342,-73.86818,-73.32456,-73.13872,-73.77763,-73.51013,-73.64013,-73.75901,-72.29258,-79.33393,-76.66606,-73.6093,-73.95458,-73.08206,-71.95451,-79.05671,-77.8039,-78.59197,-74.06848,-73.93819,-73.49873,-78.5781,-76.07853,-73.45291,-73.8951,-73.64124,-77.61222,-73.86457,-73.59707,-77.4483,-73.77095,-73.79263,-73.57485,-73.32179,-73.90541,-76.86274,-73.60263,-73.95597,-73.99736,-73.34317,-77.09414,-73.82375,-73.25734,-73.45512,-74.02375,-74.02181,-72.30092,-73.00011,-73.20067,-74.04375,-74.16598,-73.76291,-74.89186,-73.36512,-79.23533,-74.08681,-73.71263,-76.33271,-73.83708,-74.32432,-73.71402,-73.79096,-73.86641,-74.35988,-72.61454,-78.88476,-77.515,-73.09955,-73.93319,-73.98931,-73.6343,-73.83097,-78.79976,-73.85264,-74.12098,-73.87164,-73.9457,-72.41425,-76.456,-78.79975,-75.33267,-73.9425,-73.4065,-73.6474,-79.19838,-75.54462,-73.99375,-73.98597,-73.9631,-77.09525,-78.38697,-73.82013,-73.95764,-72.74343,-73.39984,-74.68933,-73.82124,-74.0432,-73.32568,-74.01042,-73.1213,-73.11511,-73.89903,-73.32929,-78.13279,-73.03566,-77.05469,-72.99621,-73.68734,-79.33171,-73.72708,-73.53985,-78.42307,-73.11233,-76.4291,-73.4454,-73.96429,-73.9135,-78.69225,-73.80569,-73.95347,-73.91264,-73.94958,-75.3897,-78.73781,-78.6967,-73.91264,-73.68123,-73.64374,-74.18404,-73.41151,-74.13903,-72.8676,-73.42345,-75.28767,-77.93918,-73.96958,-73.67596,-72.38953,-73.70485,-73.07844,-77.4875,-73.58456,-74.0157,-73.48207,-73.69458,-74.18848,-73.7243,-75.86658,-73.78458,-73.73263,-74.98131,-73.7518,-74.18681,-73.169,-73.7824,-73.72846,-75.76189,-73.01511,-73.81847,-73.75513,-73.73225,-73.94542,-75.53934,-73.7907,-76.29716,-73.89847,-72.4262,-72.66204,-73.154,-74.48542,-75.95881,-73.59957,-77.59028,-73.97292,-78.61336,-74.8596,-74.7149,-78.71503,-73.55902,-73.42568,-74.23682,-78.69031,-73.99625,-73.69402,-76.11937,-75.16909,-73.95542,-78.6371,-75.48634,-76.05381,-77.40888,-73.98708,-75.76991,-76.18048,-73.70179,-79.03588,-73.83346,-73.77513,-72.51759,-73.87264,-76.08578,-78.42974,-76.17243,-73.68013,-73.72958,-77.28304,-77.6611,-73.97096,-76.02103,-73.9333,-73.8931,-73.65096,-73.8868,-74.0557,-74.07609,-73.7276,-73.90639,-73.7879,-73.56735,-73.24623,-76.97774,-73.83262,-73.46762,-77.69306,-78.15723,-73.86014,-74.27126,-73.79597,-76.4216,-73.9082,-73.9925,-73.68374,-78.8642,-73.71263,-73.78235,-72.91705,-78.67031,-73.94542,-74.2949,-78.18752,-73.93957,-78.88031,-75.91797,-73.6718,-73.71763,-76.5105,-73.64401,-73.24539,-77.81695,-73.7696,-73.53207,-77.09219,-73.61874,-73.78457,-73.46735,-76.80773,-73.41707,-73.66568,-73.87791,-73.95291,-73.90569,-73.80874,-73.58763,-73.52513,-73.71291,-73.88541,-75.52351,-73.47429,-73.20261,-72.92538,-73.59291,-77.69611,-73.69179,-73.92097,-75.06377,-77.44194,-74.18819,-76.56605,-73.92042,-73.80791,-73.69957,-73.55152,-73.68791,-73.91791,-77.28804,-74.42293,-73.14094,-73.70846,-73.93014,-73.71457,-73.85014,-73.83125,-73.74152,-73.79347,-78.96254,-78.87837,-77.61556,-73.94958,-76.49661,-73.30623,-73.64068,-73.91097,-74.14959,-73.64485,-75.45573,-73.35429,-73.79819,-73.41512,-74.13986,-75.85269,-73.50207,-73.75623,-73.11511,-73.89875,-75.91076,-74.00597,-73.29289,-73.84901,-76.2177,-73.04733,-73.52707,-78.19363,-73.8662,-73.83208,-77.42999,-76.14742,-73.85875,-73.65013,-73.04511,-73.58318,-74.92426,-74.01347,-73.96625,-73.94875,-73.77708,-76.04937,-75.23266,-79.02782,-73.83652,-73.20178,-78.7678,-73.61707,-73.51429,-75.60936,-73.65791,-73.37345,-73.5985,-74.74655,-77.79055,-74.69266,-73.58817],\"xaxis\":\"x\",\"y\":[41.37232,43.49674,41.12343,42.69202,43.1732,42.3148,42.62424,43.04006,42.38063,43.0527,41.01065,40.64316,42.90006,40.71649,40.79371,40.8761,43.00201,42.74424,41.333,42.719,43.49729,43.0834,40.99121,43.09257,41.03922,42.36425,42.77424,40.60427,42.1373,40.65788,42.1966,40.74705,41.2727,40.70789,43.32285,42.79728,40.77927,42.64258,40.73204,40.72982,41.01926,42.75396,42.73008,41.4849,42.0806,41.06815,43.02979,43.2134,40.76871,40.75704,43.06923,41.10093,42.91062,42.5084,42.7798,43.71007,43.13479,44.99393,40.81066,41.3979,43.03923,41.3058,40.9489,41.72093,42.20978,42.91201,43.37729,41.3184,40.83121,42.6609,43.00674,41.7143,42.9894,40.96343,44.27962,41.08565,42.27506,43.4515,43.12201,41.16287,41.10343,43.02089,42.04092,40.7526,42.0889,40.73843,42.0228,43.42618,42.82561,43.0025,41.71704,43.28812,43.05285,41.25232,40.94649,40.80482,43.06423,44.3295,40.60066,43.13812,42.96173,43.1372,43.0484,40.78871,42.16702,40.83538,43.07951,41.99509,40.72121,43.78674,41.9184,41.03121,40.81982,43.2537,42.0893,43.56701,40.87149,42.90339,42.10422,43.02563,40.94149,40.88427,43.06395,42.12201,40.77343,42.71562,40.86871,42.33702,41.25898,40.74093,40.66593,40.62205,42.5323,41.15954,42.89868,43.1587,42.65397,40.88601,40.8695,43.0827,40.86232,43.14756,40.7876,43.95034,40.9701,41.13593,42.1404,43.1514,43.24452,40.67677,40.76121,42.96589,42.7068,40.89899,42.10341,42.76756,42.0399,42.91174,40.87676,40.74399,41.27093,40.68371,40.63871,42.74702,40.99788,42.4795,42.54229,40.65649,41.42009,40.73593,41.03594,43.0945,43.18645,42.97673,41.11121,41.26204,43.09063,42.7089,43.06534,44.69949,42.9098,40.65871,43.05923,42.21731,40.87593,43.1602,42.86563,41.13287,41.20871,40.71649,40.74538,42.90479,41.56204,41.39148,41.92704,40.90093,42.16202,41.14565,40.88621,40.68038,41.47676,41.05899,40.93788,40.8176,40.85593,41.11315,41.42787,41.03399,44.9281,40.86899,42.097,41.74759,40.63205,43.15868,40.9126,41.40204,41.12648,42.25286,40.84985,41.25648,40.80316,43.13672,43.09062,40.85843,41.78482,41.1476,40.72677,40.71427,42.97839,40.72649,41.33176,41.28,41.384,40.93288,42.9931,42.85006,43.15729,40.79472,40.8793,43.0604,42.11867,42.82701,40.69538,40.6701,42.708,43.04673,43.22006,41.0551,41.06343,40.90649,40.68149,41.65565,41.74454,41.16704,40.69566,41.50343,40.9099,40.76926,41.53565,40.76177,42.74006,40.86649,42.14285,40.95982,42.90285,42.44006,41.20426,40.79204,42.53395,40.81538,42.94701,40.7326,42.82647,41.0112,42.90395,40.69149,40.71427,40.72316,41.04649,43.338,42.96395,43.01839,41.92676,42.79258,41.20426,41.60565,40.85343,41.85315,40.80149,43.84867,43.0734,43.21367,41.50482,40.70732,40.88427,40.72371,40.81232,43.10867,43.26702,41.44482,40.74427,41.23676,41.5612,40.62288,43.04507,41.0051,40.94871,44.66978,40.92788,41.33065,40.80426,41.5567,40.80066,44.05843,40.76565,40.79455,40.60538,40.76289,40.80788,43.07951,41.3381,42.49091,40.85927,41.06482,40.91704,40.85204,42.67785,42.11563,40.78871,42.95229,41.09649,42.76784,43.0434,44.7056,42.15784,40.71399,40.86815,41.52759,43.17061,40.71649,41.78509,43.17562,44.59562,41.11815,42.8231,44.69423,42.08507,42.98256,41.22954,42.32924,42.60118,42.59091,43.17256,42.71786,41.07482,40.86899,41.01454,44.23949,42.07756,43.1859,41.43009,40.61566,43.2209,42.32785,42.78702,42.11285,41.7222,41.686,40.79982,40.70149,41.08426,40.58329,43.1502,40.90056,42.9853,40.81316,40.78121,42.86896,42.62202,40.82565,43.20978,42.4234,40.74705,41.36259,41.10732,42.71257,42.0129,42.8869,40.98065,43.03867,40.96899,40.91149,40.83677,42.90061,41.15065,44.84866,42.99812,42.81424,43.02033,42.09869,40.65483,40.77066,43.45535,43.30952,40.7251,42.7959,42.6048,40.86565,42.61535,40.70621,43.08313,40.77649,42.0898,40.67899,41.00176,40.73649,42.07759,40.7001,41.58398,40.75566,40.76843,40.70094,40.75566,42.53118,40.68066,40.82565,40.9526,40.70038,42.5609,42.72841,41.70037,42.45286,43.09867,42.93869,42.93173,41.29009,40.90982,40.79788,40.66288,40.7351,41.09065,42.87423,41.44593,40.92565,40.66427,40.77205,41.04093,40.71621,40.69983,40.72677,40.73482,43.03311,42.88645,43.15478,40.6501,42.44063,40.70621,40.74927,41.59648,41.11482,40.75649,43.21285,40.71816,41.01899,40.79343,40.56233,42.93007,40.82621,42.65258,40.85288,40.93121,43.97478,40.71427,40.84288,43.00091,43.10646,40.92538,40.66871,43.24645,40.8501,40.93815,43.21229,43.04812,41.07621,40.70482,40.81538,40.6576,42.70048,41.08871,40.78343,40.74482,40.76844,42.09841,43.1009,42.63839,40.68149,40.79065,43.0239,41.39732,40.72593,43.97812,40.58844,40.68677,41.4032,41.8012,42.25424,41.37509,43.1273],\"yaxis\":\"y\",\"type\":\"scatter\"}],                        {\"template\":{\"data\":{\"histogram2dcontour\":[{\"type\":\"histogram2dcontour\",\"colorbar\":{\"outlinewidth\":0,\"ticks\":\"\"},\"colorscale\":[[0.0,\"#0d0887\"],[0.1111111111111111,\"#46039f\"],[0.2222222222222222,\"#7201a8\"],[0.3333333333333333,\"#9c179e\"],[0.4444444444444444,\"#bd3786\"],[0.5555555555555556,\"#d8576b\"],[0.6666666666666666,\"#ed7953\"],[0.7777777777777778,\"#fb9f3a\"],[0.8888888888888888,\"#fdca26\"],[1.0,\"#f0f921\"]]}],\"choropleth\":[{\"type\":\"choropleth\",\"colorbar\":{\"outlinewidth\":0,\"ticks\":\"\"}}],\"histogram2d\":[{\"type\":\"histogram2d\",\"colorbar\":{\"outlinewidth\":0,\"ticks\":\"\"},\"colorscale\":[[0.0,\"#0d0887\"],[0.1111111111111111,\"#46039f\"],[0.2222222222222222,\"#7201a8\"],[0.3333333333333333,\"#9c179e\"],[0.4444444444444444,\"#bd3786\"],[0.5555555555555556,\"#d8576b\"],[0.6666666666666666,\"#ed7953\"],[0.7777777777777778,\"#fb9f3a\"],[0.8888888888888888,\"#fdca26\"],[1.0,\"#f0f921\"]]}],\"heatmap\":[{\"type\":\"heatmap\",\"colorbar\":{\"outlinewidth\":0,\"ticks\":\"\"},\"colorscale\":[[0.0,\"#0d0887\"],[0.1111111111111111,\"#46039f\"],[0.2222222222222222,\"#7201a8\"],[0.3333333333333333,\"#9c179e\"],[0.4444444444444444,\"#bd3786\"],[0.5555555555555556,\"#d8576b\"],[0.6666666666666666,\"#ed7953\"],[0.7777777777777778,\"#fb9f3a\"],[0.8888888888888888,\"#fdca26\"],[1.0,\"#f0f921\"]]}],\"heatmapgl\":[{\"type\":\"heatmapgl\",\"colorbar\":{\"outlinewidth\":0,\"ticks\":\"\"},\"colorscale\":[[0.0,\"#0d0887\"],[0.1111111111111111,\"#46039f\"],[0.2222222222222222,\"#7201a8\"],[0.3333333333333333,\"#9c179e\"],[0.4444444444444444,\"#bd3786\"],[0.5555555555555556,\"#d8576b\"],[0.6666666666666666,\"#ed7953\"],[0.7777777777777778,\"#fb9f3a\"],[0.8888888888888888,\"#fdca26\"],[1.0,\"#f0f921\"]]}],\"contourcarpet\":[{\"type\":\"contourcarpet\",\"colorbar\":{\"outlinewidth\":0,\"ticks\":\"\"}}],\"contour\":[{\"type\":\"contour\",\"colorbar\":{\"outlinewidth\":0,\"ticks\":\"\"},\"colorscale\":[[0.0,\"#0d0887\"],[0.1111111111111111,\"#46039f\"],[0.2222222222222222,\"#7201a8\"],[0.3333333333333333,\"#9c179e\"],[0.4444444444444444,\"#bd3786\"],[0.5555555555555556,\"#d8576b\"],[0.6666666666666666,\"#ed7953\"],[0.7777777777777778,\"#fb9f3a\"],[0.8888888888888888,\"#fdca26\"],[1.0,\"#f0f921\"]]}],\"surface\":[{\"type\":\"surface\",\"colorbar\":{\"outlinewidth\":0,\"ticks\":\"\"},\"colorscale\":[[0.0,\"#0d0887\"],[0.1111111111111111,\"#46039f\"],[0.2222222222222222,\"#7201a8\"],[0.3333333333333333,\"#9c179e\"],[0.4444444444444444,\"#bd3786\"],[0.5555555555555556,\"#d8576b\"],[0.6666666666666666,\"#ed7953\"],[0.7777777777777778,\"#fb9f3a\"],[0.8888888888888888,\"#fdca26\"],[1.0,\"#f0f921\"]]}],\"mesh3d\":[{\"type\":\"mesh3d\",\"colorbar\":{\"outlinewidth\":0,\"ticks\":\"\"}}],\"scatter\":[{\"fillpattern\":{\"fillmode\":\"overlay\",\"size\":10,\"solidity\":0.2},\"type\":\"scatter\"}],\"parcoords\":[{\"type\":\"parcoords\",\"line\":{\"colorbar\":{\"outlinewidth\":0,\"ticks\":\"\"}}}],\"scatterpolargl\":[{\"type\":\"scatterpolargl\",\"marker\":{\"colorbar\":{\"outlinewidth\":0,\"ticks\":\"\"}}}],\"bar\":[{\"error_x\":{\"color\":\"#2a3f5f\"},\"error_y\":{\"color\":\"#2a3f5f\"},\"marker\":{\"line\":{\"color\":\"#E5ECF6\",\"width\":0.5},\"pattern\":{\"fillmode\":\"overlay\",\"size\":10,\"solidity\":0.2}},\"type\":\"bar\"}],\"scattergeo\":[{\"type\":\"scattergeo\",\"marker\":{\"colorbar\":{\"outlinewidth\":0,\"ticks\":\"\"}}}],\"scatterpolar\":[{\"type\":\"scatterpolar\",\"marker\":{\"colorbar\":{\"outlinewidth\":0,\"ticks\":\"\"}}}],\"histogram\":[{\"marker\":{\"pattern\":{\"fillmode\":\"overlay\",\"size\":10,\"solidity\":0.2}},\"type\":\"histogram\"}],\"scattergl\":[{\"type\":\"scattergl\",\"marker\":{\"colorbar\":{\"outlinewidth\":0,\"ticks\":\"\"}}}],\"scatter3d\":[{\"type\":\"scatter3d\",\"line\":{\"colorbar\":{\"outlinewidth\":0,\"ticks\":\"\"}},\"marker\":{\"colorbar\":{\"outlinewidth\":0,\"ticks\":\"\"}}}],\"scattermapbox\":[{\"type\":\"scattermapbox\",\"marker\":{\"colorbar\":{\"outlinewidth\":0,\"ticks\":\"\"}}}],\"scatterternary\":[{\"type\":\"scatterternary\",\"marker\":{\"colorbar\":{\"outlinewidth\":0,\"ticks\":\"\"}}}],\"scattercarpet\":[{\"type\":\"scattercarpet\",\"marker\":{\"colorbar\":{\"outlinewidth\":0,\"ticks\":\"\"}}}],\"carpet\":[{\"aaxis\":{\"endlinecolor\":\"#2a3f5f\",\"gridcolor\":\"white\",\"linecolor\":\"white\",\"minorgridcolor\":\"white\",\"startlinecolor\":\"#2a3f5f\"},\"baxis\":{\"endlinecolor\":\"#2a3f5f\",\"gridcolor\":\"white\",\"linecolor\":\"white\",\"minorgridcolor\":\"white\",\"startlinecolor\":\"#2a3f5f\"},\"type\":\"carpet\"}],\"table\":[{\"cells\":{\"fill\":{\"color\":\"#EBF0F8\"},\"line\":{\"color\":\"white\"}},\"header\":{\"fill\":{\"color\":\"#C8D4E3\"},\"line\":{\"color\":\"white\"}},\"type\":\"table\"}],\"barpolar\":[{\"marker\":{\"line\":{\"color\":\"#E5ECF6\",\"width\":0.5},\"pattern\":{\"fillmode\":\"overlay\",\"size\":10,\"solidity\":0.2}},\"type\":\"barpolar\"}],\"pie\":[{\"automargin\":true,\"type\":\"pie\"}]},\"layout\":{\"autotypenumbers\":\"strict\",\"colorway\":[\"#636efa\",\"#EF553B\",\"#00cc96\",\"#ab63fa\",\"#FFA15A\",\"#19d3f3\",\"#FF6692\",\"#B6E880\",\"#FF97FF\",\"#FECB52\"],\"font\":{\"color\":\"#2a3f5f\"},\"hovermode\":\"closest\",\"hoverlabel\":{\"align\":\"left\"},\"paper_bgcolor\":\"white\",\"plot_bgcolor\":\"#E5ECF6\",\"polar\":{\"bgcolor\":\"#E5ECF6\",\"angularaxis\":{\"gridcolor\":\"white\",\"linecolor\":\"white\",\"ticks\":\"\"},\"radialaxis\":{\"gridcolor\":\"white\",\"linecolor\":\"white\",\"ticks\":\"\"}},\"ternary\":{\"bgcolor\":\"#E5ECF6\",\"aaxis\":{\"gridcolor\":\"white\",\"linecolor\":\"white\",\"ticks\":\"\"},\"baxis\":{\"gridcolor\":\"white\",\"linecolor\":\"white\",\"ticks\":\"\"},\"caxis\":{\"gridcolor\":\"white\",\"linecolor\":\"white\",\"ticks\":\"\"}},\"coloraxis\":{\"colorbar\":{\"outlinewidth\":0,\"ticks\":\"\"}},\"colorscale\":{\"sequential\":[[0.0,\"#0d0887\"],[0.1111111111111111,\"#46039f\"],[0.2222222222222222,\"#7201a8\"],[0.3333333333333333,\"#9c179e\"],[0.4444444444444444,\"#bd3786\"],[0.5555555555555556,\"#d8576b\"],[0.6666666666666666,\"#ed7953\"],[0.7777777777777778,\"#fb9f3a\"],[0.8888888888888888,\"#fdca26\"],[1.0,\"#f0f921\"]],\"sequentialminus\":[[0.0,\"#0d0887\"],[0.1111111111111111,\"#46039f\"],[0.2222222222222222,\"#7201a8\"],[0.3333333333333333,\"#9c179e\"],[0.4444444444444444,\"#bd3786\"],[0.5555555555555556,\"#d8576b\"],[0.6666666666666666,\"#ed7953\"],[0.7777777777777778,\"#fb9f3a\"],[0.8888888888888888,\"#fdca26\"],[1.0,\"#f0f921\"]],\"diverging\":[[0,\"#8e0152\"],[0.1,\"#c51b7d\"],[0.2,\"#de77ae\"],[0.3,\"#f1b6da\"],[0.4,\"#fde0ef\"],[0.5,\"#f7f7f7\"],[0.6,\"#e6f5d0\"],[0.7,\"#b8e186\"],[0.8,\"#7fbc41\"],[0.9,\"#4d9221\"],[1,\"#276419\"]]},\"xaxis\":{\"gridcolor\":\"white\",\"linecolor\":\"white\",\"ticks\":\"\",\"title\":{\"standoff\":15},\"zerolinecolor\":\"white\",\"automargin\":true,\"zerolinewidth\":2},\"yaxis\":{\"gridcolor\":\"white\",\"linecolor\":\"white\",\"ticks\":\"\",\"title\":{\"standoff\":15},\"zerolinecolor\":\"white\",\"automargin\":true,\"zerolinewidth\":2},\"scene\":{\"xaxis\":{\"backgroundcolor\":\"#E5ECF6\",\"gridcolor\":\"white\",\"linecolor\":\"white\",\"showbackground\":true,\"ticks\":\"\",\"zerolinecolor\":\"white\",\"gridwidth\":2},\"yaxis\":{\"backgroundcolor\":\"#E5ECF6\",\"gridcolor\":\"white\",\"linecolor\":\"white\",\"showbackground\":true,\"ticks\":\"\",\"zerolinecolor\":\"white\",\"gridwidth\":2},\"zaxis\":{\"backgroundcolor\":\"#E5ECF6\",\"gridcolor\":\"white\",\"linecolor\":\"white\",\"showbackground\":true,\"ticks\":\"\",\"zerolinecolor\":\"white\",\"gridwidth\":2}},\"shapedefaults\":{\"line\":{\"color\":\"#2a3f5f\"}},\"annotationdefaults\":{\"arrowcolor\":\"#2a3f5f\",\"arrowhead\":0,\"arrowwidth\":1},\"geo\":{\"bgcolor\":\"white\",\"landcolor\":\"#E5ECF6\",\"subunitcolor\":\"white\",\"showland\":true,\"showlakes\":true,\"lakecolor\":\"white\"},\"title\":{\"x\":0.05},\"mapbox\":{\"style\":\"light\"}}},\"xaxis\":{\"anchor\":\"y\",\"domain\":[0.0,1.0],\"title\":{\"text\":\"longitude\"}},\"yaxis\":{\"anchor\":\"x\",\"domain\":[0.0,1.0],\"title\":{\"text\":\"latitude\"}},\"coloraxis\":{\"colorbar\":{\"title\":{\"text\":\"cluster\"}},\"colorscale\":[[0.0,\"#0d0887\"],[0.1111111111111111,\"#46039f\"],[0.2222222222222222,\"#7201a8\"],[0.3333333333333333,\"#9c179e\"],[0.4444444444444444,\"#bd3786\"],[0.5555555555555556,\"#d8576b\"],[0.6666666666666666,\"#ed7953\"],[0.7777777777777778,\"#fb9f3a\"],[0.8888888888888888,\"#fdca26\"],[1.0,\"#f0f921\"]]},\"legend\":{\"tracegroupgap\":0},\"title\":{\"text\":\"new york\"},\"height\":400,\"width\":800,\"uniformtext\":{\"mode\":\"hide\"},\"showlegend\":false},                        {\"responsive\": true}                    ).then(function(){\n",
       "                            \n",
       "var gd = document.getElementById('af95f5b9-cc1c-4fe1-8e8f-4ca4c6c88096');\n",
       "var x = new MutationObserver(function (mutations, observer) {{\n",
       "        var display = window.getComputedStyle(gd).display;\n",
       "        if (!display || display === 'none') {{\n",
       "            console.log([gd, 'removed!']);\n",
       "            Plotly.purge(gd);\n",
       "            observer.disconnect();\n",
       "        }}\n",
       "}});\n",
       "\n",
       "// Listen for the removal of the full notebook cells\n",
       "var notebookContainer = gd.closest('#notebook-container');\n",
       "if (notebookContainer) {{\n",
       "    x.observe(notebookContainer, {childList: true});\n",
       "}}\n",
       "\n",
       "// Listen for the clearing of the current output cell\n",
       "var outputEl = gd.closest('.output');\n",
       "if (outputEl) {{\n",
       "    x.observe(outputEl, {childList: true});\n",
       "}}\n",
       "\n",
       "                        })                };                });            </script>        </div>"
      ]
     },
     "metadata": {},
     "output_type": "display_data"
    }
   ],
   "source": [
    "state_name = \"new york\"\n",
    "\n",
    "fig = px.scatter(\n",
    "    df_merged[df_merged[STATE].isin([state_name])],\n",
    "    y=LATITUDE,\n",
    "    x=LONGITUDE,\n",
    "    color=CLUSTER,\n",
    "    hover_data=[CITY, STATE, MSA, POPULATION],\n",
    "    height=400,\n",
    "    width=800,\n",
    "    title=f\"{state_name}\"\n",
    ")\n",
    "fig.update_layout(uniformtext_mode=\"hide\", showlegend=False)\n",
    "fig.show()"
   ]
  },
  {
   "cell_type": "markdown",
   "metadata": {},
   "source": [
    "##### CA"
   ]
  },
  {
   "cell_type": "code",
   "execution_count": 20,
   "metadata": {},
   "outputs": [
    {
     "data": {
      "application/vnd.plotly.v1+json": {
       "config": {
        "plotlyServerURL": "https://plot.ly"
       },
       "data": [
        {
         "customdata": [
          [
           "thousand palms",
           "california",
           "Riverside-San Bernardino-Ontario CA MSA",
           7715
          ],
          [
           "sylvia park",
           "california",
           null,
           0
          ],
          [
           "pinecrest",
           "california",
           "CA NONMETROPOLITAN AREA",
           0
          ],
          [
           "california polytechnic state university",
           "california",
           null,
           0
          ],
          [
           "pacheco",
           "california",
           null,
           3685
          ],
          [
           "march arb",
           "california",
           "Riverside-San Bernardino-Ontario CA MSA",
           989
          ],
          [
           "pepperdine university",
           "california",
           null,
           0
          ],
          [
           "geyserville",
           "california",
           "Santa Rosa-Petaluma CA MSA",
           862
          ],
          [
           "westmont",
           "california",
           "Chicago-Naperville-Joliet IL-IN-WI MSA",
           31853
          ],
          [
           "allendale",
           "california",
           "New York-Northern New Jersey-Long Island NY-NJ-PA MSA",
           1506
          ],
          [
           "rutherford",
           "california",
           "Napa CA MSA",
           164
          ],
          [
           "edwards air force base",
           "california",
           null,
           2063
          ],
          [
           "occidental",
           "california",
           "Santa Rosa-Petaluma CA MSA",
           1115
          ],
          [
           "colma",
           "california",
           null,
           1520
          ],
          [
           "boulder creek",
           "california",
           "Santa Cruz-Watsonville CA MSA",
           4923
          ],
          [
           "sonoma state university",
           "california",
           null,
           0
          ],
          [
           "vandenberg air force base",
           "california",
           null,
           3338
          ],
          [
           "beale afb",
           "california",
           "Yuba City CA MSA",
           1020
          ],
          [
           "alta loma",
           "california",
           "Riverside-San Bernardino-Ontario CA MSA",
           0
          ],
          [
           "valley glen",
           "california",
           null,
           60000
          ],
          [
           "julian",
           "california",
           "San Diego-Carlsbad-San Marcos CA MSA",
           1502
          ],
          [
           "garnet",
           "california",
           "Riverside-San Bernardino-Ontario CA MSA",
           7543
          ],
          [
           "kentfield",
           "california",
           "San Francisco-Oakland-Fremont CA MSA",
           6485
          ],
          [
           "glen ellen",
           "california",
           "Santa Rosa-Petaluma CA MSA",
           784
          ],
          [
           "irwin",
           "california",
           "Riverside-San Bernardino-Ontario CA MSA",
           0
          ],
          [
           "san juan bautista",
           "california",
           "San Jose-Sunnyvale-Santa Clara CA MSA",
           1961
          ],
          [
           "rosemont",
           "california",
           "New York-Northern New Jersey-Long Island NY-NJ-PA MSA",
           22681
          ],
          [
           "canyon lake",
           "california",
           "San Antonio TX MSA",
           11080
          ],
          [
           "yuba city",
           "california",
           "Yuba City CA MSA",
           66941
          ],
          [
           "west sacramento",
           "california",
           "Sacramento-Arden-Arcade-Roseville CA MSA",
           52721
          ],
          [
           "malibu",
           "california",
           "Los Angeles-Long Beach-Santa Ana CA MSA",
           12965
          ],
          [
           "temple city",
           "california",
           "Los Angeles-Long Beach-Santa Ana CA MSA",
           36365
          ],
          [
           "west covina",
           "california",
           "Los Angeles-Long Beach-Santa Ana CA MSA",
           108484
          ],
          [
           "upland",
           "california",
           "Riverside-San Bernardino-Ontario CA MSA",
           76443
          ],
          [
           "sanger",
           "california",
           "Fresno CA MSA",
           24950
          ],
          [
           "lodi",
           "california",
           "New York-Northern New Jersey-Long Island NY-NJ-PA MSA",
           64596
          ],
          [
           "lincoln",
           "california",
           "Sacramento-Arden-Arcade-Roseville CA MSA",
           46474
          ],
          [
           "fontana",
           "california",
           "Riverside-San Bernardino-Ontario CA MSA",
           208393
          ],
          [
           "san lorenzo",
           "california",
           "San Francisco-Oakland-Fremont CA MSA",
           23452
          ],
          [
           "sebastopol",
           "california",
           "Santa Rosa-Petaluma CA MSA",
           7678
          ],
          [
           "tulare",
           "california",
           "Visalia-Porterville CA MSA",
           62315
          ],
          [
           "beaumont",
           "california",
           "Riverside-San Bernardino-Ontario CA MSA",
           43811
          ],
          [
           "carpinteria",
           "california",
           "Santa Barbara-Santa Maria-Goleta CA MSA",
           13727
          ],
          [
           "lompoc",
           "california",
           "Santa Barbara-Santa Maria-Goleta CA MSA",
           44164
          ],
          [
           "ceres",
           "california",
           "Modesto CA MSA",
           47963
          ],
          [
           "foothill ranch",
           "california",
           "Los Angeles-Long Beach-Santa Ana CA MSA",
           11698
          ],
          [
           "san gabriel",
           "california",
           "Los Angeles-Long Beach-Santa Ana CA MSA",
           40424
          ],
          [
           "benicia",
           "california",
           "Vallejo-Fairfield CA MSA",
           28167
          ],
          [
           "felton",
           "california",
           "Santa Cruz-Watsonville CA MSA",
           4057
          ],
          [
           "tehachapi",
           "california",
           "Bakersfield CA MSA",
           13021
          ],
          [
           "yorba linda",
           "california",
           "Los Angeles-Long Beach-Santa Ana CA MSA",
           67973
          ],
          [
           "compton",
           "california",
           "Los Angeles-Long Beach-Santa Ana CA MSA",
           98462
          ],
          [
           "moreno valley",
           "california",
           "Riverside-San Bernardino-Ontario CA MSA",
           204198
          ],
          [
           "huntington park",
           "california",
           "Los Angeles-Long Beach-Santa Ana CA MSA",
           59430
          ],
          [
           "petaluma",
           "california",
           "Santa Rosa-Petaluma CA MSA",
           60438
          ],
          [
           "topanga",
           "california",
           "Los Angeles-Long Beach-Santa Ana CA MSA",
           8289
          ],
          [
           "santa clarita",
           "california",
           "Los Angeles-Long Beach-Santa Ana CA MSA",
           182371
          ],
          [
           "sausalito",
           "california",
           "San Francisco-Oakland-Fremont CA MSA",
           7156
          ],
          [
           "nevada city",
           "california",
           "CA NONMETROPOLITAN AREA",
           3152
          ],
          [
           "west hills",
           "california",
           "Los Angeles-Long Beach-Santa Ana CA MSA",
           41426
          ],
          [
           "lake elsinore",
           "california",
           "Riverside-San Bernardino-Ontario CA MSA",
           61981
          ],
          [
           "greenbrae",
           "california",
           "San Francisco-Oakland-Fremont CA MSA",
           0
          ],
          [
           "mill valley",
           "california",
           "San Francisco-Oakland-Fremont CA MSA",
           14394
          ],
          [
           "albany",
           "california",
           "San Francisco-Oakland-Fremont CA MSA",
           19735
          ],
          [
           "santa ynez",
           "california",
           "Santa Barbara-Santa Maria-Goleta CA MSA",
           4418
          ],
          [
           "alamo",
           "california",
           "San Francisco-Oakland-Fremont CA MSA",
           14570
          ],
          [
           "porterville",
           "california",
           "Visalia-Porterville CA MSA",
           56058
          ],
          [
           "alameda",
           "california",
           "San Francisco-Oakland-Fremont CA MSA",
           78630
          ],
          [
           "el centro",
           "california",
           "El Centro CA MSA",
           43956
          ],
          [
           "bell gardens",
           "california",
           "Los Angeles-Long Beach-Santa Ana CA MSA",
           43106
          ],
          [
           "hollister",
           "california",
           "San Jose-Sunnyvale-Santa Clara CA MSA",
           37462
          ],
          [
           "san bruno",
           "california",
           "San Francisco-Oakland-Fremont CA MSA",
           43185
          ],
          [
           "los banos",
           "california",
           "Merced CA MSA",
           37457
          ],
          [
           "carmichael",
           "california",
           "Sacramento-Arden-Arcade-Roseville CA MSA",
           61762
          ],
          [
           "walnut",
           "california",
           "Los Angeles-Long Beach-Santa Ana CA MSA",
           30237
          ],
          [
           "palm desert",
           "california",
           "Riverside-San Bernardino-Ontario CA MSA",
           51869
          ],
          [
           "seaside",
           "california",
           "Salinas CA MSA",
           33025
          ],
          [
           "sunland",
           "california",
           "Los Angeles-Long Beach-Santa Ana CA MSA",
           15316
          ],
          [
           "placerville",
           "california",
           "Sacramento-Arden-Arcade-Roseville CA MSA",
           10650
          ],
          [
           "orinda",
           "california",
           "San Francisco-Oakland-Fremont CA MSA",
           19279
          ],
          [
           "quincy",
           "california",
           "Boston-Cambridge-Quincy MA-NH MSA",
           1728
          ],
          [
           "los osos",
           "california",
           "San Luis Obispo-Paso Robles CA MSA",
           14276
          ],
          [
           "norwalk",
           "california",
           "Los Angeles-Long Beach-Santa Ana CA MSA",
           107140
          ],
          [
           "blythe",
           "california",
           "Riverside-San Bernardino-Ontario CA MSA",
           19208
          ],
          [
           "indio",
           "california",
           "Riverside-San Bernardino-Ontario CA MSA",
           87533
          ],
          [
           "laguna hills",
           "california",
           "Los Angeles-Long Beach-Santa Ana CA MSA",
           31748
          ],
          [
           "la mirada",
           "california",
           "Los Angeles-Long Beach-Santa Ana CA MSA",
           49520
          ],
          [
           "rohnert park",
           "california",
           "Santa Rosa-Petaluma CA MSA",
           42407
          ],
          [
           "twentynine palms",
           "california",
           "Riverside-San Bernardino-Ontario CA MSA",
           26025
          ],
          [
           "arcata",
           "california",
           "CA NONMETROPOLITAN AREA",
           17843
          ],
          [
           "clovis",
           "california",
           "Fresno CA MSA",
           104180
          ],
          [
           "rialto",
           "california",
           "Riverside-San Bernardino-Ontario CA MSA",
           103132
          ],
          [
           "westwood",
           "california",
           "CA NONMETROPOLITAN AREA",
           2019
          ],
          [
           "poway",
           "california",
           "San Diego-Carlsbad-San Marcos CA MSA",
           50157
          ],
          [
           "oakdale",
           "california",
           "Modesto CA MSA",
           22259
          ],
          [
           "delano",
           "california",
           "Bakersfield CA MSA",
           52733
          ],
          [
           "oakhurst",
           "california",
           "Madera CA MSA",
           2829
          ],
          [
           "loomis",
           "california",
           "Sacramento-Arden-Arcade-Roseville CA MSA",
           6733
          ],
          [
           "aptos",
           "california",
           "Santa Cruz-Watsonville CA MSA",
           6220
          ],
          [
           "bellflower",
           "california",
           "Los Angeles-Long Beach-Santa Ana CA MSA",
           78441
          ],
          [
           "larkspur",
           "california",
           "San Francisco-Oakland-Fremont CA MSA",
           12417
          ],
          [
           "coachella",
           "california",
           "Riverside-San Bernardino-Ontario CA MSA",
           44635
          ],
          [
           "menifee",
           "california",
           "Riverside-San Bernardino-Ontario CA MSA",
           87174
          ],
          [
           "laguna beach",
           "california",
           "Los Angeles-Long Beach-Santa Ana CA MSA",
           23365
          ],
          [
           "grover beach",
           "california",
           "San Luis Obispo-Paso Robles CA MSA",
           13600
          ],
          [
           "brea",
           "california",
           "Los Angeles-Long Beach-Santa Ana CA MSA",
           41944
          ],
          [
           "encinitas",
           "california",
           "San Diego-Carlsbad-San Marcos CA MSA",
           62930
          ],
          [
           "yucaipa",
           "california",
           "Riverside-San Bernardino-Ontario CA MSA",
           53328
          ],
          [
           "el dorado hills",
           "california",
           "Sacramento-Arden-Arcade-Roseville CA MSA",
           42108
          ],
          [
           "banning",
           "california",
           "Riverside-San Bernardino-Ontario CA MSA",
           30945
          ],
          [
           "carmel by the sea",
           "california",
           "Salinas CA MSA",
           3897
          ],
          [
           "claremont",
           "california",
           "Hickory-Lenoir-Morganton NC MSA",
           36283
          ],
          [
           "sherman oaks",
           "california",
           "Los Angeles-Long Beach-Santa Ana CA MSA",
           52677
          ],
          [
           "venice",
           "california",
           "Sarasota-Bradenton-Venice FL MSA",
           40885
          ],
          [
           "foster city",
           "california",
           "MI NONMETROPOLITAN AREA",
           33477
          ],
          [
           "oakville",
           "california",
           "Napa CA MSA",
           71
          ],
          [
           "san pedro",
           "california",
           "Los Angeles-Long Beach-Santa Ana CA MSA",
           78405
          ],
          [
           "mammoth lakes",
           "california",
           "CA NONMETROPOLITAN AREA",
           7946
          ],
          [
           "moraga",
           "california",
           "San Francisco-Oakland-Fremont CA MSA",
           17256
          ],
          [
           "capitola",
           "california",
           "Santa Cruz-Watsonville CA MSA",
           10189
          ],
          [
           "livingston",
           "california",
           "Merced CA MSA",
           13902
          ],
          [
           "montecito",
           "california",
           null,
           8965
          ],
          [
           "morro bay",
           "california",
           "San Luis Obispo-Paso Robles CA MSA",
           10639
          ],
          [
           "mojave",
           "california",
           "Bakersfield CA MSA",
           4238
          ],
          [
           "jackson",
           "california",
           "Jackson MS MSA",
           4649
          ],
          [
           "honeydew",
           "california",
           "CA NONMETROPOLITAN AREA",
           0
          ],
          [
           "indian wells",
           "california",
           "Riverside-San Bernardino-Ontario CA MSA",
           5289
          ],
          [
           "willows",
           "california",
           "CA NONMETROPOLITAN AREA",
           6069
          ],
          [
           "east rancho dominguez",
           "california",
           null,
           15135
          ],
          [
           "coalinga",
           "california",
           "Fresno CA MSA",
           16564
          ],
          [
           "lemoore station",
           "california",
           null,
           7438
          ],
          [
           "los altos hills",
           "california",
           null,
           8419
          ],
          [
           "dinuba",
           "california",
           "Visalia-Porterville CA MSA",
           23702
          ],
          [
           "willits",
           "california",
           "CA NONMETROPOLITAN AREA",
           4861
          ],
          [
           "alpine",
           "california",
           "San Diego-Carlsbad-San Marcos CA MSA",
           14236
          ],
          [
           "st helena",
           "california",
           "Napa CA MSA",
           7059
          ],
          [
           "playa vista",
           "california",
           "Los Angeles-Long Beach-Santa Ana CA MSA",
           0
          ],
          [
           "bishop",
           "california",
           "CA NONMETROPOLITAN AREA",
           3806
          ],
          [
           "carmel valley",
           "california",
           "Salinas CA MSA",
           0
          ],
          [
           "south el monte",
           "california",
           "Los Angeles-Long Beach-Santa Ana CA MSA",
           20878
          ],
          [
           "universal city",
           "california",
           "San Antonio TX MSA",
           105000
          ],
          [
           "lakeport",
           "california",
           "CA NONMETROPOLITAN AREA",
           4807
          ],
          [
           "artesia",
           "california",
           "Los Angeles-Long Beach-Santa Ana CA MSA",
           16961
          ],
          [
           "brisbane",
           "california",
           "San Francisco-Oakland-Fremont CA MSA",
           4717
          ],
          [
           "los olivos",
           "california",
           "Santa Barbara-Santa Maria-Goleta CA MSA",
           1132
          ],
          [
           "san anselmo",
           "california",
           "San Francisco-Oakland-Fremont CA MSA",
           12653
          ],
          [
           "king city",
           "california",
           "Salinas CA MSA",
           13902
          ],
          [
           "atherton",
           "california",
           "San Francisco-Oakland-Fremont CA MSA",
           7167
          ],
          [
           "madera",
           "california",
           "Madera CA MSA",
           64208
          ],
          [
           "corona del mar",
           "california",
           "Los Angeles-Long Beach-Santa Ana CA MSA",
           0
          ],
          [
           "maxwell",
           "california",
           "Austin-Round Rock TX MSA",
           1103
          ],
          [
           "gold river",
           "california",
           null,
           7912
          ],
          [
           "avila beach",
           "california",
           "San Luis Obispo-Paso Robles CA MSA",
           1627
          ],
          [
           "edwards afb",
           "california",
           "Bakersfield CA MSA",
           2545
          ],
          [
           "redwood shores",
           "california",
           null,
           10500
          ],
          [
           "eastvale",
           "california",
           null,
           59039
          ],
          [
           "twin cities",
           "california",
           null,
           0
          ],
          [
           "priest",
           "california",
           null,
           0
          ],
          [
           "richmond",
           "california",
           "Richmond VA MSA",
           109708
          ],
          [
           "ramona",
           "california",
           "San Diego-Carlsbad-San Marcos CA MSA",
           20292
          ],
          [
           "truckee",
           "california",
           "CA NONMETROPOLITAN AREA",
           16299
          ],
          [
           "la crescenta",
           "california",
           "Los Angeles-Long Beach-Santa Ana CA MSA",
           0
          ],
          [
           "mira loma",
           "california",
           "Riverside-San Bernardino-Ontario CA MSA",
           0
          ],
          [
           "turlock",
           "california",
           "Modesto CA MSA",
           72292
          ],
          [
           "atascadero",
           "california",
           "San Luis Obispo-Paso Robles CA MSA",
           29819
          ],
          [
           "lost hills",
           "california",
           "Bakersfield CA MSA",
           2412
          ],
          [
           "el cerrito",
           "california",
           "San Francisco-Oakland-Fremont CA MSA",
           23549
          ],
          [
           "imperial beach",
           "california",
           "San Diego-Carlsbad-San Marcos CA MSA",
           27408
          ],
          [
           "solana beach",
           "california",
           "San Diego-Carlsbad-San Marcos CA MSA",
           13449
          ],
          [
           "union city",
           "california",
           "New York-Northern New Jersey-Long Island NY-NJ-PA MSA",
           74494
          ],
          [
           "big bear lake",
           "california",
           "Riverside-San Bernardino-Ontario CA MSA",
           5213
          ],
          [
           "patterson",
           "california",
           "Modesto CA MSA",
           21498
          ],
          [
           "moss landing",
           "california",
           "Salinas CA MSA",
           204
          ],
          [
           "yucca valley",
           "california",
           "Riverside-San Bernardino-Ontario CA MSA",
           21600
          ],
          [
           "woodland",
           "california",
           "Sacramento-Arden-Arcade-Roseville CA MSA",
           58567
          ],
          [
           "soledad",
           "california",
           "Salinas CA MSA",
           25003
          ],
          [
           "big sur",
           "california",
           "Salinas CA MSA",
           1000
          ],
          [
           "bell",
           "california",
           "Los Angeles-Long Beach-Santa Ana CA MSA",
           36205
          ],
          [
           "belmont",
           "california",
           "San Francisco-Oakland-Fremont CA MSA",
           27218
          ],
          [
           "san lucas",
           "california",
           "Salinas CA MSA",
           269
          ],
          [
           "winters",
           "california",
           "Sacramento-Arden-Arcade-Roseville CA MSA",
           7034
          ],
          [
           "altadena",
           "california",
           "Los Angeles-Long Beach-Santa Ana CA MSA",
           42777
          ],
          [
           "soquel",
           "california",
           "Santa Cruz-Watsonville CA MSA",
           9644
          ],
          [
           "lomita",
           "california",
           "Los Angeles-Long Beach-Santa Ana CA MSA",
           20785
          ],
          [
           "irwindale",
           "california",
           null,
           1437
          ],
          [
           "bonsall",
           "california",
           "San Diego-Carlsbad-San Marcos CA MSA",
           3982
          ],
          [
           "newark",
           "california",
           "New York-Northern New Jersey-Long Island NY-NJ-PA MSA",
           45336
          ],
          [
           "hermosa beach",
           "california",
           "Los Angeles-Long Beach-Santa Ana CA MSA",
           19860
          ],
          [
           "tahoe city",
           "california",
           "Sacramento-Arden-Arcade-Roseville CA MSA",
           0
          ],
          [
           "rolling hills estates",
           "california",
           null,
           8258
          ],
          [
           "millbrae",
           "california",
           "San Francisco-Oakland-Fremont CA MSA",
           22795
          ],
          [
           "desert hot springs",
           "california",
           "Riverside-San Bernardino-Ontario CA MSA",
           28335
          ],
          [
           "pico rivera",
           "california",
           "Los Angeles-Long Beach-Santa Ana CA MSA",
           64218
          ],
          [
           "la palma",
           "california",
           "Los Angeles-Long Beach-Santa Ana CA MSA",
           15904
          ],
          [
           "folsom",
           "california",
           "Philadelphia-Camden-Wilmington PA-NJ-DE-MD MSA",
           76375
          ],
          [
           "running springs",
           "california",
           "Riverside-San Bernardino-Ontario CA MSA",
           4862
          ],
          [
           "san dimas",
           "california",
           "Los Angeles-Long Beach-Santa Ana CA MSA",
           34630
          ],
          [
           "coronado",
           "california",
           "San Diego-Carlsbad-San Marcos CA MSA",
           24812
          ],
          [
           "lemoore",
           "california",
           "Hanford-Corcoran CA MSA",
           25647
          ],
          [
           "mission hills",
           "california",
           "Los Angeles-Long Beach-Santa Ana CA MSA",
           3576
          ],
          [
           "pismo beach",
           "california",
           "San Luis Obispo-Paso Robles CA MSA",
           8162
          ],
          [
           "hilmar",
           "california",
           "Merced CA MSA",
           0
          ],
          [
           "marysville",
           "california",
           "Seattle-Tacoma-Bellevue WA MSA",
           12216
          ],
          [
           "oroville",
           "california",
           "Chico CA MSA",
           16260
          ],
          [
           "westminster",
           "california",
           "Los Angeles-Long Beach-Santa Ana CA MSA",
           92114
          ],
          [
           "national city",
           "california",
           "San Diego-Carlsbad-San Marcos CA MSA",
           61060
          ],
          [
           "sonoma",
           "california",
           "Santa Rosa-Petaluma CA MSA",
           11037
          ],
          [
           "cambria",
           "california",
           "San Luis Obispo-Paso Robles CA MSA",
           6032
          ],
          [
           "signal hill",
           "california",
           "Los Angeles-Long Beach-Santa Ana CA MSA",
           11565
          ],
          [
           "pleasant hill",
           "california",
           "San Francisco-Oakland-Fremont CA MSA",
           34810
          ],
          [
           "north highlands",
           "california",
           "Sacramento-Arden-Arcade-Roseville CA MSA",
           42694
          ],
          [
           "pacifica",
           "california",
           "San Francisco-Oakland-Fremont CA MSA",
           39260
          ],
          [
           "joshua tree",
           "california",
           "Riverside-San Bernardino-Ontario CA MSA",
           7414
          ],
          [
           "adelanto",
           "california",
           "Riverside-San Bernardino-Ontario CA MSA",
           33166
          ],
          [
           "templeton",
           "california",
           "San Luis Obispo-Paso Robles CA MSA",
           7674
          ],
          [
           "auburn",
           "california",
           "Auburn-Opelika AL MSA",
           13953
          ],
          [
           "chino",
           "california",
           "Riverside-San Bernardino-Ontario CA MSA",
           85595
          ],
          [
           "san jacinto",
           "california",
           "Riverside-San Bernardino-Ontario CA MSA",
           46951
          ],
          [
           "industry",
           "california",
           "Pittsburgh PA MSA",
           206
          ],
          [
           "commerce",
           "california",
           "GA NONMETROPOLITAN AREA",
           13081
          ],
          [
           "porter",
           "california",
           "ME NONMETROPOLITAN AREA",
           0
          ],
          [
           "santa cruz",
           "california",
           "Santa Cruz-Watsonville CA MSA",
           64220
          ],
          [
           "vineyard",
           "california",
           "Provo-Orem UT MSA",
           24836
          ],
          [
           "highland",
           "california",
           "OH NONMETROPOLITAN AREA",
           54854
          ],
          [
           "del rey",
           "california",
           "Fresno CA MSA",
           1639
          ],
          [
           "mckinleyville",
           "california",
           "CA NONMETROPOLITAN AREA",
           15177
          ],
          [
           "university of california davis",
           "california",
           null,
           7311
          ],
          [
           "airport",
           "california",
           null,
           1479
          ],
          [
           "cabazon",
           "california",
           "Riverside-San Bernardino-Ontario CA MSA",
           2535
          ],
          [
           "miramar",
           "california",
           null,
           0
          ],
          [
           "sorrento valley",
           "california",
           null,
           5000
          ],
          [
           "san andreas",
           "california",
           "CA NONMETROPOLITAN AREA",
           2783
          ],
          [
           "vandenberg afb",
           "california",
           null,
           3387
          ],
          [
           "anaheim hills",
           "california",
           "Los Angeles-Long Beach-Santa Ana CA MSA",
           0
          ],
          [
           "grand terrace",
           "california",
           "Riverside-San Bernardino-Ontario CA MSA",
           12464
          ],
          [
           "piedmont",
           "california",
           "San Francisco-Oakland-Fremont CA MSA",
           11376
          ],
          [
           "bodega bay",
           "california",
           "San Francisco-Oakland-Fremont CA MSA",
           1077
          ],
          [
           "isla vista",
           "california",
           null,
           23096
          ],
          [
           "vernon",
           "california",
           "New York-Northern New Jersey-Long Island NY-NJ-PA MSA",
           114
          ],
          [
           "ashland",
           "california",
           "ME NONMETROPOLITAN AREA",
           21925
          ],
          [
           "hillsborough",
           "california",
           "Durham NC MSA",
           11451
          ],
          [
           "tujunga",
           "california",
           "Los Angeles-Long Beach-Santa Ana CA MSA",
           26527
          ],
          [
           "loma",
           "california",
           "MT NONMETROPOLITAN AREA",
           0
          ],
          [
           "empire",
           "california",
           "Los Angeles-Long Beach-Santa Ana CA MSA",
           4189
          ],
          [
           "east los angeles",
           "california",
           null,
           126496
          ],
          [
           "clayton",
           "california",
           "San Francisco-Oakland-Fremont CA MSA",
           11867
          ],
          [
           "susanville",
           "california",
           "CA NONMETROPOLITAN AREA",
           15247
          ],
          [
           "idyllwild",
           "california",
           "Riverside-San Bernardino-Ontario CA MSA",
           3583
          ],
          [
           "imperial",
           "california",
           "El Centro CA MSA",
           17095
          ],
          [
           "port hueneme",
           "california",
           "Oxnard-Thousand Oaks-Ventura CA MSA",
           22423
          ],
          [
           "avalon",
           "california",
           "Los Angeles-Long Beach-Santa Ana CA MSA",
           3799
          ],
          [
           "beale air force base",
           "california",
           null,
           1319
          ],
          [
           "chowchilla",
           "california",
           "Madera CA MSA",
           18510
          ],
          [
           "palos verdes estates",
           "california",
           null,
           13682
          ],
          [
           "century city",
           "california",
           null,
           5513
          ],
          [
           "capetown",
           "california",
           null,
           0
          ],
          [
           "rodeo",
           "california",
           "San Francisco-Oakland-Fremont CA MSA",
           8679
          ],
          [
           "herald",
           "california",
           "Sacramento-Arden-Arcade-Roseville CA MSA",
           1184
          ],
          [
           "san joaquin",
           "california",
           "Fresno CA MSA",
           4022
          ],
          [
           "woodside",
           "california",
           "New York-Northern New Jersey-Long Island NY-NJ-PA MSA",
           5561
          ],
          [
           "elk grove",
           "california",
           "Sacramento-Arden-Arcade-Roseville CA MSA",
           166913
          ],
          [
           "barstow",
           "california",
           "Riverside-San Bernardino-Ontario CA MSA",
           23692
          ],
          [
           "concord",
           "california",
           "San Francisco-Oakland-Fremont CA MSA",
           128667
          ],
          [
           "canoga park",
           "california",
           "Los Angeles-Long Beach-Santa Ana CA MSA",
           60578
          ],
          [
           "colton",
           "california",
           "Riverside-San Bernardino-Ontario CA MSA",
           54621
          ],
          [
           "shingle springs",
           "california",
           "Sacramento-Arden-Arcade-Roseville CA MSA",
           4432
          ],
          [
           "san carlos",
           "california",
           "San Francisco-Oakland-Fremont CA MSA",
           29931
          ],
          [
           "glendora",
           "california",
           "Los Angeles-Long Beach-Santa Ana CA MSA",
           52009
          ],
          [
           "temecula",
           "california",
           "Riverside-San Bernardino-Ontario CA MSA",
           110003
          ],
          [
           "corona",
           "california",
           "Riverside-San Bernardino-Ontario CA MSA",
           164226
          ],
          [
           "tiburon",
           "california",
           null,
           9214
          ],
          [
           "carson",
           "california",
           "Los Angeles-Long Beach-Santa Ana CA MSA",
           93281
          ],
          [
           "downey",
           "california",
           "Los Angeles-Long Beach-Santa Ana CA MSA",
           114219
          ],
          [
           "la mesa",
           "california",
           "San Diego-Carlsbad-San Marcos CA MSA",
           60089
          ],
          [
           "arroyo grande",
           "california",
           "San Luis Obispo-Paso Robles CA MSA",
           18108
          ],
          [
           "orangevale",
           "california",
           "Sacramento-Arden-Arcade-Roseville CA MSA",
           33960
          ],
          [
           "ladera ranch",
           "california",
           "Los Angeles-Long Beach-Santa Ana CA MSA",
           22980
          ],
          [
           "ukiah",
           "california",
           "CA NONMETROPOLITAN AREA",
           15917
          ],
          [
           "los altos",
           "california",
           "San Jose-Sunnyvale-Santa Clara CA MSA",
           30671
          ],
          [
           "spring valley",
           "california",
           "San Diego-Carlsbad-San Marcos CA MSA",
           28205
          ],
          [
           "south pasadena",
           "california",
           "Los Angeles-Long Beach-Santa Ana CA MSA",
           26151
          ],
          [
           "antelope",
           "california",
           "Sacramento-Arden-Arcade-Roseville CA MSA",
           45770
          ],
          [
           "merced",
           "california",
           "Merced CA MSA",
           82436
          ],
          [
           "laguna niguel",
           "california",
           "Los Angeles-Long Beach-Santa Ana CA MSA",
           65806
          ],
          [
           "burbank",
           "california",
           "Los Angeles-Long Beach-Santa Ana CA MSA",
           105319
          ],
          [
           "goleta",
           "california",
           "Santa Barbara-Santa Maria-Goleta CA MSA",
           30944
          ],
          [
           "escondido",
           "california",
           "San Diego-Carlsbad-San Marcos CA MSA",
           151451
          ],
          [
           "arcadia",
           "california",
           "Los Angeles-Long Beach-Santa Ana CA MSA",
           58408
          ],
          [
           "san pablo",
           "california",
           "San Francisco-Oakland-Fremont CA MSA",
           30407
          ],
          [
           "san clemente",
           "california",
           "Los Angeles-Long Beach-Santa Ana CA MSA",
           65526
          ],
          [
           "la quinta",
           "california",
           "Riverside-San Bernardino-Ontario CA MSA",
           40476
          ],
          [
           "salida",
           "california",
           "Modesto CA MSA",
           13722
          ],
          [
           "antioch",
           "california",
           "San Francisco-Oakland-Fremont CA MSA",
           110542
          ],
          [
           "fallbrook",
           "california",
           "San Diego-Carlsbad-San Marcos CA MSA",
           30534
          ],
          [
           "calexico",
           "california",
           "El Centro CA MSA",
           40053
          ],
          [
           "los alamitos",
           "california",
           "Los Angeles-Long Beach-Santa Ana CA MSA",
           11449
          ],
          [
           "rancho santa fe",
           "california",
           "San Diego-Carlsbad-San Marcos CA MSA",
           3117
          ],
          [
           "fountain valley",
           "california",
           "Los Angeles-Long Beach-Santa Ana CA MSA",
           56987
          ],
          [
           "lafayette",
           "california",
           "San Francisco-Oakland-Fremont CA MSA",
           25843
          ],
          [
           "south lake tahoe",
           "california",
           "Sacramento-Arden-Arcade-Roseville CA MSA",
           21706
          ],
          [
           "hemet",
           "california",
           "Riverside-San Bernardino-Ontario CA MSA",
           83861
          ],
          [
           "santa fe springs",
           "california",
           "Los Angeles-Long Beach-Santa Ana CA MSA",
           18026
          ],
          [
           "walnut creek",
           "california",
           "San Francisco-Oakland-Fremont CA MSA",
           68910
          ],
          [
           "morgan hill",
           "california",
           "San Jose-Sunnyvale-Santa Clara CA MSA",
           42948
          ],
          [
           "milpitas",
           "california",
           "San Jose-Sunnyvale-Santa Clara CA MSA",
           77604
          ],
          [
           "martinez",
           "california",
           "San Francisco-Oakland-Fremont CA MSA",
           38137
          ],
          [
           "la verne",
           "california",
           "Los Angeles-Long Beach-Santa Ana CA MSA",
           32681
          ],
          [
           "novato",
           "california",
           "San Francisco-Oakland-Fremont CA MSA",
           55530
          ],
          [
           "san fernando",
           "california",
           "Los Angeles-Long Beach-Santa Ana CA MSA",
           24931
          ],
          [
           "davis",
           "california",
           "Sacramento-Arden-Arcade-Roseville CA MSA",
           67666
          ],
          [
           "pacific grove",
           "california",
           "Salinas CA MSA",
           15674
          ],
          [
           "burlingame",
           "california",
           "San Francisco-Oakland-Fremont CA MSA",
           30459
          ],
          [
           "angwin",
           "california",
           "Napa CA MSA",
           3051
          ],
          [
           "cotati",
           "california",
           "Santa Rosa-Petaluma CA MSA",
           7445
          ],
          [
           "saint helena",
           "california",
           "Napa CA MSA",
           5814
          ],
          [
           "south san francisco",
           "california",
           "San Francisco-Oakland-Fremont CA MSA",
           67271
          ],
          [
           "fort bragg",
           "california",
           "CA NONMETROPOLITAN AREA",
           7289
          ],
          [
           "inglewood",
           "california",
           "Los Angeles-Long Beach-Santa Ana CA MSA",
           111666
          ],
          [
           "kingsburg",
           "california",
           "Fresno CA MSA",
           11824
          ],
          [
           "ventura",
           "california",
           "Oxnard-Thousand Oaks-Ventura CA MSA",
           96769
          ],
          [
           "redding",
           "california",
           "Redding CA MSA",
           91582
          ],
          [
           "granite bay",
           "california",
           "Sacramento-Arden-Arcade-Roseville CA MSA",
           20402
          ],
          [
           "citrus heights",
           "california",
           "Sacramento-Arden-Arcade-Roseville CA MSA",
           87056
          ],
          [
           "pittsburg",
           "california",
           "San Francisco-Oakland-Fremont CA MSA",
           69424
          ],
          [
           "agoura hills",
           "california",
           "Los Angeles-Long Beach-Santa Ana CA MSA",
           20915
          ],
          [
           "simi valley",
           "california",
           "Oxnard-Thousand Oaks-Ventura CA MSA",
           126788
          ],
          [
           "chico",
           "california",
           "Chico CA MSA",
           121345
          ],
          [
           "reedley",
           "california",
           "Fresno CA MSA",
           25569
          ],
          [
           "selma",
           "california",
           "Fresno CA MSA",
           24414
          ],
          [
           "rancho palos verdes",
           "california",
           "Los Angeles-Long Beach-Santa Ana CA MSA",
           42732
          ],
          [
           "lancaster",
           "california",
           "Los Angeles-Long Beach-Santa Ana CA MSA",
           161103
          ],
          [
           "santa paula",
           "california",
           "Oxnard-Thousand Oaks-Ventura CA MSA",
           30546
          ],
          [
           "dana point",
           "california",
           "Los Angeles-Long Beach-Santa Ana CA MSA",
           34181
          ],
          [
           "stanton",
           "california",
           "Los Angeles-Long Beach-Santa Ana CA MSA",
           38872
          ],
          [
           "covina",
           "california",
           "Los Angeles-Long Beach-Santa Ana CA MSA",
           48984
          ],
          [
           "garden grove",
           "california",
           "Los Angeles-Long Beach-Santa Ana CA MSA",
           175393
          ],
          [
           "cupertino",
           "california",
           "San Jose-Sunnyvale-Santa Clara CA MSA",
           60572
          ],
          [
           "victorville",
           "california",
           "Riverside-San Bernardino-Ontario CA MSA",
           122225
          ],
          [
           "monterey park",
           "california",
           "Los Angeles-Long Beach-Santa Ana CA MSA",
           61468
          ],
          [
           "campbell",
           "california",
           "San Jose-Sunnyvale-Santa Clara CA MSA",
           41117
          ],
          [
           "diamond bar",
           "california",
           "Los Angeles-Long Beach-Santa Ana CA MSA",
           56897
          ],
          [
           "portola valley",
           "california",
           "San Francisco-Oakland-Fremont CA MSA",
           4594
          ],
          [
           "ripon",
           "california",
           "Stockton CA MSA",
           15151
          ],
          [
           "perris",
           "california",
           "Riverside-San Bernardino-Ontario CA MSA",
           74971
          ],
          [
           "lake forest",
           "california",
           "Los Angeles-Long Beach-Santa Ana CA MSA",
           82492
          ],
          [
           "camarillo",
           "california",
           "Oxnard-Thousand Oaks-Ventura CA MSA",
           67608
          ],
          [
           "baldwin park",
           "california",
           "Los Angeles-Long Beach-Santa Ana CA MSA",
           77071
          ],
          [
           "redondo beach",
           "california",
           "Los Angeles-Long Beach-Santa Ana CA MSA",
           68166
          ],
          [
           "rowland heights",
           "california",
           "Los Angeles-Long Beach-Santa Ana CA MSA",
           48993
          ],
          [
           "los gatos",
           "california",
           "San Jose-Sunnyvale-Santa Clara CA MSA",
           30705
          ],
          [
           "vallejo",
           "california",
           "Vallejo-Fairfield CA MSA",
           121692
          ],
          [
           "manteca",
           "california",
           "Stockton CA MSA",
           75448
          ],
          [
           "hesperia",
           "california",
           "Riverside-San Bernardino-Ontario CA MSA",
           93295
          ],
          [
           "colusa",
           "california",
           "CA NONMETROPOLITAN AREA",
           5935
          ],
          [
           "santee",
           "california",
           "San Diego-Carlsbad-San Marcos CA MSA",
           57787
          ],
          [
           "san marcos",
           "california",
           "San Diego-Carlsbad-San Marcos CA MSA",
           92931
          ],
          [
           "vacaville",
           "california",
           "Vallejo-Fairfield CA MSA",
           96803
          ],
          [
           "rancho santa margarita",
           "california",
           "Los Angeles-Long Beach-Santa Ana CA MSA",
           49324
          ],
          [
           "fairfield",
           "california",
           "Vallejo-Fairfield CA MSA",
           112970
          ],
          [
           "cypress",
           "california",
           "Los Angeles-Long Beach-Santa Ana CA MSA",
           49290
          ],
          [
           "san juan capistrano",
           "california",
           "Los Angeles-Long Beach-Santa Ana CA MSA",
           36454
          ],
          [
           "oak park",
           "california",
           "Oxnard-Thousand Oaks-Ventura CA MSA",
           13811
          ],
          [
           "montebello",
           "california",
           "Los Angeles-Long Beach-Santa Ana CA MSA",
           63921
          ],
          [
           "rancho cucamonga",
           "california",
           "Riverside-San Bernardino-Ontario CA MSA",
           175236
          ],
          [
           "emeryville",
           "california",
           "San Francisco-Oakland-Fremont CA MSA",
           11694
          ],
          [
           "windsor",
           "california",
           "Santa Rosa-Petaluma CA MSA",
           27464
          ],
          [
           "cathedral city",
           "california",
           "Riverside-San Bernardino-Ontario CA MSA",
           53826
          ],
          [
           "azusa",
           "california",
           "Los Angeles-Long Beach-Santa Ana CA MSA",
           49690
          ],
          [
           "tracy",
           "california",
           "Stockton CA MSA",
           87075
          ],
          [
           "half moon bay",
           "california",
           "San Francisco-Oakland-Fremont CA MSA",
           12657
          ],
          [
           "west hollywood",
           "california",
           "Los Angeles-Long Beach-Santa Ana CA MSA",
           36222
          ],
          [
           "del mar",
           "california",
           "San Diego-Carlsbad-San Marcos CA MSA",
           4351
          ],
          [
           "seal beach",
           "california",
           "Los Angeles-Long Beach-Santa Ana CA MSA",
           24619
          ],
          [
           "mission viejo",
           "california",
           "Los Angeles-Long Beach-Santa Ana CA MSA",
           97156
          ],
          [
           "dublin",
           "california",
           "Blacksburg-Christiansburg-Radford VA MSA",
           57721
          ],
          [
           "valencia",
           "california",
           "Pittsburgh PA MSA",
           148456
          ],
          [
           "monrovia",
           "california",
           "Indianapolis-Carmel IN MSA",
           37463
          ],
          [
           "san ramon",
           "california",
           "San Francisco-Oakland-Fremont CA MSA",
           76134
          ],
          [
           "northridge",
           "california",
           "Los Angeles-Long Beach-Santa Ana CA MSA",
           68469
          ],
          [
           "north hills",
           "california",
           "Los Angeles-Long Beach-Santa Ana CA MSA",
           56946
          ],
          [
           "studio city",
           "california",
           "Los Angeles-Long Beach-Santa Ana CA MSA",
           34034
          ],
          [
           "san marino",
           "california",
           "Los Angeles-Long Beach-Santa Ana CA MSA",
           13464
          ],
          [
           "marina del rey",
           "california",
           "Los Angeles-Long Beach-Santa Ana CA MSA",
           8866
          ],
          [
           "encino",
           "california",
           "Los Angeles-Long Beach-Santa Ana CA MSA",
           44581
          ],
          [
           "woodland hills",
           "california",
           "Los Angeles-Long Beach-Santa Ana CA MSA",
           70000
          ],
          [
           "daly city",
           "california",
           "San Francisco-Oakland-Fremont CA MSA",
           106562
          ],
          [
           "sacramento",
           "california",
           "Sacramento-Arden-Arcade-Roseville CA MSA",
           490712
          ],
          [
           "hanford",
           "california",
           "Hanford-Corcoran CA MSA",
           55659
          ],
          [
           "san leandro",
           "california",
           "San Francisco-Oakland-Fremont CA MSA",
           90712
          ],
          [
           "hacienda heights",
           "california",
           "Los Angeles-Long Beach-Santa Ana CA MSA",
           54038
          ],
          [
           "mountain view",
           "california",
           "San Jose-Sunnyvale-Santa Clara CA MSA",
           80435
          ],
          [
           "orange",
           "california",
           "Los Angeles-Long Beach-Santa Ana CA MSA",
           140992
          ],
          [
           "grass valley",
           "california",
           "CA NONMETROPOLITAN AREA",
           12944
          ],
          [
           "cerritos",
           "california",
           "Los Angeles-Long Beach-Santa Ana CA MSA",
           49975
          ],
          [
           "san jose",
           "california",
           "San Jose-Sunnyvale-Santa Clara CA MSA",
           1026908
          ],
          [
           "roseville",
           "california",
           "Sacramento-Arden-Arcade-Roseville CA MSA",
           130269
          ],
          [
           "stockton",
           "california",
           "Stockton CA MSA",
           305658
          ],
          [
           "irvine",
           "california",
           "Los Angeles-Long Beach-Santa Ana CA MSA",
           256927
          ],
          [
           "riverside",
           "california",
           "Riverside-San Bernardino-Ontario CA MSA",
           322424
          ],
          [
           "stanford",
           "california",
           "San Jose-Sunnyvale-Santa Clara CA MSA",
           13809
          ],
          [
           "sunnyvale",
           "california",
           "San Jose-Sunnyvale-Santa Clara CA MSA",
           155805
          ],
          [
           "santa monica",
           "california",
           "Los Angeles-Long Beach-Santa Ana CA MSA",
           93220
          ],
          [
           "oxnard",
           "california",
           "Oxnard-Thousand Oaks-Ventura CA MSA",
           207254
          ],
          [
           "fresno",
           "california",
           "Fresno CA MSA",
           520052
          ],
          [
           "westlake village",
           "california",
           "Oxnard-Thousand Oaks-Ventura CA MSA",
           8507
          ],
          [
           "san luis obispo",
           "california",
           "San Luis Obispo-Paso Robles CA MSA",
           47339
          ],
          [
           "modesto",
           "california",
           "Modesto CA MSA",
           211266
          ],
          [
           "el cajon",
           "california",
           "San Diego-Carlsbad-San Marcos CA MSA",
           103679
          ],
          [
           "santa clara",
           "california",
           "San Jose-Sunnyvale-Santa Clara CA MSA",
           126215
          ],
          [
           "el segundo",
           "california",
           "Los Angeles-Long Beach-Santa Ana CA MSA",
           17037
          ],
          [
           "lemon grove",
           "california",
           "San Diego-Carlsbad-San Marcos CA MSA",
           26709
          ],
          [
           "hayward",
           "california",
           "San Francisco-Oakland-Fremont CA MSA",
           158289
          ],
          [
           "palm springs",
           "california",
           "Riverside-San Bernardino-Ontario CA MSA",
           47371
          ],
          [
           "pleasanton",
           "california",
           "San Francisco-Oakland-Fremont CA MSA",
           79510
          ],
          [
           "eureka",
           "california",
           "CA NONMETROPOLITAN AREA",
           27017
          ],
          [
           "palmdale",
           "california",
           "Los Angeles-Long Beach-Santa Ana CA MSA",
           158351
          ],
          [
           "moorpark",
           "california",
           "Oxnard-Thousand Oaks-Ventura CA MSA",
           36104
          ],
          [
           "los angeles",
           "california",
           "Los Angeles-Long Beach-Santa Ana CA MSA",
           3971883
          ],
          [
           "beverly hills",
           "california",
           "Los Angeles-Long Beach-Santa Ana CA MSA",
           34869
          ],
          [
           "vista",
           "california",
           "San Diego-Carlsbad-San Marcos CA MSA",
           100890
          ],
          [
           "marina",
           "california",
           "Salinas CA MSA",
           21229
          ],
          [
           "castro valley",
           "california",
           "San Francisco-Oakland-Fremont CA MSA",
           61388
          ],
          [
           "rosemead",
           "california",
           "Los Angeles-Long Beach-Santa Ana CA MSA",
           54908
          ],
          [
           "edwards",
           "california",
           "Bakersfield CA MSA",
           0
          ],
          [
           "long beach",
           "california",
           "Los Angeles-Long Beach-Santa Ana CA MSA",
           474140
          ],
          [
           "santa barbara",
           "california",
           "Santa Barbara-Santa Maria-Goleta CA MSA",
           91842
          ],
          [
           "hercules",
           "california",
           "San Francisco-Oakland-Fremont CA MSA",
           25314
          ],
          [
           "whittier",
           "california",
           "Los Angeles-Long Beach-Santa Ana CA MSA",
           87438
          ],
          [
           "livermore",
           "california",
           "San Francisco-Oakland-Fremont CA MSA",
           88126
          ],
          [
           "monterey",
           "california",
           "Salinas CA MSA",
           28338
          ],
          [
           "aliso viejo",
           "california",
           "Los Angeles-Long Beach-Santa Ana CA MSA",
           50195
          ],
          [
           "torrance",
           "california",
           "Los Angeles-Long Beach-Santa Ana CA MSA",
           143592
          ],
          [
           "rocklin",
           "california",
           "Sacramento-Arden-Arcade-Roseville CA MSA",
           61213
          ],
          [
           "apple valley",
           "california",
           "Riverside-San Bernardino-Ontario CA MSA",
           72174
          ],
          [
           "watsonville",
           "california",
           "Santa Cruz-Watsonville CA MSA",
           53628
          ],
          [
           "bakersfield",
           "california",
           "Bakersfield CA MSA",
           373640
          ],
          [
           "santa rosa",
           "california",
           "Santa Rosa-Petaluma CA MSA",
           174972
          ],
          [
           "glendale",
           "california",
           "Los Angeles-Long Beach-Santa Ana CA MSA",
           201020
          ],
          [
           "murrieta",
           "california",
           "Riverside-San Bernardino-Ontario CA MSA",
           109830
          ],
          [
           "redlands",
           "california",
           "Riverside-San Bernardino-Ontario CA MSA",
           71035
          ],
          [
           "san mateo",
           "california",
           "San Francisco-Oakland-Fremont CA MSA",
           103536
          ],
          [
           "chino hills",
           "california",
           "Riverside-San Bernardino-Ontario CA MSA",
           78309
          ],
          [
           "pomona",
           "california",
           "Los Angeles-Long Beach-Santa Ana CA MSA",
           153266
          ],
          [
           "scotts valley",
           "california",
           "Santa Cruz-Watsonville CA MSA",
           11945
          ],
          [
           "fullerton",
           "california",
           "Los Angeles-Long Beach-Santa Ana CA MSA",
           140847
          ],
          [
           "san diego",
           "california",
           "San Diego-Carlsbad-San Marcos CA MSA",
           1394928
          ],
          [
           "brentwood",
           "california",
           "San Francisco-Oakland-Fremont CA MSA",
           58968
          ],
          [
           "ontario",
           "california",
           "Riverside-San Bernardino-Ontario CA MSA",
           171214
          ],
          [
           "napa",
           "california",
           "Napa CA MSA",
           80434
          ],
          [
           "visalia",
           "california",
           "Visalia-Porterville CA MSA",
           130104
          ],
          [
           "rancho mirage",
           "california",
           "Riverside-San Bernardino-Ontario CA MSA",
           18083
          ],
          [
           "la puente",
           "california",
           "Los Angeles-Long Beach-Santa Ana CA MSA",
           40745
          ],
          [
           "chula vista",
           "california",
           "San Diego-Carlsbad-San Marcos CA MSA",
           265757
          ],
          [
           "newport beach",
           "california",
           "Los Angeles-Long Beach-Santa Ana CA MSA",
           87127
          ],
          [
           "hawthorne",
           "california",
           "Los Angeles-Long Beach-Santa Ana CA MSA",
           88451
          ],
          [
           "san bernardino",
           "california",
           "Riverside-San Bernardino-Ontario CA MSA",
           216108
          ],
          [
           "huntington beach",
           "california",
           "Los Angeles-Long Beach-Santa Ana CA MSA",
           201899
          ],
          [
           "rancho cordova",
           "california",
           "Sacramento-Arden-Arcade-Roseville CA MSA",
           71017
          ],
          [
           "el monte",
           "california",
           "Los Angeles-Long Beach-Santa Ana CA MSA",
           116732
          ],
          [
           "salinas",
           "california",
           "Salinas CA MSA",
           157380
          ],
          [
           "anaheim",
           "california",
           "Los Angeles-Long Beach-Santa Ana CA MSA",
           350742
          ],
          [
           "saratoga",
           "california",
           "San Jose-Sunnyvale-Santa Clara CA MSA",
           30968
          ],
          [
           "gardena",
           "california",
           "Los Angeles-Long Beach-Santa Ana CA MSA",
           60447
          ],
          [
           "calabasas",
           "california",
           "Los Angeles-Long Beach-Santa Ana CA MSA",
           23058
          ],
          [
           "manhattan beach",
           "california",
           "Los Angeles-Long Beach-Santa Ana CA MSA",
           35818
          ],
          [
           "bonita",
           "california",
           "San Diego-Carlsbad-San Marcos CA MSA",
           12538
          ],
          [
           "el sobrante",
           "california",
           "San Francisco-Oakland-Fremont CA MSA",
           12669
          ],
          [
           "placentia",
           "california",
           "Los Angeles-Long Beach-Santa Ana CA MSA",
           52495
          ],
          [
           "san rafael",
           "california",
           "San Francisco-Oakland-Fremont CA MSA",
           59162
          ],
          [
           "redwood city",
           "california",
           "San Francisco-Oakland-Fremont CA MSA",
           85288
          ],
          [
           "santa ana",
           "california",
           "Los Angeles-Long Beach-Santa Ana CA MSA",
           335400
          ],
          [
           "oakland",
           "california",
           "San Francisco-Oakland-Fremont CA MSA",
           419267
          ],
          [
           "gilroy",
           "california",
           "San Jose-Sunnyvale-Santa Clara CA MSA",
           53231
          ],
          [
           "paramount",
           "california",
           "Los Angeles-Long Beach-Santa Ana CA MSA",
           55412
          ],
          [
           "north hollywood",
           "california",
           "Los Angeles-Long Beach-Santa Ana CA MSA",
           77848
          ],
          [
           "fremont",
           "california",
           "San Francisco-Oakland-Fremont CA MSA",
           232206
          ],
          [
           "berkeley",
           "california",
           "San Francisco-Oakland-Fremont CA MSA",
           120972
          ],
          [
           "la habra",
           "california",
           "Los Angeles-Long Beach-Santa Ana CA MSA",
           62131
          ],
          [
           "oceanside",
           "california",
           "San Diego-Carlsbad-San Marcos CA MSA",
           175691
          ],
          [
           "lakewood",
           "california",
           "Los Angeles-Long Beach-Santa Ana CA MSA",
           81611
          ],
          [
           "costa mesa",
           "california",
           "Los Angeles-Long Beach-Santa Ana CA MSA",
           113204
          ],
          [
           "carlsbad",
           "california",
           "San Diego-Carlsbad-San Marcos CA MSA",
           114746
          ],
          [
           "east palo alto",
           "california",
           null,
           29662
          ],
          [
           "alhambra",
           "california",
           "Los Angeles-Long Beach-Santa Ana CA MSA",
           85551
          ],
          [
           "santa maria",
           "california",
           "Santa Barbara-Santa Maria-Goleta CA MSA",
           105093
          ],
          [
           "buena park",
           "california",
           "Los Angeles-Long Beach-Santa Ana CA MSA",
           83270
          ],
          [
           "menlo park",
           "california",
           "San Francisco-Oakland-Fremont CA MSA",
           33449
          ],
          [
           "calistoga",
           "california",
           "Napa CA MSA",
           5330
          ],
          [
           "culver city",
           "california",
           "Los Angeles-Long Beach-Santa Ana CA MSA",
           39717
          ],
          [
           "sonora",
           "california",
           "CA NONMETROPOLITAN AREA",
           4818
          ],
          [
           "thousand oaks",
           "california",
           "Oxnard-Thousand Oaks-Ventura CA MSA",
           129339
          ],
          [
           "mendocino",
           "california",
           "CA NONMETROPOLITAN AREA",
           894
          ],
          [
           "tustin",
           "california",
           "Los Angeles-Long Beach-Santa Ana CA MSA",
           80583
          ],
          [
           "pasadena",
           "california",
           "Los Angeles-Long Beach-Santa Ana CA MSA",
           142250
          ],
          [
           "san francisco",
           "california",
           "San Francisco-Oakland-Fremont CA MSA",
           864816
          ],
          [
           "palo alto",
           "california",
           "San Jose-Sunnyvale-Santa Clara CA MSA",
           66853
          ],
          [
           "chatsworth",
           "california",
           "Dalton GA MSA",
           41255
          ],
          [
           "danville",
           "california",
           "San Francisco-Oakland-Fremont CA MSA",
           44400
          ],
          [
           "van nuys",
           "california",
           "Los Angeles-Long Beach-Santa Ana CA MSA",
           136443
          ],
          [
           "canyon country",
           "california",
           "Los Angeles-Long Beach-Santa Ana CA MSA",
           59530
          ],
          [
           "la jolla",
           "california",
           "San Diego-Carlsbad-San Marcos CA MSA",
           42808
          ],
          [
           "nipomo",
           "california",
           "San Luis Obispo-Paso Robles CA MSA",
           16714
          ],
          [
           "riverbank",
           "california",
           "Modesto CA MSA",
           24122
          ],
          [
           "buellton",
           "california",
           "Santa Barbara-Santa Maria-Goleta CA MSA",
           5082
          ],
          [
           "fortuna",
           "california",
           "CA NONMETROPOLITAN AREA",
           12000
          ],
          [
           "camp pendleton south",
           "california",
           null,
           10616
          ],
          [
           "castaic",
           "california",
           "Los Angeles-Long Beach-Santa Ana CA MSA",
           19015
          ],
          [
           "wasco",
           "california",
           "Bakersfield CA MSA",
           26279
          ],
          [
           "palos verdes peninsula",
           "california",
           "Los Angeles-Long Beach-Santa Ana CA MSA",
           0
          ],
          [
           "cameron park",
           "california",
           null,
           18228
          ],
          [
           "pinole",
           "california",
           "San Francisco-Oakland-Fremont CA MSA",
           19269
          ],
          [
           "dixon",
           "california",
           "Vallejo-Fairfield CA MSA",
           19390
          ],
          [
           "mcclellan park",
           "california",
           null,
           743
          ],
          [
           "fairfax",
           "california",
           "San Francisco-Oakland-Fremont CA MSA",
           7626
          ],
          [
           "lake arrowhead",
           "california",
           "Riverside-San Bernardino-Ontario CA MSA",
           12424
          ],
          [
           "la canada flintridge",
           "california",
           "Los Angeles-Long Beach-Santa Ana CA MSA",
           20246
          ],
          [
           "mather",
           "california",
           "Sacramento-Arden-Arcade-Roseville CA MSA",
           4272
          ],
          [
           "stevenson ranch",
           "california",
           "Los Angeles-Long Beach-Santa Ana CA MSA",
           17557
          ],
          [
           "mariposa",
           "california",
           "CA NONMETROPOLITAN AREA",
           2173
          ],
          [
           "yountville",
           "california",
           "Napa CA MSA",
           3017
          ],
          [
           "french camp",
           "california",
           "Stockton CA MSA",
           3376
          ],
          [
           "mira mesa",
           "california",
           null,
           70000
          ],
          [
           "brawley",
           "california",
           "El Centro CA MSA",
           25897
          ],
          [
           "lakeside",
           "california",
           "OR NONMETROPOLITAN AREA",
           20648
          ],
          [
           "exeter",
           "california",
           "Visalia-Porterville CA MSA",
           10548
          ],
          [
           "biola",
           "california",
           "Fresno CA MSA",
           1623
          ],
          [
           "montrose",
           "california",
           "MO NONMETROPOLITAN AREA",
           0
          ],
          [
           "galt",
           "california",
           "Sacramento-Arden-Arcade-Roseville CA MSA",
           25303
          ],
          [
           "oakley",
           "california",
           "Salt Lake City UT MSA",
           39813
          ],
          [
           "lynwood",
           "california",
           "Los Angeles-Long Beach-Santa Ana CA MSA",
           71989
          ],
          [
           "belvedere",
           "california",
           "San Francisco-Oakland-Fremont CA MSA",
           2121
          ],
          [
           "solvang",
           "california",
           "Santa Barbara-Santa Maria-Goleta CA MSA",
           5741
          ],
          [
           "shafter",
           "california",
           "Bakersfield CA MSA",
           18336
          ],
          [
           "arvin",
           "california",
           "Bakersfield CA MSA",
           20876
          ],
          [
           "camp pendleton north",
           "california",
           null,
           5200
          ],
          [
           "valley center",
           "california",
           "San Diego-Carlsbad-San Marcos CA MSA",
           9277
          ],
          [
           "crescent city",
           "california",
           "CA NONMETROPOLITAN AREA",
           6774
          ],
          [
           "hollywood",
           "california",
           "Miami-Fort Lauderdale-Pompano Beach FL MSA",
           167664
          ],
          [
           "taft",
           "california",
           "Bakersfield CA MSA",
           9495
          ],
          [
           "wildomar",
           "california",
           "Riverside-San Bernardino-Ontario CA MSA",
           35632
          ],
          [
           "healdsburg",
           "california",
           "Santa Rosa-Petaluma CA MSA",
           11742
          ],
          [
           "paso robles",
           "california",
           "San Luis Obispo-Paso Robles CA MSA",
           27157
          ],
          [
           "american canyon",
           "california",
           "Napa CA MSA",
           20554
          ],
          [
           "lawndale",
           "california",
           "Los Angeles-Long Beach-Santa Ana CA MSA",
           33430
          ],
          [
           "paradise",
           "california",
           "Chico CA MSA",
           26476
          ],
          [
           "lathrop",
           "california",
           "Stockton CA MSA",
           20866
          ],
          [
           "laguna woods",
           "california",
           "Los Angeles-Long Beach-Santa Ana CA MSA",
           16406
          ],
          [
           "bloomington",
           "california",
           "Riverside-San Bernardino-Ontario CA MSA",
           23851
          ],
          [
           "norco",
           "california",
           "Riverside-San Bernardino-Ontario CA MSA",
           26289
          ],
          [
           "mount shasta",
           "california",
           "CA NONMETROPOLITAN AREA",
           3296
          ],
          [
           "jurupa valley",
           "california",
           "Los Angeles-Long Beach-Santa Ana CA MSA",
           21930
          ],
          [
           "south gate",
           "california",
           "Los Angeles-Long Beach-Santa Ana CA MSA",
           96401
          ],
          [
           "suisun city",
           "california",
           "Vallejo-Fairfield CA MSA",
           29663
          ],
          [
           "atwater",
           "california",
           "Merced CA MSA",
           29237
          ],
          [
           "pebble beach",
           "california",
           "Salinas CA MSA",
           0
          ],
          [
           "ojai",
           "california",
           "Oxnard-Thousand Oaks-Ventura CA MSA",
           7627
          ],
          [
           "corte madera",
           "california",
           "San Francisco-Oakland-Fremont CA MSA",
           9901
          ],
          [
           "sierra madre",
           "california",
           "Los Angeles-Long Beach-Santa Ana CA MSA",
           11163
          ],
          [
           "montclair",
           "california",
           "Riverside-San Bernardino-Ontario CA MSA",
           38690
          ],
          [
           "orland",
           "california",
           "CA NONMETROPOLITAN AREA",
           7550
          ],
          [
           "anderson",
           "california",
           "Redding CA MSA",
           10217
          ],
          [
           "rio vista",
           "california",
           "Vallejo-Fairfield CA MSA",
           8348
          ],
          [
           "yreka",
           "california",
           "CA NONMETROPOLITAN AREA",
           7597
          ],
          [
           "fort irwin",
           "california",
           "Riverside-San Bernardino-Ontario CA MSA",
           8845
          ],
          [
           "ridgecrest",
           "california",
           "Bakersfield CA MSA",
           28780
          ],
          [
           "willowbrook",
           "california",
           "Chicago-Naperville-Joliet IL-IN-WI MSA",
           35983
          ],
          [
           "red bluff",
           "california",
           "CA NONMETROPOLITAN AREA",
           14131
          ],
          [
           "duarte",
           "california",
           "Los Angeles-Long Beach-Santa Ana CA MSA",
           21990
          ],
          [
           "loma linda",
           "california",
           "Riverside-San Bernardino-Ontario CA MSA",
           24045
          ],
          [
           "fair oaks",
           "california",
           "Sacramento-Arden-Arcade-Roseville CA MSA",
           30912
          ]
         ],
         "hovertemplate": "longitude=%{x}<br>latitude=%{y}<br>city=%{customdata[0]}<br>state=%{customdata[1]}<br>msa=%{customdata[2]}<br>population=%{customdata[3]}<br>cluster=%{marker.color}<extra></extra>",
         "legendgroup": "",
         "marker": {
          "color": [
           86,
           118,
           -1,
           55,
           145,
           125,
           99,
           96,
           137,
           92,
           96,
           -1,
           96,
           141,
           95,
           96,
           55,
           121,
           131,
           134,
           -1,
           86,
           127,
           96,
           111,
           76,
           121,
           117,
           71,
           100,
           99,
           143,
           143,
           132,
           77,
           122,
           121,
           130,
           128,
           96,
           72,
           94,
           65,
           55,
           110,
           108,
           143,
           145,
           95,
           -1,
           124,
           143,
           125,
           143,
           96,
           118,
           119,
           127,
           -1,
           118,
           117,
           127,
           127,
           136,
           -1,
           146,
           -1,
           136,
           -1,
           143,
           76,
           140,
           -1,
           121,
           143,
           86,
           79,
           137,
           -1,
           -1,
           -1,
           -1,
           143,
           20,
           83,
           108,
           143,
           96,
           -1,
           -1,
           77,
           130,
           137,
           -1,
           110,
           67,
           -1,
           121,
           95,
           143,
           127,
           83,
           -1,
           108,
           55,
           143,
           113,
           94,
           -1,
           94,
           79,
           132,
           134,
           137,
           139,
           96,
           137,
           -1,
           145,
           95,
           111,
           65,
           -1,
           70,
           -1,
           -1,
           86,
           -1,
           143,
           -1,
           -1,
           139,
           77,
           -1,
           -1,
           96,
           137,
           -1,
           79,
           143,
           137,
           -1,
           143,
           140,
           -1,
           127,
           -1,
           139,
           66,
           -1,
           -1,
           121,
           -1,
           -1,
           139,
           101,
           122,
           -1,
           136,
           -1,
           -1,
           144,
           101,
           111,
           55,
           -1,
           136,
           115,
           113,
           116,
           -1,
           -1,
           79,
           -1,
           87,
           -1,
           79,
           143,
           139,
           -1,
           92,
           143,
           95,
           137,
           143,
           104,
           116,
           137,
           -1,
           137,
           140,
           86,
           143,
           143,
           121,
           -1,
           132,
           107,
           -1,
           55,
           55,
           111,
           71,
           -1,
           143,
           115,
           96,
           -1,
           143,
           145,
           121,
           141,
           -1,
           -1,
           55,
           -1,
           132,
           94,
           143,
           143,
           -1,
           95,
           121,
           123,
           77,
           -1,
           87,
           110,
           94,
           141,
           112,
           -1,
           55,
           124,
           129,
           136,
           96,
           65,
           143,
           128,
           140,
           137,
           72,
           110,
           143,
           103,
           -1,
           -1,
           -1,
           84,
           -1,
           121,
           66,
           137,
           137,
           -1,
           136,
           122,
           66,
           139,
           121,
           -1,
           145,
           118,
           129,
           -1,
           139,
           143,
           -1,
           101,
           127,
           137,
           143,
           114,
           55,
           121,
           108,
           -1,
           139,
           114,
           143,
           121,
           -1,
           108,
           137,
           65,
           106,
           143,
           136,
           108,
           86,
           110,
           103,
           104,
           -1,
           143,
           112,
           143,
           145,
           -1,
           94,
           143,
           145,
           76,
           126,
           145,
           132,
           -1,
           134,
           87,
           79,
           140,
           96,
           96,
           96,
           140,
           -1,
           137,
           77,
           85,
           45,
           121,
           121,
           103,
           99,
           99,
           -1,
           77,
           77,
           137,
           70,
           78,
           108,
           143,
           143,
           143,
           138,
           91,
           143,
           135,
           132,
           139,
           110,
           117,
           108,
           78,
           143,
           137,
           143,
           135,
           136,
           109,
           91,
           -1,
           114,
           112,
           92,
           108,
           92,
           143,
           108,
           99,
           143,
           131,
           136,
           96,
           86,
           143,
           -1,
           141,
           137,
           113,
           143,
           108,
           -1,
           120,
           143,
           146,
           134,
           134,
           137,
           143,
           137,
           134,
           118,
           141,
           100,
           -1,
           128,
           143,
           139,
           143,
           -1,
           143,
           126,
           121,
           109,
           143,
           130,
           139,
           138,
           137,
           84,
           77,
           99,
           55,
           110,
           114,
           135,
           137,
           114,
           128,
           86,
           -1,
           -1,
           70,
           99,
           143,
           137,
           104,
           79,
           128,
           143,
           -1,
           143,
           65,
           136,
           143,
           -1,
           79,
           108,
           137,
           121,
           91,
           79,
           52,
           96,
           144,
           -1,
           123,
           140,
           132,
           132,
           95,
           143,
           107,
           102,
           132,
           -1,
           72,
           86,
           143,
           115,
           142,
           137,
           129,
           -1,
           121,
           143,
           79,
           143,
           138,
           137,
           118,
           137,
           114,
           136,
           143,
           127,
           139,
           143,
           136,
           76,
           143,
           137,
           116,
           136,
           143,
           105,
           143,
           142,
           105,
           139,
           143,
           55,
           143,
           139,
           -1,
           137,
           -1,
           99,
           -1,
           143,
           143,
           -1,
           139,
           118,
           146,
           134,
           -1,
           113,
           55,
           110,
           -1,
           -1,
           105,
           120,
           67,
           137,
           -1,
           136,
           87,
           121,
           127,
           123,
           144,
           121,
           119,
           -1,
           96,
           109,
           112,
           -1,
           114,
           -1,
           66,
           144,
           122,
           102,
           143,
           127,
           -1,
           67,
           52,
           104,
           106,
           -1,
           137,
           -1,
           117,
           96,
           55,
           136,
           137,
           -1,
           109,
           108,
           130,
           101,
           31,
           101,
           143,
           92,
           111,
           79,
           85,
           127,
           143,
           132,
           -1,
           45,
           102,
           31,
           -1,
           -1,
           143,
           45,
           143,
           129,
           121
          ],
          "coloraxis": "coloraxis",
          "symbol": "circle"
         },
         "mode": "markers",
         "name": "",
         "orientation": "v",
         "showlegend": false,
         "type": "scatter",
         "x": [
          -116.39029,
          -118.5818,
          -119.9907,
          -120.6655,
          -122.07524,
          -117.2776,
          -118.7092,
          -122.9025,
          -118.3023,
          -121.94302,
          -122.4246,
          -117.93535,
          -122.94833,
          -122.45969,
          -122.12219,
          -122.6729,
          -120.51817,
          -121.3543,
          -117.5981,
          -118.44953,
          -116.60196,
          -116.54557,
          -122.5572,
          -122.52415,
          -120.8499,
          -121.538,
          -121.36467,
          -117.27309,
          -121.61691,
          -121.53023,
          -118.7804,
          -118.05785,
          -117.93895,
          -117.64839,
          -119.55597,
          -121.27245,
          -121.29301,
          -117.43505,
          -122.12441,
          -122.82388,
          -119.34734,
          -116.97725,
          -119.51846,
          -120.45794,
          -120.95771,
          -117.66088,
          -118.10583,
          -122.15858,
          -122.0733,
          -118.44897,
          -117.81311,
          -118.22007,
          -117.23059,
          -118.22507,
          -122.63665,
          -118.60147,
          -118.54259,
          -122.48525,
          -121.01779,
          -118.64398,
          -117.32726,
          -122.5247,
          -122.54498,
          -122.29775,
          -120.07987,
          -122.03218,
          -119.01677,
          -122.26087,
          -115.56305,
          -118.15146,
          -121.4016,
          -122.41108,
          -120.84992,
          -121.32828,
          -117.86534,
          -116.37697,
          -121.85162,
          -118.3023,
          -120.79855,
          -122.17969,
          -120.94647,
          -120.8324,
          -118.08173,
          -114.59635,
          -116.21677,
          -117.71283,
          -118.01201,
          -122.7011,
          -116.05417,
          -124.08284,
          -119.70292,
          -117.37032,
          -118.43063,
          -117.03586,
          -120.84715,
          -119.24705,
          -119.64932,
          -121.193,
          -121.8994,
          -118.11701,
          -122.53525,
          -116.17389,
          -117.14642,
          -117.78311,
          -120.62128,
          -117.90006,
          -117.29198,
          -117.04309,
          -121.08217,
          -116.87641,
          -121.92329,
          -117.71978,
          -118.44925,
          -118.46008,
          -122.27108,
          -122.4022,
          -118.29229,
          -118.97208,
          -122.12969,
          -121.95329,
          -120.72353,
          -119.63208,
          -120.8499,
          -118.17396,
          -120.7741,
          -124.1228,
          -116.34311,
          -122.19359,
          -118.19535,
          -120.36015,
          -119.90476,
          -122.13746,
          -119.38707,
          -123.35557,
          -116.76641,
          -122.4682,
          -118.4276,
          -118.39511,
          -121.7324,
          -118.04673,
          -118.35341,
          -122.91583,
          -118.08312,
          -122.39997,
          -120.11487,
          -122.56164,
          -121.12603,
          -122.19774,
          -120.06072,
          -117.8731,
          -122.19137,
          -121.24662,
          -120.73184,
          -117.9295,
          -122.24802,
          -117.56418,
          -121.3111,
          -120.2727,
          -122.34775,
          -116.86808,
          -120.18325,
          -118.2401,
          -117.5147,
          -120.84659,
          -120.67073,
          -119.69429,
          -122.31164,
          -117.11308,
          -117.27115,
          -122.01913,
          -116.91142,
          -121.12966,
          -121.7869,
          -116.43224,
          -121.7733,
          -121.32632,
          -121.80745,
          -118.18702,
          -122.2758,
          -121.02047,
          -121.9708,
          -118.13118,
          -121.95663,
          -118.31507,
          -117.93534,
          -117.22559,
          -122.04024,
          -118.39952,
          -120.1388,
          -118.35813,
          -122.38719,
          -116.50353,
          -118.09673,
          -118.04673,
          -121.17606,
          -117.1092,
          -117.80673,
          -117.18309,
          -119.78291,
          -120.43683,
          -120.64128,
          -120.8502,
          -121.59135,
          -121.55776,
          -118.00673,
          -117.0992,
          -122.45804,
          -121.08075,
          -118.16785,
          -122.0608,
          -121.37217,
          -122.48692,
          -116.31307,
          -117.40922,
          -120.706,
          -121.07689,
          -117.68894,
          -116.95864,
          -117.95868,
          -118.15979,
          -120.4252,
          -122.0308,
          -121.34692,
          -117.20865,
          -119.59374,
          -124.10062,
          -121.7576,
          -120.9774,
          -116.78724,
          -122.4566,
          -117.19451,
          -120.68049,
          -120.5182,
          -117.7773,
          -117.31365,
          -122.23163,
          -123.04806,
          -119.86097,
          -118.23007,
          -122.11385,
          -122.37942,
          -118.28841,
          -119.2873,
          -120.90215,
          -118.17202,
          -121.93579,
          -120.65301,
          -116.71891,
          -115.56944,
          -119.19511,
          -118.32785,
          -121.35444,
          -120.26018,
          -118.39245,
          -118.41786,
          -124.3673,
          -122.26691,
          -121.24439,
          -120.18904,
          -122.25386,
          -121.37162,
          -117.02282,
          -122.03107,
          -118.59814,
          -117.31365,
          -120.92605,
          -122.26052,
          -117.86534,
          -117.14836,
          -117.56644,
          -122.45664,
          -118.28202,
          -118.13257,
          -117.02308,
          -120.59073,
          -121.22578,
          -117.63561,
          -123.20778,
          -122.11413,
          -116.99892,
          -118.15035,
          -121.32995,
          -120.48297,
          -117.70755,
          -118.30897,
          -119.82764,
          -117.08642,
          -118.03534,
          -122.34553,
          -117.61199,
          -116.31001,
          -121.08494,
          -121.80579,
          -117.25115,
          -115.49888,
          -118.07256,
          -117.20281,
          -117.95367,
          -122.11802,
          -119.98435,
          -116.97307,
          -118.08535,
          -122.06496,
          -121.65439,
          -121.90662,
          -122.13413,
          -117.76784,
          -122.5697,
          -118.43897,
          -121.74052,
          -121.91662,
          -122.36608,
          -122.44998,
          -122.70721,
          -122.47026,
          -122.40775,
          -123.80529,
          -118.35313,
          -119.55402,
          -119.29317,
          -122.39168,
          -121.16384,
          -121.28106,
          -121.88468,
          -118.77453,
          -118.78148,
          -121.83748,
          -119.4504,
          -119.61208,
          -118.38702,
          -118.13674,
          -119.05927,
          -117.69811,
          -117.99312,
          -117.89034,
          -117.94145,
          -122.03218,
          -117.29116,
          -118.12285,
          -121.94996,
          -117.81034,
          -122.23524,
          -121.12438,
          -117.22865,
          -117.68922,
          -119.0376,
          -117.9609,
          -118.38841,
          -117.90534,
          -121.97468,
          -122.25664,
          -121.21605,
          -117.30088,
          -122.00942,
          -116.97392,
          -117.16614,
          -121.98774,
          -117.6031,
          -122.03997,
          -118.03729,
          -117.66255,
          -118.76287,
          -118.10535,
          -117.59311,
          -122.28525,
          -122.81638,
          -116.46529,
          -117.90756,
          -121.42618,
          -122.42859,
          -118.36174,
          -117.26531,
          -118.10479,
          -117.672,
          -121.93579,
          -118.60953,
          -117.99895,
          -121.97802,
          -118.53675,
          -118.48472,
          -118.39647,
          -118.10646,
          -118.45174,
          -118.50119,
          -118.60592,
          -122.46192,
          -121.4944,
          -119.64568,
          -122.15608,
          -117.96868,
          -122.08385,
          -117.85311,
          -121.06106,
          -118.06479,
          -121.89496,
          -121.28801,
          -121.29078,
          -117.82311,
          -117.39616,
          -122.16608,
          -122.03635,
          -118.49138,
          -119.17705,
          -119.77237,
          -118.80565,
          -120.65962,
          -120.99688,
          -116.96253,
          -121.95524,
          -118.41647,
          -117.03142,
          -122.0808,
          -116.54529,
          -121.87468,
          -124.16367,
          -118.11646,
          -118.88204,
          -118.24368,
          -118.40036,
          -117.24254,
          -121.80217,
          -122.08635,
          -118.07285,
          -117.9351,
          -118.18923,
          -119.69819,
          -122.28858,
          -118.03284,
          -121.76801,
          -121.89468,
          -117.72712,
          -118.34063,
          -121.23578,
          -117.18588,
          -121.75689,
          -119.01871,
          -122.71443,
          -118.25508,
          -117.21392,
          -117.18254,
          -122.32553,
          -117.75888,
          -117.75228,
          -122.01468,
          -117.92534,
          -117.16472,
          -121.69579,
          -117.65089,
          -122.28553,
          -119.29206,
          -116.41279,
          -117.94951,
          -117.0842,
          -117.92895,
          -118.35257,
          -117.28977,
          -117.99923,
          -121.30273,
          -118.02757,
          -121.6555,
          -117.9145,
          -122.02301,
          -118.30896,
          -118.63842,
          -118.41091,
          -117.03003,
          -122.29525,
          -117.87034,
          -122.53109,
          -122.23635,
          -117.86783,
          -122.2708,
          -121.56828,
          -118.15979,
          -118.37897,
          -121.98857,
          -122.27275,
          -117.94617,
          -117.37948,
          -118.13396,
          -117.91867,
          -117.35059,
          -122.14108,
          -118.12701,
          -120.43572,
          -117.99812,
          -122.18219,
          -122.57971,
          -118.39647,
          -120.38214,
          -118.83759,
          -123.79889,
          -117.82617,
          -118.14452,
          -122.41942,
          -122.14302,
          -118.6012,
          -121.99996,
          -118.44897,
          -118.47203,
          -117.2742,
          -120.476,
          -120.93549,
          -120.19265,
          -124.15728,
          -117.37929,
          -118.62287,
          -119.34095,
          -118.3806,
          -120.98716,
          -122.29886,
          -121.8233,
          -121.4016,
          -122.58887,
          -117.18921,
          -118.18785,
          -121.2832,
          -118.57372,
          -119.96628,
          -122.36081,
          -121.27106,
          -117.14392,
          -115.53027,
          -116.92225,
          -119.14205,
          -120.01627,
          -118.2242,
          -121.29995,
          -121.71245,
          -118.21146,
          -122.46442,
          -120.13765,
          -119.27178,
          -118.82843,
          -117.31603,
          -117.0342,
          -124.20175,
          -118.32674,
          -119.45651,
          -117.28004,
          -122.86916,
          -120.691,
          -122.2608,
          -118.35257,
          -121.62192,
          -121.27661,
          -117.72533,
          -117.39588,
          -117.54866,
          -122.31225,
          -117.51644,
          -118.21202,
          -122.009,
          -120.60908,
          -121.9466,
          -119.24289,
          -122.52748,
          -118.05285,
          -117.68978,
          -122.19637,
          -122.29778,
          -121.69583,
          -122.63447,
          -116.68475,
          -117.6709,
          -118.25507,
          -122.23583,
          -117.97729,
          -117.26115,
          -121.27217
         ],
         "xaxis": "x",
         "y": [
          33.82002,
          34.115,
          38.1885,
          35.3053,
          37.98353,
          33.8888,
          34.0423,
          38.70769,
          33.9414,
          38.44463,
          38.45971,
          34.91637,
          38.40741,
          37.67688,
          37.12606,
          38.3406,
          34.7483,
          39.1095,
          34.1222,
          34.18991,
          33.07866,
          33.90196,
          37.95215,
          38.36408,
          37.3969,
          36.84551,
          38.55185,
          33.68502,
          39.14045,
          38.58046,
          34.02577,
          34.10723,
          34.06862,
          34.09751,
          36.70801,
          38.1302,
          38.89156,
          34.09223,
          37.68104,
          38.40214,
          36.20773,
          33.92946,
          34.39888,
          34.63915,
          37.59493,
          33.68641,
          34.09611,
          38.04937,
          37.05134,
          35.13219,
          33.88863,
          33.89585,
          33.93752,
          33.98168,
          38.23242,
          34.09362,
          34.39166,
          37.85909,
          39.26173,
          34.19731,
          33.66808,
          37.9485,
          37.90604,
          37.88687,
          34.61443,
          37.8502,
          36.06523,
          37.77099,
          32.792,
          33.96529,
          36.85245,
          37.63049,
          37.05828,
          38.61713,
          34.02029,
          33.72255,
          36.61107,
          34.26695,
          38.72963,
          37.87715,
          39.93682,
          35.31109,
          33.90224,
          33.6103,
          33.7207,
          33.61252,
          33.91724,
          38.33964,
          34.13556,
          40.86652,
          36.82523,
          34.1064,
          34.05612,
          32.96282,
          37.76659,
          35.76884,
          37.328,
          38.82129,
          36.97717,
          33.88168,
          37.93409,
          33.6803,
          33.72835,
          33.54225,
          35.12164,
          33.91668,
          33.03699,
          34.03363,
          38.68574,
          33.92557,
          36.55524,
          34.09668,
          34.15112,
          33.99084,
          37.55855,
          38.43685,
          33.73585,
          37.64855,
          37.83493,
          36.97523,
          37.38688,
          34.43666,
          35.36581,
          35.05247,
          38.3488,
          40.2443,
          33.71791,
          39.52433,
          33.89807,
          36.13968,
          36.26326,
          37.37966,
          36.54328,
          39.40961,
          32.83505,
          38.5063,
          33.9728,
          37.36354,
          36.4797,
          34.05195,
          34.1389,
          39.04295,
          33.86585,
          37.68077,
          34.66776,
          37.97465,
          36.21274,
          37.46133,
          36.96134,
          33.5981,
          39.27628,
          38.62629,
          35.17998,
          34.9045,
          37.53188,
          33.96358,
          38.291,
          37.8141,
          37.93576,
          33.04171,
          39.32796,
          34.2242,
          33.9855,
          37.49466,
          35.48942,
          35.61635,
          37.91576,
          32.58394,
          32.99115,
          37.59577,
          34.2439,
          37.4716,
          36.8044,
          34.11417,
          38.67852,
          36.42469,
          36.27024,
          33.97751,
          37.52021,
          36.12885,
          38.52491,
          34.18973,
          36.98801,
          33.79224,
          34.10695,
          33.28892,
          37.52966,
          33.86224,
          39.1721,
          33.78779,
          37.59855,
          33.96173,
          33.98307,
          33.8464,
          38.67796,
          34.20779,
          34.10668,
          32.68589,
          36.30078,
          34.68609,
          35.14275,
          37.4085,
          39.14573,
          39.51394,
          33.75918,
          32.67811,
          38.29186,
          35.56414,
          33.80446,
          37.94798,
          38.68574,
          37.61383,
          34.13473,
          34.58277,
          35.54969,
          38.89657,
          34.01223,
          33.78391,
          34.01973,
          34.00057,
          38.3941,
          36.97412,
          38.46449,
          34.12834,
          36.65912,
          40.94652,
          38.5374,
          37.6324,
          33.91752,
          37.493,
          32.89991,
          38.19603,
          34.7483,
          33.8445,
          34.0339,
          37.82437,
          38.33325,
          34.41333,
          34.0039,
          37.69465,
          37.5741,
          34.25223,
          36.2577,
          37.63826,
          34.0239,
          37.94103,
          40.41628,
          33.74002,
          32.84755,
          34.14778,
          33.34281,
          39.10917,
          37.123,
          33.80105,
          34.05557,
          40.4662,
          38.03298,
          38.29575,
          36.60662,
          37.42994,
          38.4088,
          34.89859,
          37.97798,
          34.20112,
          34.0739,
          38.66574,
          37.50716,
          34.13612,
          33.49364,
          33.87529,
          37.87354,
          33.83141,
          33.94001,
          32.76783,
          35.11859,
          38.67851,
          33.57086,
          39.15017,
          37.38522,
          32.74477,
          34.11612,
          38.70824,
          37.30216,
          33.52253,
          34.18084,
          34.43583,
          33.11921,
          34.13973,
          37.96215,
          33.42697,
          33.66336,
          37.70576,
          38.00492,
          33.37642,
          32.67895,
          33.80307,
          33.02032,
          33.70918,
          37.88576,
          38.93324,
          33.74761,
          33.94724,
          37.90631,
          37.1305,
          37.42827,
          38.01937,
          34.10084,
          38.10742,
          34.28195,
          38.54491,
          36.61774,
          37.5841,
          38.57574,
          38.32686,
          38.50519,
          37.65466,
          39.44572,
          33.96168,
          36.51384,
          34.27834,
          40.58654,
          38.76323,
          38.70712,
          38.02798,
          34.13639,
          34.26945,
          39.72849,
          36.59634,
          36.57078,
          33.74446,
          34.69804,
          34.35417,
          33.46697,
          33.80252,
          34.09001,
          33.77391,
          37.323,
          34.53611,
          34.06251,
          37.28717,
          34.02862,
          37.38411,
          37.74159,
          33.78252,
          33.64697,
          34.21639,
          34.08529,
          33.84918,
          33.97612,
          37.22661,
          38.10409,
          37.79743,
          34.42639,
          39.21433,
          32.83838,
          33.14337,
          38.35658,
          33.64086,
          38.24936,
          33.81696,
          33.50169,
          34.17917,
          34.00946,
          34.1064,
          37.83132,
          38.54713,
          33.77974,
          34.13362,
          37.73987,
          37.46355,
          34.09001,
          32.95949,
          33.74141,
          33.60002,
          37.70215,
          34.44361,
          34.14806,
          37.77993,
          34.22834,
          34.23639,
          34.14862,
          34.1214,
          33.98029,
          34.15917,
          34.16834,
          37.70577,
          38.58157,
          36.32745,
          37.72493,
          33.99307,
          37.38605,
          33.78779,
          39.21906,
          33.85835,
          37.33939,
          38.75212,
          37.9577,
          33.66946,
          33.95335,
          37.42411,
          37.36883,
          34.01949,
          34.1975,
          36.74773,
          34.14584,
          35.28275,
          37.6391,
          32.79477,
          37.35411,
          33.91918,
          32.74255,
          37.66882,
          33.8303,
          37.66243,
          40.80207,
          34.57943,
          34.28556,
          34.05223,
          34.07362,
          33.20004,
          36.6844,
          37.6941,
          34.08057,
          34.9261,
          33.76696,
          34.42083,
          38.01714,
          33.97918,
          37.68187,
          36.60024,
          33.56504,
          33.83585,
          38.79073,
          34.50083,
          36.91023,
          35.37329,
          38.44047,
          34.14251,
          33.55391,
          34.05557,
          37.56299,
          33.9938,
          34.05529,
          37.05106,
          33.87029,
          32.71571,
          37.93187,
          34.06334,
          38.29714,
          36.33023,
          33.73974,
          34.02001,
          32.64005,
          33.61891,
          33.9164,
          34.10834,
          33.6603,
          38.58907,
          34.06862,
          36.67774,
          33.83529,
          37.26383,
          33.88835,
          34.15778,
          33.88474,
          32.65783,
          37.97715,
          33.87224,
          37.97353,
          37.48522,
          33.74557,
          37.80437,
          37.00578,
          33.88946,
          34.17223,
          37.54827,
          37.87159,
          33.93196,
          33.19587,
          33.85363,
          33.64113,
          33.15809,
          37.46883,
          34.09529,
          34.95303,
          33.86751,
          37.45383,
          38.5788,
          34.02112,
          37.98409,
          34.17056,
          39.3075,
          33.74585,
          34.14778,
          37.77493,
          37.44188,
          34.25723,
          37.82159,
          34.18667,
          34.42333,
          32.84727,
          35.04275,
          37.73604,
          34.6136,
          40.59819,
          33.22844,
          34.48888,
          35.59412,
          33.7669,
          38.66879,
          38.00437,
          38.44546,
          38.66219,
          37.98715,
          34.24834,
          34.19917,
          38.5489,
          34.39048,
          37.48494,
          38.40158,
          37.88409,
          32.9156,
          32.97866,
          32.85727,
          36.29606,
          36.80217,
          34.2064,
          38.25464,
          37.99742,
          33.93029,
          37.8727,
          34.59582,
          35.50051,
          35.20913,
          33.31465,
          33.21837,
          41.75595,
          34.09834,
          35.14247,
          33.59891,
          38.61047,
          35.62664,
          38.17492,
          33.88724,
          39.75961,
          37.8227,
          33.6103,
          34.07029,
          33.93113,
          41.31024,
          33.99251,
          33.95474,
          38.2473,
          37.34772,
          36.5663,
          34.44805,
          37.92548,
          34.16167,
          34.07751,
          39.74738,
          40.44821,
          38.16389,
          41.73542,
          35.26275,
          35.62246,
          33.91696,
          40.17849,
          34.13945,
          34.04835,
          38.64463
         ],
         "yaxis": "y"
        }
       ],
       "layout": {
        "coloraxis": {
         "colorbar": {
          "title": {
           "text": "cluster"
          }
         },
         "colorscale": [
          [
           0,
           "#0d0887"
          ],
          [
           0.1111111111111111,
           "#46039f"
          ],
          [
           0.2222222222222222,
           "#7201a8"
          ],
          [
           0.3333333333333333,
           "#9c179e"
          ],
          [
           0.4444444444444444,
           "#bd3786"
          ],
          [
           0.5555555555555556,
           "#d8576b"
          ],
          [
           0.6666666666666666,
           "#ed7953"
          ],
          [
           0.7777777777777778,
           "#fb9f3a"
          ],
          [
           0.8888888888888888,
           "#fdca26"
          ],
          [
           1,
           "#f0f921"
          ]
         ]
        },
        "height": 400,
        "legend": {
         "tracegroupgap": 0
        },
        "showlegend": false,
        "template": {
         "data": {
          "bar": [
           {
            "error_x": {
             "color": "#2a3f5f"
            },
            "error_y": {
             "color": "#2a3f5f"
            },
            "marker": {
             "line": {
              "color": "#E5ECF6",
              "width": 0.5
             },
             "pattern": {
              "fillmode": "overlay",
              "size": 10,
              "solidity": 0.2
             }
            },
            "type": "bar"
           }
          ],
          "barpolar": [
           {
            "marker": {
             "line": {
              "color": "#E5ECF6",
              "width": 0.5
             },
             "pattern": {
              "fillmode": "overlay",
              "size": 10,
              "solidity": 0.2
             }
            },
            "type": "barpolar"
           }
          ],
          "carpet": [
           {
            "aaxis": {
             "endlinecolor": "#2a3f5f",
             "gridcolor": "white",
             "linecolor": "white",
             "minorgridcolor": "white",
             "startlinecolor": "#2a3f5f"
            },
            "baxis": {
             "endlinecolor": "#2a3f5f",
             "gridcolor": "white",
             "linecolor": "white",
             "minorgridcolor": "white",
             "startlinecolor": "#2a3f5f"
            },
            "type": "carpet"
           }
          ],
          "choropleth": [
           {
            "colorbar": {
             "outlinewidth": 0,
             "ticks": ""
            },
            "type": "choropleth"
           }
          ],
          "contour": [
           {
            "colorbar": {
             "outlinewidth": 0,
             "ticks": ""
            },
            "colorscale": [
             [
              0,
              "#0d0887"
             ],
             [
              0.1111111111111111,
              "#46039f"
             ],
             [
              0.2222222222222222,
              "#7201a8"
             ],
             [
              0.3333333333333333,
              "#9c179e"
             ],
             [
              0.4444444444444444,
              "#bd3786"
             ],
             [
              0.5555555555555556,
              "#d8576b"
             ],
             [
              0.6666666666666666,
              "#ed7953"
             ],
             [
              0.7777777777777778,
              "#fb9f3a"
             ],
             [
              0.8888888888888888,
              "#fdca26"
             ],
             [
              1,
              "#f0f921"
             ]
            ],
            "type": "contour"
           }
          ],
          "contourcarpet": [
           {
            "colorbar": {
             "outlinewidth": 0,
             "ticks": ""
            },
            "type": "contourcarpet"
           }
          ],
          "heatmap": [
           {
            "colorbar": {
             "outlinewidth": 0,
             "ticks": ""
            },
            "colorscale": [
             [
              0,
              "#0d0887"
             ],
             [
              0.1111111111111111,
              "#46039f"
             ],
             [
              0.2222222222222222,
              "#7201a8"
             ],
             [
              0.3333333333333333,
              "#9c179e"
             ],
             [
              0.4444444444444444,
              "#bd3786"
             ],
             [
              0.5555555555555556,
              "#d8576b"
             ],
             [
              0.6666666666666666,
              "#ed7953"
             ],
             [
              0.7777777777777778,
              "#fb9f3a"
             ],
             [
              0.8888888888888888,
              "#fdca26"
             ],
             [
              1,
              "#f0f921"
             ]
            ],
            "type": "heatmap"
           }
          ],
          "heatmapgl": [
           {
            "colorbar": {
             "outlinewidth": 0,
             "ticks": ""
            },
            "colorscale": [
             [
              0,
              "#0d0887"
             ],
             [
              0.1111111111111111,
              "#46039f"
             ],
             [
              0.2222222222222222,
              "#7201a8"
             ],
             [
              0.3333333333333333,
              "#9c179e"
             ],
             [
              0.4444444444444444,
              "#bd3786"
             ],
             [
              0.5555555555555556,
              "#d8576b"
             ],
             [
              0.6666666666666666,
              "#ed7953"
             ],
             [
              0.7777777777777778,
              "#fb9f3a"
             ],
             [
              0.8888888888888888,
              "#fdca26"
             ],
             [
              1,
              "#f0f921"
             ]
            ],
            "type": "heatmapgl"
           }
          ],
          "histogram": [
           {
            "marker": {
             "pattern": {
              "fillmode": "overlay",
              "size": 10,
              "solidity": 0.2
             }
            },
            "type": "histogram"
           }
          ],
          "histogram2d": [
           {
            "colorbar": {
             "outlinewidth": 0,
             "ticks": ""
            },
            "colorscale": [
             [
              0,
              "#0d0887"
             ],
             [
              0.1111111111111111,
              "#46039f"
             ],
             [
              0.2222222222222222,
              "#7201a8"
             ],
             [
              0.3333333333333333,
              "#9c179e"
             ],
             [
              0.4444444444444444,
              "#bd3786"
             ],
             [
              0.5555555555555556,
              "#d8576b"
             ],
             [
              0.6666666666666666,
              "#ed7953"
             ],
             [
              0.7777777777777778,
              "#fb9f3a"
             ],
             [
              0.8888888888888888,
              "#fdca26"
             ],
             [
              1,
              "#f0f921"
             ]
            ],
            "type": "histogram2d"
           }
          ],
          "histogram2dcontour": [
           {
            "colorbar": {
             "outlinewidth": 0,
             "ticks": ""
            },
            "colorscale": [
             [
              0,
              "#0d0887"
             ],
             [
              0.1111111111111111,
              "#46039f"
             ],
             [
              0.2222222222222222,
              "#7201a8"
             ],
             [
              0.3333333333333333,
              "#9c179e"
             ],
             [
              0.4444444444444444,
              "#bd3786"
             ],
             [
              0.5555555555555556,
              "#d8576b"
             ],
             [
              0.6666666666666666,
              "#ed7953"
             ],
             [
              0.7777777777777778,
              "#fb9f3a"
             ],
             [
              0.8888888888888888,
              "#fdca26"
             ],
             [
              1,
              "#f0f921"
             ]
            ],
            "type": "histogram2dcontour"
           }
          ],
          "mesh3d": [
           {
            "colorbar": {
             "outlinewidth": 0,
             "ticks": ""
            },
            "type": "mesh3d"
           }
          ],
          "parcoords": [
           {
            "line": {
             "colorbar": {
              "outlinewidth": 0,
              "ticks": ""
             }
            },
            "type": "parcoords"
           }
          ],
          "pie": [
           {
            "automargin": true,
            "type": "pie"
           }
          ],
          "scatter": [
           {
            "fillpattern": {
             "fillmode": "overlay",
             "size": 10,
             "solidity": 0.2
            },
            "type": "scatter"
           }
          ],
          "scatter3d": [
           {
            "line": {
             "colorbar": {
              "outlinewidth": 0,
              "ticks": ""
             }
            },
            "marker": {
             "colorbar": {
              "outlinewidth": 0,
              "ticks": ""
             }
            },
            "type": "scatter3d"
           }
          ],
          "scattercarpet": [
           {
            "marker": {
             "colorbar": {
              "outlinewidth": 0,
              "ticks": ""
             }
            },
            "type": "scattercarpet"
           }
          ],
          "scattergeo": [
           {
            "marker": {
             "colorbar": {
              "outlinewidth": 0,
              "ticks": ""
             }
            },
            "type": "scattergeo"
           }
          ],
          "scattergl": [
           {
            "marker": {
             "colorbar": {
              "outlinewidth": 0,
              "ticks": ""
             }
            },
            "type": "scattergl"
           }
          ],
          "scattermapbox": [
           {
            "marker": {
             "colorbar": {
              "outlinewidth": 0,
              "ticks": ""
             }
            },
            "type": "scattermapbox"
           }
          ],
          "scatterpolar": [
           {
            "marker": {
             "colorbar": {
              "outlinewidth": 0,
              "ticks": ""
             }
            },
            "type": "scatterpolar"
           }
          ],
          "scatterpolargl": [
           {
            "marker": {
             "colorbar": {
              "outlinewidth": 0,
              "ticks": ""
             }
            },
            "type": "scatterpolargl"
           }
          ],
          "scatterternary": [
           {
            "marker": {
             "colorbar": {
              "outlinewidth": 0,
              "ticks": ""
             }
            },
            "type": "scatterternary"
           }
          ],
          "surface": [
           {
            "colorbar": {
             "outlinewidth": 0,
             "ticks": ""
            },
            "colorscale": [
             [
              0,
              "#0d0887"
             ],
             [
              0.1111111111111111,
              "#46039f"
             ],
             [
              0.2222222222222222,
              "#7201a8"
             ],
             [
              0.3333333333333333,
              "#9c179e"
             ],
             [
              0.4444444444444444,
              "#bd3786"
             ],
             [
              0.5555555555555556,
              "#d8576b"
             ],
             [
              0.6666666666666666,
              "#ed7953"
             ],
             [
              0.7777777777777778,
              "#fb9f3a"
             ],
             [
              0.8888888888888888,
              "#fdca26"
             ],
             [
              1,
              "#f0f921"
             ]
            ],
            "type": "surface"
           }
          ],
          "table": [
           {
            "cells": {
             "fill": {
              "color": "#EBF0F8"
             },
             "line": {
              "color": "white"
             }
            },
            "header": {
             "fill": {
              "color": "#C8D4E3"
             },
             "line": {
              "color": "white"
             }
            },
            "type": "table"
           }
          ]
         },
         "layout": {
          "annotationdefaults": {
           "arrowcolor": "#2a3f5f",
           "arrowhead": 0,
           "arrowwidth": 1
          },
          "autotypenumbers": "strict",
          "coloraxis": {
           "colorbar": {
            "outlinewidth": 0,
            "ticks": ""
           }
          },
          "colorscale": {
           "diverging": [
            [
             0,
             "#8e0152"
            ],
            [
             0.1,
             "#c51b7d"
            ],
            [
             0.2,
             "#de77ae"
            ],
            [
             0.3,
             "#f1b6da"
            ],
            [
             0.4,
             "#fde0ef"
            ],
            [
             0.5,
             "#f7f7f7"
            ],
            [
             0.6,
             "#e6f5d0"
            ],
            [
             0.7,
             "#b8e186"
            ],
            [
             0.8,
             "#7fbc41"
            ],
            [
             0.9,
             "#4d9221"
            ],
            [
             1,
             "#276419"
            ]
           ],
           "sequential": [
            [
             0,
             "#0d0887"
            ],
            [
             0.1111111111111111,
             "#46039f"
            ],
            [
             0.2222222222222222,
             "#7201a8"
            ],
            [
             0.3333333333333333,
             "#9c179e"
            ],
            [
             0.4444444444444444,
             "#bd3786"
            ],
            [
             0.5555555555555556,
             "#d8576b"
            ],
            [
             0.6666666666666666,
             "#ed7953"
            ],
            [
             0.7777777777777778,
             "#fb9f3a"
            ],
            [
             0.8888888888888888,
             "#fdca26"
            ],
            [
             1,
             "#f0f921"
            ]
           ],
           "sequentialminus": [
            [
             0,
             "#0d0887"
            ],
            [
             0.1111111111111111,
             "#46039f"
            ],
            [
             0.2222222222222222,
             "#7201a8"
            ],
            [
             0.3333333333333333,
             "#9c179e"
            ],
            [
             0.4444444444444444,
             "#bd3786"
            ],
            [
             0.5555555555555556,
             "#d8576b"
            ],
            [
             0.6666666666666666,
             "#ed7953"
            ],
            [
             0.7777777777777778,
             "#fb9f3a"
            ],
            [
             0.8888888888888888,
             "#fdca26"
            ],
            [
             1,
             "#f0f921"
            ]
           ]
          },
          "colorway": [
           "#636efa",
           "#EF553B",
           "#00cc96",
           "#ab63fa",
           "#FFA15A",
           "#19d3f3",
           "#FF6692",
           "#B6E880",
           "#FF97FF",
           "#FECB52"
          ],
          "font": {
           "color": "#2a3f5f"
          },
          "geo": {
           "bgcolor": "white",
           "lakecolor": "white",
           "landcolor": "#E5ECF6",
           "showlakes": true,
           "showland": true,
           "subunitcolor": "white"
          },
          "hoverlabel": {
           "align": "left"
          },
          "hovermode": "closest",
          "mapbox": {
           "style": "light"
          },
          "paper_bgcolor": "white",
          "plot_bgcolor": "#E5ECF6",
          "polar": {
           "angularaxis": {
            "gridcolor": "white",
            "linecolor": "white",
            "ticks": ""
           },
           "bgcolor": "#E5ECF6",
           "radialaxis": {
            "gridcolor": "white",
            "linecolor": "white",
            "ticks": ""
           }
          },
          "scene": {
           "xaxis": {
            "backgroundcolor": "#E5ECF6",
            "gridcolor": "white",
            "gridwidth": 2,
            "linecolor": "white",
            "showbackground": true,
            "ticks": "",
            "zerolinecolor": "white"
           },
           "yaxis": {
            "backgroundcolor": "#E5ECF6",
            "gridcolor": "white",
            "gridwidth": 2,
            "linecolor": "white",
            "showbackground": true,
            "ticks": "",
            "zerolinecolor": "white"
           },
           "zaxis": {
            "backgroundcolor": "#E5ECF6",
            "gridcolor": "white",
            "gridwidth": 2,
            "linecolor": "white",
            "showbackground": true,
            "ticks": "",
            "zerolinecolor": "white"
           }
          },
          "shapedefaults": {
           "line": {
            "color": "#2a3f5f"
           }
          },
          "ternary": {
           "aaxis": {
            "gridcolor": "white",
            "linecolor": "white",
            "ticks": ""
           },
           "baxis": {
            "gridcolor": "white",
            "linecolor": "white",
            "ticks": ""
           },
           "bgcolor": "#E5ECF6",
           "caxis": {
            "gridcolor": "white",
            "linecolor": "white",
            "ticks": ""
           }
          },
          "title": {
           "x": 0.05
          },
          "xaxis": {
           "automargin": true,
           "gridcolor": "white",
           "linecolor": "white",
           "ticks": "",
           "title": {
            "standoff": 15
           },
           "zerolinecolor": "white",
           "zerolinewidth": 2
          },
          "yaxis": {
           "automargin": true,
           "gridcolor": "white",
           "linecolor": "white",
           "ticks": "",
           "title": {
            "standoff": 15
           },
           "zerolinecolor": "white",
           "zerolinewidth": 2
          }
         }
        },
        "title": {
         "text": "california"
        },
        "uniformtext": {
         "mode": "hide"
        },
        "width": 800,
        "xaxis": {
         "anchor": "y",
         "domain": [
          0,
          1
         ],
         "title": {
          "text": "longitude"
         }
        },
        "yaxis": {
         "anchor": "x",
         "domain": [
          0,
          1
         ],
         "title": {
          "text": "latitude"
         }
        }
       }
      },
      "text/html": [
       "<div>                            <div id=\"339471ae-f6d2-42f0-8632-1b29a45c49bc\" class=\"plotly-graph-div\" style=\"height:400px; width:800px;\"></div>            <script type=\"text/javascript\">                require([\"plotly\"], function(Plotly) {                    window.PLOTLYENV=window.PLOTLYENV || {};                                    if (document.getElementById(\"339471ae-f6d2-42f0-8632-1b29a45c49bc\")) {                    Plotly.newPlot(                        \"339471ae-f6d2-42f0-8632-1b29a45c49bc\",                        [{\"customdata\":[[\"thousand palms\",\"california\",\"Riverside-San Bernardino-Ontario CA MSA\",7715],[\"sylvia park\",\"california\",null,0],[\"pinecrest\",\"california\",\"CA NONMETROPOLITAN AREA\",0],[\"california polytechnic state university\",\"california\",null,0],[\"pacheco\",\"california\",null,3685],[\"march arb\",\"california\",\"Riverside-San Bernardino-Ontario CA MSA\",989],[\"pepperdine university\",\"california\",null,0],[\"geyserville\",\"california\",\"Santa Rosa-Petaluma CA MSA\",862],[\"westmont\",\"california\",\"Chicago-Naperville-Joliet IL-IN-WI MSA\",31853],[\"allendale\",\"california\",\"New York-Northern New Jersey-Long Island NY-NJ-PA MSA\",1506],[\"rutherford\",\"california\",\"Napa CA MSA\",164],[\"edwards air force base\",\"california\",null,2063],[\"occidental\",\"california\",\"Santa Rosa-Petaluma CA MSA\",1115],[\"colma\",\"california\",null,1520],[\"boulder creek\",\"california\",\"Santa Cruz-Watsonville CA MSA\",4923],[\"sonoma state university\",\"california\",null,0],[\"vandenberg air force base\",\"california\",null,3338],[\"beale afb\",\"california\",\"Yuba City CA MSA\",1020],[\"alta loma\",\"california\",\"Riverside-San Bernardino-Ontario CA MSA\",0],[\"valley glen\",\"california\",null,60000],[\"julian\",\"california\",\"San Diego-Carlsbad-San Marcos CA MSA\",1502],[\"garnet\",\"california\",\"Riverside-San Bernardino-Ontario CA MSA\",7543],[\"kentfield\",\"california\",\"San Francisco-Oakland-Fremont CA MSA\",6485],[\"glen ellen\",\"california\",\"Santa Rosa-Petaluma CA MSA\",784],[\"irwin\",\"california\",\"Riverside-San Bernardino-Ontario CA MSA\",0],[\"san juan bautista\",\"california\",\"San Jose-Sunnyvale-Santa Clara CA MSA\",1961],[\"rosemont\",\"california\",\"New York-Northern New Jersey-Long Island NY-NJ-PA MSA\",22681],[\"canyon lake\",\"california\",\"San Antonio TX MSA\",11080],[\"yuba city\",\"california\",\"Yuba City CA MSA\",66941],[\"west sacramento\",\"california\",\"Sacramento-Arden-Arcade-Roseville CA MSA\",52721],[\"malibu\",\"california\",\"Los Angeles-Long Beach-Santa Ana CA MSA\",12965],[\"temple city\",\"california\",\"Los Angeles-Long Beach-Santa Ana CA MSA\",36365],[\"west covina\",\"california\",\"Los Angeles-Long Beach-Santa Ana CA MSA\",108484],[\"upland\",\"california\",\"Riverside-San Bernardino-Ontario CA MSA\",76443],[\"sanger\",\"california\",\"Fresno CA MSA\",24950],[\"lodi\",\"california\",\"New York-Northern New Jersey-Long Island NY-NJ-PA MSA\",64596],[\"lincoln\",\"california\",\"Sacramento-Arden-Arcade-Roseville CA MSA\",46474],[\"fontana\",\"california\",\"Riverside-San Bernardino-Ontario CA MSA\",208393],[\"san lorenzo\",\"california\",\"San Francisco-Oakland-Fremont CA MSA\",23452],[\"sebastopol\",\"california\",\"Santa Rosa-Petaluma CA MSA\",7678],[\"tulare\",\"california\",\"Visalia-Porterville CA MSA\",62315],[\"beaumont\",\"california\",\"Riverside-San Bernardino-Ontario CA MSA\",43811],[\"carpinteria\",\"california\",\"Santa Barbara-Santa Maria-Goleta CA MSA\",13727],[\"lompoc\",\"california\",\"Santa Barbara-Santa Maria-Goleta CA MSA\",44164],[\"ceres\",\"california\",\"Modesto CA MSA\",47963],[\"foothill ranch\",\"california\",\"Los Angeles-Long Beach-Santa Ana CA MSA\",11698],[\"san gabriel\",\"california\",\"Los Angeles-Long Beach-Santa Ana CA MSA\",40424],[\"benicia\",\"california\",\"Vallejo-Fairfield CA MSA\",28167],[\"felton\",\"california\",\"Santa Cruz-Watsonville CA MSA\",4057],[\"tehachapi\",\"california\",\"Bakersfield CA MSA\",13021],[\"yorba linda\",\"california\",\"Los Angeles-Long Beach-Santa Ana CA MSA\",67973],[\"compton\",\"california\",\"Los Angeles-Long Beach-Santa Ana CA MSA\",98462],[\"moreno valley\",\"california\",\"Riverside-San Bernardino-Ontario CA MSA\",204198],[\"huntington park\",\"california\",\"Los Angeles-Long Beach-Santa Ana CA MSA\",59430],[\"petaluma\",\"california\",\"Santa Rosa-Petaluma CA MSA\",60438],[\"topanga\",\"california\",\"Los Angeles-Long Beach-Santa Ana CA MSA\",8289],[\"santa clarita\",\"california\",\"Los Angeles-Long Beach-Santa Ana CA MSA\",182371],[\"sausalito\",\"california\",\"San Francisco-Oakland-Fremont CA MSA\",7156],[\"nevada city\",\"california\",\"CA NONMETROPOLITAN AREA\",3152],[\"west hills\",\"california\",\"Los Angeles-Long Beach-Santa Ana CA MSA\",41426],[\"lake elsinore\",\"california\",\"Riverside-San Bernardino-Ontario CA MSA\",61981],[\"greenbrae\",\"california\",\"San Francisco-Oakland-Fremont CA MSA\",0],[\"mill valley\",\"california\",\"San Francisco-Oakland-Fremont CA MSA\",14394],[\"albany\",\"california\",\"San Francisco-Oakland-Fremont CA MSA\",19735],[\"santa ynez\",\"california\",\"Santa Barbara-Santa Maria-Goleta CA MSA\",4418],[\"alamo\",\"california\",\"San Francisco-Oakland-Fremont CA MSA\",14570],[\"porterville\",\"california\",\"Visalia-Porterville CA MSA\",56058],[\"alameda\",\"california\",\"San Francisco-Oakland-Fremont CA MSA\",78630],[\"el centro\",\"california\",\"El Centro CA MSA\",43956],[\"bell gardens\",\"california\",\"Los Angeles-Long Beach-Santa Ana CA MSA\",43106],[\"hollister\",\"california\",\"San Jose-Sunnyvale-Santa Clara CA MSA\",37462],[\"san bruno\",\"california\",\"San Francisco-Oakland-Fremont CA MSA\",43185],[\"los banos\",\"california\",\"Merced CA MSA\",37457],[\"carmichael\",\"california\",\"Sacramento-Arden-Arcade-Roseville CA MSA\",61762],[\"walnut\",\"california\",\"Los Angeles-Long Beach-Santa Ana CA MSA\",30237],[\"palm desert\",\"california\",\"Riverside-San Bernardino-Ontario CA MSA\",51869],[\"seaside\",\"california\",\"Salinas CA MSA\",33025],[\"sunland\",\"california\",\"Los Angeles-Long Beach-Santa Ana CA MSA\",15316],[\"placerville\",\"california\",\"Sacramento-Arden-Arcade-Roseville CA MSA\",10650],[\"orinda\",\"california\",\"San Francisco-Oakland-Fremont CA MSA\",19279],[\"quincy\",\"california\",\"Boston-Cambridge-Quincy MA-NH MSA\",1728],[\"los osos\",\"california\",\"San Luis Obispo-Paso Robles CA MSA\",14276],[\"norwalk\",\"california\",\"Los Angeles-Long Beach-Santa Ana CA MSA\",107140],[\"blythe\",\"california\",\"Riverside-San Bernardino-Ontario CA MSA\",19208],[\"indio\",\"california\",\"Riverside-San Bernardino-Ontario CA MSA\",87533],[\"laguna hills\",\"california\",\"Los Angeles-Long Beach-Santa Ana CA MSA\",31748],[\"la mirada\",\"california\",\"Los Angeles-Long Beach-Santa Ana CA MSA\",49520],[\"rohnert park\",\"california\",\"Santa Rosa-Petaluma CA MSA\",42407],[\"twentynine palms\",\"california\",\"Riverside-San Bernardino-Ontario CA MSA\",26025],[\"arcata\",\"california\",\"CA NONMETROPOLITAN AREA\",17843],[\"clovis\",\"california\",\"Fresno CA MSA\",104180],[\"rialto\",\"california\",\"Riverside-San Bernardino-Ontario CA MSA\",103132],[\"westwood\",\"california\",\"CA NONMETROPOLITAN AREA\",2019],[\"poway\",\"california\",\"San Diego-Carlsbad-San Marcos CA MSA\",50157],[\"oakdale\",\"california\",\"Modesto CA MSA\",22259],[\"delano\",\"california\",\"Bakersfield CA MSA\",52733],[\"oakhurst\",\"california\",\"Madera CA MSA\",2829],[\"loomis\",\"california\",\"Sacramento-Arden-Arcade-Roseville CA MSA\",6733],[\"aptos\",\"california\",\"Santa Cruz-Watsonville CA MSA\",6220],[\"bellflower\",\"california\",\"Los Angeles-Long Beach-Santa Ana CA MSA\",78441],[\"larkspur\",\"california\",\"San Francisco-Oakland-Fremont CA MSA\",12417],[\"coachella\",\"california\",\"Riverside-San Bernardino-Ontario CA MSA\",44635],[\"menifee\",\"california\",\"Riverside-San Bernardino-Ontario CA MSA\",87174],[\"laguna beach\",\"california\",\"Los Angeles-Long Beach-Santa Ana CA MSA\",23365],[\"grover beach\",\"california\",\"San Luis Obispo-Paso Robles CA MSA\",13600],[\"brea\",\"california\",\"Los Angeles-Long Beach-Santa Ana CA MSA\",41944],[\"encinitas\",\"california\",\"San Diego-Carlsbad-San Marcos CA MSA\",62930],[\"yucaipa\",\"california\",\"Riverside-San Bernardino-Ontario CA MSA\",53328],[\"el dorado hills\",\"california\",\"Sacramento-Arden-Arcade-Roseville CA MSA\",42108],[\"banning\",\"california\",\"Riverside-San Bernardino-Ontario CA MSA\",30945],[\"carmel by the sea\",\"california\",\"Salinas CA MSA\",3897],[\"claremont\",\"california\",\"Hickory-Lenoir-Morganton NC MSA\",36283],[\"sherman oaks\",\"california\",\"Los Angeles-Long Beach-Santa Ana CA MSA\",52677],[\"venice\",\"california\",\"Sarasota-Bradenton-Venice FL MSA\",40885],[\"foster city\",\"california\",\"MI NONMETROPOLITAN AREA\",33477],[\"oakville\",\"california\",\"Napa CA MSA\",71],[\"san pedro\",\"california\",\"Los Angeles-Long Beach-Santa Ana CA MSA\",78405],[\"mammoth lakes\",\"california\",\"CA NONMETROPOLITAN AREA\",7946],[\"moraga\",\"california\",\"San Francisco-Oakland-Fremont CA MSA\",17256],[\"capitola\",\"california\",\"Santa Cruz-Watsonville CA MSA\",10189],[\"livingston\",\"california\",\"Merced CA MSA\",13902],[\"montecito\",\"california\",null,8965],[\"morro bay\",\"california\",\"San Luis Obispo-Paso Robles CA MSA\",10639],[\"mojave\",\"california\",\"Bakersfield CA MSA\",4238],[\"jackson\",\"california\",\"Jackson MS MSA\",4649],[\"honeydew\",\"california\",\"CA NONMETROPOLITAN AREA\",0],[\"indian wells\",\"california\",\"Riverside-San Bernardino-Ontario CA MSA\",5289],[\"willows\",\"california\",\"CA NONMETROPOLITAN AREA\",6069],[\"east rancho dominguez\",\"california\",null,15135],[\"coalinga\",\"california\",\"Fresno CA MSA\",16564],[\"lemoore station\",\"california\",null,7438],[\"los altos hills\",\"california\",null,8419],[\"dinuba\",\"california\",\"Visalia-Porterville CA MSA\",23702],[\"willits\",\"california\",\"CA NONMETROPOLITAN AREA\",4861],[\"alpine\",\"california\",\"San Diego-Carlsbad-San Marcos CA MSA\",14236],[\"st helena\",\"california\",\"Napa CA MSA\",7059],[\"playa vista\",\"california\",\"Los Angeles-Long Beach-Santa Ana CA MSA\",0],[\"bishop\",\"california\",\"CA NONMETROPOLITAN AREA\",3806],[\"carmel valley\",\"california\",\"Salinas CA MSA\",0],[\"south el monte\",\"california\",\"Los Angeles-Long Beach-Santa Ana CA MSA\",20878],[\"universal city\",\"california\",\"San Antonio TX MSA\",105000],[\"lakeport\",\"california\",\"CA NONMETROPOLITAN AREA\",4807],[\"artesia\",\"california\",\"Los Angeles-Long Beach-Santa Ana CA MSA\",16961],[\"brisbane\",\"california\",\"San Francisco-Oakland-Fremont CA MSA\",4717],[\"los olivos\",\"california\",\"Santa Barbara-Santa Maria-Goleta CA MSA\",1132],[\"san anselmo\",\"california\",\"San Francisco-Oakland-Fremont CA MSA\",12653],[\"king city\",\"california\",\"Salinas CA MSA\",13902],[\"atherton\",\"california\",\"San Francisco-Oakland-Fremont CA MSA\",7167],[\"madera\",\"california\",\"Madera CA MSA\",64208],[\"corona del mar\",\"california\",\"Los Angeles-Long Beach-Santa Ana CA MSA\",0],[\"maxwell\",\"california\",\"Austin-Round Rock TX MSA\",1103],[\"gold river\",\"california\",null,7912],[\"avila beach\",\"california\",\"San Luis Obispo-Paso Robles CA MSA\",1627],[\"edwards afb\",\"california\",\"Bakersfield CA MSA\",2545],[\"redwood shores\",\"california\",null,10500],[\"eastvale\",\"california\",null,59039],[\"twin cities\",\"california\",null,0],[\"priest\",\"california\",null,0],[\"richmond\",\"california\",\"Richmond VA MSA\",109708],[\"ramona\",\"california\",\"San Diego-Carlsbad-San Marcos CA MSA\",20292],[\"truckee\",\"california\",\"CA NONMETROPOLITAN AREA\",16299],[\"la crescenta\",\"california\",\"Los Angeles-Long Beach-Santa Ana CA MSA\",0],[\"mira loma\",\"california\",\"Riverside-San Bernardino-Ontario CA MSA\",0],[\"turlock\",\"california\",\"Modesto CA MSA\",72292],[\"atascadero\",\"california\",\"San Luis Obispo-Paso Robles CA MSA\",29819],[\"lost hills\",\"california\",\"Bakersfield CA MSA\",2412],[\"el cerrito\",\"california\",\"San Francisco-Oakland-Fremont CA MSA\",23549],[\"imperial beach\",\"california\",\"San Diego-Carlsbad-San Marcos CA MSA\",27408],[\"solana beach\",\"california\",\"San Diego-Carlsbad-San Marcos CA MSA\",13449],[\"union city\",\"california\",\"New York-Northern New Jersey-Long Island NY-NJ-PA MSA\",74494],[\"big bear lake\",\"california\",\"Riverside-San Bernardino-Ontario CA MSA\",5213],[\"patterson\",\"california\",\"Modesto CA MSA\",21498],[\"moss landing\",\"california\",\"Salinas CA MSA\",204],[\"yucca valley\",\"california\",\"Riverside-San Bernardino-Ontario CA MSA\",21600],[\"woodland\",\"california\",\"Sacramento-Arden-Arcade-Roseville CA MSA\",58567],[\"soledad\",\"california\",\"Salinas CA MSA\",25003],[\"big sur\",\"california\",\"Salinas CA MSA\",1000],[\"bell\",\"california\",\"Los Angeles-Long Beach-Santa Ana CA MSA\",36205],[\"belmont\",\"california\",\"San Francisco-Oakland-Fremont CA MSA\",27218],[\"san lucas\",\"california\",\"Salinas CA MSA\",269],[\"winters\",\"california\",\"Sacramento-Arden-Arcade-Roseville CA MSA\",7034],[\"altadena\",\"california\",\"Los Angeles-Long Beach-Santa Ana CA MSA\",42777],[\"soquel\",\"california\",\"Santa Cruz-Watsonville CA MSA\",9644],[\"lomita\",\"california\",\"Los Angeles-Long Beach-Santa Ana CA MSA\",20785],[\"irwindale\",\"california\",null,1437],[\"bonsall\",\"california\",\"San Diego-Carlsbad-San Marcos CA MSA\",3982],[\"newark\",\"california\",\"New York-Northern New Jersey-Long Island NY-NJ-PA MSA\",45336],[\"hermosa beach\",\"california\",\"Los Angeles-Long Beach-Santa Ana CA MSA\",19860],[\"tahoe city\",\"california\",\"Sacramento-Arden-Arcade-Roseville CA MSA\",0],[\"rolling hills estates\",\"california\",null,8258],[\"millbrae\",\"california\",\"San Francisco-Oakland-Fremont CA MSA\",22795],[\"desert hot springs\",\"california\",\"Riverside-San Bernardino-Ontario CA MSA\",28335],[\"pico rivera\",\"california\",\"Los Angeles-Long Beach-Santa Ana CA MSA\",64218],[\"la palma\",\"california\",\"Los Angeles-Long Beach-Santa Ana CA MSA\",15904],[\"folsom\",\"california\",\"Philadelphia-Camden-Wilmington PA-NJ-DE-MD MSA\",76375],[\"running springs\",\"california\",\"Riverside-San Bernardino-Ontario CA MSA\",4862],[\"san dimas\",\"california\",\"Los Angeles-Long Beach-Santa Ana CA MSA\",34630],[\"coronado\",\"california\",\"San Diego-Carlsbad-San Marcos CA MSA\",24812],[\"lemoore\",\"california\",\"Hanford-Corcoran CA MSA\",25647],[\"mission hills\",\"california\",\"Los Angeles-Long Beach-Santa Ana CA MSA\",3576],[\"pismo beach\",\"california\",\"San Luis Obispo-Paso Robles CA MSA\",8162],[\"hilmar\",\"california\",\"Merced CA MSA\",0],[\"marysville\",\"california\",\"Seattle-Tacoma-Bellevue WA MSA\",12216],[\"oroville\",\"california\",\"Chico CA MSA\",16260],[\"westminster\",\"california\",\"Los Angeles-Long Beach-Santa Ana CA MSA\",92114],[\"national city\",\"california\",\"San Diego-Carlsbad-San Marcos CA MSA\",61060],[\"sonoma\",\"california\",\"Santa Rosa-Petaluma CA MSA\",11037],[\"cambria\",\"california\",\"San Luis Obispo-Paso Robles CA MSA\",6032],[\"signal hill\",\"california\",\"Los Angeles-Long Beach-Santa Ana CA MSA\",11565],[\"pleasant hill\",\"california\",\"San Francisco-Oakland-Fremont CA MSA\",34810],[\"north highlands\",\"california\",\"Sacramento-Arden-Arcade-Roseville CA MSA\",42694],[\"pacifica\",\"california\",\"San Francisco-Oakland-Fremont CA MSA\",39260],[\"joshua tree\",\"california\",\"Riverside-San Bernardino-Ontario CA MSA\",7414],[\"adelanto\",\"california\",\"Riverside-San Bernardino-Ontario CA MSA\",33166],[\"templeton\",\"california\",\"San Luis Obispo-Paso Robles CA MSA\",7674],[\"auburn\",\"california\",\"Auburn-Opelika AL MSA\",13953],[\"chino\",\"california\",\"Riverside-San Bernardino-Ontario CA MSA\",85595],[\"san jacinto\",\"california\",\"Riverside-San Bernardino-Ontario CA MSA\",46951],[\"industry\",\"california\",\"Pittsburgh PA MSA\",206],[\"commerce\",\"california\",\"GA NONMETROPOLITAN AREA\",13081],[\"porter\",\"california\",\"ME NONMETROPOLITAN AREA\",0],[\"santa cruz\",\"california\",\"Santa Cruz-Watsonville CA MSA\",64220],[\"vineyard\",\"california\",\"Provo-Orem UT MSA\",24836],[\"highland\",\"california\",\"OH NONMETROPOLITAN AREA\",54854],[\"del rey\",\"california\",\"Fresno CA MSA\",1639],[\"mckinleyville\",\"california\",\"CA NONMETROPOLITAN AREA\",15177],[\"university of california davis\",\"california\",null,7311],[\"airport\",\"california\",null,1479],[\"cabazon\",\"california\",\"Riverside-San Bernardino-Ontario CA MSA\",2535],[\"miramar\",\"california\",null,0],[\"sorrento valley\",\"california\",null,5000],[\"san andreas\",\"california\",\"CA NONMETROPOLITAN AREA\",2783],[\"vandenberg afb\",\"california\",null,3387],[\"anaheim hills\",\"california\",\"Los Angeles-Long Beach-Santa Ana CA MSA\",0],[\"grand terrace\",\"california\",\"Riverside-San Bernardino-Ontario CA MSA\",12464],[\"piedmont\",\"california\",\"San Francisco-Oakland-Fremont CA MSA\",11376],[\"bodega bay\",\"california\",\"San Francisco-Oakland-Fremont CA MSA\",1077],[\"isla vista\",\"california\",null,23096],[\"vernon\",\"california\",\"New York-Northern New Jersey-Long Island NY-NJ-PA MSA\",114],[\"ashland\",\"california\",\"ME NONMETROPOLITAN AREA\",21925],[\"hillsborough\",\"california\",\"Durham NC MSA\",11451],[\"tujunga\",\"california\",\"Los Angeles-Long Beach-Santa Ana CA MSA\",26527],[\"loma\",\"california\",\"MT NONMETROPOLITAN AREA\",0],[\"empire\",\"california\",\"Los Angeles-Long Beach-Santa Ana CA MSA\",4189],[\"east los angeles\",\"california\",null,126496],[\"clayton\",\"california\",\"San Francisco-Oakland-Fremont CA MSA\",11867],[\"susanville\",\"california\",\"CA NONMETROPOLITAN AREA\",15247],[\"idyllwild\",\"california\",\"Riverside-San Bernardino-Ontario CA MSA\",3583],[\"imperial\",\"california\",\"El Centro CA MSA\",17095],[\"port hueneme\",\"california\",\"Oxnard-Thousand Oaks-Ventura CA MSA\",22423],[\"avalon\",\"california\",\"Los Angeles-Long Beach-Santa Ana CA MSA\",3799],[\"beale air force base\",\"california\",null,1319],[\"chowchilla\",\"california\",\"Madera CA MSA\",18510],[\"palos verdes estates\",\"california\",null,13682],[\"century city\",\"california\",null,5513],[\"capetown\",\"california\",null,0],[\"rodeo\",\"california\",\"San Francisco-Oakland-Fremont CA MSA\",8679],[\"herald\",\"california\",\"Sacramento-Arden-Arcade-Roseville CA MSA\",1184],[\"san joaquin\",\"california\",\"Fresno CA MSA\",4022],[\"woodside\",\"california\",\"New York-Northern New Jersey-Long Island NY-NJ-PA MSA\",5561],[\"elk grove\",\"california\",\"Sacramento-Arden-Arcade-Roseville CA MSA\",166913],[\"barstow\",\"california\",\"Riverside-San Bernardino-Ontario CA MSA\",23692],[\"concord\",\"california\",\"San Francisco-Oakland-Fremont CA MSA\",128667],[\"canoga park\",\"california\",\"Los Angeles-Long Beach-Santa Ana CA MSA\",60578],[\"colton\",\"california\",\"Riverside-San Bernardino-Ontario CA MSA\",54621],[\"shingle springs\",\"california\",\"Sacramento-Arden-Arcade-Roseville CA MSA\",4432],[\"san carlos\",\"california\",\"San Francisco-Oakland-Fremont CA MSA\",29931],[\"glendora\",\"california\",\"Los Angeles-Long Beach-Santa Ana CA MSA\",52009],[\"temecula\",\"california\",\"Riverside-San Bernardino-Ontario CA MSA\",110003],[\"corona\",\"california\",\"Riverside-San Bernardino-Ontario CA MSA\",164226],[\"tiburon\",\"california\",null,9214],[\"carson\",\"california\",\"Los Angeles-Long Beach-Santa Ana CA MSA\",93281],[\"downey\",\"california\",\"Los Angeles-Long Beach-Santa Ana CA MSA\",114219],[\"la mesa\",\"california\",\"San Diego-Carlsbad-San Marcos CA MSA\",60089],[\"arroyo grande\",\"california\",\"San Luis Obispo-Paso Robles CA MSA\",18108],[\"orangevale\",\"california\",\"Sacramento-Arden-Arcade-Roseville CA MSA\",33960],[\"ladera ranch\",\"california\",\"Los Angeles-Long Beach-Santa Ana CA MSA\",22980],[\"ukiah\",\"california\",\"CA NONMETROPOLITAN AREA\",15917],[\"los altos\",\"california\",\"San Jose-Sunnyvale-Santa Clara CA MSA\",30671],[\"spring valley\",\"california\",\"San Diego-Carlsbad-San Marcos CA MSA\",28205],[\"south pasadena\",\"california\",\"Los Angeles-Long Beach-Santa Ana CA MSA\",26151],[\"antelope\",\"california\",\"Sacramento-Arden-Arcade-Roseville CA MSA\",45770],[\"merced\",\"california\",\"Merced CA MSA\",82436],[\"laguna niguel\",\"california\",\"Los Angeles-Long Beach-Santa Ana CA MSA\",65806],[\"burbank\",\"california\",\"Los Angeles-Long Beach-Santa Ana CA MSA\",105319],[\"goleta\",\"california\",\"Santa Barbara-Santa Maria-Goleta CA MSA\",30944],[\"escondido\",\"california\",\"San Diego-Carlsbad-San Marcos CA MSA\",151451],[\"arcadia\",\"california\",\"Los Angeles-Long Beach-Santa Ana CA MSA\",58408],[\"san pablo\",\"california\",\"San Francisco-Oakland-Fremont CA MSA\",30407],[\"san clemente\",\"california\",\"Los Angeles-Long Beach-Santa Ana CA MSA\",65526],[\"la quinta\",\"california\",\"Riverside-San Bernardino-Ontario CA MSA\",40476],[\"salida\",\"california\",\"Modesto CA MSA\",13722],[\"antioch\",\"california\",\"San Francisco-Oakland-Fremont CA MSA\",110542],[\"fallbrook\",\"california\",\"San Diego-Carlsbad-San Marcos CA MSA\",30534],[\"calexico\",\"california\",\"El Centro CA MSA\",40053],[\"los alamitos\",\"california\",\"Los Angeles-Long Beach-Santa Ana CA MSA\",11449],[\"rancho santa fe\",\"california\",\"San Diego-Carlsbad-San Marcos CA MSA\",3117],[\"fountain valley\",\"california\",\"Los Angeles-Long Beach-Santa Ana CA MSA\",56987],[\"lafayette\",\"california\",\"San Francisco-Oakland-Fremont CA MSA\",25843],[\"south lake tahoe\",\"california\",\"Sacramento-Arden-Arcade-Roseville CA MSA\",21706],[\"hemet\",\"california\",\"Riverside-San Bernardino-Ontario CA MSA\",83861],[\"santa fe springs\",\"california\",\"Los Angeles-Long Beach-Santa Ana CA MSA\",18026],[\"walnut creek\",\"california\",\"San Francisco-Oakland-Fremont CA MSA\",68910],[\"morgan hill\",\"california\",\"San Jose-Sunnyvale-Santa Clara CA MSA\",42948],[\"milpitas\",\"california\",\"San Jose-Sunnyvale-Santa Clara CA MSA\",77604],[\"martinez\",\"california\",\"San Francisco-Oakland-Fremont CA MSA\",38137],[\"la verne\",\"california\",\"Los Angeles-Long Beach-Santa Ana CA MSA\",32681],[\"novato\",\"california\",\"San Francisco-Oakland-Fremont CA MSA\",55530],[\"san fernando\",\"california\",\"Los Angeles-Long Beach-Santa Ana CA MSA\",24931],[\"davis\",\"california\",\"Sacramento-Arden-Arcade-Roseville CA MSA\",67666],[\"pacific grove\",\"california\",\"Salinas CA MSA\",15674],[\"burlingame\",\"california\",\"San Francisco-Oakland-Fremont CA MSA\",30459],[\"angwin\",\"california\",\"Napa CA MSA\",3051],[\"cotati\",\"california\",\"Santa Rosa-Petaluma CA MSA\",7445],[\"saint helena\",\"california\",\"Napa CA MSA\",5814],[\"south san francisco\",\"california\",\"San Francisco-Oakland-Fremont CA MSA\",67271],[\"fort bragg\",\"california\",\"CA NONMETROPOLITAN AREA\",7289],[\"inglewood\",\"california\",\"Los Angeles-Long Beach-Santa Ana CA MSA\",111666],[\"kingsburg\",\"california\",\"Fresno CA MSA\",11824],[\"ventura\",\"california\",\"Oxnard-Thousand Oaks-Ventura CA MSA\",96769],[\"redding\",\"california\",\"Redding CA MSA\",91582],[\"granite bay\",\"california\",\"Sacramento-Arden-Arcade-Roseville CA MSA\",20402],[\"citrus heights\",\"california\",\"Sacramento-Arden-Arcade-Roseville CA MSA\",87056],[\"pittsburg\",\"california\",\"San Francisco-Oakland-Fremont CA MSA\",69424],[\"agoura hills\",\"california\",\"Los Angeles-Long Beach-Santa Ana CA MSA\",20915],[\"simi valley\",\"california\",\"Oxnard-Thousand Oaks-Ventura CA MSA\",126788],[\"chico\",\"california\",\"Chico CA MSA\",121345],[\"reedley\",\"california\",\"Fresno CA MSA\",25569],[\"selma\",\"california\",\"Fresno CA MSA\",24414],[\"rancho palos verdes\",\"california\",\"Los Angeles-Long Beach-Santa Ana CA MSA\",42732],[\"lancaster\",\"california\",\"Los Angeles-Long Beach-Santa Ana CA MSA\",161103],[\"santa paula\",\"california\",\"Oxnard-Thousand Oaks-Ventura CA MSA\",30546],[\"dana point\",\"california\",\"Los Angeles-Long Beach-Santa Ana CA MSA\",34181],[\"stanton\",\"california\",\"Los Angeles-Long Beach-Santa Ana CA MSA\",38872],[\"covina\",\"california\",\"Los Angeles-Long Beach-Santa Ana CA MSA\",48984],[\"garden grove\",\"california\",\"Los Angeles-Long Beach-Santa Ana CA MSA\",175393],[\"cupertino\",\"california\",\"San Jose-Sunnyvale-Santa Clara CA MSA\",60572],[\"victorville\",\"california\",\"Riverside-San Bernardino-Ontario CA MSA\",122225],[\"monterey park\",\"california\",\"Los Angeles-Long Beach-Santa Ana CA MSA\",61468],[\"campbell\",\"california\",\"San Jose-Sunnyvale-Santa Clara CA MSA\",41117],[\"diamond bar\",\"california\",\"Los Angeles-Long Beach-Santa Ana CA MSA\",56897],[\"portola valley\",\"california\",\"San Francisco-Oakland-Fremont CA MSA\",4594],[\"ripon\",\"california\",\"Stockton CA MSA\",15151],[\"perris\",\"california\",\"Riverside-San Bernardino-Ontario CA MSA\",74971],[\"lake forest\",\"california\",\"Los Angeles-Long Beach-Santa Ana CA MSA\",82492],[\"camarillo\",\"california\",\"Oxnard-Thousand Oaks-Ventura CA MSA\",67608],[\"baldwin park\",\"california\",\"Los Angeles-Long Beach-Santa Ana CA MSA\",77071],[\"redondo beach\",\"california\",\"Los Angeles-Long Beach-Santa Ana CA MSA\",68166],[\"rowland heights\",\"california\",\"Los Angeles-Long Beach-Santa Ana CA MSA\",48993],[\"los gatos\",\"california\",\"San Jose-Sunnyvale-Santa Clara CA MSA\",30705],[\"vallejo\",\"california\",\"Vallejo-Fairfield CA MSA\",121692],[\"manteca\",\"california\",\"Stockton CA MSA\",75448],[\"hesperia\",\"california\",\"Riverside-San Bernardino-Ontario CA MSA\",93295],[\"colusa\",\"california\",\"CA NONMETROPOLITAN AREA\",5935],[\"santee\",\"california\",\"San Diego-Carlsbad-San Marcos CA MSA\",57787],[\"san marcos\",\"california\",\"San Diego-Carlsbad-San Marcos CA MSA\",92931],[\"vacaville\",\"california\",\"Vallejo-Fairfield CA MSA\",96803],[\"rancho santa margarita\",\"california\",\"Los Angeles-Long Beach-Santa Ana CA MSA\",49324],[\"fairfield\",\"california\",\"Vallejo-Fairfield CA MSA\",112970],[\"cypress\",\"california\",\"Los Angeles-Long Beach-Santa Ana CA MSA\",49290],[\"san juan capistrano\",\"california\",\"Los Angeles-Long Beach-Santa Ana CA MSA\",36454],[\"oak park\",\"california\",\"Oxnard-Thousand Oaks-Ventura CA MSA\",13811],[\"montebello\",\"california\",\"Los Angeles-Long Beach-Santa Ana CA MSA\",63921],[\"rancho cucamonga\",\"california\",\"Riverside-San Bernardino-Ontario CA MSA\",175236],[\"emeryville\",\"california\",\"San Francisco-Oakland-Fremont CA MSA\",11694],[\"windsor\",\"california\",\"Santa Rosa-Petaluma CA MSA\",27464],[\"cathedral city\",\"california\",\"Riverside-San Bernardino-Ontario CA MSA\",53826],[\"azusa\",\"california\",\"Los Angeles-Long Beach-Santa Ana CA MSA\",49690],[\"tracy\",\"california\",\"Stockton CA MSA\",87075],[\"half moon bay\",\"california\",\"San Francisco-Oakland-Fremont CA MSA\",12657],[\"west hollywood\",\"california\",\"Los Angeles-Long Beach-Santa Ana CA MSA\",36222],[\"del mar\",\"california\",\"San Diego-Carlsbad-San Marcos CA MSA\",4351],[\"seal beach\",\"california\",\"Los Angeles-Long Beach-Santa Ana CA MSA\",24619],[\"mission viejo\",\"california\",\"Los Angeles-Long Beach-Santa Ana CA MSA\",97156],[\"dublin\",\"california\",\"Blacksburg-Christiansburg-Radford VA MSA\",57721],[\"valencia\",\"california\",\"Pittsburgh PA MSA\",148456],[\"monrovia\",\"california\",\"Indianapolis-Carmel IN MSA\",37463],[\"san ramon\",\"california\",\"San Francisco-Oakland-Fremont CA MSA\",76134],[\"northridge\",\"california\",\"Los Angeles-Long Beach-Santa Ana CA MSA\",68469],[\"north hills\",\"california\",\"Los Angeles-Long Beach-Santa Ana CA MSA\",56946],[\"studio city\",\"california\",\"Los Angeles-Long Beach-Santa Ana CA MSA\",34034],[\"san marino\",\"california\",\"Los Angeles-Long Beach-Santa Ana CA MSA\",13464],[\"marina del rey\",\"california\",\"Los Angeles-Long Beach-Santa Ana CA MSA\",8866],[\"encino\",\"california\",\"Los Angeles-Long Beach-Santa Ana CA MSA\",44581],[\"woodland hills\",\"california\",\"Los Angeles-Long Beach-Santa Ana CA MSA\",70000],[\"daly city\",\"california\",\"San Francisco-Oakland-Fremont CA MSA\",106562],[\"sacramento\",\"california\",\"Sacramento-Arden-Arcade-Roseville CA MSA\",490712],[\"hanford\",\"california\",\"Hanford-Corcoran CA MSA\",55659],[\"san leandro\",\"california\",\"San Francisco-Oakland-Fremont CA MSA\",90712],[\"hacienda heights\",\"california\",\"Los Angeles-Long Beach-Santa Ana CA MSA\",54038],[\"mountain view\",\"california\",\"San Jose-Sunnyvale-Santa Clara CA MSA\",80435],[\"orange\",\"california\",\"Los Angeles-Long Beach-Santa Ana CA MSA\",140992],[\"grass valley\",\"california\",\"CA NONMETROPOLITAN AREA\",12944],[\"cerritos\",\"california\",\"Los Angeles-Long Beach-Santa Ana CA MSA\",49975],[\"san jose\",\"california\",\"San Jose-Sunnyvale-Santa Clara CA MSA\",1026908],[\"roseville\",\"california\",\"Sacramento-Arden-Arcade-Roseville CA MSA\",130269],[\"stockton\",\"california\",\"Stockton CA MSA\",305658],[\"irvine\",\"california\",\"Los Angeles-Long Beach-Santa Ana CA MSA\",256927],[\"riverside\",\"california\",\"Riverside-San Bernardino-Ontario CA MSA\",322424],[\"stanford\",\"california\",\"San Jose-Sunnyvale-Santa Clara CA MSA\",13809],[\"sunnyvale\",\"california\",\"San Jose-Sunnyvale-Santa Clara CA MSA\",155805],[\"santa monica\",\"california\",\"Los Angeles-Long Beach-Santa Ana CA MSA\",93220],[\"oxnard\",\"california\",\"Oxnard-Thousand Oaks-Ventura CA MSA\",207254],[\"fresno\",\"california\",\"Fresno CA MSA\",520052],[\"westlake village\",\"california\",\"Oxnard-Thousand Oaks-Ventura CA MSA\",8507],[\"san luis obispo\",\"california\",\"San Luis Obispo-Paso Robles CA MSA\",47339],[\"modesto\",\"california\",\"Modesto CA MSA\",211266],[\"el cajon\",\"california\",\"San Diego-Carlsbad-San Marcos CA MSA\",103679],[\"santa clara\",\"california\",\"San Jose-Sunnyvale-Santa Clara CA MSA\",126215],[\"el segundo\",\"california\",\"Los Angeles-Long Beach-Santa Ana CA MSA\",17037],[\"lemon grove\",\"california\",\"San Diego-Carlsbad-San Marcos CA MSA\",26709],[\"hayward\",\"california\",\"San Francisco-Oakland-Fremont CA MSA\",158289],[\"palm springs\",\"california\",\"Riverside-San Bernardino-Ontario CA MSA\",47371],[\"pleasanton\",\"california\",\"San Francisco-Oakland-Fremont CA MSA\",79510],[\"eureka\",\"california\",\"CA NONMETROPOLITAN AREA\",27017],[\"palmdale\",\"california\",\"Los Angeles-Long Beach-Santa Ana CA MSA\",158351],[\"moorpark\",\"california\",\"Oxnard-Thousand Oaks-Ventura CA MSA\",36104],[\"los angeles\",\"california\",\"Los Angeles-Long Beach-Santa Ana CA MSA\",3971883],[\"beverly hills\",\"california\",\"Los Angeles-Long Beach-Santa Ana CA MSA\",34869],[\"vista\",\"california\",\"San Diego-Carlsbad-San Marcos CA MSA\",100890],[\"marina\",\"california\",\"Salinas CA MSA\",21229],[\"castro valley\",\"california\",\"San Francisco-Oakland-Fremont CA MSA\",61388],[\"rosemead\",\"california\",\"Los Angeles-Long Beach-Santa Ana CA MSA\",54908],[\"edwards\",\"california\",\"Bakersfield CA MSA\",0],[\"long beach\",\"california\",\"Los Angeles-Long Beach-Santa Ana CA MSA\",474140],[\"santa barbara\",\"california\",\"Santa Barbara-Santa Maria-Goleta CA MSA\",91842],[\"hercules\",\"california\",\"San Francisco-Oakland-Fremont CA MSA\",25314],[\"whittier\",\"california\",\"Los Angeles-Long Beach-Santa Ana CA MSA\",87438],[\"livermore\",\"california\",\"San Francisco-Oakland-Fremont CA MSA\",88126],[\"monterey\",\"california\",\"Salinas CA MSA\",28338],[\"aliso viejo\",\"california\",\"Los Angeles-Long Beach-Santa Ana CA MSA\",50195],[\"torrance\",\"california\",\"Los Angeles-Long Beach-Santa Ana CA MSA\",143592],[\"rocklin\",\"california\",\"Sacramento-Arden-Arcade-Roseville CA MSA\",61213],[\"apple valley\",\"california\",\"Riverside-San Bernardino-Ontario CA MSA\",72174],[\"watsonville\",\"california\",\"Santa Cruz-Watsonville CA MSA\",53628],[\"bakersfield\",\"california\",\"Bakersfield CA MSA\",373640],[\"santa rosa\",\"california\",\"Santa Rosa-Petaluma CA MSA\",174972],[\"glendale\",\"california\",\"Los Angeles-Long Beach-Santa Ana CA MSA\",201020],[\"murrieta\",\"california\",\"Riverside-San Bernardino-Ontario CA MSA\",109830],[\"redlands\",\"california\",\"Riverside-San Bernardino-Ontario CA MSA\",71035],[\"san mateo\",\"california\",\"San Francisco-Oakland-Fremont CA MSA\",103536],[\"chino hills\",\"california\",\"Riverside-San Bernardino-Ontario CA MSA\",78309],[\"pomona\",\"california\",\"Los Angeles-Long Beach-Santa Ana CA MSA\",153266],[\"scotts valley\",\"california\",\"Santa Cruz-Watsonville CA MSA\",11945],[\"fullerton\",\"california\",\"Los Angeles-Long Beach-Santa Ana CA MSA\",140847],[\"san diego\",\"california\",\"San Diego-Carlsbad-San Marcos CA MSA\",1394928],[\"brentwood\",\"california\",\"San Francisco-Oakland-Fremont CA MSA\",58968],[\"ontario\",\"california\",\"Riverside-San Bernardino-Ontario CA MSA\",171214],[\"napa\",\"california\",\"Napa CA MSA\",80434],[\"visalia\",\"california\",\"Visalia-Porterville CA MSA\",130104],[\"rancho mirage\",\"california\",\"Riverside-San Bernardino-Ontario CA MSA\",18083],[\"la puente\",\"california\",\"Los Angeles-Long Beach-Santa Ana CA MSA\",40745],[\"chula vista\",\"california\",\"San Diego-Carlsbad-San Marcos CA MSA\",265757],[\"newport beach\",\"california\",\"Los Angeles-Long Beach-Santa Ana CA MSA\",87127],[\"hawthorne\",\"california\",\"Los Angeles-Long Beach-Santa Ana CA MSA\",88451],[\"san bernardino\",\"california\",\"Riverside-San Bernardino-Ontario CA MSA\",216108],[\"huntington beach\",\"california\",\"Los Angeles-Long Beach-Santa Ana CA MSA\",201899],[\"rancho cordova\",\"california\",\"Sacramento-Arden-Arcade-Roseville CA MSA\",71017],[\"el monte\",\"california\",\"Los Angeles-Long Beach-Santa Ana CA MSA\",116732],[\"salinas\",\"california\",\"Salinas CA MSA\",157380],[\"anaheim\",\"california\",\"Los Angeles-Long Beach-Santa Ana CA MSA\",350742],[\"saratoga\",\"california\",\"San Jose-Sunnyvale-Santa Clara CA MSA\",30968],[\"gardena\",\"california\",\"Los Angeles-Long Beach-Santa Ana CA MSA\",60447],[\"calabasas\",\"california\",\"Los Angeles-Long Beach-Santa Ana CA MSA\",23058],[\"manhattan beach\",\"california\",\"Los Angeles-Long Beach-Santa Ana CA MSA\",35818],[\"bonita\",\"california\",\"San Diego-Carlsbad-San Marcos CA MSA\",12538],[\"el sobrante\",\"california\",\"San Francisco-Oakland-Fremont CA MSA\",12669],[\"placentia\",\"california\",\"Los Angeles-Long Beach-Santa Ana CA MSA\",52495],[\"san rafael\",\"california\",\"San Francisco-Oakland-Fremont CA MSA\",59162],[\"redwood city\",\"california\",\"San Francisco-Oakland-Fremont CA MSA\",85288],[\"santa ana\",\"california\",\"Los Angeles-Long Beach-Santa Ana CA MSA\",335400],[\"oakland\",\"california\",\"San Francisco-Oakland-Fremont CA MSA\",419267],[\"gilroy\",\"california\",\"San Jose-Sunnyvale-Santa Clara CA MSA\",53231],[\"paramount\",\"california\",\"Los Angeles-Long Beach-Santa Ana CA MSA\",55412],[\"north hollywood\",\"california\",\"Los Angeles-Long Beach-Santa Ana CA MSA\",77848],[\"fremont\",\"california\",\"San Francisco-Oakland-Fremont CA MSA\",232206],[\"berkeley\",\"california\",\"San Francisco-Oakland-Fremont CA MSA\",120972],[\"la habra\",\"california\",\"Los Angeles-Long Beach-Santa Ana CA MSA\",62131],[\"oceanside\",\"california\",\"San Diego-Carlsbad-San Marcos CA MSA\",175691],[\"lakewood\",\"california\",\"Los Angeles-Long Beach-Santa Ana CA MSA\",81611],[\"costa mesa\",\"california\",\"Los Angeles-Long Beach-Santa Ana CA MSA\",113204],[\"carlsbad\",\"california\",\"San Diego-Carlsbad-San Marcos CA MSA\",114746],[\"east palo alto\",\"california\",null,29662],[\"alhambra\",\"california\",\"Los Angeles-Long Beach-Santa Ana CA MSA\",85551],[\"santa maria\",\"california\",\"Santa Barbara-Santa Maria-Goleta CA MSA\",105093],[\"buena park\",\"california\",\"Los Angeles-Long Beach-Santa Ana CA MSA\",83270],[\"menlo park\",\"california\",\"San Francisco-Oakland-Fremont CA MSA\",33449],[\"calistoga\",\"california\",\"Napa CA MSA\",5330],[\"culver city\",\"california\",\"Los Angeles-Long Beach-Santa Ana CA MSA\",39717],[\"sonora\",\"california\",\"CA NONMETROPOLITAN AREA\",4818],[\"thousand oaks\",\"california\",\"Oxnard-Thousand Oaks-Ventura CA MSA\",129339],[\"mendocino\",\"california\",\"CA NONMETROPOLITAN AREA\",894],[\"tustin\",\"california\",\"Los Angeles-Long Beach-Santa Ana CA MSA\",80583],[\"pasadena\",\"california\",\"Los Angeles-Long Beach-Santa Ana CA MSA\",142250],[\"san francisco\",\"california\",\"San Francisco-Oakland-Fremont CA MSA\",864816],[\"palo alto\",\"california\",\"San Jose-Sunnyvale-Santa Clara CA MSA\",66853],[\"chatsworth\",\"california\",\"Dalton GA MSA\",41255],[\"danville\",\"california\",\"San Francisco-Oakland-Fremont CA MSA\",44400],[\"van nuys\",\"california\",\"Los Angeles-Long Beach-Santa Ana CA MSA\",136443],[\"canyon country\",\"california\",\"Los Angeles-Long Beach-Santa Ana CA MSA\",59530],[\"la jolla\",\"california\",\"San Diego-Carlsbad-San Marcos CA MSA\",42808],[\"nipomo\",\"california\",\"San Luis Obispo-Paso Robles CA MSA\",16714],[\"riverbank\",\"california\",\"Modesto CA MSA\",24122],[\"buellton\",\"california\",\"Santa Barbara-Santa Maria-Goleta CA MSA\",5082],[\"fortuna\",\"california\",\"CA NONMETROPOLITAN AREA\",12000],[\"camp pendleton south\",\"california\",null,10616],[\"castaic\",\"california\",\"Los Angeles-Long Beach-Santa Ana CA MSA\",19015],[\"wasco\",\"california\",\"Bakersfield CA MSA\",26279],[\"palos verdes peninsula\",\"california\",\"Los Angeles-Long Beach-Santa Ana CA MSA\",0],[\"cameron park\",\"california\",null,18228],[\"pinole\",\"california\",\"San Francisco-Oakland-Fremont CA MSA\",19269],[\"dixon\",\"california\",\"Vallejo-Fairfield CA MSA\",19390],[\"mcclellan park\",\"california\",null,743],[\"fairfax\",\"california\",\"San Francisco-Oakland-Fremont CA MSA\",7626],[\"lake arrowhead\",\"california\",\"Riverside-San Bernardino-Ontario CA MSA\",12424],[\"la canada flintridge\",\"california\",\"Los Angeles-Long Beach-Santa Ana CA MSA\",20246],[\"mather\",\"california\",\"Sacramento-Arden-Arcade-Roseville CA MSA\",4272],[\"stevenson ranch\",\"california\",\"Los Angeles-Long Beach-Santa Ana CA MSA\",17557],[\"mariposa\",\"california\",\"CA NONMETROPOLITAN AREA\",2173],[\"yountville\",\"california\",\"Napa CA MSA\",3017],[\"french camp\",\"california\",\"Stockton CA MSA\",3376],[\"mira mesa\",\"california\",null,70000],[\"brawley\",\"california\",\"El Centro CA MSA\",25897],[\"lakeside\",\"california\",\"OR NONMETROPOLITAN AREA\",20648],[\"exeter\",\"california\",\"Visalia-Porterville CA MSA\",10548],[\"biola\",\"california\",\"Fresno CA MSA\",1623],[\"montrose\",\"california\",\"MO NONMETROPOLITAN AREA\",0],[\"galt\",\"california\",\"Sacramento-Arden-Arcade-Roseville CA MSA\",25303],[\"oakley\",\"california\",\"Salt Lake City UT MSA\",39813],[\"lynwood\",\"california\",\"Los Angeles-Long Beach-Santa Ana CA MSA\",71989],[\"belvedere\",\"california\",\"San Francisco-Oakland-Fremont CA MSA\",2121],[\"solvang\",\"california\",\"Santa Barbara-Santa Maria-Goleta CA MSA\",5741],[\"shafter\",\"california\",\"Bakersfield CA MSA\",18336],[\"arvin\",\"california\",\"Bakersfield CA MSA\",20876],[\"camp pendleton north\",\"california\",null,5200],[\"valley center\",\"california\",\"San Diego-Carlsbad-San Marcos CA MSA\",9277],[\"crescent city\",\"california\",\"CA NONMETROPOLITAN AREA\",6774],[\"hollywood\",\"california\",\"Miami-Fort Lauderdale-Pompano Beach FL MSA\",167664],[\"taft\",\"california\",\"Bakersfield CA MSA\",9495],[\"wildomar\",\"california\",\"Riverside-San Bernardino-Ontario CA MSA\",35632],[\"healdsburg\",\"california\",\"Santa Rosa-Petaluma CA MSA\",11742],[\"paso robles\",\"california\",\"San Luis Obispo-Paso Robles CA MSA\",27157],[\"american canyon\",\"california\",\"Napa CA MSA\",20554],[\"lawndale\",\"california\",\"Los Angeles-Long Beach-Santa Ana CA MSA\",33430],[\"paradise\",\"california\",\"Chico CA MSA\",26476],[\"lathrop\",\"california\",\"Stockton CA MSA\",20866],[\"laguna woods\",\"california\",\"Los Angeles-Long Beach-Santa Ana CA MSA\",16406],[\"bloomington\",\"california\",\"Riverside-San Bernardino-Ontario CA MSA\",23851],[\"norco\",\"california\",\"Riverside-San Bernardino-Ontario CA MSA\",26289],[\"mount shasta\",\"california\",\"CA NONMETROPOLITAN AREA\",3296],[\"jurupa valley\",\"california\",\"Los Angeles-Long Beach-Santa Ana CA MSA\",21930],[\"south gate\",\"california\",\"Los Angeles-Long Beach-Santa Ana CA MSA\",96401],[\"suisun city\",\"california\",\"Vallejo-Fairfield CA MSA\",29663],[\"atwater\",\"california\",\"Merced CA MSA\",29237],[\"pebble beach\",\"california\",\"Salinas CA MSA\",0],[\"ojai\",\"california\",\"Oxnard-Thousand Oaks-Ventura CA MSA\",7627],[\"corte madera\",\"california\",\"San Francisco-Oakland-Fremont CA MSA\",9901],[\"sierra madre\",\"california\",\"Los Angeles-Long Beach-Santa Ana CA MSA\",11163],[\"montclair\",\"california\",\"Riverside-San Bernardino-Ontario CA MSA\",38690],[\"orland\",\"california\",\"CA NONMETROPOLITAN AREA\",7550],[\"anderson\",\"california\",\"Redding CA MSA\",10217],[\"rio vista\",\"california\",\"Vallejo-Fairfield CA MSA\",8348],[\"yreka\",\"california\",\"CA NONMETROPOLITAN AREA\",7597],[\"fort irwin\",\"california\",\"Riverside-San Bernardino-Ontario CA MSA\",8845],[\"ridgecrest\",\"california\",\"Bakersfield CA MSA\",28780],[\"willowbrook\",\"california\",\"Chicago-Naperville-Joliet IL-IN-WI MSA\",35983],[\"red bluff\",\"california\",\"CA NONMETROPOLITAN AREA\",14131],[\"duarte\",\"california\",\"Los Angeles-Long Beach-Santa Ana CA MSA\",21990],[\"loma linda\",\"california\",\"Riverside-San Bernardino-Ontario CA MSA\",24045],[\"fair oaks\",\"california\",\"Sacramento-Arden-Arcade-Roseville CA MSA\",30912]],\"hovertemplate\":\"longitude=%{x}<br>latitude=%{y}<br>city=%{customdata[0]}<br>state=%{customdata[1]}<br>msa=%{customdata[2]}<br>population=%{customdata[3]}<br>cluster=%{marker.color}<extra></extra>\",\"legendgroup\":\"\",\"marker\":{\"color\":[86,118,-1,55,145,125,99,96,137,92,96,-1,96,141,95,96,55,121,131,134,-1,86,127,96,111,76,121,117,71,100,99,143,143,132,77,122,121,130,128,96,72,94,65,55,110,108,143,145,95,-1,124,143,125,143,96,118,119,127,-1,118,117,127,127,136,-1,146,-1,136,-1,143,76,140,-1,121,143,86,79,137,-1,-1,-1,-1,143,20,83,108,143,96,-1,-1,77,130,137,-1,110,67,-1,121,95,143,127,83,-1,108,55,143,113,94,-1,94,79,132,134,137,139,96,137,-1,145,95,111,65,-1,70,-1,-1,86,-1,143,-1,-1,139,77,-1,-1,96,137,-1,79,143,137,-1,143,140,-1,127,-1,139,66,-1,-1,121,-1,-1,139,101,122,-1,136,-1,-1,144,101,111,55,-1,136,115,113,116,-1,-1,79,-1,87,-1,79,143,139,-1,92,143,95,137,143,104,116,137,-1,137,140,86,143,143,121,-1,132,107,-1,55,55,111,71,-1,143,115,96,-1,143,145,121,141,-1,-1,55,-1,132,94,143,143,-1,95,121,123,77,-1,87,110,94,141,112,-1,55,124,129,136,96,65,143,128,140,137,72,110,143,103,-1,-1,-1,84,-1,121,66,137,137,-1,136,122,66,139,121,-1,145,118,129,-1,139,143,-1,101,127,137,143,114,55,121,108,-1,139,114,143,121,-1,108,137,65,106,143,136,108,86,110,103,104,-1,143,112,143,145,-1,94,143,145,76,126,145,132,-1,134,87,79,140,96,96,96,140,-1,137,77,85,45,121,121,103,99,99,-1,77,77,137,70,78,108,143,143,143,138,91,143,135,132,139,110,117,108,78,143,137,143,135,136,109,91,-1,114,112,92,108,92,143,108,99,143,131,136,96,86,143,-1,141,137,113,143,108,-1,120,143,146,134,134,137,143,137,134,118,141,100,-1,128,143,139,143,-1,143,126,121,109,143,130,139,138,137,84,77,99,55,110,114,135,137,114,128,86,-1,-1,70,99,143,137,104,79,128,143,-1,143,65,136,143,-1,79,108,137,121,91,79,52,96,144,-1,123,140,132,132,95,143,107,102,132,-1,72,86,143,115,142,137,129,-1,121,143,79,143,138,137,118,137,114,136,143,127,139,143,136,76,143,137,116,136,143,105,143,142,105,139,143,55,143,139,-1,137,-1,99,-1,143,143,-1,139,118,146,134,-1,113,55,110,-1,-1,105,120,67,137,-1,136,87,121,127,123,144,121,119,-1,96,109,112,-1,114,-1,66,144,122,102,143,127,-1,67,52,104,106,-1,137,-1,117,96,55,136,137,-1,109,108,130,101,31,101,143,92,111,79,85,127,143,132,-1,45,102,31,-1,-1,143,45,143,129,121],\"coloraxis\":\"coloraxis\",\"symbol\":\"circle\"},\"mode\":\"markers\",\"name\":\"\",\"orientation\":\"v\",\"showlegend\":false,\"x\":[-116.39029,-118.5818,-119.9907,-120.6655,-122.07524,-117.2776,-118.7092,-122.9025,-118.3023,-121.94302,-122.4246,-117.93535,-122.94833,-122.45969,-122.12219,-122.6729,-120.51817,-121.3543,-117.5981,-118.44953,-116.60196,-116.54557,-122.5572,-122.52415,-120.8499,-121.538,-121.36467,-117.27309,-121.61691,-121.53023,-118.7804,-118.05785,-117.93895,-117.64839,-119.55597,-121.27245,-121.29301,-117.43505,-122.12441,-122.82388,-119.34734,-116.97725,-119.51846,-120.45794,-120.95771,-117.66088,-118.10583,-122.15858,-122.0733,-118.44897,-117.81311,-118.22007,-117.23059,-118.22507,-122.63665,-118.60147,-118.54259,-122.48525,-121.01779,-118.64398,-117.32726,-122.5247,-122.54498,-122.29775,-120.07987,-122.03218,-119.01677,-122.26087,-115.56305,-118.15146,-121.4016,-122.41108,-120.84992,-121.32828,-117.86534,-116.37697,-121.85162,-118.3023,-120.79855,-122.17969,-120.94647,-120.8324,-118.08173,-114.59635,-116.21677,-117.71283,-118.01201,-122.7011,-116.05417,-124.08284,-119.70292,-117.37032,-118.43063,-117.03586,-120.84715,-119.24705,-119.64932,-121.193,-121.8994,-118.11701,-122.53525,-116.17389,-117.14642,-117.78311,-120.62128,-117.90006,-117.29198,-117.04309,-121.08217,-116.87641,-121.92329,-117.71978,-118.44925,-118.46008,-122.27108,-122.4022,-118.29229,-118.97208,-122.12969,-121.95329,-120.72353,-119.63208,-120.8499,-118.17396,-120.7741,-124.1228,-116.34311,-122.19359,-118.19535,-120.36015,-119.90476,-122.13746,-119.38707,-123.35557,-116.76641,-122.4682,-118.4276,-118.39511,-121.7324,-118.04673,-118.35341,-122.91583,-118.08312,-122.39997,-120.11487,-122.56164,-121.12603,-122.19774,-120.06072,-117.8731,-122.19137,-121.24662,-120.73184,-117.9295,-122.24802,-117.56418,-121.3111,-120.2727,-122.34775,-116.86808,-120.18325,-118.2401,-117.5147,-120.84659,-120.67073,-119.69429,-122.31164,-117.11308,-117.27115,-122.01913,-116.91142,-121.12966,-121.7869,-116.43224,-121.7733,-121.32632,-121.80745,-118.18702,-122.2758,-121.02047,-121.9708,-118.13118,-121.95663,-118.31507,-117.93534,-117.22559,-122.04024,-118.39952,-120.1388,-118.35813,-122.38719,-116.50353,-118.09673,-118.04673,-121.17606,-117.1092,-117.80673,-117.18309,-119.78291,-120.43683,-120.64128,-120.8502,-121.59135,-121.55776,-118.00673,-117.0992,-122.45804,-121.08075,-118.16785,-122.0608,-121.37217,-122.48692,-116.31307,-117.40922,-120.706,-121.07689,-117.68894,-116.95864,-117.95868,-118.15979,-120.4252,-122.0308,-121.34692,-117.20865,-119.59374,-124.10062,-121.7576,-120.9774,-116.78724,-122.4566,-117.19451,-120.68049,-120.5182,-117.7773,-117.31365,-122.23163,-123.04806,-119.86097,-118.23007,-122.11385,-122.37942,-118.28841,-119.2873,-120.90215,-118.17202,-121.93579,-120.65301,-116.71891,-115.56944,-119.19511,-118.32785,-121.35444,-120.26018,-118.39245,-118.41786,-124.3673,-122.26691,-121.24439,-120.18904,-122.25386,-121.37162,-117.02282,-122.03107,-118.59814,-117.31365,-120.92605,-122.26052,-117.86534,-117.14836,-117.56644,-122.45664,-118.28202,-118.13257,-117.02308,-120.59073,-121.22578,-117.63561,-123.20778,-122.11413,-116.99892,-118.15035,-121.32995,-120.48297,-117.70755,-118.30897,-119.82764,-117.08642,-118.03534,-122.34553,-117.61199,-116.31001,-121.08494,-121.80579,-117.25115,-115.49888,-118.07256,-117.20281,-117.95367,-122.11802,-119.98435,-116.97307,-118.08535,-122.06496,-121.65439,-121.90662,-122.13413,-117.76784,-122.5697,-118.43897,-121.74052,-121.91662,-122.36608,-122.44998,-122.70721,-122.47026,-122.40775,-123.80529,-118.35313,-119.55402,-119.29317,-122.39168,-121.16384,-121.28106,-121.88468,-118.77453,-118.78148,-121.83748,-119.4504,-119.61208,-118.38702,-118.13674,-119.05927,-117.69811,-117.99312,-117.89034,-117.94145,-122.03218,-117.29116,-118.12285,-121.94996,-117.81034,-122.23524,-121.12438,-117.22865,-117.68922,-119.0376,-117.9609,-118.38841,-117.90534,-121.97468,-122.25664,-121.21605,-117.30088,-122.00942,-116.97392,-117.16614,-121.98774,-117.6031,-122.03997,-118.03729,-117.66255,-118.76287,-118.10535,-117.59311,-122.28525,-122.81638,-116.46529,-117.90756,-121.42618,-122.42859,-118.36174,-117.26531,-118.10479,-117.672,-121.93579,-118.60953,-117.99895,-121.97802,-118.53675,-118.48472,-118.39647,-118.10646,-118.45174,-118.50119,-118.60592,-122.46192,-121.4944,-119.64568,-122.15608,-117.96868,-122.08385,-117.85311,-121.06106,-118.06479,-121.89496,-121.28801,-121.29078,-117.82311,-117.39616,-122.16608,-122.03635,-118.49138,-119.17705,-119.77237,-118.80565,-120.65962,-120.99688,-116.96253,-121.95524,-118.41647,-117.03142,-122.0808,-116.54529,-121.87468,-124.16367,-118.11646,-118.88204,-118.24368,-118.40036,-117.24254,-121.80217,-122.08635,-118.07285,-117.9351,-118.18923,-119.69819,-122.28858,-118.03284,-121.76801,-121.89468,-117.72712,-118.34063,-121.23578,-117.18588,-121.75689,-119.01871,-122.71443,-118.25508,-117.21392,-117.18254,-122.32553,-117.75888,-117.75228,-122.01468,-117.92534,-117.16472,-121.69579,-117.65089,-122.28553,-119.29206,-116.41279,-117.94951,-117.0842,-117.92895,-118.35257,-117.28977,-117.99923,-121.30273,-118.02757,-121.6555,-117.9145,-122.02301,-118.30896,-118.63842,-118.41091,-117.03003,-122.29525,-117.87034,-122.53109,-122.23635,-117.86783,-122.2708,-121.56828,-118.15979,-118.37897,-121.98857,-122.27275,-117.94617,-117.37948,-118.13396,-117.91867,-117.35059,-122.14108,-118.12701,-120.43572,-117.99812,-122.18219,-122.57971,-118.39647,-120.38214,-118.83759,-123.79889,-117.82617,-118.14452,-122.41942,-122.14302,-118.6012,-121.99996,-118.44897,-118.47203,-117.2742,-120.476,-120.93549,-120.19265,-124.15728,-117.37929,-118.62287,-119.34095,-118.3806,-120.98716,-122.29886,-121.8233,-121.4016,-122.58887,-117.18921,-118.18785,-121.2832,-118.57372,-119.96628,-122.36081,-121.27106,-117.14392,-115.53027,-116.92225,-119.14205,-120.01627,-118.2242,-121.29995,-121.71245,-118.21146,-122.46442,-120.13765,-119.27178,-118.82843,-117.31603,-117.0342,-124.20175,-118.32674,-119.45651,-117.28004,-122.86916,-120.691,-122.2608,-118.35257,-121.62192,-121.27661,-117.72533,-117.39588,-117.54866,-122.31225,-117.51644,-118.21202,-122.009,-120.60908,-121.9466,-119.24289,-122.52748,-118.05285,-117.68978,-122.19637,-122.29778,-121.69583,-122.63447,-116.68475,-117.6709,-118.25507,-122.23583,-117.97729,-117.26115,-121.27217],\"xaxis\":\"x\",\"y\":[33.82002,34.115,38.1885,35.3053,37.98353,33.8888,34.0423,38.70769,33.9414,38.44463,38.45971,34.91637,38.40741,37.67688,37.12606,38.3406,34.7483,39.1095,34.1222,34.18991,33.07866,33.90196,37.95215,38.36408,37.3969,36.84551,38.55185,33.68502,39.14045,38.58046,34.02577,34.10723,34.06862,34.09751,36.70801,38.1302,38.89156,34.09223,37.68104,38.40214,36.20773,33.92946,34.39888,34.63915,37.59493,33.68641,34.09611,38.04937,37.05134,35.13219,33.88863,33.89585,33.93752,33.98168,38.23242,34.09362,34.39166,37.85909,39.26173,34.19731,33.66808,37.9485,37.90604,37.88687,34.61443,37.8502,36.06523,37.77099,32.792,33.96529,36.85245,37.63049,37.05828,38.61713,34.02029,33.72255,36.61107,34.26695,38.72963,37.87715,39.93682,35.31109,33.90224,33.6103,33.7207,33.61252,33.91724,38.33964,34.13556,40.86652,36.82523,34.1064,34.05612,32.96282,37.76659,35.76884,37.328,38.82129,36.97717,33.88168,37.93409,33.6803,33.72835,33.54225,35.12164,33.91668,33.03699,34.03363,38.68574,33.92557,36.55524,34.09668,34.15112,33.99084,37.55855,38.43685,33.73585,37.64855,37.83493,36.97523,37.38688,34.43666,35.36581,35.05247,38.3488,40.2443,33.71791,39.52433,33.89807,36.13968,36.26326,37.37966,36.54328,39.40961,32.83505,38.5063,33.9728,37.36354,36.4797,34.05195,34.1389,39.04295,33.86585,37.68077,34.66776,37.97465,36.21274,37.46133,36.96134,33.5981,39.27628,38.62629,35.17998,34.9045,37.53188,33.96358,38.291,37.8141,37.93576,33.04171,39.32796,34.2242,33.9855,37.49466,35.48942,35.61635,37.91576,32.58394,32.99115,37.59577,34.2439,37.4716,36.8044,34.11417,38.67852,36.42469,36.27024,33.97751,37.52021,36.12885,38.52491,34.18973,36.98801,33.79224,34.10695,33.28892,37.52966,33.86224,39.1721,33.78779,37.59855,33.96173,33.98307,33.8464,38.67796,34.20779,34.10668,32.68589,36.30078,34.68609,35.14275,37.4085,39.14573,39.51394,33.75918,32.67811,38.29186,35.56414,33.80446,37.94798,38.68574,37.61383,34.13473,34.58277,35.54969,38.89657,34.01223,33.78391,34.01973,34.00057,38.3941,36.97412,38.46449,34.12834,36.65912,40.94652,38.5374,37.6324,33.91752,37.493,32.89991,38.19603,34.7483,33.8445,34.0339,37.82437,38.33325,34.41333,34.0039,37.69465,37.5741,34.25223,36.2577,37.63826,34.0239,37.94103,40.41628,33.74002,32.84755,34.14778,33.34281,39.10917,37.123,33.80105,34.05557,40.4662,38.03298,38.29575,36.60662,37.42994,38.4088,34.89859,37.97798,34.20112,34.0739,38.66574,37.50716,34.13612,33.49364,33.87529,37.87354,33.83141,33.94001,32.76783,35.11859,38.67851,33.57086,39.15017,37.38522,32.74477,34.11612,38.70824,37.30216,33.52253,34.18084,34.43583,33.11921,34.13973,37.96215,33.42697,33.66336,37.70576,38.00492,33.37642,32.67895,33.80307,33.02032,33.70918,37.88576,38.93324,33.74761,33.94724,37.90631,37.1305,37.42827,38.01937,34.10084,38.10742,34.28195,38.54491,36.61774,37.5841,38.57574,38.32686,38.50519,37.65466,39.44572,33.96168,36.51384,34.27834,40.58654,38.76323,38.70712,38.02798,34.13639,34.26945,39.72849,36.59634,36.57078,33.74446,34.69804,34.35417,33.46697,33.80252,34.09001,33.77391,37.323,34.53611,34.06251,37.28717,34.02862,37.38411,37.74159,33.78252,33.64697,34.21639,34.08529,33.84918,33.97612,37.22661,38.10409,37.79743,34.42639,39.21433,32.83838,33.14337,38.35658,33.64086,38.24936,33.81696,33.50169,34.17917,34.00946,34.1064,37.83132,38.54713,33.77974,34.13362,37.73987,37.46355,34.09001,32.95949,33.74141,33.60002,37.70215,34.44361,34.14806,37.77993,34.22834,34.23639,34.14862,34.1214,33.98029,34.15917,34.16834,37.70577,38.58157,36.32745,37.72493,33.99307,37.38605,33.78779,39.21906,33.85835,37.33939,38.75212,37.9577,33.66946,33.95335,37.42411,37.36883,34.01949,34.1975,36.74773,34.14584,35.28275,37.6391,32.79477,37.35411,33.91918,32.74255,37.66882,33.8303,37.66243,40.80207,34.57943,34.28556,34.05223,34.07362,33.20004,36.6844,37.6941,34.08057,34.9261,33.76696,34.42083,38.01714,33.97918,37.68187,36.60024,33.56504,33.83585,38.79073,34.50083,36.91023,35.37329,38.44047,34.14251,33.55391,34.05557,37.56299,33.9938,34.05529,37.05106,33.87029,32.71571,37.93187,34.06334,38.29714,36.33023,33.73974,34.02001,32.64005,33.61891,33.9164,34.10834,33.6603,38.58907,34.06862,36.67774,33.83529,37.26383,33.88835,34.15778,33.88474,32.65783,37.97715,33.87224,37.97353,37.48522,33.74557,37.80437,37.00578,33.88946,34.17223,37.54827,37.87159,33.93196,33.19587,33.85363,33.64113,33.15809,37.46883,34.09529,34.95303,33.86751,37.45383,38.5788,34.02112,37.98409,34.17056,39.3075,33.74585,34.14778,37.77493,37.44188,34.25723,37.82159,34.18667,34.42333,32.84727,35.04275,37.73604,34.6136,40.59819,33.22844,34.48888,35.59412,33.7669,38.66879,38.00437,38.44546,38.66219,37.98715,34.24834,34.19917,38.5489,34.39048,37.48494,38.40158,37.88409,32.9156,32.97866,32.85727,36.29606,36.80217,34.2064,38.25464,37.99742,33.93029,37.8727,34.59582,35.50051,35.20913,33.31465,33.21837,41.75595,34.09834,35.14247,33.59891,38.61047,35.62664,38.17492,33.88724,39.75961,37.8227,33.6103,34.07029,33.93113,41.31024,33.99251,33.95474,38.2473,37.34772,36.5663,34.44805,37.92548,34.16167,34.07751,39.74738,40.44821,38.16389,41.73542,35.26275,35.62246,33.91696,40.17849,34.13945,34.04835,38.64463],\"yaxis\":\"y\",\"type\":\"scatter\"}],                        {\"template\":{\"data\":{\"histogram2dcontour\":[{\"type\":\"histogram2dcontour\",\"colorbar\":{\"outlinewidth\":0,\"ticks\":\"\"},\"colorscale\":[[0.0,\"#0d0887\"],[0.1111111111111111,\"#46039f\"],[0.2222222222222222,\"#7201a8\"],[0.3333333333333333,\"#9c179e\"],[0.4444444444444444,\"#bd3786\"],[0.5555555555555556,\"#d8576b\"],[0.6666666666666666,\"#ed7953\"],[0.7777777777777778,\"#fb9f3a\"],[0.8888888888888888,\"#fdca26\"],[1.0,\"#f0f921\"]]}],\"choropleth\":[{\"type\":\"choropleth\",\"colorbar\":{\"outlinewidth\":0,\"ticks\":\"\"}}],\"histogram2d\":[{\"type\":\"histogram2d\",\"colorbar\":{\"outlinewidth\":0,\"ticks\":\"\"},\"colorscale\":[[0.0,\"#0d0887\"],[0.1111111111111111,\"#46039f\"],[0.2222222222222222,\"#7201a8\"],[0.3333333333333333,\"#9c179e\"],[0.4444444444444444,\"#bd3786\"],[0.5555555555555556,\"#d8576b\"],[0.6666666666666666,\"#ed7953\"],[0.7777777777777778,\"#fb9f3a\"],[0.8888888888888888,\"#fdca26\"],[1.0,\"#f0f921\"]]}],\"heatmap\":[{\"type\":\"heatmap\",\"colorbar\":{\"outlinewidth\":0,\"ticks\":\"\"},\"colorscale\":[[0.0,\"#0d0887\"],[0.1111111111111111,\"#46039f\"],[0.2222222222222222,\"#7201a8\"],[0.3333333333333333,\"#9c179e\"],[0.4444444444444444,\"#bd3786\"],[0.5555555555555556,\"#d8576b\"],[0.6666666666666666,\"#ed7953\"],[0.7777777777777778,\"#fb9f3a\"],[0.8888888888888888,\"#fdca26\"],[1.0,\"#f0f921\"]]}],\"heatmapgl\":[{\"type\":\"heatmapgl\",\"colorbar\":{\"outlinewidth\":0,\"ticks\":\"\"},\"colorscale\":[[0.0,\"#0d0887\"],[0.1111111111111111,\"#46039f\"],[0.2222222222222222,\"#7201a8\"],[0.3333333333333333,\"#9c179e\"],[0.4444444444444444,\"#bd3786\"],[0.5555555555555556,\"#d8576b\"],[0.6666666666666666,\"#ed7953\"],[0.7777777777777778,\"#fb9f3a\"],[0.8888888888888888,\"#fdca26\"],[1.0,\"#f0f921\"]]}],\"contourcarpet\":[{\"type\":\"contourcarpet\",\"colorbar\":{\"outlinewidth\":0,\"ticks\":\"\"}}],\"contour\":[{\"type\":\"contour\",\"colorbar\":{\"outlinewidth\":0,\"ticks\":\"\"},\"colorscale\":[[0.0,\"#0d0887\"],[0.1111111111111111,\"#46039f\"],[0.2222222222222222,\"#7201a8\"],[0.3333333333333333,\"#9c179e\"],[0.4444444444444444,\"#bd3786\"],[0.5555555555555556,\"#d8576b\"],[0.6666666666666666,\"#ed7953\"],[0.7777777777777778,\"#fb9f3a\"],[0.8888888888888888,\"#fdca26\"],[1.0,\"#f0f921\"]]}],\"surface\":[{\"type\":\"surface\",\"colorbar\":{\"outlinewidth\":0,\"ticks\":\"\"},\"colorscale\":[[0.0,\"#0d0887\"],[0.1111111111111111,\"#46039f\"],[0.2222222222222222,\"#7201a8\"],[0.3333333333333333,\"#9c179e\"],[0.4444444444444444,\"#bd3786\"],[0.5555555555555556,\"#d8576b\"],[0.6666666666666666,\"#ed7953\"],[0.7777777777777778,\"#fb9f3a\"],[0.8888888888888888,\"#fdca26\"],[1.0,\"#f0f921\"]]}],\"mesh3d\":[{\"type\":\"mesh3d\",\"colorbar\":{\"outlinewidth\":0,\"ticks\":\"\"}}],\"scatter\":[{\"fillpattern\":{\"fillmode\":\"overlay\",\"size\":10,\"solidity\":0.2},\"type\":\"scatter\"}],\"parcoords\":[{\"type\":\"parcoords\",\"line\":{\"colorbar\":{\"outlinewidth\":0,\"ticks\":\"\"}}}],\"scatterpolargl\":[{\"type\":\"scatterpolargl\",\"marker\":{\"colorbar\":{\"outlinewidth\":0,\"ticks\":\"\"}}}],\"bar\":[{\"error_x\":{\"color\":\"#2a3f5f\"},\"error_y\":{\"color\":\"#2a3f5f\"},\"marker\":{\"line\":{\"color\":\"#E5ECF6\",\"width\":0.5},\"pattern\":{\"fillmode\":\"overlay\",\"size\":10,\"solidity\":0.2}},\"type\":\"bar\"}],\"scattergeo\":[{\"type\":\"scattergeo\",\"marker\":{\"colorbar\":{\"outlinewidth\":0,\"ticks\":\"\"}}}],\"scatterpolar\":[{\"type\":\"scatterpolar\",\"marker\":{\"colorbar\":{\"outlinewidth\":0,\"ticks\":\"\"}}}],\"histogram\":[{\"marker\":{\"pattern\":{\"fillmode\":\"overlay\",\"size\":10,\"solidity\":0.2}},\"type\":\"histogram\"}],\"scattergl\":[{\"type\":\"scattergl\",\"marker\":{\"colorbar\":{\"outlinewidth\":0,\"ticks\":\"\"}}}],\"scatter3d\":[{\"type\":\"scatter3d\",\"line\":{\"colorbar\":{\"outlinewidth\":0,\"ticks\":\"\"}},\"marker\":{\"colorbar\":{\"outlinewidth\":0,\"ticks\":\"\"}}}],\"scattermapbox\":[{\"type\":\"scattermapbox\",\"marker\":{\"colorbar\":{\"outlinewidth\":0,\"ticks\":\"\"}}}],\"scatterternary\":[{\"type\":\"scatterternary\",\"marker\":{\"colorbar\":{\"outlinewidth\":0,\"ticks\":\"\"}}}],\"scattercarpet\":[{\"type\":\"scattercarpet\",\"marker\":{\"colorbar\":{\"outlinewidth\":0,\"ticks\":\"\"}}}],\"carpet\":[{\"aaxis\":{\"endlinecolor\":\"#2a3f5f\",\"gridcolor\":\"white\",\"linecolor\":\"white\",\"minorgridcolor\":\"white\",\"startlinecolor\":\"#2a3f5f\"},\"baxis\":{\"endlinecolor\":\"#2a3f5f\",\"gridcolor\":\"white\",\"linecolor\":\"white\",\"minorgridcolor\":\"white\",\"startlinecolor\":\"#2a3f5f\"},\"type\":\"carpet\"}],\"table\":[{\"cells\":{\"fill\":{\"color\":\"#EBF0F8\"},\"line\":{\"color\":\"white\"}},\"header\":{\"fill\":{\"color\":\"#C8D4E3\"},\"line\":{\"color\":\"white\"}},\"type\":\"table\"}],\"barpolar\":[{\"marker\":{\"line\":{\"color\":\"#E5ECF6\",\"width\":0.5},\"pattern\":{\"fillmode\":\"overlay\",\"size\":10,\"solidity\":0.2}},\"type\":\"barpolar\"}],\"pie\":[{\"automargin\":true,\"type\":\"pie\"}]},\"layout\":{\"autotypenumbers\":\"strict\",\"colorway\":[\"#636efa\",\"#EF553B\",\"#00cc96\",\"#ab63fa\",\"#FFA15A\",\"#19d3f3\",\"#FF6692\",\"#B6E880\",\"#FF97FF\",\"#FECB52\"],\"font\":{\"color\":\"#2a3f5f\"},\"hovermode\":\"closest\",\"hoverlabel\":{\"align\":\"left\"},\"paper_bgcolor\":\"white\",\"plot_bgcolor\":\"#E5ECF6\",\"polar\":{\"bgcolor\":\"#E5ECF6\",\"angularaxis\":{\"gridcolor\":\"white\",\"linecolor\":\"white\",\"ticks\":\"\"},\"radialaxis\":{\"gridcolor\":\"white\",\"linecolor\":\"white\",\"ticks\":\"\"}},\"ternary\":{\"bgcolor\":\"#E5ECF6\",\"aaxis\":{\"gridcolor\":\"white\",\"linecolor\":\"white\",\"ticks\":\"\"},\"baxis\":{\"gridcolor\":\"white\",\"linecolor\":\"white\",\"ticks\":\"\"},\"caxis\":{\"gridcolor\":\"white\",\"linecolor\":\"white\",\"ticks\":\"\"}},\"coloraxis\":{\"colorbar\":{\"outlinewidth\":0,\"ticks\":\"\"}},\"colorscale\":{\"sequential\":[[0.0,\"#0d0887\"],[0.1111111111111111,\"#46039f\"],[0.2222222222222222,\"#7201a8\"],[0.3333333333333333,\"#9c179e\"],[0.4444444444444444,\"#bd3786\"],[0.5555555555555556,\"#d8576b\"],[0.6666666666666666,\"#ed7953\"],[0.7777777777777778,\"#fb9f3a\"],[0.8888888888888888,\"#fdca26\"],[1.0,\"#f0f921\"]],\"sequentialminus\":[[0.0,\"#0d0887\"],[0.1111111111111111,\"#46039f\"],[0.2222222222222222,\"#7201a8\"],[0.3333333333333333,\"#9c179e\"],[0.4444444444444444,\"#bd3786\"],[0.5555555555555556,\"#d8576b\"],[0.6666666666666666,\"#ed7953\"],[0.7777777777777778,\"#fb9f3a\"],[0.8888888888888888,\"#fdca26\"],[1.0,\"#f0f921\"]],\"diverging\":[[0,\"#8e0152\"],[0.1,\"#c51b7d\"],[0.2,\"#de77ae\"],[0.3,\"#f1b6da\"],[0.4,\"#fde0ef\"],[0.5,\"#f7f7f7\"],[0.6,\"#e6f5d0\"],[0.7,\"#b8e186\"],[0.8,\"#7fbc41\"],[0.9,\"#4d9221\"],[1,\"#276419\"]]},\"xaxis\":{\"gridcolor\":\"white\",\"linecolor\":\"white\",\"ticks\":\"\",\"title\":{\"standoff\":15},\"zerolinecolor\":\"white\",\"automargin\":true,\"zerolinewidth\":2},\"yaxis\":{\"gridcolor\":\"white\",\"linecolor\":\"white\",\"ticks\":\"\",\"title\":{\"standoff\":15},\"zerolinecolor\":\"white\",\"automargin\":true,\"zerolinewidth\":2},\"scene\":{\"xaxis\":{\"backgroundcolor\":\"#E5ECF6\",\"gridcolor\":\"white\",\"linecolor\":\"white\",\"showbackground\":true,\"ticks\":\"\",\"zerolinecolor\":\"white\",\"gridwidth\":2},\"yaxis\":{\"backgroundcolor\":\"#E5ECF6\",\"gridcolor\":\"white\",\"linecolor\":\"white\",\"showbackground\":true,\"ticks\":\"\",\"zerolinecolor\":\"white\",\"gridwidth\":2},\"zaxis\":{\"backgroundcolor\":\"#E5ECF6\",\"gridcolor\":\"white\",\"linecolor\":\"white\",\"showbackground\":true,\"ticks\":\"\",\"zerolinecolor\":\"white\",\"gridwidth\":2}},\"shapedefaults\":{\"line\":{\"color\":\"#2a3f5f\"}},\"annotationdefaults\":{\"arrowcolor\":\"#2a3f5f\",\"arrowhead\":0,\"arrowwidth\":1},\"geo\":{\"bgcolor\":\"white\",\"landcolor\":\"#E5ECF6\",\"subunitcolor\":\"white\",\"showland\":true,\"showlakes\":true,\"lakecolor\":\"white\"},\"title\":{\"x\":0.05},\"mapbox\":{\"style\":\"light\"}}},\"xaxis\":{\"anchor\":\"y\",\"domain\":[0.0,1.0],\"title\":{\"text\":\"longitude\"}},\"yaxis\":{\"anchor\":\"x\",\"domain\":[0.0,1.0],\"title\":{\"text\":\"latitude\"}},\"coloraxis\":{\"colorbar\":{\"title\":{\"text\":\"cluster\"}},\"colorscale\":[[0.0,\"#0d0887\"],[0.1111111111111111,\"#46039f\"],[0.2222222222222222,\"#7201a8\"],[0.3333333333333333,\"#9c179e\"],[0.4444444444444444,\"#bd3786\"],[0.5555555555555556,\"#d8576b\"],[0.6666666666666666,\"#ed7953\"],[0.7777777777777778,\"#fb9f3a\"],[0.8888888888888888,\"#fdca26\"],[1.0,\"#f0f921\"]]},\"legend\":{\"tracegroupgap\":0},\"title\":{\"text\":\"california\"},\"height\":400,\"width\":800,\"uniformtext\":{\"mode\":\"hide\"},\"showlegend\":false},                        {\"responsive\": true}                    ).then(function(){\n",
       "                            \n",
       "var gd = document.getElementById('339471ae-f6d2-42f0-8632-1b29a45c49bc');\n",
       "var x = new MutationObserver(function (mutations, observer) {{\n",
       "        var display = window.getComputedStyle(gd).display;\n",
       "        if (!display || display === 'none') {{\n",
       "            console.log([gd, 'removed!']);\n",
       "            Plotly.purge(gd);\n",
       "            observer.disconnect();\n",
       "        }}\n",
       "}});\n",
       "\n",
       "// Listen for the removal of the full notebook cells\n",
       "var notebookContainer = gd.closest('#notebook-container');\n",
       "if (notebookContainer) {{\n",
       "    x.observe(notebookContainer, {childList: true});\n",
       "}}\n",
       "\n",
       "// Listen for the clearing of the current output cell\n",
       "var outputEl = gd.closest('.output');\n",
       "if (outputEl) {{\n",
       "    x.observe(outputEl, {childList: true});\n",
       "}}\n",
       "\n",
       "                        })                };                });            </script>        </div>"
      ]
     },
     "metadata": {},
     "output_type": "display_data"
    }
   ],
   "source": [
    "state_name = \"california\"\n",
    "\n",
    "fig = px.scatter(\n",
    "    df_merged[df_merged[STATE].isin([state_name])],\n",
    "    y=LATITUDE,\n",
    "    x=LONGITUDE,\n",
    "    color=CLUSTER,\n",
    "    hover_data=[CITY, STATE, MSA, POPULATION],\n",
    "    height=400,\n",
    "    width=800,\n",
    "    title=f\"{state_name}\"\n",
    ")\n",
    "fig.update_layout(uniformtext_mode=\"hide\", showlegend=False)\n",
    "fig.show()"
   ]
  },
  {
   "cell_type": "markdown",
   "metadata": {},
   "source": [
    "##### WV"
   ]
  },
  {
   "cell_type": "code",
   "execution_count": 21,
   "metadata": {},
   "outputs": [
    {
     "data": {
      "application/vnd.plotly.v1+json": {
       "config": {
        "plotlyServerURL": "https://plot.ly"
       },
       "data": [
        {
         "customdata": [
          [
           "new martinsville",
           "west virginia",
           "WV NONMETROPOLITAN AREA",
           5218
          ],
          [
           "fayetteville",
           "west virginia",
           "WV NONMETROPOLITAN AREA",
           2892
          ],
          [
           "moorefield",
           "west virginia",
           "WV NONMETROPOLITAN AREA",
           2482
          ],
          [
           "bethany",
           "west virginia",
           "Weirton-Steubenville WV-OH MSA",
           1029
          ],
          [
           "institute",
           "west virginia",
           "Charleston WV MSA",
           0
          ],
          [
           "berkeley springs",
           "west virginia",
           "Hagerstown-Martinsburg MD-WV MSA",
           766
          ],
          [
           "ripley",
           "west virginia",
           "WV NONMETROPOLITAN AREA",
           3255
          ],
          [
           "athens",
           "west virginia",
           "WV NONMETROPOLITAN AREA",
           951
          ],
          [
           "dunbar",
           "west virginia",
           "Charleston WV MSA",
           7659
          ],
          [
           "oak hill",
           "west virginia",
           "WV NONMETROPOLITAN AREA",
           8140
          ],
          [
           "jane lew",
           "west virginia",
           "WV NONMETROPOLITAN AREA",
           409
          ],
          [
           "philippi",
           "west virginia",
           "WV NONMETROPOLITAN AREA",
           3256
          ],
          [
           "logan",
           "west virginia",
           "WV NONMETROPOLITAN AREA",
           1649
          ],
          [
           "belle",
           "west virginia",
           "Charleston WV MSA",
           1211
          ],
          [
           "cross lanes",
           "west virginia",
           null,
           9995
          ],
          [
           "ravenswood",
           "west virginia",
           "WV NONMETROPOLITAN AREA",
           3843
          ],
          [
           "bluefield",
           "west virginia",
           "WV NONMETROPOLITAN AREA",
           10323
          ],
          [
           "fairmont",
           "west virginia",
           "WV NONMETROPOLITAN AREA",
           18733
          ],
          [
           "huntington",
           "west virginia",
           "Huntington-Ashland WV-KY-OH MSA",
           48638
          ],
          [
           "buckhannon",
           "west virginia",
           "WV NONMETROPOLITAN AREA",
           5657
          ],
          [
           "keyser",
           "west virginia",
           "Cumberland MD-WV MSA",
           5248
          ],
          [
           "hurricane",
           "west virginia",
           "Charleston WV MSA",
           6493
          ],
          [
           "st albans",
           "west virginia",
           null,
           9918
          ],
          [
           "barboursville",
           "west virginia",
           "Huntington-Ashland WV-KY-OH MSA",
           4069
          ],
          [
           "bridgeport",
           "west virginia",
           "WV NONMETROPOLITAN AREA",
           8359
          ],
          [
           "weston",
           "west virginia",
           "WV NONMETROPOLITAN AREA",
           4082
          ],
          [
           "beckley",
           "west virginia",
           "WV NONMETROPOLITAN AREA",
           17056
          ],
          [
           "nitro",
           "west virginia",
           "Charleston WV MSA",
           6763
          ],
          [
           "clarksburg",
           "west virginia",
           "WV NONMETROPOLITAN AREA",
           16152
          ],
          [
           "ranson",
           "west virginia",
           "Washington-Arlington-Alexandria DC-VA-MD-WV MSA",
           4941
          ],
          [
           "summersville",
           "west virginia",
           "WV NONMETROPOLITAN AREA",
           3478
          ],
          [
           "scott depot",
           "west virginia",
           "Charleston WV MSA",
           0
          ],
          [
           "mcclellan",
           "west virginia",
           "Sacramento-Arden-Arcade-Roseville CA MSA",
           0
          ],
          [
           "kingwood",
           "west virginia",
           "Houston-Sugar Land-Baytown TX MSA",
           2959
          ],
          [
           "harpers ferry",
           "west virginia",
           "Washington-Arlington-Alexandria DC-VA-MD-WV MSA",
           295
          ],
          [
           "kearneysville",
           "west virginia",
           "Washington-Arlington-Alexandria DC-VA-MD-WV MSA",
           0
          ],
          [
           "inwood",
           "west virginia",
           "New York-Northern New Jersey-Long Island NY-NJ-PA MSA",
           2954
          ],
          [
           "martinsburg",
           "west virginia",
           "Hagerstown-Martinsburg MD-WV MSA",
           17700
          ],
          [
           "morgantown",
           "west virginia",
           "Morgantown WV MSA",
           30708
          ],
          [
           "wheeling",
           "west virginia",
           "Wheeling WV-OH MSA",
           27648
          ],
          [
           "parkersburg",
           "west virginia",
           "Parkersburg-Marietta-Vienna WV-OH MSA",
           30991
          ],
          [
           "charleston",
           "west virginia",
           "Charleston WV MSA",
           49736
          ],
          [
           "shepherdstown",
           "west virginia",
           "Washington-Arlington-Alexandria DC-VA-MD-WV MSA",
           2079
          ],
          [
           "weirton",
           "west virginia",
           "Weirton-Steubenville WV-OH MSA",
           19175
          ],
          [
           "princeton",
           "west virginia",
           "WV NONMETROPOLITAN AREA",
           6035
          ],
          [
           "south charleston",
           "west virginia",
           "Charleston WV MSA",
           13045
          ],
          [
           "charles town",
           "west virginia",
           "Washington-Arlington-Alexandria DC-VA-MD-WV MSA",
           5899
          ],
          [
           "white sulphur springs",
           "west virginia",
           "WV NONMETROPOLITAN AREA",
           2438
          ],
          [
           "lewisburg",
           "west virginia",
           "PA NONMETROPOLITAN AREA",
           3949
          ],
          [
           "elkins",
           "west virginia",
           "WV NONMETROPOLITAN AREA",
           7226
          ],
          [
           "moundsville",
           "west virginia",
           "Wheeling WV-OH MSA",
           8710
          ]
         ],
         "hovertemplate": "longitude=%{x}<br>latitude=%{y}<br>city=%{customdata[0]}<br>state=%{customdata[1]}<br>msa=%{customdata[2]}<br>population=%{customdata[3]}<br>cluster=%{marker.color}<extra></extra>",
         "legendgroup": "",
         "marker": {
          "color": [
           270,
           252,
           174,
           270,
           -1,
           -1,
           -1,
           -1,
           -1,
           252,
           274,
           -1,
           -1,
           -1,
           -1,
           -1,
           252,
           -1,
           -1,
           274,
           174,
           -1,
           -1,
           268,
           274,
           274,
           252,
           -1,
           274,
           340,
           -1,
           -1,
           274,
           -1,
           340,
           340,
           340,
           340,
           -1,
           270,
           268,
           -1,
           340,
           270,
           252,
           -1,
           340,
           -1,
           222,
           -1,
           270
          ],
          "coloraxis": "coloraxis",
          "symbol": "circle"
         },
         "mode": "markers",
         "name": "",
         "orientation": "v",
         "showlegend": false,
         "type": "scatter",
         "x": [
          -80.8576,
          -81.10399,
          -78.96947,
          -80.55674,
          -81.7661,
          -78.22472,
          -81.71069,
          -81.0162,
          -81.73735,
          -81.14871,
          -80.40676,
          -80.04036,
          -81.99346,
          -81.53762,
          -81.79068,
          -81.76096,
          -81.22232,
          -80.14258,
          -82.44515,
          -80.23203,
          -78.97392,
          -82.02014,
          -81.8198,
          -82.29459,
          -80.2562,
          -80.46731,
          -81.18816,
          -81.84402,
          -80.34453,
          -77.86055,
          -80.8526,
          -81.9168,
          -80.2851,
          -79.68339,
          -77.73888,
          -77.8856,
          -78.04,
          -77.96389,
          -79.9559,
          -80.72091,
          -81.56151,
          -81.63262,
          -77.80416,
          -80.58952,
          -81.10259,
          -81.69957,
          -77.85972,
          -80.29757,
          -80.44563,
          -79.84673,
          -80.74314
         ],
         "xaxis": "x",
         "y": [
          39.64452,
          38.05289,
          39.06233,
          40.20563,
          38.3798,
          39.6248,
          38.8187,
          37.42234,
          38.36065,
          37.97233,
          39.10982,
          39.15232,
          37.84871,
          38.23205,
          38.42037,
          38.94814,
          37.26984,
          39.48508,
          38.41925,
          38.99399,
          39.44093,
          38.43259,
          38.3769,
          38.40953,
          39.28648,
          39.03843,
          37.77817,
          38.41481,
          39.28065,
          39.2951,
          38.28122,
          38.4418,
          39.5537,
          39.47176,
          39.32538,
          39.3882,
          39.35788,
          39.45621,
          39.62953,
          40.06396,
          39.26674,
          38.34982,
          39.4301,
          40.41896,
          37.36623,
          38.36843,
          39.28899,
          37.79651,
          37.80179,
          38.92594,
          39.92035
         ],
         "yaxis": "y"
        }
       ],
       "layout": {
        "coloraxis": {
         "colorbar": {
          "title": {
           "text": "cluster"
          }
         },
         "colorscale": [
          [
           0,
           "#0d0887"
          ],
          [
           0.1111111111111111,
           "#46039f"
          ],
          [
           0.2222222222222222,
           "#7201a8"
          ],
          [
           0.3333333333333333,
           "#9c179e"
          ],
          [
           0.4444444444444444,
           "#bd3786"
          ],
          [
           0.5555555555555556,
           "#d8576b"
          ],
          [
           0.6666666666666666,
           "#ed7953"
          ],
          [
           0.7777777777777778,
           "#fb9f3a"
          ],
          [
           0.8888888888888888,
           "#fdca26"
          ],
          [
           1,
           "#f0f921"
          ]
         ]
        },
        "height": 400,
        "legend": {
         "tracegroupgap": 0
        },
        "showlegend": false,
        "template": {
         "data": {
          "bar": [
           {
            "error_x": {
             "color": "#2a3f5f"
            },
            "error_y": {
             "color": "#2a3f5f"
            },
            "marker": {
             "line": {
              "color": "#E5ECF6",
              "width": 0.5
             },
             "pattern": {
              "fillmode": "overlay",
              "size": 10,
              "solidity": 0.2
             }
            },
            "type": "bar"
           }
          ],
          "barpolar": [
           {
            "marker": {
             "line": {
              "color": "#E5ECF6",
              "width": 0.5
             },
             "pattern": {
              "fillmode": "overlay",
              "size": 10,
              "solidity": 0.2
             }
            },
            "type": "barpolar"
           }
          ],
          "carpet": [
           {
            "aaxis": {
             "endlinecolor": "#2a3f5f",
             "gridcolor": "white",
             "linecolor": "white",
             "minorgridcolor": "white",
             "startlinecolor": "#2a3f5f"
            },
            "baxis": {
             "endlinecolor": "#2a3f5f",
             "gridcolor": "white",
             "linecolor": "white",
             "minorgridcolor": "white",
             "startlinecolor": "#2a3f5f"
            },
            "type": "carpet"
           }
          ],
          "choropleth": [
           {
            "colorbar": {
             "outlinewidth": 0,
             "ticks": ""
            },
            "type": "choropleth"
           }
          ],
          "contour": [
           {
            "colorbar": {
             "outlinewidth": 0,
             "ticks": ""
            },
            "colorscale": [
             [
              0,
              "#0d0887"
             ],
             [
              0.1111111111111111,
              "#46039f"
             ],
             [
              0.2222222222222222,
              "#7201a8"
             ],
             [
              0.3333333333333333,
              "#9c179e"
             ],
             [
              0.4444444444444444,
              "#bd3786"
             ],
             [
              0.5555555555555556,
              "#d8576b"
             ],
             [
              0.6666666666666666,
              "#ed7953"
             ],
             [
              0.7777777777777778,
              "#fb9f3a"
             ],
             [
              0.8888888888888888,
              "#fdca26"
             ],
             [
              1,
              "#f0f921"
             ]
            ],
            "type": "contour"
           }
          ],
          "contourcarpet": [
           {
            "colorbar": {
             "outlinewidth": 0,
             "ticks": ""
            },
            "type": "contourcarpet"
           }
          ],
          "heatmap": [
           {
            "colorbar": {
             "outlinewidth": 0,
             "ticks": ""
            },
            "colorscale": [
             [
              0,
              "#0d0887"
             ],
             [
              0.1111111111111111,
              "#46039f"
             ],
             [
              0.2222222222222222,
              "#7201a8"
             ],
             [
              0.3333333333333333,
              "#9c179e"
             ],
             [
              0.4444444444444444,
              "#bd3786"
             ],
             [
              0.5555555555555556,
              "#d8576b"
             ],
             [
              0.6666666666666666,
              "#ed7953"
             ],
             [
              0.7777777777777778,
              "#fb9f3a"
             ],
             [
              0.8888888888888888,
              "#fdca26"
             ],
             [
              1,
              "#f0f921"
             ]
            ],
            "type": "heatmap"
           }
          ],
          "heatmapgl": [
           {
            "colorbar": {
             "outlinewidth": 0,
             "ticks": ""
            },
            "colorscale": [
             [
              0,
              "#0d0887"
             ],
             [
              0.1111111111111111,
              "#46039f"
             ],
             [
              0.2222222222222222,
              "#7201a8"
             ],
             [
              0.3333333333333333,
              "#9c179e"
             ],
             [
              0.4444444444444444,
              "#bd3786"
             ],
             [
              0.5555555555555556,
              "#d8576b"
             ],
             [
              0.6666666666666666,
              "#ed7953"
             ],
             [
              0.7777777777777778,
              "#fb9f3a"
             ],
             [
              0.8888888888888888,
              "#fdca26"
             ],
             [
              1,
              "#f0f921"
             ]
            ],
            "type": "heatmapgl"
           }
          ],
          "histogram": [
           {
            "marker": {
             "pattern": {
              "fillmode": "overlay",
              "size": 10,
              "solidity": 0.2
             }
            },
            "type": "histogram"
           }
          ],
          "histogram2d": [
           {
            "colorbar": {
             "outlinewidth": 0,
             "ticks": ""
            },
            "colorscale": [
             [
              0,
              "#0d0887"
             ],
             [
              0.1111111111111111,
              "#46039f"
             ],
             [
              0.2222222222222222,
              "#7201a8"
             ],
             [
              0.3333333333333333,
              "#9c179e"
             ],
             [
              0.4444444444444444,
              "#bd3786"
             ],
             [
              0.5555555555555556,
              "#d8576b"
             ],
             [
              0.6666666666666666,
              "#ed7953"
             ],
             [
              0.7777777777777778,
              "#fb9f3a"
             ],
             [
              0.8888888888888888,
              "#fdca26"
             ],
             [
              1,
              "#f0f921"
             ]
            ],
            "type": "histogram2d"
           }
          ],
          "histogram2dcontour": [
           {
            "colorbar": {
             "outlinewidth": 0,
             "ticks": ""
            },
            "colorscale": [
             [
              0,
              "#0d0887"
             ],
             [
              0.1111111111111111,
              "#46039f"
             ],
             [
              0.2222222222222222,
              "#7201a8"
             ],
             [
              0.3333333333333333,
              "#9c179e"
             ],
             [
              0.4444444444444444,
              "#bd3786"
             ],
             [
              0.5555555555555556,
              "#d8576b"
             ],
             [
              0.6666666666666666,
              "#ed7953"
             ],
             [
              0.7777777777777778,
              "#fb9f3a"
             ],
             [
              0.8888888888888888,
              "#fdca26"
             ],
             [
              1,
              "#f0f921"
             ]
            ],
            "type": "histogram2dcontour"
           }
          ],
          "mesh3d": [
           {
            "colorbar": {
             "outlinewidth": 0,
             "ticks": ""
            },
            "type": "mesh3d"
           }
          ],
          "parcoords": [
           {
            "line": {
             "colorbar": {
              "outlinewidth": 0,
              "ticks": ""
             }
            },
            "type": "parcoords"
           }
          ],
          "pie": [
           {
            "automargin": true,
            "type": "pie"
           }
          ],
          "scatter": [
           {
            "fillpattern": {
             "fillmode": "overlay",
             "size": 10,
             "solidity": 0.2
            },
            "type": "scatter"
           }
          ],
          "scatter3d": [
           {
            "line": {
             "colorbar": {
              "outlinewidth": 0,
              "ticks": ""
             }
            },
            "marker": {
             "colorbar": {
              "outlinewidth": 0,
              "ticks": ""
             }
            },
            "type": "scatter3d"
           }
          ],
          "scattercarpet": [
           {
            "marker": {
             "colorbar": {
              "outlinewidth": 0,
              "ticks": ""
             }
            },
            "type": "scattercarpet"
           }
          ],
          "scattergeo": [
           {
            "marker": {
             "colorbar": {
              "outlinewidth": 0,
              "ticks": ""
             }
            },
            "type": "scattergeo"
           }
          ],
          "scattergl": [
           {
            "marker": {
             "colorbar": {
              "outlinewidth": 0,
              "ticks": ""
             }
            },
            "type": "scattergl"
           }
          ],
          "scattermapbox": [
           {
            "marker": {
             "colorbar": {
              "outlinewidth": 0,
              "ticks": ""
             }
            },
            "type": "scattermapbox"
           }
          ],
          "scatterpolar": [
           {
            "marker": {
             "colorbar": {
              "outlinewidth": 0,
              "ticks": ""
             }
            },
            "type": "scatterpolar"
           }
          ],
          "scatterpolargl": [
           {
            "marker": {
             "colorbar": {
              "outlinewidth": 0,
              "ticks": ""
             }
            },
            "type": "scatterpolargl"
           }
          ],
          "scatterternary": [
           {
            "marker": {
             "colorbar": {
              "outlinewidth": 0,
              "ticks": ""
             }
            },
            "type": "scatterternary"
           }
          ],
          "surface": [
           {
            "colorbar": {
             "outlinewidth": 0,
             "ticks": ""
            },
            "colorscale": [
             [
              0,
              "#0d0887"
             ],
             [
              0.1111111111111111,
              "#46039f"
             ],
             [
              0.2222222222222222,
              "#7201a8"
             ],
             [
              0.3333333333333333,
              "#9c179e"
             ],
             [
              0.4444444444444444,
              "#bd3786"
             ],
             [
              0.5555555555555556,
              "#d8576b"
             ],
             [
              0.6666666666666666,
              "#ed7953"
             ],
             [
              0.7777777777777778,
              "#fb9f3a"
             ],
             [
              0.8888888888888888,
              "#fdca26"
             ],
             [
              1,
              "#f0f921"
             ]
            ],
            "type": "surface"
           }
          ],
          "table": [
           {
            "cells": {
             "fill": {
              "color": "#EBF0F8"
             },
             "line": {
              "color": "white"
             }
            },
            "header": {
             "fill": {
              "color": "#C8D4E3"
             },
             "line": {
              "color": "white"
             }
            },
            "type": "table"
           }
          ]
         },
         "layout": {
          "annotationdefaults": {
           "arrowcolor": "#2a3f5f",
           "arrowhead": 0,
           "arrowwidth": 1
          },
          "autotypenumbers": "strict",
          "coloraxis": {
           "colorbar": {
            "outlinewidth": 0,
            "ticks": ""
           }
          },
          "colorscale": {
           "diverging": [
            [
             0,
             "#8e0152"
            ],
            [
             0.1,
             "#c51b7d"
            ],
            [
             0.2,
             "#de77ae"
            ],
            [
             0.3,
             "#f1b6da"
            ],
            [
             0.4,
             "#fde0ef"
            ],
            [
             0.5,
             "#f7f7f7"
            ],
            [
             0.6,
             "#e6f5d0"
            ],
            [
             0.7,
             "#b8e186"
            ],
            [
             0.8,
             "#7fbc41"
            ],
            [
             0.9,
             "#4d9221"
            ],
            [
             1,
             "#276419"
            ]
           ],
           "sequential": [
            [
             0,
             "#0d0887"
            ],
            [
             0.1111111111111111,
             "#46039f"
            ],
            [
             0.2222222222222222,
             "#7201a8"
            ],
            [
             0.3333333333333333,
             "#9c179e"
            ],
            [
             0.4444444444444444,
             "#bd3786"
            ],
            [
             0.5555555555555556,
             "#d8576b"
            ],
            [
             0.6666666666666666,
             "#ed7953"
            ],
            [
             0.7777777777777778,
             "#fb9f3a"
            ],
            [
             0.8888888888888888,
             "#fdca26"
            ],
            [
             1,
             "#f0f921"
            ]
           ],
           "sequentialminus": [
            [
             0,
             "#0d0887"
            ],
            [
             0.1111111111111111,
             "#46039f"
            ],
            [
             0.2222222222222222,
             "#7201a8"
            ],
            [
             0.3333333333333333,
             "#9c179e"
            ],
            [
             0.4444444444444444,
             "#bd3786"
            ],
            [
             0.5555555555555556,
             "#d8576b"
            ],
            [
             0.6666666666666666,
             "#ed7953"
            ],
            [
             0.7777777777777778,
             "#fb9f3a"
            ],
            [
             0.8888888888888888,
             "#fdca26"
            ],
            [
             1,
             "#f0f921"
            ]
           ]
          },
          "colorway": [
           "#636efa",
           "#EF553B",
           "#00cc96",
           "#ab63fa",
           "#FFA15A",
           "#19d3f3",
           "#FF6692",
           "#B6E880",
           "#FF97FF",
           "#FECB52"
          ],
          "font": {
           "color": "#2a3f5f"
          },
          "geo": {
           "bgcolor": "white",
           "lakecolor": "white",
           "landcolor": "#E5ECF6",
           "showlakes": true,
           "showland": true,
           "subunitcolor": "white"
          },
          "hoverlabel": {
           "align": "left"
          },
          "hovermode": "closest",
          "mapbox": {
           "style": "light"
          },
          "paper_bgcolor": "white",
          "plot_bgcolor": "#E5ECF6",
          "polar": {
           "angularaxis": {
            "gridcolor": "white",
            "linecolor": "white",
            "ticks": ""
           },
           "bgcolor": "#E5ECF6",
           "radialaxis": {
            "gridcolor": "white",
            "linecolor": "white",
            "ticks": ""
           }
          },
          "scene": {
           "xaxis": {
            "backgroundcolor": "#E5ECF6",
            "gridcolor": "white",
            "gridwidth": 2,
            "linecolor": "white",
            "showbackground": true,
            "ticks": "",
            "zerolinecolor": "white"
           },
           "yaxis": {
            "backgroundcolor": "#E5ECF6",
            "gridcolor": "white",
            "gridwidth": 2,
            "linecolor": "white",
            "showbackground": true,
            "ticks": "",
            "zerolinecolor": "white"
           },
           "zaxis": {
            "backgroundcolor": "#E5ECF6",
            "gridcolor": "white",
            "gridwidth": 2,
            "linecolor": "white",
            "showbackground": true,
            "ticks": "",
            "zerolinecolor": "white"
           }
          },
          "shapedefaults": {
           "line": {
            "color": "#2a3f5f"
           }
          },
          "ternary": {
           "aaxis": {
            "gridcolor": "white",
            "linecolor": "white",
            "ticks": ""
           },
           "baxis": {
            "gridcolor": "white",
            "linecolor": "white",
            "ticks": ""
           },
           "bgcolor": "#E5ECF6",
           "caxis": {
            "gridcolor": "white",
            "linecolor": "white",
            "ticks": ""
           }
          },
          "title": {
           "x": 0.05
          },
          "xaxis": {
           "automargin": true,
           "gridcolor": "white",
           "linecolor": "white",
           "ticks": "",
           "title": {
            "standoff": 15
           },
           "zerolinecolor": "white",
           "zerolinewidth": 2
          },
          "yaxis": {
           "automargin": true,
           "gridcolor": "white",
           "linecolor": "white",
           "ticks": "",
           "title": {
            "standoff": 15
           },
           "zerolinecolor": "white",
           "zerolinewidth": 2
          }
         }
        },
        "title": {
         "text": "west virginia"
        },
        "uniformtext": {
         "mode": "hide"
        },
        "width": 800,
        "xaxis": {
         "anchor": "y",
         "domain": [
          0,
          1
         ],
         "title": {
          "text": "longitude"
         }
        },
        "yaxis": {
         "anchor": "x",
         "domain": [
          0,
          1
         ],
         "title": {
          "text": "latitude"
         }
        }
       }
      },
      "text/html": [
       "<div>                            <div id=\"5ed5148e-dfbb-49bd-91e1-258fe847c9d5\" class=\"plotly-graph-div\" style=\"height:400px; width:800px;\"></div>            <script type=\"text/javascript\">                require([\"plotly\"], function(Plotly) {                    window.PLOTLYENV=window.PLOTLYENV || {};                                    if (document.getElementById(\"5ed5148e-dfbb-49bd-91e1-258fe847c9d5\")) {                    Plotly.newPlot(                        \"5ed5148e-dfbb-49bd-91e1-258fe847c9d5\",                        [{\"customdata\":[[\"new martinsville\",\"west virginia\",\"WV NONMETROPOLITAN AREA\",5218],[\"fayetteville\",\"west virginia\",\"WV NONMETROPOLITAN AREA\",2892],[\"moorefield\",\"west virginia\",\"WV NONMETROPOLITAN AREA\",2482],[\"bethany\",\"west virginia\",\"Weirton-Steubenville WV-OH MSA\",1029],[\"institute\",\"west virginia\",\"Charleston WV MSA\",0],[\"berkeley springs\",\"west virginia\",\"Hagerstown-Martinsburg MD-WV MSA\",766],[\"ripley\",\"west virginia\",\"WV NONMETROPOLITAN AREA\",3255],[\"athens\",\"west virginia\",\"WV NONMETROPOLITAN AREA\",951],[\"dunbar\",\"west virginia\",\"Charleston WV MSA\",7659],[\"oak hill\",\"west virginia\",\"WV NONMETROPOLITAN AREA\",8140],[\"jane lew\",\"west virginia\",\"WV NONMETROPOLITAN AREA\",409],[\"philippi\",\"west virginia\",\"WV NONMETROPOLITAN AREA\",3256],[\"logan\",\"west virginia\",\"WV NONMETROPOLITAN AREA\",1649],[\"belle\",\"west virginia\",\"Charleston WV MSA\",1211],[\"cross lanes\",\"west virginia\",null,9995],[\"ravenswood\",\"west virginia\",\"WV NONMETROPOLITAN AREA\",3843],[\"bluefield\",\"west virginia\",\"WV NONMETROPOLITAN AREA\",10323],[\"fairmont\",\"west virginia\",\"WV NONMETROPOLITAN AREA\",18733],[\"huntington\",\"west virginia\",\"Huntington-Ashland WV-KY-OH MSA\",48638],[\"buckhannon\",\"west virginia\",\"WV NONMETROPOLITAN AREA\",5657],[\"keyser\",\"west virginia\",\"Cumberland MD-WV MSA\",5248],[\"hurricane\",\"west virginia\",\"Charleston WV MSA\",6493],[\"st albans\",\"west virginia\",null,9918],[\"barboursville\",\"west virginia\",\"Huntington-Ashland WV-KY-OH MSA\",4069],[\"bridgeport\",\"west virginia\",\"WV NONMETROPOLITAN AREA\",8359],[\"weston\",\"west virginia\",\"WV NONMETROPOLITAN AREA\",4082],[\"beckley\",\"west virginia\",\"WV NONMETROPOLITAN AREA\",17056],[\"nitro\",\"west virginia\",\"Charleston WV MSA\",6763],[\"clarksburg\",\"west virginia\",\"WV NONMETROPOLITAN AREA\",16152],[\"ranson\",\"west virginia\",\"Washington-Arlington-Alexandria DC-VA-MD-WV MSA\",4941],[\"summersville\",\"west virginia\",\"WV NONMETROPOLITAN AREA\",3478],[\"scott depot\",\"west virginia\",\"Charleston WV MSA\",0],[\"mcclellan\",\"west virginia\",\"Sacramento-Arden-Arcade-Roseville CA MSA\",0],[\"kingwood\",\"west virginia\",\"Houston-Sugar Land-Baytown TX MSA\",2959],[\"harpers ferry\",\"west virginia\",\"Washington-Arlington-Alexandria DC-VA-MD-WV MSA\",295],[\"kearneysville\",\"west virginia\",\"Washington-Arlington-Alexandria DC-VA-MD-WV MSA\",0],[\"inwood\",\"west virginia\",\"New York-Northern New Jersey-Long Island NY-NJ-PA MSA\",2954],[\"martinsburg\",\"west virginia\",\"Hagerstown-Martinsburg MD-WV MSA\",17700],[\"morgantown\",\"west virginia\",\"Morgantown WV MSA\",30708],[\"wheeling\",\"west virginia\",\"Wheeling WV-OH MSA\",27648],[\"parkersburg\",\"west virginia\",\"Parkersburg-Marietta-Vienna WV-OH MSA\",30991],[\"charleston\",\"west virginia\",\"Charleston WV MSA\",49736],[\"shepherdstown\",\"west virginia\",\"Washington-Arlington-Alexandria DC-VA-MD-WV MSA\",2079],[\"weirton\",\"west virginia\",\"Weirton-Steubenville WV-OH MSA\",19175],[\"princeton\",\"west virginia\",\"WV NONMETROPOLITAN AREA\",6035],[\"south charleston\",\"west virginia\",\"Charleston WV MSA\",13045],[\"charles town\",\"west virginia\",\"Washington-Arlington-Alexandria DC-VA-MD-WV MSA\",5899],[\"white sulphur springs\",\"west virginia\",\"WV NONMETROPOLITAN AREA\",2438],[\"lewisburg\",\"west virginia\",\"PA NONMETROPOLITAN AREA\",3949],[\"elkins\",\"west virginia\",\"WV NONMETROPOLITAN AREA\",7226],[\"moundsville\",\"west virginia\",\"Wheeling WV-OH MSA\",8710]],\"hovertemplate\":\"longitude=%{x}<br>latitude=%{y}<br>city=%{customdata[0]}<br>state=%{customdata[1]}<br>msa=%{customdata[2]}<br>population=%{customdata[3]}<br>cluster=%{marker.color}<extra></extra>\",\"legendgroup\":\"\",\"marker\":{\"color\":[270,252,174,270,-1,-1,-1,-1,-1,252,274,-1,-1,-1,-1,-1,252,-1,-1,274,174,-1,-1,268,274,274,252,-1,274,340,-1,-1,274,-1,340,340,340,340,-1,270,268,-1,340,270,252,-1,340,-1,222,-1,270],\"coloraxis\":\"coloraxis\",\"symbol\":\"circle\"},\"mode\":\"markers\",\"name\":\"\",\"orientation\":\"v\",\"showlegend\":false,\"x\":[-80.8576,-81.10399,-78.96947,-80.55674,-81.7661,-78.22472,-81.71069,-81.0162,-81.73735,-81.14871,-80.40676,-80.04036,-81.99346,-81.53762,-81.79068,-81.76096,-81.22232,-80.14258,-82.44515,-80.23203,-78.97392,-82.02014,-81.8198,-82.29459,-80.2562,-80.46731,-81.18816,-81.84402,-80.34453,-77.86055,-80.8526,-81.9168,-80.2851,-79.68339,-77.73888,-77.8856,-78.04,-77.96389,-79.9559,-80.72091,-81.56151,-81.63262,-77.80416,-80.58952,-81.10259,-81.69957,-77.85972,-80.29757,-80.44563,-79.84673,-80.74314],\"xaxis\":\"x\",\"y\":[39.64452,38.05289,39.06233,40.20563,38.3798,39.6248,38.8187,37.42234,38.36065,37.97233,39.10982,39.15232,37.84871,38.23205,38.42037,38.94814,37.26984,39.48508,38.41925,38.99399,39.44093,38.43259,38.3769,38.40953,39.28648,39.03843,37.77817,38.41481,39.28065,39.2951,38.28122,38.4418,39.5537,39.47176,39.32538,39.3882,39.35788,39.45621,39.62953,40.06396,39.26674,38.34982,39.4301,40.41896,37.36623,38.36843,39.28899,37.79651,37.80179,38.92594,39.92035],\"yaxis\":\"y\",\"type\":\"scatter\"}],                        {\"template\":{\"data\":{\"histogram2dcontour\":[{\"type\":\"histogram2dcontour\",\"colorbar\":{\"outlinewidth\":0,\"ticks\":\"\"},\"colorscale\":[[0.0,\"#0d0887\"],[0.1111111111111111,\"#46039f\"],[0.2222222222222222,\"#7201a8\"],[0.3333333333333333,\"#9c179e\"],[0.4444444444444444,\"#bd3786\"],[0.5555555555555556,\"#d8576b\"],[0.6666666666666666,\"#ed7953\"],[0.7777777777777778,\"#fb9f3a\"],[0.8888888888888888,\"#fdca26\"],[1.0,\"#f0f921\"]]}],\"choropleth\":[{\"type\":\"choropleth\",\"colorbar\":{\"outlinewidth\":0,\"ticks\":\"\"}}],\"histogram2d\":[{\"type\":\"histogram2d\",\"colorbar\":{\"outlinewidth\":0,\"ticks\":\"\"},\"colorscale\":[[0.0,\"#0d0887\"],[0.1111111111111111,\"#46039f\"],[0.2222222222222222,\"#7201a8\"],[0.3333333333333333,\"#9c179e\"],[0.4444444444444444,\"#bd3786\"],[0.5555555555555556,\"#d8576b\"],[0.6666666666666666,\"#ed7953\"],[0.7777777777777778,\"#fb9f3a\"],[0.8888888888888888,\"#fdca26\"],[1.0,\"#f0f921\"]]}],\"heatmap\":[{\"type\":\"heatmap\",\"colorbar\":{\"outlinewidth\":0,\"ticks\":\"\"},\"colorscale\":[[0.0,\"#0d0887\"],[0.1111111111111111,\"#46039f\"],[0.2222222222222222,\"#7201a8\"],[0.3333333333333333,\"#9c179e\"],[0.4444444444444444,\"#bd3786\"],[0.5555555555555556,\"#d8576b\"],[0.6666666666666666,\"#ed7953\"],[0.7777777777777778,\"#fb9f3a\"],[0.8888888888888888,\"#fdca26\"],[1.0,\"#f0f921\"]]}],\"heatmapgl\":[{\"type\":\"heatmapgl\",\"colorbar\":{\"outlinewidth\":0,\"ticks\":\"\"},\"colorscale\":[[0.0,\"#0d0887\"],[0.1111111111111111,\"#46039f\"],[0.2222222222222222,\"#7201a8\"],[0.3333333333333333,\"#9c179e\"],[0.4444444444444444,\"#bd3786\"],[0.5555555555555556,\"#d8576b\"],[0.6666666666666666,\"#ed7953\"],[0.7777777777777778,\"#fb9f3a\"],[0.8888888888888888,\"#fdca26\"],[1.0,\"#f0f921\"]]}],\"contourcarpet\":[{\"type\":\"contourcarpet\",\"colorbar\":{\"outlinewidth\":0,\"ticks\":\"\"}}],\"contour\":[{\"type\":\"contour\",\"colorbar\":{\"outlinewidth\":0,\"ticks\":\"\"},\"colorscale\":[[0.0,\"#0d0887\"],[0.1111111111111111,\"#46039f\"],[0.2222222222222222,\"#7201a8\"],[0.3333333333333333,\"#9c179e\"],[0.4444444444444444,\"#bd3786\"],[0.5555555555555556,\"#d8576b\"],[0.6666666666666666,\"#ed7953\"],[0.7777777777777778,\"#fb9f3a\"],[0.8888888888888888,\"#fdca26\"],[1.0,\"#f0f921\"]]}],\"surface\":[{\"type\":\"surface\",\"colorbar\":{\"outlinewidth\":0,\"ticks\":\"\"},\"colorscale\":[[0.0,\"#0d0887\"],[0.1111111111111111,\"#46039f\"],[0.2222222222222222,\"#7201a8\"],[0.3333333333333333,\"#9c179e\"],[0.4444444444444444,\"#bd3786\"],[0.5555555555555556,\"#d8576b\"],[0.6666666666666666,\"#ed7953\"],[0.7777777777777778,\"#fb9f3a\"],[0.8888888888888888,\"#fdca26\"],[1.0,\"#f0f921\"]]}],\"mesh3d\":[{\"type\":\"mesh3d\",\"colorbar\":{\"outlinewidth\":0,\"ticks\":\"\"}}],\"scatter\":[{\"fillpattern\":{\"fillmode\":\"overlay\",\"size\":10,\"solidity\":0.2},\"type\":\"scatter\"}],\"parcoords\":[{\"type\":\"parcoords\",\"line\":{\"colorbar\":{\"outlinewidth\":0,\"ticks\":\"\"}}}],\"scatterpolargl\":[{\"type\":\"scatterpolargl\",\"marker\":{\"colorbar\":{\"outlinewidth\":0,\"ticks\":\"\"}}}],\"bar\":[{\"error_x\":{\"color\":\"#2a3f5f\"},\"error_y\":{\"color\":\"#2a3f5f\"},\"marker\":{\"line\":{\"color\":\"#E5ECF6\",\"width\":0.5},\"pattern\":{\"fillmode\":\"overlay\",\"size\":10,\"solidity\":0.2}},\"type\":\"bar\"}],\"scattergeo\":[{\"type\":\"scattergeo\",\"marker\":{\"colorbar\":{\"outlinewidth\":0,\"ticks\":\"\"}}}],\"scatterpolar\":[{\"type\":\"scatterpolar\",\"marker\":{\"colorbar\":{\"outlinewidth\":0,\"ticks\":\"\"}}}],\"histogram\":[{\"marker\":{\"pattern\":{\"fillmode\":\"overlay\",\"size\":10,\"solidity\":0.2}},\"type\":\"histogram\"}],\"scattergl\":[{\"type\":\"scattergl\",\"marker\":{\"colorbar\":{\"outlinewidth\":0,\"ticks\":\"\"}}}],\"scatter3d\":[{\"type\":\"scatter3d\",\"line\":{\"colorbar\":{\"outlinewidth\":0,\"ticks\":\"\"}},\"marker\":{\"colorbar\":{\"outlinewidth\":0,\"ticks\":\"\"}}}],\"scattermapbox\":[{\"type\":\"scattermapbox\",\"marker\":{\"colorbar\":{\"outlinewidth\":0,\"ticks\":\"\"}}}],\"scatterternary\":[{\"type\":\"scatterternary\",\"marker\":{\"colorbar\":{\"outlinewidth\":0,\"ticks\":\"\"}}}],\"scattercarpet\":[{\"type\":\"scattercarpet\",\"marker\":{\"colorbar\":{\"outlinewidth\":0,\"ticks\":\"\"}}}],\"carpet\":[{\"aaxis\":{\"endlinecolor\":\"#2a3f5f\",\"gridcolor\":\"white\",\"linecolor\":\"white\",\"minorgridcolor\":\"white\",\"startlinecolor\":\"#2a3f5f\"},\"baxis\":{\"endlinecolor\":\"#2a3f5f\",\"gridcolor\":\"white\",\"linecolor\":\"white\",\"minorgridcolor\":\"white\",\"startlinecolor\":\"#2a3f5f\"},\"type\":\"carpet\"}],\"table\":[{\"cells\":{\"fill\":{\"color\":\"#EBF0F8\"},\"line\":{\"color\":\"white\"}},\"header\":{\"fill\":{\"color\":\"#C8D4E3\"},\"line\":{\"color\":\"white\"}},\"type\":\"table\"}],\"barpolar\":[{\"marker\":{\"line\":{\"color\":\"#E5ECF6\",\"width\":0.5},\"pattern\":{\"fillmode\":\"overlay\",\"size\":10,\"solidity\":0.2}},\"type\":\"barpolar\"}],\"pie\":[{\"automargin\":true,\"type\":\"pie\"}]},\"layout\":{\"autotypenumbers\":\"strict\",\"colorway\":[\"#636efa\",\"#EF553B\",\"#00cc96\",\"#ab63fa\",\"#FFA15A\",\"#19d3f3\",\"#FF6692\",\"#B6E880\",\"#FF97FF\",\"#FECB52\"],\"font\":{\"color\":\"#2a3f5f\"},\"hovermode\":\"closest\",\"hoverlabel\":{\"align\":\"left\"},\"paper_bgcolor\":\"white\",\"plot_bgcolor\":\"#E5ECF6\",\"polar\":{\"bgcolor\":\"#E5ECF6\",\"angularaxis\":{\"gridcolor\":\"white\",\"linecolor\":\"white\",\"ticks\":\"\"},\"radialaxis\":{\"gridcolor\":\"white\",\"linecolor\":\"white\",\"ticks\":\"\"}},\"ternary\":{\"bgcolor\":\"#E5ECF6\",\"aaxis\":{\"gridcolor\":\"white\",\"linecolor\":\"white\",\"ticks\":\"\"},\"baxis\":{\"gridcolor\":\"white\",\"linecolor\":\"white\",\"ticks\":\"\"},\"caxis\":{\"gridcolor\":\"white\",\"linecolor\":\"white\",\"ticks\":\"\"}},\"coloraxis\":{\"colorbar\":{\"outlinewidth\":0,\"ticks\":\"\"}},\"colorscale\":{\"sequential\":[[0.0,\"#0d0887\"],[0.1111111111111111,\"#46039f\"],[0.2222222222222222,\"#7201a8\"],[0.3333333333333333,\"#9c179e\"],[0.4444444444444444,\"#bd3786\"],[0.5555555555555556,\"#d8576b\"],[0.6666666666666666,\"#ed7953\"],[0.7777777777777778,\"#fb9f3a\"],[0.8888888888888888,\"#fdca26\"],[1.0,\"#f0f921\"]],\"sequentialminus\":[[0.0,\"#0d0887\"],[0.1111111111111111,\"#46039f\"],[0.2222222222222222,\"#7201a8\"],[0.3333333333333333,\"#9c179e\"],[0.4444444444444444,\"#bd3786\"],[0.5555555555555556,\"#d8576b\"],[0.6666666666666666,\"#ed7953\"],[0.7777777777777778,\"#fb9f3a\"],[0.8888888888888888,\"#fdca26\"],[1.0,\"#f0f921\"]],\"diverging\":[[0,\"#8e0152\"],[0.1,\"#c51b7d\"],[0.2,\"#de77ae\"],[0.3,\"#f1b6da\"],[0.4,\"#fde0ef\"],[0.5,\"#f7f7f7\"],[0.6,\"#e6f5d0\"],[0.7,\"#b8e186\"],[0.8,\"#7fbc41\"],[0.9,\"#4d9221\"],[1,\"#276419\"]]},\"xaxis\":{\"gridcolor\":\"white\",\"linecolor\":\"white\",\"ticks\":\"\",\"title\":{\"standoff\":15},\"zerolinecolor\":\"white\",\"automargin\":true,\"zerolinewidth\":2},\"yaxis\":{\"gridcolor\":\"white\",\"linecolor\":\"white\",\"ticks\":\"\",\"title\":{\"standoff\":15},\"zerolinecolor\":\"white\",\"automargin\":true,\"zerolinewidth\":2},\"scene\":{\"xaxis\":{\"backgroundcolor\":\"#E5ECF6\",\"gridcolor\":\"white\",\"linecolor\":\"white\",\"showbackground\":true,\"ticks\":\"\",\"zerolinecolor\":\"white\",\"gridwidth\":2},\"yaxis\":{\"backgroundcolor\":\"#E5ECF6\",\"gridcolor\":\"white\",\"linecolor\":\"white\",\"showbackground\":true,\"ticks\":\"\",\"zerolinecolor\":\"white\",\"gridwidth\":2},\"zaxis\":{\"backgroundcolor\":\"#E5ECF6\",\"gridcolor\":\"white\",\"linecolor\":\"white\",\"showbackground\":true,\"ticks\":\"\",\"zerolinecolor\":\"white\",\"gridwidth\":2}},\"shapedefaults\":{\"line\":{\"color\":\"#2a3f5f\"}},\"annotationdefaults\":{\"arrowcolor\":\"#2a3f5f\",\"arrowhead\":0,\"arrowwidth\":1},\"geo\":{\"bgcolor\":\"white\",\"landcolor\":\"#E5ECF6\",\"subunitcolor\":\"white\",\"showland\":true,\"showlakes\":true,\"lakecolor\":\"white\"},\"title\":{\"x\":0.05},\"mapbox\":{\"style\":\"light\"}}},\"xaxis\":{\"anchor\":\"y\",\"domain\":[0.0,1.0],\"title\":{\"text\":\"longitude\"}},\"yaxis\":{\"anchor\":\"x\",\"domain\":[0.0,1.0],\"title\":{\"text\":\"latitude\"}},\"coloraxis\":{\"colorbar\":{\"title\":{\"text\":\"cluster\"}},\"colorscale\":[[0.0,\"#0d0887\"],[0.1111111111111111,\"#46039f\"],[0.2222222222222222,\"#7201a8\"],[0.3333333333333333,\"#9c179e\"],[0.4444444444444444,\"#bd3786\"],[0.5555555555555556,\"#d8576b\"],[0.6666666666666666,\"#ed7953\"],[0.7777777777777778,\"#fb9f3a\"],[0.8888888888888888,\"#fdca26\"],[1.0,\"#f0f921\"]]},\"legend\":{\"tracegroupgap\":0},\"title\":{\"text\":\"west virginia\"},\"height\":400,\"width\":800,\"uniformtext\":{\"mode\":\"hide\"},\"showlegend\":false},                        {\"responsive\": true}                    ).then(function(){\n",
       "                            \n",
       "var gd = document.getElementById('5ed5148e-dfbb-49bd-91e1-258fe847c9d5');\n",
       "var x = new MutationObserver(function (mutations, observer) {{\n",
       "        var display = window.getComputedStyle(gd).display;\n",
       "        if (!display || display === 'none') {{\n",
       "            console.log([gd, 'removed!']);\n",
       "            Plotly.purge(gd);\n",
       "            observer.disconnect();\n",
       "        }}\n",
       "}});\n",
       "\n",
       "// Listen for the removal of the full notebook cells\n",
       "var notebookContainer = gd.closest('#notebook-container');\n",
       "if (notebookContainer) {{\n",
       "    x.observe(notebookContainer, {childList: true});\n",
       "}}\n",
       "\n",
       "// Listen for the clearing of the current output cell\n",
       "var outputEl = gd.closest('.output');\n",
       "if (outputEl) {{\n",
       "    x.observe(outputEl, {childList: true});\n",
       "}}\n",
       "\n",
       "                        })                };                });            </script>        </div>"
      ]
     },
     "metadata": {},
     "output_type": "display_data"
    }
   ],
   "source": [
    "state_name = \"west virginia\"\n",
    "\n",
    "fig = px.scatter(\n",
    "    df_merged[df_merged[STATE].isin([state_name])],\n",
    "    y=LATITUDE,\n",
    "    x=LONGITUDE,\n",
    "    color=CLUSTER,\n",
    "    hover_data=[CITY, STATE, MSA, POPULATION],\n",
    "    height=400,\n",
    "    width=800,\n",
    "    title=f\"{state_name}\"\n",
    ")\n",
    "fig.update_layout(uniformtext_mode=\"hide\", showlegend=False)\n",
    "fig.show()"
   ]
  },
  {
   "cell_type": "markdown",
   "metadata": {},
   "source": [
    "Note the change from `analysis.ipynb` on `west virginia`."
   ]
  },
  {
   "cell_type": "code",
   "execution_count": null,
   "metadata": {},
   "outputs": [],
   "source": []
  }
 ],
 "metadata": {
  "kernelspec": {
   "display_name": "Python 3 (ipykernel)",
   "language": "python",
   "name": "python3"
  },
  "language_info": {
   "codemirror_mode": {
    "name": "ipython",
    "version": 3
   },
   "file_extension": ".py",
   "mimetype": "text/x-python",
   "name": "python",
   "nbconvert_exporter": "python",
   "pygments_lexer": "ipython3",
   "version": "3.9.13"
  },
  "orig_nbformat": 4,
  "vscode": {
   "interpreter": {
    "hash": "704de41e01197a30746b151404adacd0add7892f34f8424cc3bd8d3145daa0e1"
   }
  }
 },
 "nbformat": 4,
 "nbformat_minor": 2
}
