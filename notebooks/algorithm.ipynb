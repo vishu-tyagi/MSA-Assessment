{
 "cells": [
  {
   "cell_type": "markdown",
   "metadata": {},
   "source": [
    "**Algorithm**\n",
    "\n",
    "The algorithm consists of two parts. The first part produces small dense clusters based on latitude and longitude pairs and identifies noise (left unclustered). The idea is to associate the noise with non-metropolitan areas. The second part merges these clusters based on a criterion which accounts for the population-count parameter.\n",
    "\n",
    "**Part 1 - Hierarchical Clustering**\n",
    "\n",
    "Clustering is done using HDBSCAN.\n",
    "\n",
    "We set `min_samples` equal to `1`, which is the least possible value allowed for this parameter.\n",
    "We choose a small value so that fewer points are flagged as outliers (reduces noise).\n",
    "\n",
    "We set `min_cluster_size` equal to `2`, which is the least possible value allowed for this parameter.\n",
    "We choose a small value because we want small dense clusters that can later be merged in Part 2.\n",
    "\n",
    "We set `cluster_selection_epsilon` equal to `3.0`, which means that HDBSCAN will not merge clusters which are `3 miles` apart.\n",
    "\n",
    "**Part 2 - Merging**\n",
    "\n",
    "Now that we have small dense clusters, we can use the population parameter to merge them.\n",
    "\n",
    "Idea - Each cluster should have at least one city having a population above a threshold `population_threshold`. If it doesn't, it should be merged to its nearest cluster. If the nearest cluster is farther than a given distance threshold `distance_threshold`, we mark the current cluster as non-metropolitan.\n",
    "\n",
    "Note that merging this way does not ensure that the new cluster has a city with a population above `population_threshold`.\n",
    "\n",
    "We set `population_threshold` equal to `50,000`, which is believed to be a reasonable threshold.\n",
    "\n",
    "We set `distance_threshold` equal to `10`, which means that if the closest cluster is farther than '10 miles`, the current cluster will be marked as non-metropolitan.\n",
    "\n",
    "**Notes**\n",
    "\n",
    "- We precompute the pairwise distances matrix, which uses Haversine distance. This helps put intuitive distance-related parameters in miles.\n",
    "\n",
    "- The merging criterion in part 2. is flexible and can be changed to accommodate for a better criterion or more parameters which indicate economic and social integration between clusters.\n",
    "\n",
    "- Part 2 algorithm is bound to converge becaue on every iteration, we reduce the number of clusters by 1."
   ]
  }
 ],
 "metadata": {
  "kernelspec": {
   "display_name": "Python 3 (ipykernel)",
   "language": "python",
   "name": "python3"
  },
  "language_info": {
   "name": "python",
   "version": "3.9.13"
  },
  "orig_nbformat": 4
 },
 "nbformat": 4,
 "nbformat_minor": 2
}
